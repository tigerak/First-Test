{
  "nbformat": 4,
  "nbformat_minor": 0,
  "metadata": {
    "colab": {
      "name": "서포트벡터머신.ipynb",
      "provenance": [],
      "authorship_tag": "ABX9TyNoFPqRBiOgNsL8vD0p3+Ii",
      "include_colab_link": true
    },
    "kernelspec": {
      "name": "python3",
      "display_name": "Python 3"
    },
    "language_info": {
      "name": "python"
    }
  },
  "cells": [
    {
      "cell_type": "markdown",
      "metadata": {
        "id": "view-in-github",
        "colab_type": "text"
      },
      "source": [
        "<a href=\"https://colab.research.google.com/github/tigerak/1st_practice/blob/main/%EC%84%9C%ED%8F%AC%ED%8A%B8%EB%B2%A1%ED%84%B0%EB%A8%B8%EC%8B%A0.ipynb\" target=\"_parent\"><img src=\"https://colab.research.google.com/assets/colab-badge.svg\" alt=\"Open In Colab\"/></a>"
      ]
    },
    {
      "cell_type": "markdown",
      "metadata": {
        "id": "K9o_TPhijSch"
      },
      "source": [
        "# 서포트 벡터 머신\n",
        "- 회귀, 분류, 이상치 탐지 등에 사용되는 지도학습 방법\n",
        "- 클래스 사이의 경계에 위치한 데이터 포인트를 서포트벡터라고 함\n",
        "- 각 서포트벡터가 클래스 사이의 결정 경계를 구분하는데 얼마나 중요한지를 학습\n",
        "각 서포트 벡터들 사이의 마진이 가장 큰 바향으로 학습\n",
        "- 서포트 벡터까지의 거리와 서포트 벡터의 중요도를 기반으로 예측 수행"
      ]
    },
    {
      "cell_type": "code",
      "metadata": {
        "id": "-h_3mf8ujNDu"
      },
      "source": [
        "import multiprocessing\n",
        "import pandas as pd\n",
        "import numpy as np\n",
        "import matplotlib.pyplot as plt"
      ],
      "execution_count": 16,
      "outputs": []
    },
    {
      "cell_type": "code",
      "metadata": {
        "id": "I3Ete2lp1knH"
      },
      "source": [
        "from sklearn.svm import SVR, SVC # 회귀용 SVR, 분류용 SVC\n",
        "from sklearn.datasets import load_boston, load_diabetes, load_iris, load_wine, load_breast_cancer\n",
        "from sklearn.pipeline import make_pipeline, Pipeline\n",
        "from sklearn.model_selection import train_test_split, cross_validate, GridSearchCV\n",
        "from sklearn.preprocessing import StandardScaler, MinMaxScaler\n",
        "from sklearn.manifold import TSNE"
      ],
      "execution_count": 15,
      "outputs": []
    },
    {
      "cell_type": "markdown",
      "metadata": {
        "id": "idJ6tk023DN8"
      },
      "source": [
        "## SVM을 이용한 회귀 모델과 분류 모델"
      ]
    },
    {
      "cell_type": "markdown",
      "metadata": {
        "id": "I3d5NX7a3WQx"
      },
      "source": [
        "SVR 회귀"
      ]
    },
    {
      "cell_type": "code",
      "metadata": {
        "colab": {
          "base_uri": "https://localhost:8080/"
        },
        "id": "Tpu3EvHv2809",
        "outputId": "3782cae2-cd1a-4fd6-f4ce-f62d53d1e543"
      },
      "source": [
        "X, y = load_boston(return_X_y=True)\n",
        "X_train, X_test, y_train, y_test = train_test_split(X, y, random_state=123)\n",
        "\n",
        "model = SVR()\n",
        "model.fit(X_train, y_train)\n",
        "\n",
        "print('Train Data Score : {}'.format(model.score(X_train, y_train)))\n",
        "print('Test Data Score : {}'.format(model.score(X_test, y_test)))"
      ],
      "execution_count": 2,
      "outputs": [
        {
          "output_type": "stream",
          "text": [
            "Train Data Score : 0.2177283706374875\n",
            "Test Data Score : 0.13544178468518187\n"
          ],
          "name": "stdout"
        }
      ]
    },
    {
      "cell_type": "markdown",
      "metadata": {
        "id": "eKn2SweQ9MKd"
      },
      "source": [
        "svc 분류"
      ]
    },
    {
      "cell_type": "code",
      "metadata": {
        "colab": {
          "base_uri": "https://localhost:8080/"
        },
        "id": "LYbdfBgz8i06",
        "outputId": "215c4fc5-2e8d-485b-ad9f-34c921c13f3f"
      },
      "source": [
        "X, y = load_breast_cancer(return_X_y=True)\n",
        "X_train, X_test, y_train, y_test = train_test_split(X, y, random_state=123)\n",
        "\n",
        "model = SVC()\n",
        "model.fit(X_train, y_train)\n",
        "\n",
        "print('Train Data Score : {}'.format(model.score(X_train, y_train)))\n",
        "print('Test Data Score : {}'.format(model.score(X_test, y_test)))"
      ],
      "execution_count": 3,
      "outputs": [
        {
          "output_type": "stream",
          "text": [
            "Train Data Score : 0.9014084507042254\n",
            "Test Data Score : 0.9230769230769231\n"
          ],
          "name": "stdout"
        }
      ]
    },
    {
      "cell_type": "markdown",
      "metadata": {
        "id": "aOTB_noy9gR2"
      },
      "source": [
        "## 커널 기법\n",
        "- 입력 데이터를 고차원 공간에 사상해서 비선형 특징을 학습할 수 있도록 확장하는 방법\n",
        "- scikit-learn에서는 Linear, Polynomial, RBF(Radial Basis Function)등 다양한 커널 기법을 지원"
      ]
    },
    {
      "cell_type": "code",
      "metadata": {
        "colab": {
          "base_uri": "https://localhost:8080/"
        },
        "id": "xstkQmRs9U9d",
        "outputId": "d2f98880-e583-4d68-9efd-154bea2c2a66"
      },
      "source": [
        "X, y = load_boston(return_X_y=True)\n",
        "X_train, X_test, y_train, y_test = train_test_split(X, y, random_state=123)\n",
        "\n",
        "linear_svr = SVR(kernel='linear')\n",
        "linear_svr.fit(X_train, y_train)\n",
        "\n",
        "print('Linear Train Data Score : {}'.format(linear_svr.score(X_train, y_train)))\n",
        "print('Linear Test Data Score : {}'.format(linear_svr.score(X_test, y_test)))\n",
        "\n",
        "linear_svr = SVR(kernel='poly')\n",
        "linear_svr.fit(X_train, y_train)\n",
        "\n",
        "print('Polynomial Train Data Score : {}'.format(linear_svr.score(X_train, y_train)))\n",
        "print('Polynomial Test Data Score : {}'.format(linear_svr.score(X_test, y_test)))\n",
        "\n",
        "linear_svr = SVR(kernel='rbf')\n",
        "linear_svr.fit(X_train, y_train)\n",
        "\n",
        "print('RBF Train Data Score : {}'.format(linear_svr.score(X_train, y_train)))\n",
        "print('RBF Test Data Score : {}'.format(linear_svr.score(X_test, y_test)))"
      ],
      "execution_count": 4,
      "outputs": [
        {
          "output_type": "stream",
          "text": [
            "Linear Train Data Score : 0.715506620496448\n",
            "Linear Test Data Score : 0.6380398541506058\n",
            "Polynomial Train Data Score : 0.2024454261446289\n",
            "Polynomial Test Data Score : 0.133668450367462\n",
            "RBF Train Data Score : 0.2177283706374875\n",
            "RBF Test Data Score : 0.13544178468518187\n"
          ],
          "name": "stdout"
        }
      ]
    },
    {
      "cell_type": "code",
      "metadata": {
        "colab": {
          "base_uri": "https://localhost:8080/"
        },
        "id": "HMprFHe8_y75",
        "outputId": "9912e2e5-fedf-4eda-ad93-3dc3a6542e9a"
      },
      "source": [
        "X, y = load_breast_cancer(return_X_y=True)\n",
        "X_train, X_test, y_train, y_test = train_test_split(X, y, random_state=123)\n",
        "\n",
        "linear_svc = SVC(kernel='linear')\n",
        "linear_svc.fit(X_train, y_train)\n",
        "\n",
        "print('Linear Train Data Score : {}'.format(linear_svc.score(X_train, y_train)))\n",
        "print('Linear Test Data Score : {}'.format(linear_svc.score(X_test, y_test)))\n",
        "\n",
        "linear_svc = SVC(kernel='poly')\n",
        "linear_svc.fit(X_train, y_train)\n",
        "\n",
        "print('Polynomial Train Data Score : {}'.format(linear_svc.score(X_train, y_train)))\n",
        "print('Polynomial Test Data Score : {}'.format(linear_svc.score(X_test, y_test)))\n",
        "\n",
        "linear_svc = SVC(kernel='rbf')\n",
        "linear_svc.fit(X_train, y_train)\n",
        "\n",
        "print('RBF Train Data Score : {}'.format(linear_svc.score(X_train, y_train)))\n",
        "print('RBF Test Data Score : {}'.format(linear_svc.score(X_test, y_test)))"
      ],
      "execution_count": 5,
      "outputs": [
        {
          "output_type": "stream",
          "text": [
            "Linear Train Data Score : 0.960093896713615\n",
            "Linear Test Data Score : 0.986013986013986\n",
            "Polynomial Train Data Score : 0.9014084507042254\n",
            "Polynomial Test Data Score : 0.9230769230769231\n",
            "RBF Train Data Score : 0.9014084507042254\n",
            "RBF Test Data Score : 0.9230769230769231\n"
          ],
          "name": "stdout"
        }
      ]
    },
    {
      "cell_type": "markdown",
      "metadata": {
        "id": "WceMcUetA2Ut"
      },
      "source": [
        "## 매개변수 튜닝\n",
        "- SVM은 사용하는 커널에 따라 다양한 매개변수 설정 가능\n",
        "- 매개변수를 변경하면서 성능 변화를 관찰"
      ]
    },
    {
      "cell_type": "code",
      "metadata": {
        "colab": {
          "base_uri": "https://localhost:8080/"
        },
        "id": "FRJGlUR0AY8a",
        "outputId": "52237472-2b46-40fc-d0bc-ee67ee6b1068"
      },
      "source": [
        "X, y = load_breast_cancer(return_X_y=True)\n",
        "X_train, X_test, y_train, y_test = train_test_split(X, y, random_state=123)\n",
        "\n",
        "linear_svc = SVC(kernel='poly', degree=2, C=0.1, gamma='auto')\n",
        "linear_svc.fit(X_train, y_train)\n",
        "\n",
        "print('Polynomial Train Data Score : {}'.format(linear_svc.score(X_train, y_train)))\n",
        "print('Polynomial Test Data Score : {}'.format(linear_svc.score(X_test, y_test)))\n",
        "\n",
        "linear_svc = SVC(kernel='rbf', C=2.0, gamma='scale')\n",
        "linear_svc.fit(X_train, y_train)\n",
        "\n",
        "print('RBF Train Data Score : {}'.format(linear_svc.score(X_train, y_train)))\n",
        "print('RBF Test Data Score : {}'.format(linear_svc.score(X_test, y_test)))"
      ],
      "execution_count": 6,
      "outputs": [
        {
          "output_type": "stream",
          "text": [
            "Polynomial Train Data Score : 0.9835680751173709\n",
            "Polynomial Test Data Score : 0.993006993006993\n",
            "RBF Train Data Score : 0.9154929577464789\n",
            "RBF Test Data Score : 0.9370629370629371\n"
          ],
          "name": "stdout"
        }
      ]
    },
    {
      "cell_type": "markdown",
      "metadata": {
        "id": "U7sfzl3ECuIc"
      },
      "source": [
        "## 데이터 전처리\n",
        "\n",
        "-SVM은 입력 데이터가 정규화되어야 좋은 성능을 보임\n",
        "- 주도 모든 특성 값을 [0, 1] 범위로 맞추는 방법을 사용\n",
        "- scikit-learn의 StandardScaler 또는 MinMaxScaler를 사용해 정규화"
      ]
    },
    {
      "cell_type": "code",
      "metadata": {
        "colab": {
          "base_uri": "https://localhost:8080/"
        },
        "id": "8pkzWydzCpi4",
        "outputId": "eb1357b0-cc29-4d47-c3f3-615f6f25e3a9"
      },
      "source": [
        "X, y = load_breast_cancer(return_X_y=True)\n",
        "X_train, X_test, y_train, y_test = train_test_split(X, y, random_state=123)\n",
        "\n",
        "linear_svc = SVC()\n",
        "linear_svc.fit(X_train, y_train)\n",
        "\n",
        "print('SVC Train Data Score : {}'.format(linear_svc.score(X_train, y_train)))\n",
        "print('SVC Test Data Score : {}'.format(linear_svc.score(X_test, y_test)))\n",
        "\n",
        "scaler = StandardScaler()\n",
        "X_train = scaler.fit_transform(X_train)\n",
        "X_test = scaler.transform(X_test)\n",
        "\n",
        "linear_svc = SVC()\n",
        "linear_svc.fit(X_train, y_train)\n",
        "\n",
        "print('SVC StandardScaler전처리 Train Data Score : {}'.format(linear_svc.score(X_train, y_train)))\n",
        "print('SVC StandardScaler전처리 Test Data Score : {}'.format(linear_svc.score(X_test, y_test)))\n",
        "\n",
        "scaler = MinMaxScaler()\n",
        "X_train = scaler.fit_transform(X_train)\n",
        "X_test = scaler.transform(X_test)\n",
        "\n",
        "linear_svc = SVC()\n",
        "linear_svc.fit(X_train, y_train)\n",
        "\n",
        "print('SVC MinMaxScaler전처리 Train Data Score : {}'.format(linear_svc.score(X_train, y_train)))\n",
        "print('SVC MinMaxScaler전처리 Test Data Score : {}'.format(linear_svc.score(X_test, y_test)))"
      ],
      "execution_count": 9,
      "outputs": [
        {
          "output_type": "stream",
          "text": [
            "SVC Train Data Score : 0.9014084507042254\n",
            "SVC Test Data Score : 0.9230769230769231\n",
            "SVC StandardScaler전처리 Train Data Score : 0.9835680751173709\n",
            "SVC StandardScaler전처리 Test Data Score : 0.986013986013986\n",
            "SVC MinMaxScaler전처리 Train Data Score : 0.9812206572769953\n",
            "SVC MinMaxScaler전처리 Test Data Score : 0.986013986013986\n"
          ],
          "name": "stdout"
        }
      ]
    },
    {
      "cell_type": "markdown",
      "metadata": {
        "id": "Cj920VNNOA-_"
      },
      "source": [
        "# Linear SVR"
      ]
    },
    {
      "cell_type": "markdown",
      "metadata": {
        "id": "o5NqPWxlNlgz"
      },
      "source": [
        "## 보스턴 주택 가격"
      ]
    },
    {
      "cell_type": "code",
      "metadata": {
        "colab": {
          "base_uri": "https://localhost:8080/"
        },
        "id": "AcWvmu-TF7GJ",
        "outputId": "8d504878-c9ec-498d-f04e-eb1938631adb"
      },
      "source": [
        "X, y = load_boston(return_X_y=True)\n",
        "X_train, X_test, y_train, y_test = train_test_split(X, y, test_size=0.2, random_state=1)\n",
        "\n",
        "scaler = StandardScaler()\n",
        "scaler.fit(X_train)\n",
        "X_train = scaler.fit_transform(X_train)\n",
        "X_test = scaler.transform(X_test)\n",
        "\n",
        "linear_svr = SVR(kernel='linear')\n",
        "linear_svr.fit(X_train, y_train)\n",
        "\n",
        "print('Train Data Score : {}'.format(linear_svr.score(X_train, y_train)))\n",
        "print('Test Data Score : {}'.format(linear_svr.score(X_test, y_test)))"
      ],
      "execution_count": 13,
      "outputs": [
        {
          "output_type": "stream",
          "text": [
            "Train Data Score : 0.691016501096553\n",
            "Test Data Score : 0.7623420514498938\n"
          ],
          "name": "stdout"
        }
      ]
    },
    {
      "cell_type": "code",
      "metadata": {
        "colab": {
          "base_uri": "https://localhost:8080/",
          "height": 265
        },
        "id": "hvr9INtvPDrn",
        "outputId": "b443cec9-8dcc-4345-ec87-3286186115ff"
      },
      "source": [
        "X_comp = TSNE(n_components=1).fit_transform(X) #서보트벡터는 차원을 늘려서 맵핑하기 떄문에 차원을 낮춰야 시각화 가능\n",
        "plt.scatter(X_comp, y);"
      ],
      "execution_count": 17,
      "outputs": [
        {
          "output_type": "display_data",
          "data": {
            "image/png": "[encoded data removed]",
            "text/plain": [
              "<Figure size 432x288 with 1 Axes>"
            ]
          },
          "metadata": {
            "tags": [],
            "needs_background": "light"
          }
        }
      ]
    },
    {
      "cell_type": "code",
      "metadata": {
        "colab": {
          "base_uri": "https://localhost:8080/",
          "height": 265
        },
        "id": "jriIEwOEQmUZ",
        "outputId": "9971f84a-a781-4e86-936c-46588472efde"
      },
      "source": [
        "linear_svr.fit(X_comp, y)\n",
        "predict = linear_svr.predict(X_comp)\n",
        "plt.scatter(X_comp, y)\n",
        "plt.scatter(X_comp, predict, color='r');"
      ],
      "execution_count": 19,
      "outputs": [
        {
          "output_type": "display_data",
          "data": {
            "image/png": "[encoded data removed]",
            "text/plain": [
              "<Figure size 432x288 with 1 Axes>"
            ]
          },
          "metadata": {
            "tags": [],
            "needs_background": "light"
          }
        }
      ]
    },
    {
      "cell_type": "code",
      "metadata": {
        "colab": {
          "base_uri": "https://localhost:8080/"
        },
        "id": "VZbp1cZdROfw",
        "outputId": "93332016-1a75-4310-cb2e-e2d191d21c2e"
      },
      "source": [
        "estimator = make_pipeline(StandardScaler(), SVR(kernel='linear'))\n",
        "\n",
        "cross_validate(estimator=estimator, X=X, y=y, cv=5, \\\n",
        "               n_jobs=multiprocessing.cpu_count(), verbose=True)"
      ],
      "execution_count": 20,
      "outputs": [
        {
          "output_type": "stream",
          "text": [
            "[Parallel(n_jobs=2)]: Using backend LokyBackend with 2 concurrent workers.\n",
            "[Parallel(n_jobs=2)]: Done   5 out of   5 | elapsed:    1.1s finished\n"
          ],
          "name": "stderr"
        },
        {
          "output_type": "execute_result",
          "data": {
            "text/plain": [
              "{'fit_time': array([0.02913499, 0.02862   , 0.02712345, 0.02741718, 0.0253911 ]),\n",
              " 'score_time': array([0.00224686, 0.00218034, 0.00223088, 0.00211358, 0.00138783]),\n",
              " 'test_score': array([0.76908568, 0.72180141, 0.56428426, 0.14083339, 0.07810211])}"
            ]
          },
          "metadata": {
            "tags": []
          },
          "execution_count": 20
        }
      ]
    },
    {
      "cell_type": "code",
      "metadata": {
        "colab": {
          "base_uri": "https://localhost:8080/"
        },
        "id": "WOP9k9iuSU1z",
        "outputId": "2e1317d8-7703-4761-cbaa-a4a99175ca57"
      },
      "source": [
        "pipe = Pipeline([('scler', StandardScaler()), ('model', SVR(kernel='linear'))])\n",
        "\n",
        "param_grid = [{'model__gamma':['scale', 'auto'], 'model__C':[1.0, 0.1, 0.01], \\\n",
        "               'model__epsilon':[1.0, 0.1, 0.01]}]\n",
        "\n",
        "gs = GridSearchCV(estimator=pipe, param_grid=param_grid, \\\n",
        "                  n_jobs=multiprocessing.cpu_count(), cv=5, verbose=True)\n",
        "\n",
        "gs.fit(X, y)"
      ],
      "execution_count": 22,
      "outputs": [
        {
          "output_type": "stream",
          "text": [
            "Fitting 5 folds for each of 18 candidates, totalling 90 fits\n"
          ],
          "name": "stdout"
        },
        {
          "output_type": "stream",
          "text": [
            "[Parallel(n_jobs=2)]: Using backend LokyBackend with 2 concurrent workers.\n",
            "[Parallel(n_jobs=2)]: Done  90 out of  90 | elapsed:    1.9s finished\n"
          ],
          "name": "stderr"
        },
        {
          "output_type": "execute_result",
          "data": {
            "text/plain": [
              "GridSearchCV(cv=5, error_score=nan,\n",
              "             estimator=Pipeline(memory=None,\n",
              "                                steps=[('scler',\n",
              "                                        StandardScaler(copy=True,\n",
              "                                                       with_mean=True,\n",
              "                                                       with_std=True)),\n",
              "                                       ('model',\n",
              "                                        SVR(C=1.0, cache_size=200, coef0=0.0,\n",
              "                                            degree=3, epsilon=0.1,\n",
              "                                            gamma='scale', kernel='linear',\n",
              "                                            max_iter=-1, shrinking=True,\n",
              "                                            tol=0.001, verbose=False))],\n",
              "                                verbose=False),\n",
              "             iid='deprecated', n_jobs=2,\n",
              "             param_grid=[{'model__C': [1.0, 0.1, 0.01],\n",
              "                          'model__epsilon': [1.0, 0.1, 0.01],\n",
              "                          'model__gamma': ['scale', 'auto']}],\n",
              "             pre_dispatch='2*n_jobs', refit=True, return_train_score=False,\n",
              "             scoring=None, verbose=True)"
            ]
          },
          "metadata": {
            "tags": []
          },
          "execution_count": 22
        }
      ]
    },
    {
      "cell_type": "code",
      "metadata": {
        "colab": {
          "base_uri": "https://localhost:8080/"
        },
        "id": "PBx0ZHfCVwGU",
        "outputId": "4e816585-b68f-41e6-a3e7-f44e70c13acf"
      },
      "source": [
        "gs.best_estimator_"
      ],
      "execution_count": 23,
      "outputs": [
        {
          "output_type": "execute_result",
          "data": {
            "text/plain": [
              "Pipeline(memory=None,\n",
              "         steps=[('scler',\n",
              "                 StandardScaler(copy=True, with_mean=True, with_std=True)),\n",
              "                ('model',\n",
              "                 SVR(C=0.1, cache_size=200, coef0=0.0, degree=3, epsilon=1.0,\n",
              "                     gamma='scale', kernel='linear', max_iter=-1,\n",
              "                     shrinking=True, tol=0.001, verbose=False))],\n",
              "         verbose=False)"
            ]
          },
          "metadata": {
            "tags": []
          },
          "execution_count": 23
        }
      ]
    },
    {
      "cell_type": "code",
      "metadata": {
        "id": "YM20x5pNWATD"
      },
      "source": [
        ""
      ],
      "execution_count": null,
      "outputs": []
    }
  ]
}