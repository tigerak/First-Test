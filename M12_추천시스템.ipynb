{
  "nbformat": 4,
  "nbformat_minor": 0,
  "metadata": {
    "colab": {
      "name": "M12_추천시스템.ipynb",
      "provenance": [],
      "authorship_tag": "ABX9TyOn7m0ZDJ1G7WC61sgtGXBN",
      "include_colab_link": true
    },
    "kernelspec": {
      "name": "python3",
      "display_name": "Python 3"
    },
    "language_info": {
      "name": "python"
    }
  },
  "cells": [
    {
      "cell_type": "markdown",
      "metadata": {
        "id": "view-in-github",
        "colab_type": "text"
      },
      "source": [
        "<a href=\"https://colab.research.google.com/github/tigerak/1st_practice/blob/main/M12_%EC%B6%94%EC%B2%9C%EC%8B%9C%EC%8A%A4%ED%85%9C.ipynb\" target=\"_parent\"><img src=\"https://colab.research.google.com/assets/colab-badge.svg\" alt=\"Open In Colab\"/></a>"
      ]
    },
    {
      "cell_type": "markdown",
      "metadata": {
        "id": "RQPpQjYdSo-l"
      },
      "source": [
        ""
      ]
    },
    {
      "cell_type": "markdown",
      "metadata": {
        "id": "T8tG6ZgNSqmb"
      },
      "source": [
        "# 추천 시스템 (Recommender Systems)\n",
        "\n",
        "- 추천 시스템은 크게 두 가지로 구분 가능\n",
        " - 컨텐츠 기반 필터링 (content-based filtering)\n",
        " - 협업 필터링 (collaborative filtering)\n",
        "- 두가지를 조합한 hybrid 방식도 가능\n",
        "- 컨텐츠 기반 필터링은 지금까지 사용자의 이전 행동과 명시적 피드백을 통해 사용자가 좋아하는 것과 유사한 항목을 추천\n",
        "- 협업 필터링은 사용자와 항목간의 유사성을 동시에 사용해 추천"
      ]
    },
    {
      "cell_type": "markdown",
      "metadata": {
        "id": "HeyU5PQnTRg7"
      },
      "source": [
        "# Surprise\n",
        "\n",
        "- 추천 시스템 개발을 위한 라이브러리\n",
        "- 다양한 모델과 데이터 제공\n",
        "- sklearn과 유사한 사용 방법"
      ]
    },
    {
      "cell_type": "code",
      "metadata": {
        "colab": {
          "base_uri": "https://localhost:8080/"
        },
        "id": "yp59K4kzSQQE",
        "outputId": "34eab2af-a05c-467e-eb03-568aa6f28642"
      },
      "source": [
        "!pip install scikit-surprise"
      ],
      "execution_count": 3,
      "outputs": [
        {
          "output_type": "stream",
          "text": [
            "Collecting scikit-surprise\n",
            "\u001b[?25l  Downloading https://files.pythonhosted.org/packages/97/37/5d334adaf5ddd65da99fc65f6507e0e4599d092ba048f4302fe8775619e8/scikit-surprise-1.1.1.tar.gz (11.8MB)\n",
            "\u001b[K     |████████████████████████████████| 11.8MB 6.6MB/s \n",
            "\u001b[?25hRequirement already satisfied: joblib>=0.11 in /usr/local/lib/python3.7/dist-packages (from scikit-surprise) (1.0.1)\n",
            "Requirement already satisfied: numpy>=1.11.2 in /usr/local/lib/python3.7/dist-packages (from scikit-surprise) (1.19.5)\n",
            "Requirement already satisfied: scipy>=1.0.0 in /usr/local/lib/python3.7/dist-packages (from scikit-surprise) (1.4.1)\n",
            "Requirement already satisfied: six>=1.10.0 in /usr/local/lib/python3.7/dist-packages (from scikit-surprise) (1.15.0)\n",
            "Building wheels for collected packages: scikit-surprise\n",
            "  Building wheel for scikit-surprise (setup.py) ... \u001b[?25l\u001b[?25hdone\n",
            "  Created wheel for scikit-surprise: filename=scikit_surprise-1.1.1-cp37-cp37m-linux_x86_64.whl size=1617557 sha256=1b6dd5f9d0f1c118494b82a79f2869e2990633d90a5701f929ae56291501cc37\n",
            "  Stored in directory: /root/.cache/pip/wheels/78/9c/3d/41b419c9d2aff5b6e2b4c0fc8d25c538202834058f9ed110d0\n",
            "Successfully built scikit-surprise\n",
            "Installing collected packages: scikit-surprise\n",
            "Successfully installed scikit-surprise-1.1.1\n"
          ],
          "name": "stdout"
        }
      ]
    },
    {
      "cell_type": "markdown",
      "metadata": {
        "id": "Xj7I7pxoUyEy"
      },
      "source": [
        "간단한 surprise 실습"
      ]
    },
    {
      "cell_type": "code",
      "metadata": {
        "id": "qyLRHKJcUp0N"
      },
      "source": [
        "from surprise import SVD\n",
        "from surprise import Dataset\n",
        "from surprise.model_selection import cross_validate"
      ],
      "execution_count": null,
      "outputs": []
    },
    {
      "cell_type": "code",
      "metadata": {
        "colab": {
          "base_uri": "https://localhost:8080/"
        },
        "id": "HbxS10DhVKSH",
        "outputId": "a76cf78b-8daa-4509-d3e2-5d709674b0b8"
      },
      "source": [
        "data = Dataset.load_builtin('ml-100k', prompt=False)\n",
        "data.raw_ratings[:10]"
      ],
      "execution_count": null,
      "outputs": [
        {
          "output_type": "execute_result",
          "data": {
            "text/plain": [
              "[('196', '242', 3.0, '881250949'),\n",
              " ('186', '302', 3.0, '891717742'),\n",
              " ('22', '377', 1.0, '878887116'),\n",
              " ('244', '51', 2.0, '880606923'),\n",
              " ('166', '346', 1.0, '886397596'),\n",
              " ('298', '474', 4.0, '884182806'),\n",
              " ('115', '265', 2.0, '881171488'),\n",
              " ('253', '465', 5.0, '891628467'),\n",
              " ('305', '451', 3.0, '886324817'),\n",
              " ('6', '86', 3.0, '883603013')]"
            ]
          },
          "metadata": {
            "tags": []
          },
          "execution_count": 18
        }
      ]
    },
    {
      "cell_type": "code",
      "metadata": {
        "colab": {
          "base_uri": "https://localhost:8080/"
        },
        "id": "Si9jph7-VaVC",
        "outputId": "b4bce584-f703-4299-ef52-303a4f9afb14"
      },
      "source": [
        "model = SVD()\n",
        "\n",
        "cross_validate(model, data, measures=['rmse', 'mae'], cv=5, verbose=True)"
      ],
      "execution_count": null,
      "outputs": [
        {
          "output_type": "stream",
          "text": [
            "Evaluating RMSE, MAE of algorithm SVD on 5 split(s).\n",
            "\n",
            "                  Fold 1  Fold 2  Fold 3  Fold 4  Fold 5  Mean    Std     \n",
            "RMSE (testset)    0.9308  0.9468  0.9371  0.9273  0.9370  0.9358  0.0067  \n",
            "MAE (testset)     0.7343  0.7477  0.7396  0.7312  0.7386  0.7383  0.0056  \n",
            "Fit time          4.96    4.92    4.93    4.87    4.89    4.91    0.03    \n",
            "Test time         0.26    0.17    0.17    0.19    0.26    0.21    0.04    \n"
          ],
          "name": "stdout"
        },
        {
          "output_type": "execute_result",
          "data": {
            "text/plain": [
              "{'fit_time': (4.961913585662842,\n",
              "  4.920889377593994,\n",
              "  4.931941986083984,\n",
              "  4.871452808380127,\n",
              "  4.885516405105591),\n",
              " 'test_mae': array([0.73430752, 0.74769709, 0.73958332, 0.73118646, 0.73855966]),\n",
              " 'test_rmse': array([0.93075253, 0.94678284, 0.93713778, 0.92729031, 0.93704412]),\n",
              " 'test_time': (0.26173973083496094,\n",
              "  0.17145252227783203,\n",
              "  0.1681210994720459,\n",
              "  0.18688750267028809,\n",
              "  0.2636239528656006)}"
            ]
          },
          "metadata": {
            "tags": []
          },
          "execution_count": 19
        }
      ]
    },
    {
      "cell_type": "markdown",
      "metadata": {
        "id": "JGsWKL5nXVO4"
      },
      "source": [
        "# 컨텐츠 기반 필터링 (Content-based Filtering)\n",
        "- 컨텐츠 기반 필터링은 이전의 행동과 명시적 피드백을 통해 좋아하는 것과 유사한 항목을 추천\n",
        " - 내가 지금까지 시청한 영화 목록과 다른 사용자의 시청 목록을 비교해 나와 비슷한 취향의 사용자가 시청한 영화를 추천\n",
        "- 유사도를 기반으로 추천\n",
        "- 컨텐츠 기반 필터링은 다음과 같은 장단점이 있다\n",
        " - 장점\n",
        "   - 많은 수의  사용자를 대상으로 쉽게 확장 가능\n",
        "   - 사용자가 관심을 갖지 않던 상품 추천 가능\n",
        " - 단점\n",
        "   - 입력 특성을 직접 설계해야하기 떄문에 않은 도데인 지식이 필요\n",
        "   - 사용자의 기존 관심사항을 기반으로만 추천 가능"
      ]
    },
    {
      "cell_type": "code",
      "metadata": {
        "id": "8Q1YD9khXA_5"
      },
      "source": [
        "import numpy as np\n",
        "from surprise import Dataset"
      ],
      "execution_count": null,
      "outputs": []
    },
    {
      "cell_type": "markdown",
      "metadata": {
        "id": "HLYzgI-dYqiX"
      },
      "source": [
        "1. 이진 벡터의 내적을 통해 다른 사용자들과의 유사도 구하기\n",
        "- 나와 가장 유사도가 높은 사용자의 시청 목록을 추천"
      ]
    },
    {
      "cell_type": "code",
      "metadata": {
        "id": "O7fyPTxdYo_W"
      },
      "source": [
        "data = Dataset.load_builtin('ml-100k', prompt=False)\n",
        "raw_data = np.array(data.raw_ratings, dtype=int)"
      ],
      "execution_count": null,
      "outputs": []
    },
    {
      "cell_type": "code",
      "metadata": {
        "id": "zM1ApljrZGuy"
      },
      "source": [
        "raw_data[:, 0] -= 1\n",
        "raw_data[:, 1] -= 1"
      ],
      "execution_count": null,
      "outputs": []
    },
    {
      "cell_type": "code",
      "metadata": {
        "colab": {
          "base_uri": "https://localhost:8080/"
        },
        "id": "AwnxR9BNqelE",
        "outputId": "6d23924b-495f-4236-f0fb-1c2f2226067a"
      },
      "source": [
        "n_users = np.max(raw_data[:, 0])\n",
        "n_movies = np.max(raw_data[:, 1])\n",
        "shape = (n_users + 1, n_movies + 1)\n",
        "shape"
      ],
      "execution_count": null,
      "outputs": [
        {
          "output_type": "execute_result",
          "data": {
            "text/plain": [
              "(943, 1682)"
            ]
          },
          "metadata": {
            "tags": []
          },
          "execution_count": 23
        }
      ]
    },
    {
      "cell_type": "code",
      "metadata": {
        "colab": {
          "base_uri": "https://localhost:8080/"
        },
        "id": "d8WdSPhiq1n1",
        "outputId": "eece23ff-3da3-4706-b6c3-14b8a50d6672"
      },
      "source": [
        "# 인접행렬 만들기 : 1이 있는 위치가 데이터가 있는 위치\n",
        "adj_matrix = np.ndarray(shape, dtype=int)\n",
        "for user_id, movie_id, rating, time in raw_data:\n",
        "    adj_matrix[user_id][movie_id] = 1.\n",
        "adj_matrix"
      ],
      "execution_count": null,
      "outputs": [
        {
          "output_type": "execute_result",
          "data": {
            "text/plain": [
              "array([[1, 1, 1, ..., 0, 0, 0],\n",
              "       [1, 0, 0, ..., 0, 0, 0],\n",
              "       [0, 0, 0, ..., 0, 0, 0],\n",
              "       ...,\n",
              "       [1, 0, 0, ..., 0, 0, 0],\n",
              "       [0, 0, 0, ..., 0, 0, 0],\n",
              "       [0, 1, 0, ..., 0, 0, 0]])"
            ]
          },
          "metadata": {
            "tags": []
          },
          "execution_count": 24
        }
      ]
    },
    {
      "cell_type": "code",
      "metadata": {
        "colab": {
          "base_uri": "https://localhost:8080/"
        },
        "id": "dSBMFYrYrgEy",
        "outputId": "e87da663-4c5d-495e-f35f-ad2c91003ea7"
      },
      "source": [
        "my_id, my_vector = 0, adj_matrix[0]\n",
        "best_match, best_match_id, best_match_vector = -1, -1, []\n",
        "\n",
        "for user_id, user_vector in enumerate(adj_matrix):\n",
        "    if my_id != user_id:\n",
        "        similarity = np.dot(my_vector, user_vector)\n",
        "        if similarity > best_match:\n",
        "            best_match = similarity\n",
        "            best_match_id = user_id\n",
        "            best_match_vector = user_vector\n",
        "\n",
        "print('Best match : {}, Best match ID : {}'.format(best_match, best_match_id))\n",
        "print(my_vector)\n",
        "print(best_match_vector)"
      ],
      "execution_count": null,
      "outputs": [
        {
          "output_type": "stream",
          "text": [
            "Best match : 183, Best match ID : 275\n",
            "[1 1 1 ... 0 0 0]\n",
            "[1 1 1 ... 0 0 0]\n"
          ],
          "name": "stdout"
        }
      ]
    },
    {
      "cell_type": "code",
      "metadata": {
        "colab": {
          "base_uri": "https://localhost:8080/"
        },
        "id": "jaNBqSDVtzFY",
        "outputId": "f8537fa7-cd92-4fd6-a5ad-525de6c846b0"
      },
      "source": [
        "recommend_list = []\n",
        "for i, log in enumerate(zip(my_vector, best_match_vector)):\n",
        "    log1, log2 = log\n",
        "    if log1 < 1. and log2 > 0.:\n",
        "        recommend_list.append(i)\n",
        "print(recommend_list)"
      ],
      "execution_count": null,
      "outputs": [
        {
          "output_type": "stream",
          "text": [
            "[272, 273, 275, 280, 281, 283, 287, 288, 289, 290, 292, 293, 297, 299, 300, 301, 302, 306, 312, 314, 315, 316, 317, 321, 322, 323, 324, 327, 330, 331, 332, 333, 339, 342, 345, 346, 353, 354, 355, 356, 357, 363, 364, 365, 366, 372, 374, 378, 379, 381, 382, 383, 384, 385, 386, 387, 390, 391, 392, 394, 395, 396, 398, 400, 401, 402, 403, 404, 405, 406, 407, 408, 409, 410, 412, 414, 416, 417, 418, 419, 420, 422, 424, 425, 426, 427, 428, 430, 431, 432, 435, 442, 446, 447, 448, 449, 450, 451, 452, 454, 455, 457, 460, 461, 462, 468, 469, 470, 471, 472, 473, 474, 478, 495, 500, 507, 517, 522, 525, 530, 539, 540, 543, 545, 546, 548, 549, 550, 551, 553, 557, 558, 560, 561, 562, 563, 565, 566, 567, 568, 570, 571, 574, 575, 576, 577, 580, 581, 582, 585, 587, 589, 590, 594, 596, 602, 623, 626, 627, 630, 633, 635, 639, 646, 648, 651, 652, 654, 657, 664, 668, 671, 677, 678, 681, 683, 684, 685, 690, 691, 692, 695, 696, 708, 709, 714, 718, 719, 720, 724, 726, 727, 731, 733, 734, 736, 738, 741, 742, 745, 746, 747, 749, 750, 754, 758, 762, 764, 767, 768, 769, 770, 771, 772, 773, 778, 779, 782, 785, 788, 789, 793, 795, 796, 799, 800, 801, 802, 805, 806, 808, 815, 819, 822, 824, 830, 839, 842, 843, 844, 852, 853, 870, 875, 878, 880, 889, 901, 914, 915, 918, 921, 927, 929, 930, 938, 940, 941, 942, 948, 950, 958, 968, 973, 974, 976, 992, 999, 1005, 1009, 1010, 1012, 1015, 1018, 1027, 1030, 1034, 1035, 1041, 1043, 1045, 1046, 1051, 1055, 1072, 1073, 1078, 1080, 1082, 1088, 1089, 1090, 1094, 1097, 1108, 1109, 1117, 1128, 1130, 1134, 1139, 1140, 1144, 1156, 1169, 1171, 1179, 1193, 1198, 1207, 1209, 1212, 1217, 1219, 1220, 1227, 1231, 1238, 1239, 1243, 1244, 1252, 1266, 1272, 1273, 1300, 1313, 1406, 1412, 1415, 1470, 1477, 1480, 1481, 1482]\n"
          ],
          "name": "stdout"
        }
      ]
    },
    {
      "cell_type": "markdown",
      "metadata": {
        "id": "L2JHdK_DOQ-z"
      },
      "source": [
        "2. 유클리드 거리를 사용해 추천\n",
        "- 거리가 가까울 수록(값이 작을 수록) 나와 유사한 사용자"
      ]
    },
    {
      "cell_type": "code",
      "metadata": {
        "colab": {
          "base_uri": "https://localhost:8080/"
        },
        "id": "xeFl15pJv0dM",
        "outputId": "76a9c16f-e056-4366-9592-05f5f6cc19b7"
      },
      "source": [
        "my_id, my_vector = 0, adj_matrix[0]\n",
        "best_match, best_match_id, best_match_vector = 9999, -1, []\n",
        "\n",
        "for user_id, user_vector in enumerate(adj_matrix):\n",
        "    if my_id != user_id:\n",
        "        euclidean_dist = np.sqrt(np.sum(np.square(my_vector - user_vector)))\n",
        "        if euclidean_dist < best_match:\n",
        "            best_match = euclidean_dist\n",
        "            best_match_id = user_id\n",
        "            best_match_vector = user_vector\n",
        "\n",
        "print('Best match : {}, Best match ID : {}'.format(best_match, best_match_id))\n",
        "print(my_vector)\n",
        "print(best_match_vector)"
      ],
      "execution_count": null,
      "outputs": [
        {
          "output_type": "stream",
          "text": [
            "Best match : 14.832396974191326, Best match ID : 737\n",
            "[1 1 1 ... 0 0 0]\n",
            "[1 1 0 ... 0 0 0]\n"
          ],
          "name": "stdout"
        }
      ]
    },
    {
      "cell_type": "code",
      "metadata": {
        "colab": {
          "base_uri": "https://localhost:8080/"
        },
        "id": "ztLUrdG8Xw4m",
        "outputId": "d3184d85-0fcf-46b2-d76a-4b9dc942fdf0"
      },
      "source": [
        "recommend_list = []\n",
        "for i, log in enumerate(zip(my_vector, best_match_vector)):\n",
        "    log1, log2 = log\n",
        "    if log1 < 1. and log2 > 0.:\n",
        "        recommend_list.append(i)\n",
        "print(recommend_list)"
      ],
      "execution_count": null,
      "outputs": [
        {
          "output_type": "stream",
          "text": [
            "[297, 312, 317, 342, 356, 366, 379, 384, 392, 402, 404, 407, 417, 422, 428, 433, 448, 454, 469, 473, 495, 510, 516, 526, 527, 549, 567, 602, 635, 649, 650, 654, 658, 661, 664, 696, 731, 746, 750, 754, 915, 918, 925, 929, 950, 968, 1015, 1046]\n"
          ],
          "name": "stdout"
        }
      ]
    },
    {
      "cell_type": "markdown",
      "metadata": {
        "id": "wI05l3SHOj8T"
      },
      "source": [
        "3. 코사인 유사도를 사용해 추천\n",
        "\n",
        "- 두 벡터가 이루고 있는 각을 계산"
      ]
    },
    {
      "cell_type": "code",
      "metadata": {
        "id": "83JgjZvEOl-3"
      },
      "source": [
        "def compute_cos_similarity(v1, v2):\n",
        "    norm1 = np.sqrt(np.sum(np.square(v1)))\n",
        "    norm2 = np.sqrt(np.sum(np.square(v2)))\n",
        "    dot = np.dot(v1, v2)\n",
        "    return dot / (norm1 * norm2)"
      ],
      "execution_count": null,
      "outputs": []
    },
    {
      "cell_type": "code",
      "metadata": {
        "colab": {
          "base_uri": "https://localhost:8080/"
        },
        "id": "p-ARR4LyY8Fw",
        "outputId": "5e01e610-3bcf-452a-913a-eb82ae208345"
      },
      "source": [
        "my_id, my_vector = 0, adj_matrix[0]\n",
        "best_match, best_match_id, best_match_vector = -1, -1, []\n",
        "\n",
        "for user_id, user_vector in enumerate(adj_matrix):\n",
        "    if my_id != user_id:\n",
        "        cos_similarity = compute_cos_similarity(my_vector, user_vector)\n",
        "        if cos_similarity > best_match:\n",
        "            best_match = cos_similarity\n",
        "            best_match_id = user_id\n",
        "            best_match_vector = user_vector\n",
        "\n",
        "print('Best match : {}, Best match ID : {}'.format(best_match, best_match_id))\n",
        "print(my_vector)\n",
        "print(best_match_vector)"
      ],
      "execution_count": null,
      "outputs": [
        {
          "output_type": "stream",
          "text": [
            "Best match : 0.5278586163659506, Best match ID : 915\n",
            "[1 1 1 ... 0 0 0]\n",
            "[1 1 1 ... 0 0 1]\n"
          ],
          "name": "stdout"
        }
      ]
    },
    {
      "cell_type": "code",
      "metadata": {
        "colab": {
          "base_uri": "https://localhost:8080/"
        },
        "id": "b9aU-n18ZZzx",
        "outputId": "91c03476-0df6-4197-fdbf-9294e3c05606"
      },
      "source": [
        "recommend_list = []\n",
        "for i, log in enumerate(zip(my_vector, best_match_vector)):\n",
        "    log1, log2 = log\n",
        "    if log1 < 1. and log2 > 0.:\n",
        "        recommend_list.append(i)\n",
        "print(recommend_list)"
      ],
      "execution_count": null,
      "outputs": [
        {
          "output_type": "stream",
          "text": [
            "[272, 275, 279, 280, 283, 285, 289, 294, 297, 316, 317, 355, 365, 366, 368, 379, 380, 381, 384, 386, 392, 398, 401, 404, 416, 420, 422, 424, 426, 427, 430, 432, 450, 460, 461, 466, 469, 471, 473, 474, 475, 479, 482, 483, 497, 505, 508, 510, 511, 522, 526, 527, 529, 530, 534, 536, 540, 545, 548, 549, 556, 557, 558, 560, 565, 567, 568, 569, 577, 580, 581, 582, 592, 596, 630, 635, 639, 641, 649, 651, 654, 673, 677, 678, 683, 684, 692, 696, 701, 703, 707, 708, 709, 712, 714, 719, 720, 726, 731, 734, 736, 738, 740, 745, 747, 754, 755, 761, 762, 763, 766, 780, 789, 791, 805, 819, 823, 824, 830, 843, 862, 865, 918, 929, 930, 938, 942, 943, 947, 958, 959, 960, 970, 977, 1004, 1008, 1009, 1010, 1013, 1041, 1045, 1069, 1072, 1073, 1078, 1097, 1100, 1108, 1112, 1118, 1134, 1193, 1205, 1207, 1216, 1219, 1267, 1334, 1400, 1427, 1596, 1681]\n"
          ],
          "name": "stdout"
        }
      ]
    },
    {
      "cell_type": "markdown",
      "metadata": {
        "id": "gwQNnceaZhRr"
      },
      "source": [
        "- 기존 방법에 명시적 피드백(사용자가 평가한 영화 점수)을 추가해 실험"
      ]
    },
    {
      "cell_type": "code",
      "metadata": {
        "colab": {
          "base_uri": "https://localhost:8080/"
        },
        "id": "2jrBTIsdZega",
        "outputId": "a500011a-188e-4170-8787-a65c004b026b"
      },
      "source": [
        "adj_matrix = np.ndarray(shape, dtype=int)\n",
        "for user_id, movie_id, rating, time in raw_data:\n",
        "    adj_matrix[user_id][movie_id] = rating\n",
        "adj_matrix"
      ],
      "execution_count": null,
      "outputs": [
        {
          "output_type": "execute_result",
          "data": {
            "text/plain": [
              "array([[5, 3, 4, ..., 0, 0, 0],\n",
              "       [4, 0, 0, ..., 0, 0, 0],\n",
              "       [0, 0, 0, ..., 0, 0, 0],\n",
              "       ...,\n",
              "       [5, 0, 0, ..., 0, 0, 0],\n",
              "       [0, 0, 0, ..., 0, 0, 0],\n",
              "       [0, 5, 0, ..., 0, 0, 0]])"
            ]
          },
          "metadata": {
            "tags": []
          },
          "execution_count": 36
        }
      ]
    },
    {
      "cell_type": "code",
      "metadata": {
        "colab": {
          "base_uri": "https://localhost:8080/"
        },
        "id": "he7q1YNyaod-",
        "outputId": "dfc67e90-6c65-42aa-c71e-90dac176e36a"
      },
      "source": [
        "my_id, my_vector = 0, adj_matrix[0]\n",
        "best_match, best_match_id, best_match_vector = 9999, -1, []\n",
        "\n",
        "for user_id, user_vector in enumerate(adj_matrix):\n",
        "    if my_id != user_id:\n",
        "        euclidean_dist = np.sqrt(np.sum(np.square(my_vector - user_vector)))\n",
        "        if euclidean_dist < best_match:\n",
        "            best_match = euclidean_dist\n",
        "            best_match_id = user_id\n",
        "            best_match_vector = user_vector\n",
        "\n",
        "print('Best match : {}, Best match ID : {}'.format(best_match, best_match_id))\n",
        "print(my_vector)\n",
        "print(best_match_vector)"
      ],
      "execution_count": null,
      "outputs": [
        {
          "output_type": "stream",
          "text": [
            "Best match : 55.06359959174482, Best match ID : 737\n",
            "[5 3 4 ... 0 0 0]\n",
            "[5 3 0 ... 0 0 0]\n"
          ],
          "name": "stdout"
        }
      ]
    },
    {
      "cell_type": "code",
      "metadata": {
        "colab": {
          "base_uri": "https://localhost:8080/"
        },
        "id": "49k7arREa5Pp",
        "outputId": "29e917df-faaa-4dcd-8a78-a6700ea151df"
      },
      "source": [
        "my_id, my_vector = 0, adj_matrix[0]\n",
        "best_match, best_match_id, best_match_vector = -1, -1, []\n",
        "\n",
        "for user_id, user_vector in enumerate(adj_matrix):\n",
        "    if my_id != user_id:\n",
        "        cos_similarity = compute_cos_similarity(my_vector, user_vector)\n",
        "        if cos_similarity > best_match:\n",
        "            best_match = cos_similarity\n",
        "            best_match_id = user_id\n",
        "            best_match_vector = user_vector\n",
        "\n",
        "print('Best match : {}, Best match ID : {}'.format(best_match, best_match_id))\n",
        "print(my_vector)\n",
        "print(best_match_vector)"
      ],
      "execution_count": null,
      "outputs": [
        {
          "output_type": "stream",
          "text": [
            "Best match : 0.569065731527988, Best match ID : 915\n",
            "[5 3 4 ... 0 0 0]\n",
            "[4 3 3 ... 0 0 3]\n"
          ],
          "name": "stdout"
        }
      ]
    },
    {
      "cell_type": "markdown",
      "metadata": {
        "id": "Bd_ChRnka_Oo"
      },
      "source": [
        "# 협업 필터링 (Collaborative Filtering)\n",
        "\n",
        "- 사용자와 항목의 유사성을 동시에 고려해 추천\n",
        "- 기존에 내 관심사가 아닌 항목이라도 추천 가능\n",
        "- 자동으로 임베딩 학습 가능\n",
        "- 협업 필터링은 다음과 같은 장단점을 갖고 있다\n",
        " - 장점\n",
        "   - 자동으로 임베딩을 학습하기 떄문에 도메인 지식이 필요 없다\n",
        "   - 기존의 관심사가 아니더라도 추천 가능\n",
        " - 단점\n",
        "   - 학습 과정에 나오지 않은 항목은 임베딩을 만들 수 없음\n",
        "   - 추가 특성을 사용하기 어려움"
      ]
    },
    {
      "cell_type": "code",
      "metadata": {
        "id": "7TEexA0bb7ie"
      },
      "source": [
        "from surprise import KNNBasic, SVD, SVDpp, NMF\n",
        "from surprise import Dataset\n",
        "from surprise.model_selection import cross_validate"
      ],
      "execution_count": null,
      "outputs": []
    },
    {
      "cell_type": "code",
      "metadata": {
        "id": "KehuGNzFcPnv"
      },
      "source": [
        "data = Dataset.load_builtin('ml-100k', prompt=False)"
      ],
      "execution_count": null,
      "outputs": []
    },
    {
      "cell_type": "markdown",
      "metadata": {
        "id": "IDHB4sAxcg_w"
      },
      "source": [
        "KNN을 사용한 협업 필터링"
      ]
    },
    {
      "cell_type": "code",
      "metadata": {
        "colab": {
          "base_uri": "https://localhost:8080/"
        },
        "id": "pfvRlsrxcgCM",
        "outputId": "9c60aa2d-b5d8-405c-ca61-423da1f6768f"
      },
      "source": [
        "model = KNNBasic()\n",
        "cross_validate(model, data, measures=['rmse', 'mae'], cv=5, n_jobs=4, verbose=True)"
      ],
      "execution_count": null,
      "outputs": [
        {
          "output_type": "stream",
          "text": [
            "Evaluating RMSE, MAE of algorithm KNNBasic on 5 split(s).\n",
            "\n",
            "                  Fold 1  Fold 2  Fold 3  Fold 4  Fold 5  Mean    Std     \n",
            "RMSE (testset)    0.9719  0.9884  0.9780  0.9722  0.9830  0.9787  0.0064  \n",
            "MAE (testset)     0.7679  0.7808  0.7733  0.7655  0.7758  0.7726  0.0055  \n",
            "Fit time          0.47    0.81    0.76    0.81    0.76    0.72    0.13    \n",
            "Test time         6.62    8.70    8.76    6.70    4.16    6.99    1.69    \n"
          ],
          "name": "stdout"
        },
        {
          "output_type": "execute_result",
          "data": {
            "text/plain": [
              "{'fit_time': (0.4690413475036621,\n",
              "  0.8095924854278564,\n",
              "  0.760784387588501,\n",
              "  0.8113086223602295,\n",
              "  0.7573864459991455),\n",
              " 'test_mae': array([0.76787604, 0.78076494, 0.77334727, 0.76548065, 0.77576048]),\n",
              " 'test_rmse': array([0.97190408, 0.98844527, 0.97803672, 0.97215301, 0.98295264]),\n",
              " 'test_time': (6.616807460784912,\n",
              "  8.697667598724365,\n",
              "  8.756500720977783,\n",
              "  6.704306602478027,\n",
              "  4.155568599700928)}"
            ]
          },
          "metadata": {
            "tags": []
          },
          "execution_count": 43
        }
      ]
    },
    {
      "cell_type": "code",
      "metadata": {
        "colab": {
          "base_uri": "https://localhost:8080/"
        },
        "id": "5F5ScbADc1jh",
        "outputId": "2041de74-b0dd-4133-bb54-0e2cbb45e521"
      },
      "source": [
        "model = SVD()\n",
        "cross_validate(model, data, measures=['rmse', 'mae'], cv=5, n_jobs=4, verbose=True)"
      ],
      "execution_count": null,
      "outputs": [
        {
          "output_type": "stream",
          "text": [
            "Evaluating RMSE, MAE of algorithm SVD on 5 split(s).\n",
            "\n",
            "                  Fold 1  Fold 2  Fold 3  Fold 4  Fold 5  Mean    Std     \n",
            "RMSE (testset)    0.9448  0.9340  0.9332  0.9383  0.9319  0.9365  0.0047  \n",
            "MAE (testset)     0.7458  0.7369  0.7336  0.7415  0.7355  0.7386  0.0044  \n",
            "Fit time          11.76   14.89   15.22   12.76   8.64    12.65   2.39    \n",
            "Test time         0.61    0.36    0.43    0.27    0.16    0.37    0.15    \n"
          ],
          "name": "stdout"
        },
        {
          "output_type": "execute_result",
          "data": {
            "text/plain": [
              "{'fit_time': (11.760620832443237,\n",
              "  14.885550498962402,\n",
              "  15.21551775932312,\n",
              "  12.76208233833313,\n",
              "  8.640636444091797),\n",
              " 'test_mae': array([0.74575078, 0.7369383 , 0.73360762, 0.74146645, 0.73548639]),\n",
              " 'test_rmse': array([0.94484045, 0.93403995, 0.93320115, 0.9383067 , 0.93193526]),\n",
              " 'test_time': (0.605496883392334,\n",
              "  0.35897374153137207,\n",
              "  0.43065762519836426,\n",
              "  0.27004480361938477,\n",
              "  0.1643235683441162)}"
            ]
          },
          "metadata": {
            "tags": []
          },
          "execution_count": 44
        }
      ]
    },
    {
      "cell_type": "markdown",
      "metadata": {
        "id": "dH3XxpnndZ70"
      },
      "source": [
        ""
      ]
    },
    {
      "cell_type": "code",
      "metadata": {
        "colab": {
          "base_uri": "https://localhost:8080/"
        },
        "id": "y8e5lNZvdNef",
        "outputId": "328cae8c-56a8-4c2e-a8a7-9835e0670bbf"
      },
      "source": [
        "model = NMF()\n",
        "cross_validate(model, data, measures=['rmse', 'mae'], cv=5, n_jobs=4, verbose=True)"
      ],
      "execution_count": null,
      "outputs": [
        {
          "output_type": "stream",
          "text": [
            "Evaluating RMSE, MAE of algorithm NMF on 5 split(s).\n",
            "\n",
            "                  Fold 1  Fold 2  Fold 3  Fold 4  Fold 5  Mean    Std     \n",
            "RMSE (testset)    0.9682  0.9579  0.9669  0.9623  0.9662  0.9643  0.0038  \n",
            "MAE (testset)     0.7610  0.7525  0.7628  0.7563  0.7594  0.7584  0.0037  \n",
            "Fit time          14.39   17.04   16.72   14.08   9.24    14.29   2.79    \n",
            "Test time         0.69    0.47    0.43    0.25    0.15    0.40    0.19    \n"
          ],
          "name": "stdout"
        },
        {
          "output_type": "execute_result",
          "data": {
            "text/plain": [
              "{'fit_time': (14.388464450836182,\n",
              "  17.035849809646606,\n",
              "  16.71802592277527,\n",
              "  14.079005479812622,\n",
              "  9.242494106292725),\n",
              " 'test_mae': array([0.76102052, 0.75247118, 0.76284841, 0.75632701, 0.75936513]),\n",
              " 'test_rmse': array([0.96816659, 0.95785551, 0.96690033, 0.96225934, 0.96619554]),\n",
              " 'test_time': (0.6906940937042236,\n",
              "  0.47449636459350586,\n",
              "  0.42613744735717773,\n",
              "  0.25169849395751953,\n",
              "  0.1514418125152588)}"
            ]
          },
          "metadata": {
            "tags": []
          },
          "execution_count": 45
        }
      ]
    },
    {
      "cell_type": "code",
      "metadata": {
        "colab": {
          "base_uri": "https://localhost:8080/"
        },
        "id": "gRqZzTcRdNH3",
        "outputId": "736536f2-9362-47ab-ac0d-86a44f6b2f78"
      },
      "source": [
        "model = SVDpp()\n",
        "cross_validate(model, data, measures=['rmse', 'mae'], cv=5, n_jobs=4, verbose=True)"
      ],
      "execution_count": null,
      "outputs": [
        {
          "output_type": "stream",
          "text": [
            "Evaluating RMSE, MAE of algorithm SVDpp on 5 split(s).\n",
            "\n",
            "                  Fold 1  Fold 2  Fold 3  Fold 4  Fold 5  Mean    Std     \n",
            "RMSE (testset)    0.9214  0.9176  0.9182  0.9219  0.9183  0.9195  0.0018  \n",
            "MAE (testset)     0.7194  0.7171  0.7208  0.7255  0.7213  0.7208  0.0028  \n",
            "Fit time          676.42  676.33  666.78  675.51  170.17  573.04  201.47  \n",
            "Test time         12.77   12.05   12.16   6.90    3.20    9.42    3.76    \n"
          ],
          "name": "stdout"
        },
        {
          "output_type": "execute_result",
          "data": {
            "text/plain": [
              "{'fit_time': (676.4161787033081,\n",
              "  676.3269464969635,\n",
              "  666.7840266227722,\n",
              "  675.5080344676971,\n",
              "  170.17452549934387),\n",
              " 'test_mae': array([0.71941384, 0.71706722, 0.72084548, 0.72551692, 0.72130241]),\n",
              " 'test_rmse': array([0.92142586, 0.91760615, 0.91816809, 0.92187449, 0.91826335]),\n",
              " 'test_time': (12.76694107055664,\n",
              "  12.049471378326416,\n",
              "  12.157771348953247,\n",
              "  6.902799129486084,\n",
              "  3.199129104614258)}"
            ]
          },
          "metadata": {
            "tags": []
          },
          "execution_count": 47
        }
      ]
    },
    {
      "cell_type": "markdown",
      "metadata": {
        "id": "spG7Wzb5eJnb"
      },
      "source": [
        "# 하이브리드 (Hybrid)\n",
        "\n",
        "- 컨텐츠 기반 필터링과 협업 필터링을 조합한 방식\n",
        "- 많은 하이브리드 방식이 존재\n",
        "- 실습에서는 협업 필터링으로 임베딩을 학습하고 컨텐츠 기반 필터링으로 유사도 기반 추천을 수행하는 추천 엔진 개발"
      ]
    },
    {
      "cell_type": "code",
      "metadata": {
        "id": "jLEBZBfida9L"
      },
      "source": [
        "import numpy as np\n",
        "from sklearn.decomposition import randomized_svd, non_negative_factorization\n",
        "from surprise import Dataset"
      ],
      "execution_count": 4,
      "outputs": []
    },
    {
      "cell_type": "code",
      "metadata": {
        "colab": {
          "base_uri": "https://localhost:8080/"
        },
        "id": "eIcMjpnefE94",
        "outputId": "f95249e8-6d96-45bd-bca5-548399dfebb5"
      },
      "source": [
        "data = Dataset.load_builtin('ml-100k', prompt=False)\n",
        "raw_data = np.array(data.raw_ratings, dtype=int)\n",
        "\n",
        "raw_data[:, 0] -= 1\n",
        "raw_data[:, 1] -= 1\n",
        "\n",
        "n_users = np.max(raw_data[:, 0])\n",
        "n_movies = np.max(raw_data[:, 1])\n",
        "shape = (n_users + 1, n_movies + 1)\n",
        "print(shape)\n",
        "\n",
        "adj_matrix = np.ndarray(shape, dtype=int)\n",
        "for user_id, movie_id, rating, time in raw_data:\n",
        "    adj_matrix[user_id][movie_id] = rating\n",
        "adj_matrix"
      ],
      "execution_count": 5,
      "outputs": [
        {
          "output_type": "stream",
          "text": [
            "Trying to download dataset from http://files.grouplens.org/datasets/movielens/ml-100k.zip...\n",
            "Done! Dataset ml-100k has been saved to /root/.surprise_data/ml-100k\n",
            "(943, 1682)\n"
          ],
          "name": "stdout"
        },
        {
          "output_type": "execute_result",
          "data": {
            "text/plain": [
              "array([[5, 3, 4, ..., 0, 0, 0],\n",
              "       [4, 0, 0, ..., 0, 0, 0],\n",
              "       [0, 0, 0, ..., 0, 0, 0],\n",
              "       ...,\n",
              "       [5, 0, 0, ..., 0, 0, 0],\n",
              "       [0, 0, 0, ..., 0, 0, 0],\n",
              "       [0, 5, 0, ..., 0, 0, 0]])"
            ]
          },
          "metadata": {
            "tags": []
          },
          "execution_count": 5
        }
      ]
    },
    {
      "cell_type": "code",
      "metadata": {
        "colab": {
          "base_uri": "https://localhost:8080/"
        },
        "id": "WNbFeBeYiBXG",
        "outputId": "34cca0df-6d02-4957-deb1-70ed1429e0ee"
      },
      "source": [
        "U, S, V = randomized_svd(adj_matrix, n_components=2) # 사용자, 특이값 벡터, 항목(아이템의 행렬)\n",
        "S = np.diag(S)\n",
        "\n",
        "print(U.shape)\n",
        "print(S.shape)\n",
        "print(V.shape, '\\n')\n",
        "print(U, '\\n')\n",
        "print(S, '\\n')\n",
        "print(V, '\\n')"
      ],
      "execution_count": 13,
      "outputs": [
        {
          "output_type": "stream",
          "text": [
            "(943, 2)\n",
            "(2, 2)\n",
            "(2, 1682) \n",
            "\n",
            "[[ 0.06580431  0.00597507]\n",
            " [ 0.01402104 -0.04662601]\n",
            " [ 0.00565798 -0.02561846]\n",
            " ...\n",
            " [ 0.00744452 -0.02502129]\n",
            " [ 0.02403119  0.0080961 ]\n",
            " [ 0.04224209 -0.01092715]] \n",
            "\n",
            "[[640.63362257   0.        ]\n",
            " [  0.         244.83634567]] \n",
            "\n",
            "[[ 9.59509371e-02  3.51795155e-02  1.99288117e-02 ...  3.03747116e-05\n",
            "   3.31055915e-04  3.16852950e-04]\n",
            " [-8.72398147e-02 -7.02507073e-03 -2.86182142e-02 ... -4.48134999e-04\n",
            "   1.05230265e-04  2.03150753e-04]] \n",
            "\n"
          ],
          "name": "stdout"
        }
      ]
    },
    {
      "cell_type": "code",
      "metadata": {
        "id": "dBeirM0hkdYq",
        "colab": {
          "base_uri": "https://localhost:8080/"
        },
        "outputId": "92b09185-ecab-4872-c927-8e2520235d8b"
      },
      "source": [
        "np.matmul(np.matmul(U, S), V) # 복원"
      ],
      "execution_count": 9,
      "outputs": [
        {
          "output_type": "execute_result",
          "data": {
            "text/plain": [
              "array([[ 3.91732663e+00,  1.47276644e+00,  7.98261988e-01, ...,\n",
              "         6.24907189e-04,  1.41100852e-02,  1.36545878e-02],\n",
              "       [ 1.85777226e+00,  3.96191175e-01,  5.05705740e-01, ...,\n",
              "         5.38862978e-03,  1.77237914e-03,  5.26968095e-04],\n",
              "       [ 8.94989517e-01,  1.71578497e-01,  2.51738682e-01, ...,\n",
              "         2.92094923e-03,  5.39937171e-04, -1.25733753e-04],\n",
              "       ...,\n",
              "       [ 9.92051955e-01,  2.10814957e-01,  2.70363365e-01, ...,\n",
              "         2.89019297e-03,  9.34221962e-04,  2.66612193e-04],\n",
              "       [ 1.30425401e+00,  5.27669941e-01,  2.50080165e-01, ...,\n",
              "        -4.20677765e-04,  5.30525683e-03,  5.28069948e-03],\n",
              "       [ 2.82999397e+00,  9.70812247e-01,  6.15871694e-01, ...,\n",
              "         2.02091492e-03,  8.67740813e-03,  8.03107892e-03]])"
            ]
          },
          "metadata": {
            "tags": []
          },
          "execution_count": 9
        }
      ]
    },
    {
      "cell_type": "markdown",
      "metadata": {
        "id": "UuJSM9NNZqcq"
      },
      "source": [
        "1. 사용자 기반 추천\n",
        "- 나와 비슷한 취향을 가진 다른 사용자들의 행동을 추천\n",
        "- 사용자 특징 벡터의 유사도 사용"
      ]
    },
    {
      "cell_type": "code",
      "metadata": {
        "id": "z8J74ckeZ4j5"
      },
      "source": [
        "def compute_cos_similarity(v1, v2):\n",
        "    norm1 = np.sqrt(np.sum(np.square(v1)))\n",
        "    norm2 = np.sqrt(np.sum(np.square(v2)))\n",
        "    dot = np.dot(v1, v2)\n",
        "    return dot / (norm1 * norm2)"
      ],
      "execution_count": 15,
      "outputs": []
    },
    {
      "cell_type": "code",
      "metadata": {
        "colab": {
          "base_uri": "https://localhost:8080/"
        },
        "id": "lr5gNEt0Z4j6",
        "outputId": "5b8a69a5-93d8-4057-88ca-923c2e52632e"
      },
      "source": [
        "my_id, my_vector = 0, U[0]\n",
        "best_match, best_match_id, best_match_vector = -1, -1, []\n",
        "\n",
        "for user_id, user_vector in enumerate(U):\n",
        "    if my_id != user_id:\n",
        "        cos_similarity = compute_cos_similarity(my_vector, user_vector)\n",
        "        if cos_similarity > best_match:\n",
        "            best_match = cos_similarity\n",
        "            best_match_id = user_id\n",
        "            best_match_vector = user_vector\n",
        "\n",
        "print('Best match : {}, Best match ID : {}'.format(best_match, best_match_id))\n",
        "print(my_vector)\n",
        "print(best_match_vector)"
      ],
      "execution_count": 17,
      "outputs": [
        {
          "output_type": "stream",
          "text": [
            "Best match : 0.9999942295956324, Best match ID : 235\n",
            "[0.06580431 0.00597507]\n",
            "[0.03467744 0.00326754]\n"
          ],
          "name": "stdout"
        }
      ]
    },
    {
      "cell_type": "code",
      "metadata": {
        "colab": {
          "base_uri": "https://localhost:8080/"
        },
        "id": "3Dh4ucKCZ4j6",
        "outputId": "2408e3f8-6087-4631-f778-5c2301310a73"
      },
      "source": [
        "recommend_list = []\n",
        "for i, log in enumerate(zip(adj_matrix[my_id], adj_matrix[best_match_id])):\n",
        "    log1, log2 = log\n",
        "    if log1 < 1. and log2 > 0.:\n",
        "        recommend_list.append(i)\n",
        "print(recommend_list)"
      ],
      "execution_count": 19,
      "outputs": [
        {
          "output_type": "stream",
          "text": [
            "[272, 273, 274, 281, 285, 288, 293, 297, 303, 306, 312, 317, 327, 332, 369, 410, 418, 419, 422, 426, 428, 431, 434, 442, 461, 475, 477, 482, 495, 503, 504, 505, 506, 509, 519, 520, 522, 525, 531, 545, 548, 590, 594, 595, 613, 631, 654, 658, 660, 672, 684, 685, 691, 695, 698, 704, 716, 728, 734, 749, 755, 863, 865, 933, 1012, 1038, 1101, 1327, 1400]\n"
          ],
          "name": "stdout"
        }
      ]
    },
    {
      "cell_type": "markdown",
      "metadata": {
        "id": "Mw4oEfD1bAYN"
      },
      "source": [
        "2. 항목 기반 추천\n",
        "- 내가 본 항목과 비슷한 항복을 추천\n",
        "- 항목 특징 벡터의 유사도 사용"
      ]
    },
    {
      "cell_type": "code",
      "metadata": {
        "colab": {
          "base_uri": "https://localhost:8080/"
        },
        "id": "2i0sJnlqx7fs",
        "outputId": "9ef16f8d-8bcc-4e83-d483-8cd4cb4a3dec"
      },
      "source": [
        "my_id, my_vector = 0, V.T[0] # V값은 곱으로 Decomposition 했기 때문\n",
        "best_match, best_match_id, best_match_vector = -1, -1, []\n",
        "\n",
        "for user_id, user_vector in enumerate(V.T):\n",
        "    if my_id != user_id:\n",
        "        cos_similarity = compute_cos_similarity(my_vector, user_vector)\n",
        "        if cos_similarity > best_match:\n",
        "            best_match = cos_similarity\n",
        "            best_match_id = user_id\n",
        "            best_match_vector = user_vector\n",
        "\n",
        "print('Best match : {}, Best match ID : {}'.format(best_match, best_match_id))\n",
        "print(my_vector)\n",
        "print(best_match_vector)"
      ],
      "execution_count": 29,
      "outputs": [
        {
          "output_type": "stream",
          "text": [
            "Best match : 0.9999999951364144, Best match ID : 1287\n",
            "[ 0.09595094 -0.08723981]\n",
            "[ 0.00193695 -0.00176145]\n"
          ],
          "name": "stdout"
        }
      ]
    },
    {
      "cell_type": "code",
      "metadata": {
        "colab": {
          "base_uri": "https://localhost:8080/"
        },
        "id": "-qR6vjKHbvTU",
        "outputId": "f9ee6718-c9f3-4d55-ee41-5c2a03e74b6d"
      },
      "source": [
        "recommend_list = []\n",
        "for i, user_vector in enumerate(adj_matrix):\n",
        "    if adj_matrix[i][my_id] > 0.9:\n",
        "        recommend_list.append(i)\n",
        "print(recommend_list)"
      ],
      "execution_count": 32,
      "outputs": [
        {
          "output_type": "stream",
          "text": [
            "[0, 1, 4, 5, 9, 12, 14, 15, 16, 17, 19, 20, 22, 24, 25, 37, 40, 41, 42, 43, 44, 48, 53, 55, 56, 57, 58, 61, 62, 63, 64, 65, 66, 69, 71, 72, 74, 76, 78, 80, 81, 82, 83, 88, 91, 92, 93, 94, 95, 96, 98, 100, 101, 105, 107, 108, 116, 119, 120, 123, 124, 127, 129, 130, 133, 136, 137, 140, 143, 144, 147, 149, 150, 156, 157, 159, 161, 167, 173, 176, 177, 180, 181, 183, 188, 192, 193, 197, 198, 199, 200, 201, 202, 203, 208, 209, 212, 215, 221, 222, 229, 230, 231, 233, 234, 241, 242, 243, 245, 246, 247, 248, 249, 250, 251, 252, 253, 255, 261, 262, 264, 267, 270, 273, 274, 275, 276, 278, 279, 285, 286, 288, 289, 290, 291, 292, 293, 294, 295, 296, 297, 298, 300, 302, 304, 306, 307, 310, 311, 312, 313, 319, 321, 323, 324, 325, 326, 329, 330, 331, 335, 337, 338, 339, 342, 343, 344, 346, 347, 349, 356, 358, 359, 362, 364, 370, 373, 377, 378, 379, 380, 386, 387, 388, 389, 392, 393, 394, 395, 397, 398, 400, 401, 402, 405, 406, 410, 411, 415, 416, 418, 421, 423, 424, 428, 431, 433, 434, 437, 440, 444, 446, 449, 453, 454, 455, 456, 457, 458, 459, 462, 464, 466, 467, 469, 470, 471, 477, 478, 482, 483, 485, 486, 487, 489, 492, 493, 494, 496, 499, 502, 504, 507, 511, 513, 516, 517, 520, 522, 524, 525, 531, 532, 533, 534, 535, 536, 539, 540, 541, 544, 547, 548, 549, 551, 552, 553, 559, 560, 561, 566, 568, 575, 576, 578, 579, 581, 587, 591, 592, 596, 598, 601, 604, 605, 608, 609, 611, 612, 613, 617, 619, 620, 621, 623, 629, 631, 633, 634, 635, 636, 641, 642, 647, 648, 649, 652, 653, 654, 656, 657, 659, 660, 662, 663, 664, 668, 673, 675, 676, 677, 678, 679, 681, 683, 688, 689, 690, 691, 696, 697, 698, 700, 702, 704, 705, 707, 708, 709, 713, 714, 715, 720, 722, 725, 726, 729, 730, 732, 734, 737, 741, 743, 744, 745, 746, 747, 748, 750, 755, 756, 758, 760, 762, 763, 766, 767, 768, 769, 770, 772, 776, 778, 784, 785, 787, 788, 789, 791, 792, 793, 794, 795, 797, 799, 803, 804, 805, 806, 814, 816, 820, 821, 822, 825, 828, 829, 830, 834, 837, 838, 842, 846, 851, 853, 863, 864, 866, 867, 869, 871, 878, 879, 880, 881, 882, 884, 885, 886, 888, 889, 891, 892, 893, 894, 895, 896, 898, 900, 901, 902, 906, 909, 912, 915, 916, 917, 918, 920, 921, 922, 923, 926, 928, 929, 931, 932, 933, 934, 935, 937, 940]\n"
          ],
          "name": "stdout"
        }
      ]
    },
    {
      "cell_type": "markdown",
      "metadata": {
        "id": "00XTAkWEe69E"
      },
      "source": [
        "- 비 음수 행렬 분해를 사용한 하이브리드 추천"
      ]
    },
    {
      "cell_type": "code",
      "metadata": {
        "colab": {
          "base_uri": "https://localhost:8080/"
        },
        "id": "jZsx8RoUcFAt",
        "outputId": "61a9d1a5-fa9c-48f7-c561-1b3bbe893785"
      },
      "source": [
        "adj_matrix"
      ],
      "execution_count": 33,
      "outputs": [
        {
          "output_type": "execute_result",
          "data": {
            "text/plain": [
              "array([[5, 3, 4, ..., 0, 0, 0],\n",
              "       [4, 0, 0, ..., 0, 0, 0],\n",
              "       [0, 0, 0, ..., 0, 0, 0],\n",
              "       ...,\n",
              "       [5, 0, 0, ..., 0, 0, 0],\n",
              "       [0, 0, 0, ..., 0, 0, 0],\n",
              "       [0, 5, 0, ..., 0, 0, 0]])"
            ]
          },
          "metadata": {
            "tags": []
          },
          "execution_count": 33
        }
      ]
    },
    {
      "cell_type": "code",
      "metadata": {
        "colab": {
          "base_uri": "https://localhost:8080/"
        },
        "id": "5Cj5EnFefJ5P",
        "outputId": "593ac339-4bda-461c-fc24-0f8ef17b6607"
      },
      "source": [
        "A, B, iter = non_negative_factorization(adj_matrix, n_components=2)\n",
        "\n",
        "np.matmul(A, B)"
      ],
      "execution_count": 34,
      "outputs": [
        {
          "output_type": "stream",
          "text": [
            "/usr/local/lib/python3.7/dist-packages/sklearn/decomposition/_nmf.py:1035: FutureWarning: The default value of init will change from random to None in 0.23 to make it consistent with decomposition.NMF.\n",
            "  \"with decomposition.NMF.\", FutureWarning)\n"
          ],
          "name": "stderr"
        },
        {
          "output_type": "execute_result",
          "data": {
            "text/plain": [
              "array([[3.71103931e+00, 1.48480986e+00, 7.39556918e-01, ...,\n",
              "        3.64529861e-03, 1.45531613e-02, 1.44129285e-02],\n",
              "       [2.11742679e+00, 2.36669558e-01, 5.51605522e-01, ...,\n",
              "        4.76780705e-03, 2.37805973e-05, 0.00000000e+00],\n",
              "       [9.85455002e-01, 1.10146524e-01, 2.56718402e-01, ...,\n",
              "        2.21894770e-03, 1.10675414e-05, 0.00000000e+00],\n",
              "       ...,\n",
              "       [1.04460235e+00, 1.16757556e-01, 2.72126728e-01, ...,\n",
              "        2.35212970e-03, 1.17318190e-05, 0.00000000e+00],\n",
              "       [1.45795166e+00, 5.42097365e-01, 2.99304935e-01, ...,\n",
              "        1.61367845e-03, 5.15821593e-03, 5.10692111e-03],\n",
              "       [2.44652929e+00, 9.41451647e-01, 4.95503558e-01, ...,\n",
              "        2.56793344e-03, 9.08679105e-03, 8.99778817e-03]])"
            ]
          },
          "metadata": {
            "tags": []
          },
          "execution_count": 34
        }
      ]
    },
    {
      "cell_type": "markdown",
      "metadata": {
        "id": "X-0btRxTfX-g"
      },
      "source": [
        "1. 사용자 기반 추천"
      ]
    },
    {
      "cell_type": "code",
      "metadata": {
        "id": "zFk2ktzeffRA"
      },
      "source": [
        "def compute_cos_similarity(v1, v2):\n",
        "    norm1 = np.sqrt(np.sum(np.square(v1)))\n",
        "    norm2 = np.sqrt(np.sum(np.square(v2)))\n",
        "    dot = np.dot(v1, v2)\n",
        "    return dot / (norm1 * norm2)"
      ],
      "execution_count": 35,
      "outputs": []
    },
    {
      "cell_type": "code",
      "metadata": {
        "colab": {
          "base_uri": "https://localhost:8080/"
        },
        "id": "5jT3LXLFffRB",
        "outputId": "cf0ff9ed-1b7d-4d4c-92d8-a0e7abd966ef"
      },
      "source": [
        "my_id, my_vector = 0, U[0]\n",
        "best_match, best_match_id, best_match_vector = -1, -1, []\n",
        "\n",
        "for user_id, user_vector in enumerate(U):\n",
        "    if my_id != user_id:\n",
        "        cos_similarity = compute_cos_similarity(my_vector, user_vector)\n",
        "        if cos_similarity > best_match:\n",
        "            best_match = cos_similarity\n",
        "            best_match_id = user_id\n",
        "            best_match_vector = user_vector\n",
        "\n",
        "print('Best match : {}, Best match ID : {}'.format(best_match, best_match_id))\n",
        "print(my_vector)\n",
        "print(best_match_vector)"
      ],
      "execution_count": 36,
      "outputs": [
        {
          "output_type": "stream",
          "text": [
            "Best match : 0.9999942295956324, Best match ID : 235\n",
            "[0.06580431 0.00597507]\n",
            "[0.03467744 0.00326754]\n"
          ],
          "name": "stdout"
        }
      ]
    },
    {
      "cell_type": "code",
      "metadata": {
        "colab": {
          "base_uri": "https://localhost:8080/"
        },
        "id": "jXLAnb0lffRD",
        "outputId": "422b4a8d-daac-4d3e-eacd-4975e1e07010"
      },
      "source": [
        "recommend_list = []\n",
        "for i, log in enumerate(zip(adj_matrix[my_id], adj_matrix[best_match_id])):\n",
        "    log1, log2 = log\n",
        "    if log1 < 1. and log2 > 0.:\n",
        "        recommend_list.append(i)\n",
        "print(recommend_list)"
      ],
      "execution_count": 37,
      "outputs": [
        {
          "output_type": "stream",
          "text": [
            "[272, 273, 274, 281, 285, 288, 293, 297, 303, 306, 312, 317, 327, 332, 369, 410, 418, 419, 422, 426, 428, 431, 434, 442, 461, 475, 477, 482, 495, 503, 504, 505, 506, 509, 519, 520, 522, 525, 531, 545, 548, 590, 594, 595, 613, 631, 654, 658, 660, 672, 684, 685, 691, 695, 698, 704, 716, 728, 734, 749, 755, 863, 865, 933, 1012, 1038, 1101, 1327, 1400]\n"
          ],
          "name": "stdout"
        }
      ]
    },
    {
      "cell_type": "markdown",
      "metadata": {
        "id": "2CcIXV9nfy09"
      },
      "source": [
        "2. 항목 기반 추천"
      ]
    },
    {
      "cell_type": "code",
      "metadata": {
        "colab": {
          "base_uri": "https://localhost:8080/"
        },
        "id": "iBbFw-_egiyd",
        "outputId": "d26d5c63-8681-4090-f35e-03db048649ea"
      },
      "source": [
        "my_id, my_vector = 0, V.T[0] # V값은 곱으로 Decomposition 했기 때문\n",
        "best_match, best_match_id, best_match_vector = -1, -1, []\n",
        "\n",
        "for user_id, user_vector in enumerate(V.T):\n",
        "    if my_id != user_id:\n",
        "        cos_similarity = compute_cos_similarity(my_vector, user_vector)\n",
        "        if cos_similarity > best_match:\n",
        "            best_match = cos_similarity\n",
        "            best_match_id = user_id\n",
        "            best_match_vector = user_vector\n",
        "\n",
        "print('Best match : {}, Best match ID : {}'.format(best_match, best_match_id))\n",
        "print(my_vector)\n",
        "print(best_match_vector)"
      ],
      "execution_count": 38,
      "outputs": [
        {
          "output_type": "stream",
          "text": [
            "Best match : 0.9999999951364144, Best match ID : 1287\n",
            "[ 0.09595094 -0.08723981]\n",
            "[ 0.00193695 -0.00176145]\n"
          ],
          "name": "stdout"
        }
      ]
    },
    {
      "cell_type": "code",
      "metadata": {
        "colab": {
          "base_uri": "https://localhost:8080/"
        },
        "id": "6rrlab40giye",
        "outputId": "a4416a2d-e92e-4996-df40-c9690ea5b947"
      },
      "source": [
        "recommend_list = []\n",
        "for i, user_vector in enumerate(adj_matrix):\n",
        "    if adj_matrix[i][my_id] > 0.9:\n",
        "        recommend_list.append(i)\n",
        "print(recommend_list)"
      ],
      "execution_count": 39,
      "outputs": [
        {
          "output_type": "stream",
          "text": [
            "[0, 1, 4, 5, 9, 12, 14, 15, 16, 17, 19, 20, 22, 24, 25, 37, 40, 41, 42, 43, 44, 48, 53, 55, 56, 57, 58, 61, 62, 63, 64, 65, 66, 69, 71, 72, 74, 76, 78, 80, 81, 82, 83, 88, 91, 92, 93, 94, 95, 96, 98, 100, 101, 105, 107, 108, 116, 119, 120, 123, 124, 127, 129, 130, 133, 136, 137, 140, 143, 144, 147, 149, 150, 156, 157, 159, 161, 167, 173, 176, 177, 180, 181, 183, 188, 192, 193, 197, 198, 199, 200, 201, 202, 203, 208, 209, 212, 215, 221, 222, 229, 230, 231, 233, 234, 241, 242, 243, 245, 246, 247, 248, 249, 250, 251, 252, 253, 255, 261, 262, 264, 267, 270, 273, 274, 275, 276, 278, 279, 285, 286, 288, 289, 290, 291, 292, 293, 294, 295, 296, 297, 298, 300, 302, 304, 306, 307, 310, 311, 312, 313, 319, 321, 323, 324, 325, 326, 329, 330, 331, 335, 337, 338, 339, 342, 343, 344, 346, 347, 349, 356, 358, 359, 362, 364, 370, 373, 377, 378, 379, 380, 386, 387, 388, 389, 392, 393, 394, 395, 397, 398, 400, 401, 402, 405, 406, 410, 411, 415, 416, 418, 421, 423, 424, 428, 431, 433, 434, 437, 440, 444, 446, 449, 453, 454, 455, 456, 457, 458, 459, 462, 464, 466, 467, 469, 470, 471, 477, 478, 482, 483, 485, 486, 487, 489, 492, 493, 494, 496, 499, 502, 504, 507, 511, 513, 516, 517, 520, 522, 524, 525, 531, 532, 533, 534, 535, 536, 539, 540, 541, 544, 547, 548, 549, 551, 552, 553, 559, 560, 561, 566, 568, 575, 576, 578, 579, 581, 587, 591, 592, 596, 598, 601, 604, 605, 608, 609, 611, 612, 613, 617, 619, 620, 621, 623, 629, 631, 633, 634, 635, 636, 641, 642, 647, 648, 649, 652, 653, 654, 656, 657, 659, 660, 662, 663, 664, 668, 673, 675, 676, 677, 678, 679, 681, 683, 688, 689, 690, 691, 696, 697, 698, 700, 702, 704, 705, 707, 708, 709, 713, 714, 715, 720, 722, 725, 726, 729, 730, 732, 734, 737, 741, 743, 744, 745, 746, 747, 748, 750, 755, 756, 758, 760, 762, 763, 766, 767, 768, 769, 770, 772, 776, 778, 784, 785, 787, 788, 789, 791, 792, 793, 794, 795, 797, 799, 803, 804, 805, 806, 814, 816, 820, 821, 822, 825, 828, 829, 830, 834, 837, 838, 842, 846, 851, 853, 863, 864, 866, 867, 869, 871, 878, 879, 880, 881, 882, 884, 885, 886, 888, 889, 891, 892, 893, 894, 895, 896, 898, 900, 901, 902, 906, 909, 912, 915, 916, 917, 918, 920, 921, 922, 923, 926, 928, 929, 931, 932, 933, 934, 935, 937, 940]\n"
          ],
          "name": "stdout"
        }
      ]
    },
    {
      "cell_type": "code",
      "metadata": {
        "id": "P3Dsc4C0fWEl"
      },
      "source": [
        ""
      ],
      "execution_count": null,
      "outputs": []
    }
  ]
}