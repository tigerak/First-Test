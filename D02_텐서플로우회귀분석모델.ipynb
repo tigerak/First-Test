{
  "nbformat": 4,
  "nbformat_minor": 0,
  "metadata": {
    "colab": {
      "name": "D02_텐서플로우회귀분석모델.ipynb",
      "provenance": [],
      "authorship_tag": "ABX9TyOLf4IyiZJjq/D+TG/QMGm0",
      "include_colab_link": true
    },
    "kernelspec": {
      "name": "python3",
      "display_name": "Python 3"
    },
    "language_info": {
      "name": "python"
    }
  },
  "cells": [
    {
      "cell_type": "markdown",
      "metadata": {
        "id": "view-in-github",
        "colab_type": "text"
      },
      "source": [
        "<a href=\"https://colab.research.google.com/github/tigerak/1st_practice/blob/main/D02_%ED%85%90%EC%84%9C%ED%94%8C%EB%A1%9C%EC%9A%B0%ED%9A%8C%EA%B7%80%EB%B6%84%EC%84%9D%EB%AA%A8%EB%8D%B8.ipynb\" target=\"_parent\"><img src=\"https://colab.research.google.com/assets/colab-badge.svg\" alt=\"Open In Colab\"/></a>"
      ]
    },
    {
      "cell_type": "markdown",
      "metadata": {
        "id": "2GH11pTErCAz"
      },
      "source": [
        "# 텐서플로우 회귀 분석 모델"
      ]
    },
    {
      "cell_type": "markdown",
      "metadata": {
        "id": "yvq9X_CLrLBs"
      },
      "source": [
        "# 선형 회귀"
      ]
    },
    {
      "cell_type": "code",
      "metadata": {
        "id": "ejMRtx-PowL2"
      },
      "source": [
        "import numpy as np\n",
        "import tensorflow as tf\n",
        "import matplotlib.pyplot as plt\n"
      ],
      "execution_count": 21,
      "outputs": []
    },
    {
      "cell_type": "code",
      "metadata": {
        "id": "iJ2Z_Nmercdm"
      },
      "source": [
        "learning_rate = 0.01\n",
        "training_steps = 1000"
      ],
      "execution_count": 22,
      "outputs": []
    },
    {
      "cell_type": "code",
      "metadata": {
        "id": "jxmZ9KpsrxBq"
      },
      "source": [
        "X = np.random.randn(50)\n",
        "Y = 2 * X + np.random.randn(50)"
      ],
      "execution_count": 23,
      "outputs": []
    },
    {
      "cell_type": "code",
      "metadata": {
        "id": "EGm7-vMbsCDL"
      },
      "source": [
        "W = tf.Variable(np.random.randn(), name='weight')\n",
        "b = tf.Variable(np.random.randn(), name='bias')\n",
        "\n",
        "def linear_regression(x):\n",
        "    return W * x + b\n",
        "\n",
        "def mean_square(y_pred, y_true):\n",
        "    return tf.reduce_mean(tf.square(y_pred - y_true))\n",
        "\n",
        "optimizer = tf.optimizers.SGD(learning_rate)"
      ],
      "execution_count": 24,
      "outputs": []
    },
    {
      "cell_type": "code",
      "metadata": {
        "id": "acaR73Fcs798"
      },
      "source": [
        "def run_optimization():\n",
        "    with tf.GradientTape() as tape:\n",
        "        pred = linear_regression(X)\n",
        "        loss = mean_square(pred, Y)\n",
        "\n",
        "    gradients = tape.gradient(loss, [W, b])\n",
        "\n",
        "    optimizer.apply_gradients(zip(gradients, [W, b]))"
      ],
      "execution_count": 27,
      "outputs": []
    },
    {
      "cell_type": "code",
      "metadata": {
        "colab": {
          "base_uri": "https://localhost:8080/"
        },
        "id": "B2a4_bS_vbU4",
        "outputId": "ccf84f7c-945b-4a9d-c1f1-029f19e27af6"
      },
      "source": [
        "for step in range(1, training_steps + 1):\n",
        "    run_optimization()\n",
        "\n",
        "    if step % 50 == 0:\n",
        "        pred = linear_regression(X)\n",
        "        loss = mean_square(pred, Y)\n",
        "        print('step : {:4d}\\tloss : {:.4f}\\tW : {:.4f}\\tb : {:.4f}'.format(step, loss, W.numpy(), b.numpy()))"
      ],
      "execution_count": 29,
      "outputs": [
        {
          "output_type": "stream",
          "text": [
            "step :   50\tloss : 1.1052\tW : 1.7513\tb : 0.0318\n",
            "step :  100\tloss : 1.0145\tW : 1.9496\tb : 0.0936\n",
            "step :  150\tloss : 0.9973\tW : 2.0319\tb : 0.1311\n",
            "step :  200\tloss : 0.9939\tW : 2.0670\tb : 0.1511\n",
            "step :  250\tloss : 0.9932\tW : 2.0822\tb : 0.1611\n",
            "step :  300\tloss : 0.9931\tW : 2.0890\tb : 0.1659\n",
            "step :  350\tloss : 0.9930\tW : 2.0919\tb : 0.1682\n",
            "step :  400\tloss : 0.9930\tW : 2.0933\tb : 0.1693\n",
            "step :  450\tloss : 0.9930\tW : 2.0939\tb : 0.1698\n",
            "step :  500\tloss : 0.9930\tW : 2.0942\tb : 0.1700\n",
            "step :  550\tloss : 0.9930\tW : 2.0943\tb : 0.1701\n",
            "step :  600\tloss : 0.9930\tW : 2.0944\tb : 0.1701\n",
            "step :  650\tloss : 0.9930\tW : 2.0944\tb : 0.1702\n",
            "step :  700\tloss : 0.9930\tW : 2.0944\tb : 0.1702\n",
            "step :  750\tloss : 0.9930\tW : 2.0944\tb : 0.1702\n",
            "step :  800\tloss : 0.9930\tW : 2.0944\tb : 0.1702\n",
            "step :  850\tloss : 0.9930\tW : 2.0944\tb : 0.1702\n",
            "step :  900\tloss : 0.9930\tW : 2.0944\tb : 0.1702\n",
            "step :  950\tloss : 0.9930\tW : 2.0944\tb : 0.1702\n",
            "step : 1000\tloss : 0.9930\tW : 2.0944\tb : 0.1702\n"
          ],
          "name": "stdout"
        }
      ]
    },
    {
      "cell_type": "code",
      "metadata": {
        "colab": {
          "base_uri": "https://localhost:8080/",
          "height": 282
        },
        "id": "Od0uJD97Fo-k",
        "outputId": "2949f203-5701-420a-8b71-cebb5cea2f9b"
      },
      "source": [
        "plt.plot(X, Y, 'ro', label='Data')\n",
        "plt.plot(X, np.array(W * X + b), label='Fitting Line')"
      ],
      "execution_count": 30,
      "outputs": [
        {
          "output_type": "execute_result",
          "data": {
            "text/plain": [
              "[<matplotlib.lines.Line2D at 0x7f2719daad50>]"
            ]
          },
          "metadata": {
            "tags": []
          },
          "execution_count": 30
        },
        {
          "output_type": "display_data",
          "data": {
            "image/png": "[encoded data removed]",
            "text/plain": [
              "<Figure size 432x288 with 1 Axes>"
            ]
          },
          "metadata": {
            "tags": [],
            "needs_background": "light"
          }
        }
      ]
    },
    {
      "cell_type": "markdown",
      "metadata": {
        "id": "SznzyItaIfrn"
      },
      "source": [
        "# 다항 회귀 (Non-linear Regression)"
      ]
    },
    {
      "cell_type": "code",
      "metadata": {
        "id": "Hc6GzLqgIXcj"
      },
      "source": [
        "from tensorflow.keras.optimizers import Adam"
      ],
      "execution_count": 80,
      "outputs": []
    },
    {
      "cell_type": "code",
      "metadata": {
        "id": "roT8MUE3I49J"
      },
      "source": [
        "epochs = 1000\n",
        "learning_rate = 0.04"
      ],
      "execution_count": 81,
      "outputs": []
    },
    {
      "cell_type": "code",
      "metadata": {
        "id": "wWZbhu4WI9Ga"
      },
      "source": [
        "a = tf.Variable(np.random.randn())\n",
        "b = tf.Variable(np.random.randn())\n",
        "c = tf.Variable(np.random.randn())"
      ],
      "execution_count": 124,
      "outputs": []
    },
    {
      "cell_type": "code",
      "metadata": {
        "id": "zEaZdFpqJK1z"
      },
      "source": [
        "X = np.random.randn(50)\n",
        "Y = X**2 + X*np.random.randn(50)"
      ],
      "execution_count": 125,
      "outputs": []
    },
    {
      "cell_type": "code",
      "metadata": {
        "colab": {
          "base_uri": "https://localhost:8080/",
          "height": 264
        },
        "id": "DjC9hqboJm30",
        "outputId": "9a92d03c-de8b-4dbc-f29e-0045b3f440c2"
      },
      "source": [
        "line_x = np.arange(min(X), max(X), 0.001)\n",
        "line_y = a*line_x**2 + b*line_x + c\n",
        "\n",
        "x_ = np.arange(-4., 4., 0.001)\n",
        "y_ = a*x_**2 + b*x_ + c\n",
        "\n",
        "plt.scatter(X, Y, label='X data')\n",
        "plt.plot(x_, y_, 'g--', label='origin line')\n",
        "plt.plot(line_x, line_y, 'r--', label='before trin')\n",
        "plt.xlim(-4., 4.)\n",
        "plt.legend();"
      ],
      "execution_count": 126,
      "outputs": [
        {
          "output_type": "display_data",
          "data": {
            "image/png": "[encoded data removed]",
            "text/plain": [
              "<Figure size 432x288 with 1 Axes>"
            ]
          },
          "metadata": {
            "tags": [],
            "needs_background": "light"
          }
        }
      ]
    },
    {
      "cell_type": "code",
      "metadata": {
        "id": "KKGrjM2KM7VQ"
      },
      "source": [
        "def compute_loss():\n",
        "    pred_y = a*(np.array(X)**2) + b*np.array(X) + c\n",
        "    loss = tf.reduce_mean((Y - pred_y)**2)\n",
        "    return loss"
      ],
      "execution_count": 127,
      "outputs": []
    },
    {
      "cell_type": "code",
      "metadata": {
        "id": "TRNXX44qOLmP"
      },
      "source": [
        "optimizer = Adam(learning_rate=learning_rate)"
      ],
      "execution_count": 128,
      "outputs": []
    },
    {
      "cell_type": "code",
      "metadata": {
        "colab": {
          "base_uri": "https://localhost:8080/"
        },
        "id": "IB-qkiK2OYNx",
        "outputId": "dc0fd0de-5f26-480b-c72f-0989397d6b0a"
      },
      "source": [
        "for epoch in range(1, epochs + 1, 1):\n",
        "    optimizer.minimize(compute_loss, var_list=[a, b, c])\n",
        "\n",
        "    if epoch % 100 == 0:\n",
        "        print('epoch : {:4d}\\ta : {:.4f}\\tb : {:.4f}\\tc : {:.4f}'.format(epoch, a.numpy(), b.numpy(), c.numpy()))"
      ],
      "execution_count": 129,
      "outputs": [
        {
          "output_type": "stream",
          "text": [
            "epoch :  100\ta : 0.7213\tb : 0.1265\tc : 0.1126\n",
            "epoch :  200\ta : 0.7156\tb : 0.1413\tc : 0.1152\n",
            "epoch :  300\ta : 0.7155\tb : 0.1413\tc : 0.1152\n",
            "epoch :  400\ta : 0.7155\tb : 0.1413\tc : 0.1152\n",
            "epoch :  500\ta : 0.7155\tb : 0.1413\tc : 0.1152\n",
            "epoch :  600\ta : 0.7155\tb : 0.1413\tc : 0.1152\n",
            "epoch :  700\ta : 0.7155\tb : 0.1413\tc : 0.1152\n",
            "epoch :  800\ta : 0.7155\tb : 0.1413\tc : 0.1152\n",
            "epoch :  900\ta : 0.7155\tb : 0.1413\tc : 0.1152\n",
            "epoch : 1000\ta : 0.7155\tb : 0.1413\tc : 0.1152\n"
          ],
          "name": "stdout"
        }
      ]
    },
    {
      "cell_type": "code",
      "metadata": {
        "colab": {
          "base_uri": "https://localhost:8080/",
          "height": 264
        },
        "id": "xFpLHTfBOo3U",
        "outputId": "492fe916-ece1-43c3-a7e8-9649630cfcbf"
      },
      "source": [
        "line_x = np.arange(min(X), max(X), 0.001)\n",
        "line_y = a*line_x**2 + b*line_x + c\n",
        "\n",
        "plt.scatter(X, Y, label='X data')\n",
        "plt.plot(x_, y_, 'g--', label='origin line')\n",
        "plt.plot(line_x, line_y, 'r--', label='after trin')\n",
        "plt.xlim(-4., 4.)\n",
        "plt.legend();"
      ],
      "execution_count": 130,
      "outputs": [
        {
          "output_type": "display_data",
          "data": {
            "image/png": "[encoded data removed]",
            "text/plain": [
              "<Figure size 432x288 with 1 Axes>"
            ]
          },
          "metadata": {
            "tags": [],
            "needs_background": "light"
          }
        }
      ]
    },
    {
      "cell_type": "markdown",
      "metadata": {
        "id": "Ra0598wpRt6R"
      },
      "source": [
        "# 로지스틱 회귀\n",
        "\n",
        "- 다항분류, mnist"
      ]
    },
    {
      "cell_type": "code",
      "metadata": {
        "id": "cQoUe3BmPs29"
      },
      "source": [
        "from tensorflow.keras.datasets import mnist"
      ],
      "execution_count": 131,
      "outputs": []
    },
    {
      "cell_type": "code",
      "metadata": {
        "id": "aIjlfKgUSMyw"
      },
      "source": [
        "num_classes = 10\n",
        "num_features = 784 # 28 * 28\n",
        "\n",
        "learning_rate = 0.1\n",
        "training_steps = 1000\n",
        "batch_size = 256"
      ],
      "execution_count": 132,
      "outputs": []
    },
    {
      "cell_type": "code",
      "metadata": {
        "id": "Ek9s-gdZSjsV"
      },
      "source": [
        "(x_train, y_train), (x_test, y_test) = mnist.load_data()\n",
        "\n",
        "x_train, x_test = np.array(x_train, np.float32), np.array(x_test, np.float32)\n",
        "\n",
        "x_train, x_test = x_train.reshape([-1, num_features]), x_test.reshape([-1, num_features])\n",
        "\n",
        "x_train, x_test = x_train / 255., x_test / 255."
      ],
      "execution_count": 134,
      "outputs": []
    },
    {
      "cell_type": "code",
      "metadata": {
        "id": "UGMCnRIBTo1P"
      },
      "source": [
        "train_data = tf.data.Dataset.from_tensor_slices((x_train, y_train))\n",
        "train_data = train_data.repeat().shuffle(5000).batch(batch_size).prefetch(1)"
      ],
      "execution_count": 135,
      "outputs": []
    },
    {
      "cell_type": "code",
      "metadata": {
        "id": "PRpSUwAaU1o4"
      },
      "source": [
        "W = tf.Variable(tf.random.normal([num_features, num_classes]), name='weight')\n",
        "b = tf.Variable(tf.zeros([num_classes]), name='bias')"
      ],
      "execution_count": 136,
      "outputs": []
    },
    {
      "cell_type": "code",
      "metadata": {
        "id": "eBoOwh6CVMoi"
      },
      "source": [
        "def logistic_regression(x):\n",
        "    return tf.nn.softmax(tf.matmul(x, W) + b)\n",
        "\n",
        "def cross_entropy(pred_y, true_y):\n",
        "    true_y = tf.one_hot(true_y, depth=num_classes)\n",
        "    pred_y = tf.clip_by_value(pred_y, 1e-9, 1.)\n",
        "\n",
        "    return tf.reduce_mean(-tf.reduce_sum(true_y * tf.math.log(pred_y), 1))\n",
        "\n",
        "def accuracy(y_pred, y_true):\n",
        "    correct_prediction = tf.equal(tf.argmax(y_pred, 1), tf.cast(y_true, tf.int64))\n",
        "    return tf.reduce_mean(tf.cast(correct_prediction, tf.float32))"
      ],
      "execution_count": 137,
      "outputs": []
    },
    {
      "cell_type": "code",
      "metadata": {
        "id": "mzPYEaQeYjU3"
      },
      "source": [
        "optimizer = tf.optimizers.SGD(learning_rate)"
      ],
      "execution_count": 138,
      "outputs": []
    },
    {
      "cell_type": "code",
      "metadata": {
        "id": "WX4XEFoeYozi"
      },
      "source": [
        "def run_optimization(x, y):\n",
        "    with tf.GradientTape() as tape:\n",
        "        pred = logistic_regression(x)\n",
        "        loss = cross_entropy(pred, y)\n",
        "\n",
        "    gradients = tape.gradient(loss, [W, b])\n",
        "\n",
        "    optimizer.apply_gradients(zip(gradients, [W, b]))"
      ],
      "execution_count": 139,
      "outputs": []
    },
    {
      "cell_type": "code",
      "metadata": {
        "colab": {
          "base_uri": "https://localhost:8080/"
        },
        "id": "86nWtaY7ZKC5",
        "outputId": "8382bd09-846b-4633-f59e-8850d8fc80c1"
      },
      "source": [
        "for step, (batch_x, batch_y) in enumerate(train_data.take(training_steps), 1):\n",
        "    run_optimization(batch_x, batch_y)\n",
        "\n",
        "    if step % 50 == 0:\n",
        "        pred = logistic_regression(batch_x)\n",
        "        loss = cross_entropy(pred, batch_y)\n",
        "        acc = accuracy(pred, batch_y)\n",
        "        print('step : {:4d}\\tloss : {:.4f}\\taccuracy : {:.4f}'.format(step, loss, acc))"
      ],
      "execution_count": 142,
      "outputs": [
        {
          "output_type": "stream",
          "text": [
            "step :   50\tloss : 5.4131\taccuracy : 0.3438\n",
            "step :  100\tloss : 3.1609\taccuracy : 0.4961\n",
            "step :  150\tloss : 2.8784\taccuracy : 0.5039\n",
            "step :  200\tloss : 1.6672\taccuracy : 0.6602\n",
            "step :  250\tloss : 1.9001\taccuracy : 0.6055\n",
            "step :  300\tloss : 1.7301\taccuracy : 0.6680\n",
            "step :  350\tloss : 1.3304\taccuracy : 0.7148\n",
            "step :  400\tloss : 1.4045\taccuracy : 0.7109\n",
            "step :  450\tloss : 1.1245\taccuracy : 0.7930\n",
            "step :  500\tloss : 1.6286\taccuracy : 0.7227\n",
            "step :  550\tloss : 1.2583\taccuracy : 0.7734\n",
            "step :  600\tloss : 1.5433\taccuracy : 0.6992\n",
            "step :  650\tloss : 1.5288\taccuracy : 0.7422\n",
            "step :  700\tloss : 1.0246\taccuracy : 0.8125\n",
            "step :  750\tloss : 1.0727\taccuracy : 0.7812\n",
            "step :  800\tloss : 1.0109\taccuracy : 0.8125\n",
            "step :  850\tloss : 1.2012\taccuracy : 0.7734\n",
            "step :  900\tloss : 1.5809\taccuracy : 0.7422\n",
            "step :  950\tloss : 0.7013\taccuracy : 0.8242\n",
            "step : 1000\tloss : 0.9417\taccuracy : 0.8008\n"
          ],
          "name": "stdout"
        }
      ]
    },
    {
      "cell_type": "code",
      "metadata": {
        "colab": {
          "base_uri": "https://localhost:8080/"
        },
        "id": "Bbd_YV7ZaLUY",
        "outputId": "a2df9bb3-8687-4206-fbae-eaf935231a4b"
      },
      "source": [
        "pred = logistic_regression(x_test)\n",
        "print('Test Accuracy : {}'.format(accuracy(pred, y_test)))"
      ],
      "execution_count": 143,
      "outputs": [
        {
          "output_type": "stream",
          "text": [
            "Test Accuracy : 0.8184999823570251\n"
          ],
          "name": "stdout"
        }
      ]
    },
    {
      "cell_type": "code",
      "metadata": {
        "colab": {
          "base_uri": "https://localhost:8080/",
          "height": 198
        },
        "id": "mRlI6B10asN-",
        "outputId": "e9ecb311-cb2b-4f96-ad5a-9f44adaa0128"
      },
      "source": [
        "num_images = 5\n",
        "test_images = x_test[:num_images]\n",
        "predictions = logistic_regression(test_images)\n",
        "\n",
        "plt.figure(figsize=(14, 8))\n",
        "for i in range(1, num_images+1, 1):\n",
        "    plt.subplot(1, num_images, i)\n",
        "    plt.imshow(np.reshape(test_images[i-1], [28, 28]), cmap='gray')\n",
        "    plt.title('Madel prediction : {}'.format(np.argmax(predictions.numpy()[i-1])));"
      ],
      "execution_count": 144,
      "outputs": [
        {
          "output_type": "display_data",
          "data": {
            "image/png": "[encoded data removed]",
            "text/plain": [
              "<Figure size 1008x576 with 5 Axes>"
            ]
          },
          "metadata": {
            "tags": [],
            "needs_background": "light"
          }
        }
      ]
    },
    {
      "cell_type": "code",
      "metadata": {
        "id": "agnFZ1mxb2r2"
      },
      "source": [
        ""
      ],
      "execution_count": null,
      "outputs": []
    }
  ]
}