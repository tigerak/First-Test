{
  "nbformat": 4,
  "nbformat_minor": 0,
  "metadata": {
    "colab": {
      "name": "M3_서포트벡터머신.ipynb",
      "provenance": [],
      "authorship_tag": "ABX9TyOcoac2wwuFliWx39388PIA",
      "include_colab_link": true
    },
    "kernelspec": {
      "name": "python3",
      "display_name": "Python 3"
    },
    "language_info": {
      "name": "python"
    }
  },
  "cells": [
    {
      "cell_type": "markdown",
      "metadata": {
        "id": "view-in-github",
        "colab_type": "text"
      },
      "source": [
        "<a href=\"https://colab.research.google.com/github/tigerak/1st_practice/blob/main/M3_%EC%84%9C%ED%8F%AC%ED%8A%B8%EB%B2%A1%ED%84%B0%EB%A8%B8%EC%8B%A0.ipynb\" target=\"_parent\"><img src=\"https://colab.research.google.com/assets/colab-badge.svg\" alt=\"Open In Colab\"/></a>"
      ]
    },
    {
      "cell_type": "markdown",
      "metadata": {
        "id": "K9o_TPhijSch"
      },
      "source": [
        "# 서포트 벡터 머신\n",
        "- 회귀, 분류, 이상치 탐지 등에 사용되는 지도학습 방법\n",
        "- 클래스 사이의 경계에 위치한 데이터 포인트를 서포트벡터라고 함\n",
        "- 각 서포트벡터가 클래스 사이의 결정 경계를 구분하는데 얼마나 중요한지를 학습\n",
        "각 서포트 벡터들 사이의 마진이 가장 큰 바향으로 학습\n",
        "- 서포트 벡터까지의 거리와 서포트 벡터의 중요도를 기반으로 예측 수행"
      ]
    },
    {
      "cell_type": "code",
      "metadata": {
        "id": "-h_3mf8ujNDu"
      },
      "source": [
        "import multiprocessing\n",
        "import pandas as pd\n",
        "import numpy as np\n",
        "import matplotlib.pyplot as plt"
      ],
      "execution_count": 94,
      "outputs": []
    },
    {
      "cell_type": "code",
      "metadata": {
        "id": "I3Ete2lp1knH"
      },
      "source": [
        "from sklearn.svm import SVR, SVC # 회귀용 SVR, 분류용 SVC\n",
        "from sklearn.datasets import load_boston, load_diabetes, load_iris, load_wine, load_breast_cancer\n",
        "from sklearn.pipeline import make_pipeline, Pipeline\n",
        "from sklearn.model_selection import train_test_split, cross_validate, GridSearchCV\n",
        "from sklearn.preprocessing import StandardScaler, MinMaxScaler\n",
        "from sklearn.manifold import TSNE"
      ],
      "execution_count": 95,
      "outputs": []
    },
    {
      "cell_type": "markdown",
      "metadata": {
        "id": "idJ6tk023DN8"
      },
      "source": [
        "## SVM을 이용한 회귀 모델과 분류 모델"
      ]
    },
    {
      "cell_type": "markdown",
      "metadata": {
        "id": "I3d5NX7a3WQx"
      },
      "source": [
        "SVR 회귀"
      ]
    },
    {
      "cell_type": "code",
      "metadata": {
        "colab": {
          "base_uri": "https://localhost:8080/"
        },
        "id": "Tpu3EvHv2809",
        "outputId": "c0023a83-9281-4a12-f946-79f2b377d203"
      },
      "source": [
        "X, y = load_boston(return_X_y=True)\n",
        "X_train, X_test, y_train, y_test = train_test_split(X, y, random_state=123)\n",
        "\n",
        "model = SVR()\n",
        "model.fit(X_train, y_train)\n",
        "\n",
        "print('Train Data Score : {}'.format(model.score(X_train, y_train)))\n",
        "print('Test Data Score : {}'.format(model.score(X_test, y_test)))"
      ],
      "execution_count": 38,
      "outputs": [
        {
          "output_type": "stream",
          "text": [
            "Train Data Score : 0.2177283706374875\n",
            "Test Data Score : 0.13544178468518187\n"
          ],
          "name": "stdout"
        }
      ]
    },
    {
      "cell_type": "markdown",
      "metadata": {
        "id": "eKn2SweQ9MKd"
      },
      "source": [
        "svc 분류"
      ]
    },
    {
      "cell_type": "code",
      "metadata": {
        "colab": {
          "base_uri": "https://localhost:8080/"
        },
        "id": "LYbdfBgz8i06",
        "outputId": "59ec8b25-437f-402f-e182-244f00957a39"
      },
      "source": [
        "X, y = load_breast_cancer(return_X_y=True)\n",
        "X_train, X_test, y_train, y_test = train_test_split(X, y, random_state=123)\n",
        "\n",
        "model = SVC()\n",
        "model.fit(X_train, y_train)\n",
        "\n",
        "print('Train Data Score : {}'.format(model.score(X_train, y_train)))\n",
        "print('Test Data Score : {}'.format(model.score(X_test, y_test)))"
      ],
      "execution_count": 39,
      "outputs": [
        {
          "output_type": "stream",
          "text": [
            "Train Data Score : 0.9014084507042254\n",
            "Test Data Score : 0.9230769230769231\n"
          ],
          "name": "stdout"
        }
      ]
    },
    {
      "cell_type": "markdown",
      "metadata": {
        "id": "aOTB_noy9gR2"
      },
      "source": [
        "## 커널 기법\n",
        "- 입력 데이터를 고차원 공간에 사상해서 비선형 특징을 학습할 수 있도록 확장하는 방법\n",
        "- scikit-learn에서는 Linear, Polynomial, RBF(Radial Basis Function)등 다양한 커널 기법을 지원"
      ]
    },
    {
      "cell_type": "code",
      "metadata": {
        "colab": {
          "base_uri": "https://localhost:8080/"
        },
        "id": "xstkQmRs9U9d",
        "outputId": "d1b44ea0-2e23-452a-f01d-04538ce4e9fe"
      },
      "source": [
        "X, y = load_boston(return_X_y=True)\n",
        "X_train, X_test, y_train, y_test = train_test_split(X, y, random_state=123)\n",
        "\n",
        "linear_svr = SVR(kernel='linear')\n",
        "linear_svr.fit(X_train, y_train)\n",
        "\n",
        "print('Linear Train Data Score : {}'.format(linear_svr.score(X_train, y_train)))\n",
        "print('Linear Test Data Score : {}'.format(linear_svr.score(X_test, y_test)))\n",
        "\n",
        "linear_svr = SVR(kernel='poly')\n",
        "linear_svr.fit(X_train, y_train)\n",
        "\n",
        "print('Polynomial Train Data Score : {}'.format(linear_svr.score(X_train, y_train)))\n",
        "print('Polynomial Test Data Score : {}'.format(linear_svr.score(X_test, y_test)))\n",
        "\n",
        "linear_svr = SVR(kernel='rbf')\n",
        "linear_svr.fit(X_train, y_train)\n",
        "\n",
        "print('RBF Train Data Score : {}'.format(linear_svr.score(X_train, y_train)))\n",
        "print('RBF Test Data Score : {}'.format(linear_svr.score(X_test, y_test)))"
      ],
      "execution_count": 40,
      "outputs": [
        {
          "output_type": "stream",
          "text": [
            "Linear Train Data Score : 0.715506620496448\n",
            "Linear Test Data Score : 0.6380398541506058\n",
            "Polynomial Train Data Score : 0.2024454261446289\n",
            "Polynomial Test Data Score : 0.133668450367462\n",
            "RBF Train Data Score : 0.2177283706374875\n",
            "RBF Test Data Score : 0.13544178468518187\n"
          ],
          "name": "stdout"
        }
      ]
    },
    {
      "cell_type": "code",
      "metadata": {
        "colab": {
          "base_uri": "https://localhost:8080/"
        },
        "id": "HMprFHe8_y75",
        "outputId": "a4874713-ad85-4fa6-f16e-f53d322d62a4"
      },
      "source": [
        "X, y = load_breast_cancer(return_X_y=True)\n",
        "X_train, X_test, y_train, y_test = train_test_split(X, y, random_state=123)\n",
        "\n",
        "linear_svc = SVC(kernel='linear')\n",
        "linear_svc.fit(X_train, y_train)\n",
        "\n",
        "print('Linear Train Data Score : {}'.format(linear_svc.score(X_train, y_train)))\n",
        "print('Linear Test Data Score : {}'.format(linear_svc.score(X_test, y_test)))\n",
        "\n",
        "linear_svc = SVC(kernel='poly')\n",
        "linear_svc.fit(X_train, y_train)\n",
        "\n",
        "print('Polynomial Train Data Score : {}'.format(linear_svc.score(X_train, y_train)))\n",
        "print('Polynomial Test Data Score : {}'.format(linear_svc.score(X_test, y_test)))\n",
        "\n",
        "linear_svc = SVC(kernel='rbf')\n",
        "linear_svc.fit(X_train, y_train)\n",
        "\n",
        "print('RBF Train Data Score : {}'.format(linear_svc.score(X_train, y_train)))\n",
        "print('RBF Test Data Score : {}'.format(linear_svc.score(X_test, y_test)))"
      ],
      "execution_count": 41,
      "outputs": [
        {
          "output_type": "stream",
          "text": [
            "Linear Train Data Score : 0.960093896713615\n",
            "Linear Test Data Score : 0.986013986013986\n",
            "Polynomial Train Data Score : 0.9014084507042254\n",
            "Polynomial Test Data Score : 0.9230769230769231\n",
            "RBF Train Data Score : 0.9014084507042254\n",
            "RBF Test Data Score : 0.9230769230769231\n"
          ],
          "name": "stdout"
        }
      ]
    },
    {
      "cell_type": "markdown",
      "metadata": {
        "id": "WceMcUetA2Ut"
      },
      "source": [
        "## 매개변수 튜닝\n",
        "- SVM은 사용하는 커널에 따라 다양한 매개변수 설정 가능\n",
        "- 매개변수를 변경하면서 성능 변화를 관찰"
      ]
    },
    {
      "cell_type": "code",
      "metadata": {
        "colab": {
          "base_uri": "https://localhost:8080/"
        },
        "id": "FRJGlUR0AY8a",
        "outputId": "05cc1c78-7fb0-4b63-c62a-940d6d215665"
      },
      "source": [
        "X, y = load_breast_cancer(return_X_y=True)\n",
        "X_train, X_test, y_train, y_test = train_test_split(X, y, random_state=123)\n",
        "\n",
        "linear_svc = SVC(kernel='poly', degree=2, C=0.1, gamma='auto')\n",
        "linear_svc.fit(X_train, y_train)\n",
        "\n",
        "print('Polynomial Train Data Score : {}'.format(linear_svc.score(X_train, y_train)))\n",
        "print('Polynomial Test Data Score : {}'.format(linear_svc.score(X_test, y_test)))\n",
        "\n",
        "linear_svc = SVC(kernel='rbf', C=2.0, gamma='scale')\n",
        "linear_svc.fit(X_train, y_train)\n",
        "\n",
        "print('RBF Train Data Score : {}'.format(linear_svc.score(X_train, y_train)))\n",
        "print('RBF Test Data Score : {}'.format(linear_svc.score(X_test, y_test)))"
      ],
      "execution_count": 42,
      "outputs": [
        {
          "output_type": "stream",
          "text": [
            "Polynomial Train Data Score : 0.9835680751173709\n",
            "Polynomial Test Data Score : 0.993006993006993\n",
            "RBF Train Data Score : 0.9154929577464789\n",
            "RBF Test Data Score : 0.9370629370629371\n"
          ],
          "name": "stdout"
        }
      ]
    },
    {
      "cell_type": "markdown",
      "metadata": {
        "id": "U7sfzl3ECuIc"
      },
      "source": [
        "## 데이터 전처리\n",
        "\n",
        "-SVM은 입력 데이터가 정규화되어야 좋은 성능을 보임\n",
        "- 주도 모든 특성 값을 [0, 1] 범위로 맞추는 방법을 사용\n",
        "- scikit-learn의 StandardScaler 또는 MinMaxScaler를 사용해 정규화"
      ]
    },
    {
      "cell_type": "code",
      "metadata": {
        "colab": {
          "base_uri": "https://localhost:8080/"
        },
        "id": "8pkzWydzCpi4",
        "outputId": "e9d8d2ab-99a7-435a-dfa7-cae687188bc3"
      },
      "source": [
        "X, y = load_breast_cancer(return_X_y=True)\n",
        "X_train, X_test, y_train, y_test = train_test_split(X, y, random_state=123)\n",
        "\n",
        "linear_svc = SVC()\n",
        "linear_svc.fit(X_train, y_train)\n",
        "\n",
        "print('SVC Train Data Score : {}'.format(linear_svc.score(X_train, y_train)))\n",
        "print('SVC Test Data Score : {}'.format(linear_svc.score(X_test, y_test)))\n",
        "\n",
        "scaler = StandardScaler()\n",
        "X_train = scaler.fit_transform(X_train)\n",
        "X_test = scaler.transform(X_test)\n",
        "\n",
        "linear_svc = SVC()\n",
        "linear_svc.fit(X_train, y_train)\n",
        "\n",
        "print('SVC StandardScaler전처리 Train Data Score : {}'.format(linear_svc.score(X_train, y_train)))\n",
        "print('SVC StandardScaler전처리 Test Data Score : {}'.format(linear_svc.score(X_test, y_test)))\n",
        "\n",
        "scaler = MinMaxScaler()\n",
        "X_train = scaler.fit_transform(X_train)\n",
        "X_test = scaler.transform(X_test)\n",
        "\n",
        "linear_svc = SVC()\n",
        "linear_svc.fit(X_train, y_train)\n",
        "\n",
        "print('SVC MinMaxScaler전처리 Train Data Score : {}'.format(linear_svc.score(X_train, y_train)))\n",
        "print('SVC MinMaxScaler전처리 Test Data Score : {}'.format(linear_svc.score(X_test, y_test)))"
      ],
      "execution_count": 43,
      "outputs": [
        {
          "output_type": "stream",
          "text": [
            "SVC Train Data Score : 0.9014084507042254\n",
            "SVC Test Data Score : 0.9230769230769231\n",
            "SVC StandardScaler전처리 Train Data Score : 0.9835680751173709\n",
            "SVC StandardScaler전처리 Test Data Score : 0.986013986013986\n",
            "SVC MinMaxScaler전처리 Train Data Score : 0.9812206572769953\n",
            "SVC MinMaxScaler전처리 Test Data Score : 0.986013986013986\n"
          ],
          "name": "stdout"
        }
      ]
    },
    {
      "cell_type": "markdown",
      "metadata": {
        "id": "Cj920VNNOA-_"
      },
      "source": [
        "# Linear SVR"
      ]
    },
    {
      "cell_type": "markdown",
      "metadata": {
        "id": "o5NqPWxlNlgz"
      },
      "source": [
        "## 보스턴 주택 가격"
      ]
    },
    {
      "cell_type": "code",
      "metadata": {
        "colab": {
          "base_uri": "https://localhost:8080/"
        },
        "id": "AcWvmu-TF7GJ",
        "outputId": "d780d8e6-40db-4e08-e813-3083aee6011d"
      },
      "source": [
        "X, y = load_boston(return_X_y=True)\n",
        "X_train, X_test, y_train, y_test = train_test_split(X, y, test_size=0.2, random_state=1)\n",
        "\n",
        "scaler = StandardScaler()\n",
        "scaler.fit(X_train)\n",
        "X_train = scaler.fit_transform(X_train)\n",
        "X_test = scaler.transform(X_test)\n",
        "\n",
        "linear_svr = SVR(kernel='linear')\n",
        "linear_svr.fit(X_train, y_train)\n",
        "\n",
        "print('Train Data Score : {}'.format(linear_svr.score(X_train, y_train)))\n",
        "print('Test Data Score : {}'.format(linear_svr.score(X_test, y_test)))"
      ],
      "execution_count": 44,
      "outputs": [
        {
          "output_type": "stream",
          "text": [
            "Train Data Score : 0.691016501096553\n",
            "Test Data Score : 0.7623420514498938\n"
          ],
          "name": "stdout"
        }
      ]
    },
    {
      "cell_type": "code",
      "metadata": {
        "colab": {
          "base_uri": "https://localhost:8080/",
          "height": 265
        },
        "id": "hvr9INtvPDrn",
        "outputId": "cc68131a-ef28-47a5-a864-671bc7a0ec99"
      },
      "source": [
        "X_comp = TSNE(n_components=1).fit_transform(X) #서보트벡터는 차원을 늘려서 맵핑하기 떄문에 차원을 낮춰야 시각화 가능\n",
        "plt.scatter(X_comp, y);"
      ],
      "execution_count": 45,
      "outputs": [
        {
          "output_type": "display_data",
          "data": {
            "image/png": "[encoded data removed]",
            "text/plain": [
              "<Figure size 432x288 with 1 Axes>"
            ]
          },
          "metadata": {
            "tags": [],
            "needs_background": "light"
          }
        }
      ]
    },
    {
      "cell_type": "code",
      "metadata": {
        "colab": {
          "base_uri": "https://localhost:8080/",
          "height": 265
        },
        "id": "jriIEwOEQmUZ",
        "outputId": "f4a77efe-87e6-4ea1-f30d-330d2708b27a"
      },
      "source": [
        "linear_svr.fit(X_comp, y)\n",
        "predict = linear_svr.predict(X_comp)\n",
        "plt.scatter(X_comp, y)\n",
        "plt.scatter(X_comp, predict, color='r');"
      ],
      "execution_count": 46,
      "outputs": [
        {
          "output_type": "display_data",
          "data": {
            "image/png": "[encoded data removed]",
            "text/plain": [
              "<Figure size 432x288 with 1 Axes>"
            ]
          },
          "metadata": {
            "tags": [],
            "needs_background": "light"
          }
        }
      ]
    },
    {
      "cell_type": "code",
      "metadata": {
        "colab": {
          "base_uri": "https://localhost:8080/"
        },
        "id": "VZbp1cZdROfw",
        "outputId": "13c41a19-218b-461c-d7a4-ca99e4027299"
      },
      "source": [
        "estimator = make_pipeline(StandardScaler(), SVR(kernel='linear'))\n",
        "\n",
        "cross_validate(estimator=estimator, X=X, y=y, cv=5, \\\n",
        "               n_jobs=multiprocessing.cpu_count(), verbose=True)"
      ],
      "execution_count": 47,
      "outputs": [
        {
          "output_type": "stream",
          "text": [
            "[Parallel(n_jobs=2)]: Using backend LokyBackend with 2 concurrent workers.\n",
            "[Parallel(n_jobs=2)]: Done   5 out of   5 | elapsed:    0.9s finished\n"
          ],
          "name": "stderr"
        },
        {
          "output_type": "execute_result",
          "data": {
            "text/plain": [
              "{'fit_time': array([0.02858305, 0.02850533, 0.02626109, 0.0267365 , 0.02292061]),\n",
              " 'score_time': array([0.00208998, 0.00221229, 0.00197315, 0.00204158, 0.00130677]),\n",
              " 'test_score': array([0.76908568, 0.72180141, 0.56428426, 0.14083339, 0.07810211])}"
            ]
          },
          "metadata": {
            "tags": []
          },
          "execution_count": 47
        }
      ]
    },
    {
      "cell_type": "code",
      "metadata": {
        "colab": {
          "base_uri": "https://localhost:8080/"
        },
        "id": "WOP9k9iuSU1z",
        "outputId": "cc077410-b8bf-4fa4-cbbf-a2bb8c8cc75c"
      },
      "source": [
        "pipe = Pipeline([('scler', StandardScaler()), ('model', SVR(kernel='linear'))])\n",
        "\n",
        "param_grid = [{'model__gamma':['scale', 'auto'], 'model__C':[1.0, 0.1, 0.01], \\\n",
        "               'model__epsilon':[1.0, 0.1, 0.01]}]\n",
        "\n",
        "gs = GridSearchCV(estimator=pipe, param_grid=param_grid, \\\n",
        "                  n_jobs=multiprocessing.cpu_count(), cv=5, verbose=True)\n",
        "\n",
        "gs.fit(X, y)"
      ],
      "execution_count": 48,
      "outputs": [
        {
          "output_type": "stream",
          "text": [
            "[Parallel(n_jobs=2)]: Using backend LokyBackend with 2 concurrent workers.\n"
          ],
          "name": "stderr"
        },
        {
          "output_type": "stream",
          "text": [
            "Fitting 5 folds for each of 18 candidates, totalling 90 fits\n"
          ],
          "name": "stdout"
        },
        {
          "output_type": "stream",
          "text": [
            "[Parallel(n_jobs=2)]: Done  90 out of  90 | elapsed:    1.1s finished\n"
          ],
          "name": "stderr"
        },
        {
          "output_type": "execute_result",
          "data": {
            "text/plain": [
              "GridSearchCV(cv=5, error_score=nan,\n",
              "             estimator=Pipeline(memory=None,\n",
              "                                steps=[('scler',\n",
              "                                        StandardScaler(copy=True,\n",
              "                                                       with_mean=True,\n",
              "                                                       with_std=True)),\n",
              "                                       ('model',\n",
              "                                        SVR(C=1.0, cache_size=200, coef0=0.0,\n",
              "                                            degree=3, epsilon=0.1,\n",
              "                                            gamma='scale', kernel='linear',\n",
              "                                            max_iter=-1, shrinking=True,\n",
              "                                            tol=0.001, verbose=False))],\n",
              "                                verbose=False),\n",
              "             iid='deprecated', n_jobs=2,\n",
              "             param_grid=[{'model__C': [1.0, 0.1, 0.01],\n",
              "                          'model__epsilon': [1.0, 0.1, 0.01],\n",
              "                          'model__gamma': ['scale', 'auto']}],\n",
              "             pre_dispatch='2*n_jobs', refit=True, return_train_score=False,\n",
              "             scoring=None, verbose=True)"
            ]
          },
          "metadata": {
            "tags": []
          },
          "execution_count": 48
        }
      ]
    },
    {
      "cell_type": "code",
      "metadata": {
        "colab": {
          "base_uri": "https://localhost:8080/"
        },
        "id": "PBx0ZHfCVwGU",
        "outputId": "9dcafccd-946f-40fb-8ae9-bd1d7abadbf6"
      },
      "source": [
        "gs.best_estimator_"
      ],
      "execution_count": 49,
      "outputs": [
        {
          "output_type": "execute_result",
          "data": {
            "text/plain": [
              "Pipeline(memory=None,\n",
              "         steps=[('scler',\n",
              "                 StandardScaler(copy=True, with_mean=True, with_std=True)),\n",
              "                ('model',\n",
              "                 SVR(C=0.1, cache_size=200, coef0=0.0, degree=3, epsilon=1.0,\n",
              "                     gamma='scale', kernel='linear', max_iter=-1,\n",
              "                     shrinking=True, tol=0.001, verbose=False))],\n",
              "         verbose=False)"
            ]
          },
          "metadata": {
            "tags": []
          },
          "execution_count": 49
        }
      ]
    },
    {
      "cell_type": "markdown",
      "metadata": {
        "id": "IKjsTew1rvzT"
      },
      "source": [
        "## 당뇨병"
      ]
    },
    {
      "cell_type": "code",
      "metadata": {
        "colab": {
          "base_uri": "https://localhost:8080/"
        },
        "id": "2D42NEB9-ozb",
        "outputId": "9a973aee-819a-491a-cb62-427ffb099166"
      },
      "source": [
        "X, y = load_diabetes(return_X_y=True)\n",
        "X_train, X_test, y_train, y_test = train_test_split(X, y, test_size=0.2, random_state=1)\n",
        "\n",
        "scaler = StandardScaler()\n",
        "scaler.fit(X_train)\n",
        "X_train = scaler.fit_transform(X_train)\n",
        "X_test = scaler.transform(X_test)\n",
        "\n",
        "linear_svr = SVR(kernel='linear')\n",
        "linear_svr.fit(X_train, y_train)\n",
        "\n",
        "print('Train Data Score : {}'.format(linear_svr.score(X_train, y_train)))\n",
        "print('Test Data Score : {}'.format(linear_svr.score(X_test, y_test)))"
      ],
      "execution_count": 50,
      "outputs": [
        {
          "output_type": "stream",
          "text": [
            "Train Data Score : 0.5270549599167367\n",
            "Test Data Score : 0.4383268226553668\n"
          ],
          "name": "stdout"
        }
      ]
    },
    {
      "cell_type": "code",
      "metadata": {
        "colab": {
          "base_uri": "https://localhost:8080/",
          "height": 265
        },
        "id": "Q8rZi4J8-ozp",
        "outputId": "b5179d53-e452-42c2-dfe0-c508d54da172"
      },
      "source": [
        "X_comp = TSNE(n_components=1).fit_transform(X) #서보트벡터는 차원을 늘려서 맵핑하기 떄문에 차원을 낮춰야 시각화 가능\n",
        "plt.scatter(X_comp, y);"
      ],
      "execution_count": 51,
      "outputs": [
        {
          "output_type": "display_data",
          "data": {
            "image/png": "[encoded data removed]",
            "text/plain": [
              "<Figure size 432x288 with 1 Axes>"
            ]
          },
          "metadata": {
            "tags": [],
            "needs_background": "light"
          }
        }
      ]
    },
    {
      "cell_type": "code",
      "metadata": {
        "colab": {
          "base_uri": "https://localhost:8080/",
          "height": 265
        },
        "id": "t83nAnA0-ozp",
        "outputId": "076f799b-d229-4894-9a08-f4a01d5852f2"
      },
      "source": [
        "linear_svr.fit(X_comp, y)\n",
        "predict = linear_svr.predict(X_comp)\n",
        "plt.scatter(X_comp, y)\n",
        "plt.scatter(X_comp, predict, color='r');"
      ],
      "execution_count": 52,
      "outputs": [
        {
          "output_type": "display_data",
          "data": {
            "image/png": "[encoded data removed]",
            "text/plain": [
              "<Figure size 432x288 with 1 Axes>"
            ]
          },
          "metadata": {
            "tags": [],
            "needs_background": "light"
          }
        }
      ]
    },
    {
      "cell_type": "code",
      "metadata": {
        "colab": {
          "base_uri": "https://localhost:8080/"
        },
        "id": "K1Kb-g0x-ozq",
        "outputId": "dc9314b3-1cab-4b56-81b2-4175a1279231"
      },
      "source": [
        "estimator = make_pipeline(StandardScaler(), SVR(kernel='linear'))\n",
        "\n",
        "cross_validate(estimator=estimator, X=X, y=y, cv=5, \\\n",
        "               n_jobs=multiprocessing.cpu_count(), verbose=True)"
      ],
      "execution_count": 53,
      "outputs": [
        {
          "output_type": "stream",
          "text": [
            "[Parallel(n_jobs=2)]: Using backend LokyBackend with 2 concurrent workers.\n",
            "[Parallel(n_jobs=2)]: Done   5 out of   5 | elapsed:    0.1s finished\n"
          ],
          "name": "stderr"
        },
        {
          "output_type": "execute_result",
          "data": {
            "text/plain": [
              "{'fit_time': array([0.02775407, 0.02557135, 0.01045108, 0.01132488, 0.01149225]),\n",
              " 'score_time': array([0.0052247 , 0.00183654, 0.00156522, 0.0015986 , 0.00106287]),\n",
              " 'test_score': array([0.43037242, 0.51653341, 0.48275332, 0.42247202, 0.53076481])}"
            ]
          },
          "metadata": {
            "tags": []
          },
          "execution_count": 53
        }
      ]
    },
    {
      "cell_type": "code",
      "metadata": {
        "colab": {
          "base_uri": "https://localhost:8080/"
        },
        "id": "qs-0qDXX-ozq",
        "outputId": "a9aa0f2b-37e6-4dda-fa05-0c16828dcd98"
      },
      "source": [
        "pipe = Pipeline([('scler', StandardScaler()), ('model', SVR(kernel='linear'))])\n",
        "\n",
        "param_grid = [{'model__gamma':['scale', 'auto'], 'model__C':[1.0, 0.1, 0.01], \\\n",
        "               'model__epsilon':[1.0, 0.1, 0.01]}]\n",
        "\n",
        "gs = GridSearchCV(estimator=pipe, param_grid=param_grid, \\\n",
        "                  n_jobs=multiprocessing.cpu_count(), cv=5, verbose=True)\n",
        "\n",
        "gs.fit(X, y)"
      ],
      "execution_count": 54,
      "outputs": [
        {
          "output_type": "stream",
          "text": [
            "[Parallel(n_jobs=2)]: Using backend LokyBackend with 2 concurrent workers.\n"
          ],
          "name": "stderr"
        },
        {
          "output_type": "stream",
          "text": [
            "Fitting 5 folds for each of 18 candidates, totalling 90 fits\n"
          ],
          "name": "stdout"
        },
        {
          "output_type": "stream",
          "text": [
            "[Parallel(n_jobs=2)]: Done  90 out of  90 | elapsed:    0.7s finished\n"
          ],
          "name": "stderr"
        },
        {
          "output_type": "execute_result",
          "data": {
            "text/plain": [
              "GridSearchCV(cv=5, error_score=nan,\n",
              "             estimator=Pipeline(memory=None,\n",
              "                                steps=[('scler',\n",
              "                                        StandardScaler(copy=True,\n",
              "                                                       with_mean=True,\n",
              "                                                       with_std=True)),\n",
              "                                       ('model',\n",
              "                                        SVR(C=1.0, cache_size=200, coef0=0.0,\n",
              "                                            degree=3, epsilon=0.1,\n",
              "                                            gamma='scale', kernel='linear',\n",
              "                                            max_iter=-1, shrinking=True,\n",
              "                                            tol=0.001, verbose=False))],\n",
              "                                verbose=False),\n",
              "             iid='deprecated', n_jobs=2,\n",
              "             param_grid=[{'model__C': [1.0, 0.1, 0.01],\n",
              "                          'model__epsilon': [1.0, 0.1, 0.01],\n",
              "                          'model__gamma': ['scale', 'auto']}],\n",
              "             pre_dispatch='2*n_jobs', refit=True, return_train_score=False,\n",
              "             scoring=None, verbose=True)"
            ]
          },
          "metadata": {
            "tags": []
          },
          "execution_count": 54
        }
      ]
    },
    {
      "cell_type": "code",
      "metadata": {
        "colab": {
          "base_uri": "https://localhost:8080/"
        },
        "id": "N7kquHW5-ozr",
        "outputId": "91adc1b8-ad73-47b4-a256-2471bb145678"
      },
      "source": [
        "gs.best_estimator_"
      ],
      "execution_count": 55,
      "outputs": [
        {
          "output_type": "execute_result",
          "data": {
            "text/plain": [
              "Pipeline(memory=None,\n",
              "         steps=[('scler',\n",
              "                 StandardScaler(copy=True, with_mean=True, with_std=True)),\n",
              "                ('model',\n",
              "                 SVR(C=1.0, cache_size=200, coef0=0.0, degree=3, epsilon=1.0,\n",
              "                     gamma='scale', kernel='linear', max_iter=-1,\n",
              "                     shrinking=True, tol=0.001, verbose=False))],\n",
              "         verbose=False)"
            ]
          },
          "metadata": {
            "tags": []
          },
          "execution_count": 55
        }
      ]
    },
    {
      "cell_type": "markdown",
      "metadata": {
        "id": "HND4L-h4_hsy"
      },
      "source": [
        "# Kernal SVR"
      ]
    },
    {
      "cell_type": "markdown",
      "metadata": {
        "id": "2SIBowjt_xOs"
      },
      "source": [
        "### 보스턴 주택"
      ]
    },
    {
      "cell_type": "code",
      "metadata": {
        "colab": {
          "base_uri": "https://localhost:8080/"
        },
        "id": "T-pEY5JQ_7Bd",
        "outputId": "6d0d605f-07b1-47ad-c7ef-77fb7b380e79"
      },
      "source": [
        "X, y = load_boston(return_X_y=True)\n",
        "X_train, X_test, y_train, y_test = train_test_split(X, y, test_size=0.2, random_state=1)\n",
        "\n",
        "scaler = StandardScaler()\n",
        "scaler.fit(X_train)\n",
        "X_train = scaler.fit_transform(X_train)\n",
        "X_test = scaler.transform(X_test)\n",
        "\n",
        "linear_svr = SVR(kernel='rbf')\n",
        "linear_svr.fit(X_train, y_train)\n",
        "\n",
        "print('Train Data Score : {}'.format(linear_svr.score(X_train, y_train)))\n",
        "print('Test Data Score : {}'.format(linear_svr.score(X_test, y_test)))"
      ],
      "execution_count": 56,
      "outputs": [
        {
          "output_type": "stream",
          "text": [
            "Train Data Score : 0.6689497279602121\n",
            "Test Data Score : 0.6473911285320149\n"
          ],
          "name": "stdout"
        }
      ]
    },
    {
      "cell_type": "code",
      "metadata": {
        "colab": {
          "base_uri": "https://localhost:8080/",
          "height": 265
        },
        "id": "908ImtrK_7Bu",
        "outputId": "54ead9ff-612d-44e8-9815-61575fdd27ab"
      },
      "source": [
        "X_comp = TSNE(n_components=1).fit_transform(X) #서보트벡터는 차원을 늘려서 맵핑하기 떄문에 차원을 낮춰야 시각화 가능\n",
        "plt.scatter(X_comp, y);"
      ],
      "execution_count": 57,
      "outputs": [
        {
          "output_type": "display_data",
          "data": {
            "image/png": "[encoded data removed]",
            "text/plain": [
              "<Figure size 432x288 with 1 Axes>"
            ]
          },
          "metadata": {
            "tags": [],
            "needs_background": "light"
          }
        }
      ]
    },
    {
      "cell_type": "code",
      "metadata": {
        "colab": {
          "base_uri": "https://localhost:8080/",
          "height": 265
        },
        "id": "FKAi8CGa_7Bv",
        "outputId": "8862f1df-f561-4af2-9de7-20d5c4bfec81"
      },
      "source": [
        "linear_svr.fit(X_comp, y)\n",
        "predict = linear_svr.predict(X_comp)\n",
        "plt.scatter(X_comp, y)\n",
        "plt.scatter(X_comp, predict, color='r');"
      ],
      "execution_count": 58,
      "outputs": [
        {
          "output_type": "display_data",
          "data": {
            "image/png": "[encoded data removed]",
            "text/plain": [
              "<Figure size 432x288 with 1 Axes>"
            ]
          },
          "metadata": {
            "tags": [],
            "needs_background": "light"
          }
        }
      ]
    },
    {
      "cell_type": "code",
      "metadata": {
        "colab": {
          "base_uri": "https://localhost:8080/"
        },
        "id": "AqXDq6K1_7Bv",
        "outputId": "c105cd6d-0b8b-4d3b-e16b-d7a3bd052cfc"
      },
      "source": [
        "estimator = make_pipeline(StandardScaler(), SVR(kernel='rbf'))\n",
        "\n",
        "cross_validate(estimator=estimator, X=X, y=y, cv=5, \\\n",
        "               n_jobs=multiprocessing.cpu_count(), verbose=True)"
      ],
      "execution_count": 59,
      "outputs": [
        {
          "output_type": "stream",
          "text": [
            "[Parallel(n_jobs=2)]: Using backend LokyBackend with 2 concurrent workers.\n",
            "[Parallel(n_jobs=2)]: Done   5 out of   5 | elapsed:    0.1s finished\n"
          ],
          "name": "stderr"
        },
        {
          "output_type": "execute_result",
          "data": {
            "text/plain": [
              "{'fit_time': array([0.02700233, 0.02389765, 0.01989365, 0.01931882, 0.01494622]),\n",
              " 'score_time': array([0.00355077, 0.0034101 , 0.00342607, 0.00359988, 0.00222206]),\n",
              " 'test_score': array([ 0.75781445,  0.50211018,  0.04310107,  0.33851703, -0.75997942])}"
            ]
          },
          "metadata": {
            "tags": []
          },
          "execution_count": 59
        }
      ]
    },
    {
      "cell_type": "code",
      "metadata": {
        "colab": {
          "base_uri": "https://localhost:8080/"
        },
        "id": "VCXQUcGK_7Bw",
        "outputId": "8976ee5a-8300-46a3-9b27-776b0e8a637b"
      },
      "source": [
        "pipe = Pipeline([('scler', StandardScaler()), ('model', SVR(kernel='rbf'))])\n",
        "\n",
        "param_grid = [{'model__kernel':['rbf', 'polynomial', 'sigmoid']}]\n",
        "\n",
        "gs = GridSearchCV(estimator=pipe, param_grid=param_grid, \\\n",
        "                  n_jobs=multiprocessing.cpu_count(), cv=5, verbose=True)\n",
        "\n",
        "gs.fit(X, y)"
      ],
      "execution_count": 60,
      "outputs": [
        {
          "output_type": "stream",
          "text": [
            "[Parallel(n_jobs=2)]: Using backend LokyBackend with 2 concurrent workers.\n"
          ],
          "name": "stderr"
        },
        {
          "output_type": "stream",
          "text": [
            "Fitting 5 folds for each of 3 candidates, totalling 15 fits\n"
          ],
          "name": "stdout"
        },
        {
          "output_type": "stream",
          "text": [
            "[Parallel(n_jobs=2)]: Done  12 out of  15 | elapsed:    0.2s remaining:    0.0s\n",
            "[Parallel(n_jobs=2)]: Done  15 out of  15 | elapsed:    0.2s finished\n"
          ],
          "name": "stderr"
        },
        {
          "output_type": "execute_result",
          "data": {
            "text/plain": [
              "GridSearchCV(cv=5, error_score=nan,\n",
              "             estimator=Pipeline(memory=None,\n",
              "                                steps=[('scler',\n",
              "                                        StandardScaler(copy=True,\n",
              "                                                       with_mean=True,\n",
              "                                                       with_std=True)),\n",
              "                                       ('model',\n",
              "                                        SVR(C=1.0, cache_size=200, coef0=0.0,\n",
              "                                            degree=3, epsilon=0.1,\n",
              "                                            gamma='scale', kernel='rbf',\n",
              "                                            max_iter=-1, shrinking=True,\n",
              "                                            tol=0.001, verbose=False))],\n",
              "                                verbose=False),\n",
              "             iid='deprecated', n_jobs=2,\n",
              "             param_grid=[{'model__kernel': ['rbf', 'polynomial', 'sigmoid']}],\n",
              "             pre_dispatch='2*n_jobs', refit=True, return_train_score=False,\n",
              "             scoring=None, verbose=True)"
            ]
          },
          "metadata": {
            "tags": []
          },
          "execution_count": 60
        }
      ]
    },
    {
      "cell_type": "code",
      "metadata": {
        "colab": {
          "base_uri": "https://localhost:8080/"
        },
        "id": "AdWkXWQZ_7Bx",
        "outputId": "93d62fc0-67f5-4562-a3b8-b1cc13042163"
      },
      "source": [
        "gs.best_estimator_"
      ],
      "execution_count": 61,
      "outputs": [
        {
          "output_type": "execute_result",
          "data": {
            "text/plain": [
              "Pipeline(memory=None,\n",
              "         steps=[('scler',\n",
              "                 StandardScaler(copy=True, with_mean=True, with_std=True)),\n",
              "                ('model',\n",
              "                 SVR(C=1.0, cache_size=200, coef0=0.0, degree=3, epsilon=0.1,\n",
              "                     gamma='scale', kernel='rbf', max_iter=-1, shrinking=True,\n",
              "                     tol=0.001, verbose=False))],\n",
              "         verbose=False)"
            ]
          },
          "metadata": {
            "tags": []
          },
          "execution_count": 61
        }
      ]
    },
    {
      "cell_type": "code",
      "metadata": {
        "colab": {
          "base_uri": "https://localhost:8080/"
        },
        "id": "wYpBWUTmHTRo",
        "outputId": "aba87408-4f01-436a-b2fa-b78e67249566"
      },
      "source": [
        "pipe = Pipeline([('scler', StandardScaler()), ('model', SVR(kernel='rbf'))])\n",
        "\n",
        "param_grid = [{'model__gamma':['scale', 'auto'], 'model__C':[1.0, 0.1, 0.01], \\\n",
        "               'model__epsilon':[1.0, 0.1, 0.01]}]\n",
        "\n",
        "gs = GridSearchCV(estimator=pipe, param_grid=param_grid, \\\n",
        "                  n_jobs=multiprocessing.cpu_count(), cv=5, verbose=True)\n",
        "\n",
        "gs.fit(X, y)"
      ],
      "execution_count": 62,
      "outputs": [
        {
          "output_type": "stream",
          "text": [
            "[Parallel(n_jobs=2)]: Using backend LokyBackend with 2 concurrent workers.\n"
          ],
          "name": "stderr"
        },
        {
          "output_type": "stream",
          "text": [
            "Fitting 5 folds for each of 18 candidates, totalling 90 fits\n"
          ],
          "name": "stdout"
        },
        {
          "output_type": "stream",
          "text": [
            "[Parallel(n_jobs=2)]: Done  90 out of  90 | elapsed:    1.1s finished\n"
          ],
          "name": "stderr"
        },
        {
          "output_type": "execute_result",
          "data": {
            "text/plain": [
              "GridSearchCV(cv=5, error_score=nan,\n",
              "             estimator=Pipeline(memory=None,\n",
              "                                steps=[('scler',\n",
              "                                        StandardScaler(copy=True,\n",
              "                                                       with_mean=True,\n",
              "                                                       with_std=True)),\n",
              "                                       ('model',\n",
              "                                        SVR(C=1.0, cache_size=200, coef0=0.0,\n",
              "                                            degree=3, epsilon=0.1,\n",
              "                                            gamma='scale', kernel='rbf',\n",
              "                                            max_iter=-1, shrinking=True,\n",
              "                                            tol=0.001, verbose=False))],\n",
              "                                verbose=False),\n",
              "             iid='deprecated', n_jobs=2,\n",
              "             param_grid=[{'model__C': [1.0, 0.1, 0.01],\n",
              "                          'model__epsilon': [1.0, 0.1, 0.01],\n",
              "                          'model__gamma': ['scale', 'auto']}],\n",
              "             pre_dispatch='2*n_jobs', refit=True, return_train_score=False,\n",
              "             scoring=None, verbose=True)"
            ]
          },
          "metadata": {
            "tags": []
          },
          "execution_count": 62
        }
      ]
    },
    {
      "cell_type": "code",
      "metadata": {
        "colab": {
          "base_uri": "https://localhost:8080/"
        },
        "id": "13f1jSonH1pp",
        "outputId": "c94430d1-7516-4cd8-86ad-1356f55d69b4"
      },
      "source": [
        "gs.best_estimator_"
      ],
      "execution_count": 63,
      "outputs": [
        {
          "output_type": "execute_result",
          "data": {
            "text/plain": [
              "Pipeline(memory=None,\n",
              "         steps=[('scler',\n",
              "                 StandardScaler(copy=True, with_mean=True, with_std=True)),\n",
              "                ('model',\n",
              "                 SVR(C=1.0, cache_size=200, coef0=0.0, degree=3, epsilon=0.01,\n",
              "                     gamma='scale', kernel='rbf', max_iter=-1, shrinking=True,\n",
              "                     tol=0.001, verbose=False))],\n",
              "         verbose=False)"
            ]
          },
          "metadata": {
            "tags": []
          },
          "execution_count": 63
        }
      ]
    },
    {
      "cell_type": "markdown",
      "metadata": {
        "id": "SdPAWwV0IFht"
      },
      "source": [
        "## 당뇨병"
      ]
    },
    {
      "cell_type": "code",
      "metadata": {
        "colab": {
          "base_uri": "https://localhost:8080/"
        },
        "id": "nlc3gamjIJeR",
        "outputId": "a5dd6b5a-f97d-405e-9817-1c9e407bbfe6"
      },
      "source": [
        "X, y = load_diabetes(return_X_y=True)\n",
        "X_train, X_test, y_train, y_test = train_test_split(X, y, test_size=0.2, random_state=1)\n",
        "\n",
        "scaler = StandardScaler()\n",
        "scaler.fit(X_train)\n",
        "X_train = scaler.fit_transform(X_train)\n",
        "X_test = scaler.transform(X_test)\n",
        "\n",
        "linear_svr = SVR(kernel='rbf')\n",
        "linear_svr.fit(X_train, y_train)\n",
        "\n",
        "print('Train Data Score : {}'.format(linear_svr.score(X_train, y_train)))\n",
        "print('Test Data Score : {}'.format(linear_svr.score(X_test, y_test)))"
      ],
      "execution_count": 64,
      "outputs": [
        {
          "output_type": "stream",
          "text": [
            "Train Data Score : 0.17515110187232985\n",
            "Test Data Score : 0.17640578924648354\n"
          ],
          "name": "stdout"
        }
      ]
    },
    {
      "cell_type": "code",
      "metadata": {
        "colab": {
          "base_uri": "https://localhost:8080/",
          "height": 265
        },
        "id": "J9Tnql7sIJec",
        "outputId": "6eec77e6-616f-4079-d7f0-8ae375b45d43"
      },
      "source": [
        "X_comp = TSNE(n_components=1).fit_transform(X) #서보트벡터는 차원을 늘려서 맵핑하기 떄문에 차원을 낮춰야 시각화 가능\n",
        "plt.scatter(X_comp, y);"
      ],
      "execution_count": 65,
      "outputs": [
        {
          "output_type": "display_data",
          "data": {
            "image/png": "[encoded data removed]",
            "text/plain": [
              "<Figure size 432x288 with 1 Axes>"
            ]
          },
          "metadata": {
            "tags": [],
            "needs_background": "light"
          }
        }
      ]
    },
    {
      "cell_type": "code",
      "metadata": {
        "colab": {
          "base_uri": "https://localhost:8080/",
          "height": 265
        },
        "id": "Xx2Nqh-2IJee",
        "outputId": "d9ee999b-fdf8-4b02-ee74-1d2c9e540a8b"
      },
      "source": [
        "linear_svr.fit(X_comp, y)\n",
        "predict = linear_svr.predict(X_comp)\n",
        "plt.scatter(X_comp, y)\n",
        "plt.scatter(X_comp, predict, color='r');"
      ],
      "execution_count": 66,
      "outputs": [
        {
          "output_type": "display_data",
          "data": {
            "image/png": "[encoded data removed]",
            "text/plain": [
              "<Figure size 432x288 with 1 Axes>"
            ]
          },
          "metadata": {
            "tags": [],
            "needs_background": "light"
          }
        }
      ]
    },
    {
      "cell_type": "code",
      "metadata": {
        "colab": {
          "base_uri": "https://localhost:8080/"
        },
        "id": "3JbBIV8aIJee",
        "outputId": "14fd27d5-3c8f-4ea4-cf67-11cd85b8cb70"
      },
      "source": [
        "estimator = make_pipeline(StandardScaler(), SVR(kernel='rbf'))\n",
        "\n",
        "cross_validate(estimator=estimator, X=X, y=y, cv=5, \\\n",
        "               n_jobs=multiprocessing.cpu_count(), verbose=True)"
      ],
      "execution_count": 67,
      "outputs": [
        {
          "output_type": "stream",
          "text": [
            "[Parallel(n_jobs=2)]: Using backend LokyBackend with 2 concurrent workers.\n",
            "[Parallel(n_jobs=2)]: Done   5 out of   5 | elapsed:    0.1s finished\n"
          ],
          "name": "stderr"
        },
        {
          "output_type": "execute_result",
          "data": {
            "text/plain": [
              "{'fit_time': array([0.01396275, 0.03865719, 0.01728106, 0.01358366, 0.01288557]),\n",
              " 'score_time': array([0.00295997, 0.00284982, 0.00309706, 0.00270796, 0.00190616]),\n",
              " 'test_score': array([0.14580789, 0.12539919, 0.18163816, 0.12223073, 0.15792085])}"
            ]
          },
          "metadata": {
            "tags": []
          },
          "execution_count": 67
        }
      ]
    },
    {
      "cell_type": "code",
      "metadata": {
        "colab": {
          "base_uri": "https://localhost:8080/"
        },
        "id": "fBUH1jm2IJee",
        "outputId": "b8c9105b-4979-4f91-828f-e25674a5f6b9"
      },
      "source": [
        "pipe = Pipeline([('scler', StandardScaler()), ('model', SVR(kernel='rbf'))])\n",
        "\n",
        "param_grid = [{'model__kernel':['rbf', 'polynomial', 'sigmoid']}]\n",
        "\n",
        "gs = GridSearchCV(estimator=pipe, param_grid=param_grid, \\\n",
        "                  n_jobs=multiprocessing.cpu_count(), cv=5, verbose=True)\n",
        "\n",
        "gs.fit(X, y)"
      ],
      "execution_count": 68,
      "outputs": [
        {
          "output_type": "stream",
          "text": [
            "[Parallel(n_jobs=2)]: Using backend LokyBackend with 2 concurrent workers.\n"
          ],
          "name": "stderr"
        },
        {
          "output_type": "stream",
          "text": [
            "Fitting 5 folds for each of 3 candidates, totalling 15 fits\n"
          ],
          "name": "stdout"
        },
        {
          "output_type": "stream",
          "text": [
            "[Parallel(n_jobs=2)]: Done  15 out of  15 | elapsed:    0.2s finished\n"
          ],
          "name": "stderr"
        },
        {
          "output_type": "execute_result",
          "data": {
            "text/plain": [
              "GridSearchCV(cv=5, error_score=nan,\n",
              "             estimator=Pipeline(memory=None,\n",
              "                                steps=[('scler',\n",
              "                                        StandardScaler(copy=True,\n",
              "                                                       with_mean=True,\n",
              "                                                       with_std=True)),\n",
              "                                       ('model',\n",
              "                                        SVR(C=1.0, cache_size=200, coef0=0.0,\n",
              "                                            degree=3, epsilon=0.1,\n",
              "                                            gamma='scale', kernel='rbf',\n",
              "                                            max_iter=-1, shrinking=True,\n",
              "                                            tol=0.001, verbose=False))],\n",
              "                                verbose=False),\n",
              "             iid='deprecated', n_jobs=2,\n",
              "             param_grid=[{'model__kernel': ['rbf', 'polynomial', 'sigmoid']}],\n",
              "             pre_dispatch='2*n_jobs', refit=True, return_train_score=False,\n",
              "             scoring=None, verbose=True)"
            ]
          },
          "metadata": {
            "tags": []
          },
          "execution_count": 68
        }
      ]
    },
    {
      "cell_type": "code",
      "metadata": {
        "colab": {
          "base_uri": "https://localhost:8080/"
        },
        "id": "mtmqXkGfIJef",
        "outputId": "fbbd4d4e-bc32-439b-a19d-eaad70c85064"
      },
      "source": [
        "gs.best_estimator_"
      ],
      "execution_count": 69,
      "outputs": [
        {
          "output_type": "execute_result",
          "data": {
            "text/plain": [
              "Pipeline(memory=None,\n",
              "         steps=[('scler',\n",
              "                 StandardScaler(copy=True, with_mean=True, with_std=True)),\n",
              "                ('model',\n",
              "                 SVR(C=1.0, cache_size=200, coef0=0.0, degree=3, epsilon=0.1,\n",
              "                     gamma='scale', kernel='sigmoid', max_iter=-1,\n",
              "                     shrinking=True, tol=0.001, verbose=False))],\n",
              "         verbose=False)"
            ]
          },
          "metadata": {
            "tags": []
          },
          "execution_count": 69
        }
      ]
    },
    {
      "cell_type": "code",
      "metadata": {
        "colab": {
          "base_uri": "https://localhost:8080/"
        },
        "id": "ymnlB5hHIJef",
        "outputId": "4dd983f3-cec9-4242-a1df-d8fc7c684e6e"
      },
      "source": [
        "pipe = Pipeline([('scler', StandardScaler()), ('model', SVR(kernel='sigmoid'))])\n",
        "\n",
        "param_grid = [{'model__gamma':['scale', 'auto'], 'model__C':[1.0, 0.1, 0.01], \\\n",
        "               'model__epsilon':[1.0, 0.1, 0.01]}]\n",
        "\n",
        "gs = GridSearchCV(estimator=pipe, param_grid=param_grid, \\\n",
        "                  n_jobs=multiprocessing.cpu_count(), cv=5, verbose=True)\n",
        "\n",
        "gs.fit(X, y)"
      ],
      "execution_count": 70,
      "outputs": [
        {
          "output_type": "stream",
          "text": [
            "[Parallel(n_jobs=2)]: Using backend LokyBackend with 2 concurrent workers.\n"
          ],
          "name": "stderr"
        },
        {
          "output_type": "stream",
          "text": [
            "Fitting 5 folds for each of 18 candidates, totalling 90 fits\n"
          ],
          "name": "stdout"
        },
        {
          "output_type": "stream",
          "text": [
            "[Parallel(n_jobs=2)]: Done  90 out of  90 | elapsed:    1.1s finished\n"
          ],
          "name": "stderr"
        },
        {
          "output_type": "execute_result",
          "data": {
            "text/plain": [
              "GridSearchCV(cv=5, error_score=nan,\n",
              "             estimator=Pipeline(memory=None,\n",
              "                                steps=[('scler',\n",
              "                                        StandardScaler(copy=True,\n",
              "                                                       with_mean=True,\n",
              "                                                       with_std=True)),\n",
              "                                       ('model',\n",
              "                                        SVR(C=1.0, cache_size=200, coef0=0.0,\n",
              "                                            degree=3, epsilon=0.1,\n",
              "                                            gamma='scale', kernel='sigmoid',\n",
              "                                            max_iter=-1, shrinking=True,\n",
              "                                            tol=0.001, verbose=False))],\n",
              "                                verbose=False),\n",
              "             iid='deprecated', n_jobs=2,\n",
              "             param_grid=[{'model__C': [1.0, 0.1, 0.01],\n",
              "                          'model__epsilon': [1.0, 0.1, 0.01],\n",
              "                          'model__gamma': ['scale', 'auto']}],\n",
              "             pre_dispatch='2*n_jobs', refit=True, return_train_score=False,\n",
              "             scoring=None, verbose=True)"
            ]
          },
          "metadata": {
            "tags": []
          },
          "execution_count": 70
        }
      ]
    },
    {
      "cell_type": "code",
      "metadata": {
        "colab": {
          "base_uri": "https://localhost:8080/"
        },
        "id": "7Y8BaD-PIJef",
        "outputId": "9109e531-8b2e-4099-cf84-fd94273a5181"
      },
      "source": [
        "gs.best_estimator_"
      ],
      "execution_count": 71,
      "outputs": [
        {
          "output_type": "execute_result",
          "data": {
            "text/plain": [
              "Pipeline(memory=None,\n",
              "         steps=[('scler',\n",
              "                 StandardScaler(copy=True, with_mean=True, with_std=True)),\n",
              "                ('model',\n",
              "                 SVR(C=1.0, cache_size=200, coef0=0.0, degree=3, epsilon=1.0,\n",
              "                     gamma='auto', kernel='sigmoid', max_iter=-1,\n",
              "                     shrinking=True, tol=0.001, verbose=False))],\n",
              "         verbose=False)"
            ]
          },
          "metadata": {
            "tags": []
          },
          "execution_count": 71
        }
      ]
    },
    {
      "cell_type": "code",
      "metadata": {
        "colab": {
          "base_uri": "https://localhost:8080/"
        },
        "id": "WG_-APFrI4bc",
        "outputId": "7c1c6436-5c31-4e6f-f513-c2b76cbfee26"
      },
      "source": [
        "model = gs.best_estimator_\n",
        "model.fit(X_train, y_train)"
      ],
      "execution_count": 72,
      "outputs": [
        {
          "output_type": "execute_result",
          "data": {
            "text/plain": [
              "Pipeline(memory=None,\n",
              "         steps=[('scler',\n",
              "                 StandardScaler(copy=True, with_mean=True, with_std=True)),\n",
              "                ('model',\n",
              "                 SVR(C=1.0, cache_size=200, coef0=0.0, degree=3, epsilon=1.0,\n",
              "                     gamma='auto', kernel='sigmoid', max_iter=-1,\n",
              "                     shrinking=True, tol=0.001, verbose=False))],\n",
              "         verbose=False)"
            ]
          },
          "metadata": {
            "tags": []
          },
          "execution_count": 72
        }
      ]
    },
    {
      "cell_type": "code",
      "metadata": {
        "colab": {
          "base_uri": "https://localhost:8080/"
        },
        "id": "lVxq_FPRJaZ3",
        "outputId": "ec54d095-2ba0-4a50-b3cd-607e48f9cb81"
      },
      "source": [
        "print('Train Data Score : {}'.format(model.score(X_train, y_train)))\n",
        "print('Test Data Score : {}'.format(model.score(X_test, y_test)))"
      ],
      "execution_count": 73,
      "outputs": [
        {
          "output_type": "stream",
          "text": [
            "Train Data Score : 0.38562172802845807\n",
            "Test Data Score : 0.34289716096404177\n"
          ],
          "name": "stdout"
        }
      ]
    },
    {
      "cell_type": "markdown",
      "metadata": {
        "id": "khUcHj9TJ0cI"
      },
      "source": [
        "# Linear SVC"
      ]
    },
    {
      "cell_type": "markdown",
      "metadata": {
        "id": "eRGPuq6wJ7zX"
      },
      "source": [
        "## 유방암"
      ]
    },
    {
      "cell_type": "code",
      "metadata": {
        "colab": {
          "base_uri": "https://localhost:8080/"
        },
        "id": "8PKQbNP5KFwr",
        "outputId": "044aaafd-1b80-4aa9-8814-b6cdad3dbd31"
      },
      "source": [
        "X, y = load_breast_cancer(return_X_y=True)\n",
        "X_train, X_test, y_train, y_test = train_test_split(X, y, test_size=0.2, random_state=1)\n",
        "\n",
        "scaler = StandardScaler()\n",
        "scaler.fit(X_train)\n",
        "X_train = scaler.fit_transform(X_train)\n",
        "X_test = scaler.transform(X_test)\n",
        "\n",
        "linear_svc = SVC(kernel='linear')\n",
        "linear_svc.fit(X_train, y_train)\n",
        "\n",
        "print('Train Data Score : {}'.format(linear_svc.score(X_train, y_train)))\n",
        "print('Test Data Score : {}'.format(linear_svc.score(X_test, y_test)))"
      ],
      "execution_count": 92,
      "outputs": [
        {
          "output_type": "stream",
          "text": [
            "Train Data Score : 0.9868131868131869\n",
            "Test Data Score : 0.9649122807017544\n"
          ],
          "name": "stdout"
        }
      ]
    },
    {
      "cell_type": "code",
      "metadata": {
        "id": "s6Yy6iGsKjXq"
      },
      "source": [
        "def make_meshgrid(x, y, h=.02):\n",
        "    x_min, x_max = x.min()-1, x.max()+1\n",
        "    y_min, y_max = y.min()-1, y.max()+1\n",
        "    xx, yy = np.meshgrid(np.arange(x_min, x_max, h),\n",
        "                         np.arange(y_min, y_max, h))\n",
        "    \n",
        "    return xx, yy"
      ],
      "execution_count": 75,
      "outputs": []
    },
    {
      "cell_type": "code",
      "metadata": {
        "id": "3ApkSm7JViEz"
      },
      "source": [
        "def plot_contours(clf, xx, yy, **params):\n",
        "    Z = clf.predict(np.c_[xx.ravel(), yy.ravel()])\n",
        "    Z = Z.reshape(xx.shape)\n",
        "    out = plt.contourf(xx, yy, Z, **params)\n",
        "\n",
        "    return out"
      ],
      "execution_count": 97,
      "outputs": []
    },
    {
      "cell_type": "code",
      "metadata": {
        "id": "_YvVig72KFw8"
      },
      "source": [
        "X_comp = TSNE(n_components=2).fit_transform(X)\n",
        "X0, X1 = X_comp[:, 0], X_comp[:, 1]\n",
        "xx, yy = make_meshgrid(X0, X1)"
      ],
      "execution_count": 98,
      "outputs": []
    },
    {
      "cell_type": "code",
      "metadata": {
        "colab": {
          "base_uri": "https://localhost:8080/",
          "height": 283
        },
        "id": "XOBWjlnKKFw9",
        "outputId": "d23ca0d1-cc38-428d-d54d-23e5a017df65"
      },
      "source": [
        "linear_svc.fit(X_comp, y)\n",
        "\n",
        "plot_contours(linear_svc, xx, yy, cmap=plt.cm.coolwarm, alpha=0.7)\n",
        "\n",
        "plt.scatter(X0, X1, c=y, cmap=plt.cm.coolwarm, s=20, edgecolors='k')\n",
        "# 고차원 공간에서의 분류를 저차원에서 보고 있는 것이므로 평면상 보이는 것과 다를 수 있음음"
      ],
      "execution_count": 99,
      "outputs": [
        {
          "output_type": "execute_result",
          "data": {
            "text/plain": [
              "<matplotlib.collections.PathCollection at 0x7f27dbcc9e10>"
            ]
          },
          "metadata": {
            "tags": []
          },
          "execution_count": 99
        },
        {
          "output_type": "display_data",
          "data": {
            "image/png": "[encoded data removed]",
            "text/plain": [
              "<Figure size 432x288 with 1 Axes>"
            ]
          },
          "metadata": {
            "tags": [],
            "needs_background": "light"
          }
        }
      ]
    },
    {
      "cell_type": "code",
      "metadata": {
        "colab": {
          "base_uri": "https://localhost:8080/"
        },
        "id": "s-kF40nqKFw9",
        "outputId": "bc459e87-09a5-4ff4-8cec-779a02b6d34d"
      },
      "source": [
        "estimator = make_pipeline(StandardScaler(), SVC(kernel='linear'))\n",
        "\n",
        "cross_validate(estimator=estimator, X=X, y=y, cv=5, \\\n",
        "               n_jobs=multiprocessing.cpu_count(), verbose=True)"
      ],
      "execution_count": 105,
      "outputs": [
        {
          "output_type": "stream",
          "text": [
            "[Parallel(n_jobs=2)]: Using backend LokyBackend with 2 concurrent workers.\n",
            "[Parallel(n_jobs=2)]: Done   5 out of   5 | elapsed:    0.0s finished\n"
          ],
          "name": "stderr"
        },
        {
          "output_type": "execute_result",
          "data": {
            "text/plain": [
              "{'fit_time': array([0.01050353, 0.00658846, 0.00674391, 0.00564003, 0.00523853]),\n",
              " 'score_time': array([0.0009141 , 0.00105166, 0.00085378, 0.00096059, 0.00060892]),\n",
              " 'test_score': array([0.96491228, 0.98245614, 0.96491228, 0.96491228, 0.98230088])}"
            ]
          },
          "metadata": {
            "tags": []
          },
          "execution_count": 105
        }
      ]
    },
    {
      "cell_type": "code",
      "metadata": {
        "colab": {
          "base_uri": "https://localhost:8080/"
        },
        "id": "mnDV-52qKFw-",
        "outputId": "f7c5275f-4ac6-486f-b9b9-74fd6a54290e"
      },
      "source": [
        "'''\n",
        "pipe = Pipeline([('scler', StandardScaler()), ('model', SVC(kernel='linear'))])\n",
        "\n",
        "param_grid = [{'model__kernel':['rbf', 'polynomial', 'sigmoid']}]\n",
        "\n",
        "gs = GridSearchCV(estimator=pipe, param_grid=param_grid, \\\n",
        "                  n_jobs=multiprocessing.cpu_count(), cv=5, verbose=True)\n",
        "\n",
        "gs.fit(X, y)\n",
        "'''"
      ],
      "execution_count": 107,
      "outputs": [
        {
          "output_type": "stream",
          "text": [
            "Fitting 5 folds for each of 3 candidates, totalling 15 fits\n"
          ],
          "name": "stdout"
        },
        {
          "output_type": "stream",
          "text": [
            "[Parallel(n_jobs=2)]: Using backend LokyBackend with 2 concurrent workers.\n",
            "[Parallel(n_jobs=2)]: Done  15 out of  15 | elapsed:    0.1s finished\n"
          ],
          "name": "stderr"
        },
        {
          "output_type": "execute_result",
          "data": {
            "text/plain": [
              "GridSearchCV(cv=5, error_score=nan,\n",
              "             estimator=Pipeline(memory=None,\n",
              "                                steps=[('scler',\n",
              "                                        StandardScaler(copy=True,\n",
              "                                                       with_mean=True,\n",
              "                                                       with_std=True)),\n",
              "                                       ('model',\n",
              "                                        SVC(C=1.0, break_ties=False,\n",
              "                                            cache_size=200, class_weight=None,\n",
              "                                            coef0=0.0,\n",
              "                                            decision_function_shape='ovr',\n",
              "                                            degree=3, gamma='scale',\n",
              "                                            kernel='linear', max_iter=-1,\n",
              "                                            probability=False,\n",
              "                                            random_state=None, shrinking=True,\n",
              "                                            tol=0.001, verbose=False))],\n",
              "                                verbose=False),\n",
              "             iid='deprecated', n_jobs=2,\n",
              "             param_grid=[{'model__kernel': ['rbf', 'polynomial', 'sigmoid']}],\n",
              "             pre_dispatch='2*n_jobs', refit=True, return_train_score=False,\n",
              "             scoring=None, verbose=True)"
            ]
          },
          "metadata": {
            "tags": []
          },
          "execution_count": 107
        }
      ]
    },
    {
      "cell_type": "code",
      "metadata": {
        "colab": {
          "base_uri": "https://localhost:8080/"
        },
        "id": "QG6CCYPiKFxA",
        "outputId": "34b3559e-90a6-483e-a074-d512de0b6dea"
      },
      "source": [
        "'''\n",
        "gs.best_estimator_\n",
        "'''"
      ],
      "execution_count": 102,
      "outputs": [
        {
          "output_type": "execute_result",
          "data": {
            "text/plain": [
              "Pipeline(memory=None,\n",
              "         steps=[('scler',\n",
              "                 StandardScaler(copy=True, with_mean=True, with_std=True)),\n",
              "                ('model',\n",
              "                 SVR(C=1.0, cache_size=200, coef0=0.0, degree=3, epsilon=0.1,\n",
              "                     gamma='scale', kernel='rbf', max_iter=-1, shrinking=True,\n",
              "                     tol=0.001, verbose=False))],\n",
              "         verbose=False)"
            ]
          },
          "metadata": {
            "tags": []
          },
          "execution_count": 102
        }
      ]
    },
    {
      "cell_type": "code",
      "metadata": {
        "colab": {
          "base_uri": "https://localhost:8080/"
        },
        "id": "nus-jdo8KFxC",
        "outputId": "deab35c5-598f-4edf-89fa-71c96a086e65"
      },
      "source": [
        "pipe = Pipeline([('scler', StandardScaler()), ('model', SVC(kernel='linear'))])\n",
        "\n",
        "param_grid = [{'model__gamma':['scale', 'auto'], 'model__C':[1.0, 0.1, 0.01]}]\n",
        "\n",
        "gs = GridSearchCV(estimator=pipe, param_grid=param_grid, \\\n",
        "                  n_jobs=multiprocessing.cpu_count(), cv=5, verbose=True)\n",
        "\n",
        "gs.fit(X, y)"
      ],
      "execution_count": 127,
      "outputs": [
        {
          "output_type": "stream",
          "text": [
            "Fitting 5 folds for each of 6 candidates, totalling 30 fits\n"
          ],
          "name": "stdout"
        },
        {
          "output_type": "stream",
          "text": [
            "[Parallel(n_jobs=2)]: Using backend LokyBackend with 2 concurrent workers.\n",
            "[Parallel(n_jobs=2)]: Done  30 out of  30 | elapsed:    0.1s finished\n"
          ],
          "name": "stderr"
        },
        {
          "output_type": "execute_result",
          "data": {
            "text/plain": [
              "GridSearchCV(cv=5, error_score=nan,\n",
              "             estimator=Pipeline(memory=None,\n",
              "                                steps=[('scler',\n",
              "                                        StandardScaler(copy=True,\n",
              "                                                       with_mean=True,\n",
              "                                                       with_std=True)),\n",
              "                                       ('model',\n",
              "                                        SVC(C=1.0, break_ties=False,\n",
              "                                            cache_size=200, class_weight=None,\n",
              "                                            coef0=0.0,\n",
              "                                            decision_function_shape='ovr',\n",
              "                                            degree=3, gamma='scale',\n",
              "                                            kernel='linear', max_iter=-1,\n",
              "                                            probability=False,\n",
              "                                            random_state=None, shrinking=True,\n",
              "                                            tol=0.001, verbose=False))],\n",
              "                                verbose=False),\n",
              "             iid='deprecated', n_jobs=2,\n",
              "             param_grid=[{'model__C': [1.0, 0.1, 0.01],\n",
              "                          'model__gamma': ['scale', 'auto']}],\n",
              "             pre_dispatch='2*n_jobs', refit=True, return_train_score=False,\n",
              "             scoring=None, verbose=True)"
            ]
          },
          "metadata": {
            "tags": []
          },
          "execution_count": 127
        }
      ]
    },
    {
      "cell_type": "code",
      "metadata": {
        "colab": {
          "base_uri": "https://localhost:8080/"
        },
        "id": "UjzodR50KFxE",
        "outputId": "937b829a-1801-433d-fbac-9cea4959d2b0"
      },
      "source": [
        "gs.best_estimator_"
      ],
      "execution_count": 110,
      "outputs": [
        {
          "output_type": "execute_result",
          "data": {
            "text/plain": [
              "Pipeline(memory=None,\n",
              "         steps=[('scler',\n",
              "                 StandardScaler(copy=True, with_mean=True, with_std=True)),\n",
              "                ('model',\n",
              "                 SVC(C=0.1, break_ties=False, cache_size=200, class_weight=None,\n",
              "                     coef0=0.0, decision_function_shape='ovr', degree=3,\n",
              "                     gamma='scale', kernel='linear', max_iter=-1,\n",
              "                     probability=False, random_state=None, shrinking=True,\n",
              "                     tol=0.001, verbose=False))],\n",
              "         verbose=False)"
            ]
          },
          "metadata": {
            "tags": []
          },
          "execution_count": 110
        }
      ]
    },
    {
      "cell_type": "code",
      "metadata": {
        "colab": {
          "base_uri": "https://localhost:8080/"
        },
        "id": "HOVc6puwKFxF",
        "outputId": "28a2ffda-d077-4783-d5f5-e3a505036fc3"
      },
      "source": [
        "model = gs.best_estimator_\n",
        "model.fit(X_train, y_train)"
      ],
      "execution_count": 111,
      "outputs": [
        {
          "output_type": "execute_result",
          "data": {
            "text/plain": [
              "Pipeline(memory=None,\n",
              "         steps=[('scler',\n",
              "                 StandardScaler(copy=True, with_mean=True, with_std=True)),\n",
              "                ('model',\n",
              "                 SVC(C=0.1, break_ties=False, cache_size=200, class_weight=None,\n",
              "                     coef0=0.0, decision_function_shape='ovr', degree=3,\n",
              "                     gamma='scale', kernel='linear', max_iter=-1,\n",
              "                     probability=False, random_state=None, shrinking=True,\n",
              "                     tol=0.001, verbose=False))],\n",
              "         verbose=False)"
            ]
          },
          "metadata": {
            "tags": []
          },
          "execution_count": 111
        }
      ]
    },
    {
      "cell_type": "code",
      "metadata": {
        "colab": {
          "base_uri": "https://localhost:8080/"
        },
        "id": "PgknqQnoKFxF",
        "outputId": "0b3e343c-cfb0-4ccd-8a4a-ff1b64b84912"
      },
      "source": [
        "print('Train Data Score : {}'.format(model.score(X_train, y_train)))\n",
        "print('Test Data Score : {}'.format(model.score(X_test, y_test)))"
      ],
      "execution_count": 112,
      "outputs": [
        {
          "output_type": "stream",
          "text": [
            "Train Data Score : 0.9846153846153847\n",
            "Test Data Score : 0.9649122807017544\n"
          ],
          "name": "stdout"
        }
      ]
    },
    {
      "cell_type": "markdown",
      "metadata": {
        "id": "SwS6H1XkzSLK"
      },
      "source": [
        "## IRIS"
      ]
    },
    {
      "cell_type": "code",
      "metadata": {
        "colab": {
          "base_uri": "https://localhost:8080/"
        },
        "id": "4-Ctv5rWzVuT",
        "outputId": "e49d2dd6-5eea-46f6-fa15-75f0ceb4d204"
      },
      "source": [
        "X, y = load_iris(return_X_y=True)\n",
        "X_train, X_test, y_train, y_test = train_test_split(X, y, test_size=0.2, random_state=1)\n",
        "\n",
        "scaler = StandardScaler()\n",
        "scaler.fit(X_train)\n",
        "X_train = scaler.fit_transform(X_train)\n",
        "X_test = scaler.transform(X_test)\n",
        "\n",
        "linear_svc = SVC(kernel='linear')\n",
        "linear_svc.fit(X_train, y_train)\n",
        "\n",
        "print('Train Data Score : {}'.format(linear_svc.score(X_train, y_train)))\n",
        "print('Test Data Score : {}'.format(linear_svc.score(X_test, y_test)))"
      ],
      "execution_count": 113,
      "outputs": [
        {
          "output_type": "stream",
          "text": [
            "Train Data Score : 0.9666666666666667\n",
            "Test Data Score : 0.9666666666666667\n"
          ],
          "name": "stdout"
        }
      ]
    },
    {
      "cell_type": "code",
      "metadata": {
        "id": "mEqmdhnWzVub"
      },
      "source": [
        "def make_meshgrid(x, y, h=.02):\n",
        "    x_min, x_max = x.min()-1, x.max()+1\n",
        "    y_min, y_max = y.min()-1, y.max()+1\n",
        "    xx, yy = np.meshgrid(np.arange(x_min, x_max, h),\n",
        "                         np.arange(y_min, y_max, h))\n",
        "    \n",
        "    return xx, yy"
      ],
      "execution_count": 114,
      "outputs": []
    },
    {
      "cell_type": "code",
      "metadata": {
        "id": "zOrGmTMJzVub"
      },
      "source": [
        "def plot_contours(clf, xx, yy, **params):\n",
        "    Z = clf.predict(np.c_[xx.ravel(), yy.ravel()])\n",
        "    Z = Z.reshape(xx.shape)\n",
        "    out = plt.contourf(xx, yy, Z, **params)\n",
        "\n",
        "    return out"
      ],
      "execution_count": 115,
      "outputs": []
    },
    {
      "cell_type": "code",
      "metadata": {
        "id": "GlT5KFhXzVuc"
      },
      "source": [
        "X_comp = TSNE(n_components=2).fit_transform(X)\n",
        "X0, X1 = X_comp[:, 0], X_comp[:, 1]\n",
        "xx, yy = make_meshgrid(X0, X1)"
      ],
      "execution_count": 116,
      "outputs": []
    },
    {
      "cell_type": "code",
      "metadata": {
        "colab": {
          "base_uri": "https://localhost:8080/",
          "height": 283
        },
        "id": "p28Tfb81zVuc",
        "outputId": "bf5d3103-9570-40a8-b0cb-e71e3a46803e"
      },
      "source": [
        "linear_svc.fit(X_comp, y)\n",
        "\n",
        "plot_contours(linear_svc, xx, yy, cmap=plt.cm.coolwarm, alpha=0.7)\n",
        "\n",
        "plt.scatter(X0, X1, c=y, cmap=plt.cm.coolwarm, s=20, edgecolors='k')"
      ],
      "execution_count": 117,
      "outputs": [
        {
          "output_type": "execute_result",
          "data": {
            "text/plain": [
              "<matplotlib.collections.PathCollection at 0x7f27dba8f210>"
            ]
          },
          "metadata": {
            "tags": []
          },
          "execution_count": 117
        },
        {
          "output_type": "display_data",
          "data": {
            "image/png": "[encoded data removed]",
            "text/plain": [
              "<Figure size 432x288 with 1 Axes>"
            ]
          },
          "metadata": {
            "tags": [],
            "needs_background": "light"
          }
        }
      ]
    },
    {
      "cell_type": "code",
      "metadata": {
        "colab": {
          "base_uri": "https://localhost:8080/"
        },
        "id": "0q2orTQczVuc",
        "outputId": "8b505bde-ef68-4ab3-8836-7913a2e38835"
      },
      "source": [
        "estimator = make_pipeline(StandardScaler(), SVC(kernel='linear'))\n",
        "\n",
        "cross_validate(estimator=estimator, X=X, y=y, cv=5, \\\n",
        "               n_jobs=multiprocessing.cpu_count(), verbose=True)"
      ],
      "execution_count": 118,
      "outputs": [
        {
          "output_type": "stream",
          "text": [
            "[Parallel(n_jobs=2)]: Using backend LokyBackend with 2 concurrent workers.\n",
            "[Parallel(n_jobs=2)]: Done   5 out of   5 | elapsed:    0.8s finished\n"
          ],
          "name": "stderr"
        },
        {
          "output_type": "execute_result",
          "data": {
            "text/plain": [
              "{'fit_time': array([0.00279856, 0.00243807, 0.00187302, 0.0015614 , 0.00160456]),\n",
              " 'score_time': array([0.00071478, 0.00067997, 0.00057793, 0.00054288, 0.00059104]),\n",
              " 'test_score': array([0.96666667, 1.        , 0.93333333, 0.93333333, 1.        ])}"
            ]
          },
          "metadata": {
            "tags": []
          },
          "execution_count": 118
        }
      ]
    },
    {
      "cell_type": "code",
      "metadata": {
        "colab": {
          "base_uri": "https://localhost:8080/"
        },
        "id": "8Bq1_LDvzVud",
        "outputId": "6fd2ddd8-2254-493d-de04-92e78fe55991"
      },
      "source": [
        "'''\n",
        "pipe = Pipeline([('scler', StandardScaler()), ('model', SVC(kernel='linear'))])\n",
        "\n",
        "param_grid = [{'model__kernel':['rbf', 'polynomial', 'sigmoid']}]\n",
        "\n",
        "gs = GridSearchCV(estimator=pipe, param_grid=param_grid, \\\n",
        "                  n_jobs=multiprocessing.cpu_count(), cv=5, verbose=True)\n",
        "\n",
        "gs.fit(X, y)\n",
        "'''"
      ],
      "execution_count": 119,
      "outputs": [
        {
          "output_type": "stream",
          "text": [
            "Fitting 5 folds for each of 3 candidates, totalling 15 fits\n"
          ],
          "name": "stdout"
        },
        {
          "output_type": "stream",
          "text": [
            "[Parallel(n_jobs=2)]: Using backend LokyBackend with 2 concurrent workers.\n",
            "[Parallel(n_jobs=2)]: Done  15 out of  15 | elapsed:    0.1s finished\n"
          ],
          "name": "stderr"
        },
        {
          "output_type": "execute_result",
          "data": {
            "text/plain": [
              "GridSearchCV(cv=5, error_score=nan,\n",
              "             estimator=Pipeline(memory=None,\n",
              "                                steps=[('scler',\n",
              "                                        StandardScaler(copy=True,\n",
              "                                                       with_mean=True,\n",
              "                                                       with_std=True)),\n",
              "                                       ('model',\n",
              "                                        SVC(C=1.0, break_ties=False,\n",
              "                                            cache_size=200, class_weight=None,\n",
              "                                            coef0=0.0,\n",
              "                                            decision_function_shape='ovr',\n",
              "                                            degree=3, gamma='scale',\n",
              "                                            kernel='linear', max_iter=-1,\n",
              "                                            probability=False,\n",
              "                                            random_state=None, shrinking=True,\n",
              "                                            tol=0.001, verbose=False))],\n",
              "                                verbose=False),\n",
              "             iid='deprecated', n_jobs=2,\n",
              "             param_grid=[{'model__kernel': ['rbf', 'polynomial', 'sigmoid']}],\n",
              "             pre_dispatch='2*n_jobs', refit=True, return_train_score=False,\n",
              "             scoring=None, verbose=True)"
            ]
          },
          "metadata": {
            "tags": []
          },
          "execution_count": 119
        }
      ]
    },
    {
      "cell_type": "code",
      "metadata": {
        "colab": {
          "base_uri": "https://localhost:8080/"
        },
        "id": "QXyvGZavzVud",
        "outputId": "82d00635-46d4-450c-c987-48ca20e77ad6"
      },
      "source": [
        "'''\n",
        "gs.best_estimator_\n",
        "'''"
      ],
      "execution_count": 120,
      "outputs": [
        {
          "output_type": "execute_result",
          "data": {
            "text/plain": [
              "Pipeline(memory=None,\n",
              "         steps=[('scler',\n",
              "                 StandardScaler(copy=True, with_mean=True, with_std=True)),\n",
              "                ('model',\n",
              "                 SVC(C=1.0, break_ties=False, cache_size=200, class_weight=None,\n",
              "                     coef0=0.0, decision_function_shape='ovr', degree=3,\n",
              "                     gamma='scale', kernel='rbf', max_iter=-1,\n",
              "                     probability=False, random_state=None, shrinking=True,\n",
              "                     tol=0.001, verbose=False))],\n",
              "         verbose=False)"
            ]
          },
          "metadata": {
            "tags": []
          },
          "execution_count": 120
        }
      ]
    },
    {
      "cell_type": "code",
      "metadata": {
        "colab": {
          "base_uri": "https://localhost:8080/"
        },
        "id": "n0jjz3u2zVue",
        "outputId": "77077f2a-7c7b-492f-e84c-c30464b2a1a8"
      },
      "source": [
        "pipe = Pipeline([('scler', StandardScaler()), ('model', SVC(kernel='linear'))])\n",
        "\n",
        "param_grid = [{'model__gamma':['scale', 'auto'], 'model__C':[1.0, 0.1, 0.01]}]\n",
        "\n",
        "gs = GridSearchCV(estimator=pipe, param_grid=param_grid, \\\n",
        "                  n_jobs=multiprocessing.cpu_count(), cv=5, verbose=True)\n",
        "\n",
        "gs.fit(X, y)"
      ],
      "execution_count": 121,
      "outputs": [
        {
          "output_type": "stream",
          "text": [
            "Fitting 5 folds for each of 6 candidates, totalling 30 fits\n"
          ],
          "name": "stdout"
        },
        {
          "output_type": "stream",
          "text": [
            "[Parallel(n_jobs=2)]: Using backend LokyBackend with 2 concurrent workers.\n",
            "[Parallel(n_jobs=2)]: Done  30 out of  30 | elapsed:    0.1s finished\n"
          ],
          "name": "stderr"
        },
        {
          "output_type": "execute_result",
          "data": {
            "text/plain": [
              "GridSearchCV(cv=5, error_score=nan,\n",
              "             estimator=Pipeline(memory=None,\n",
              "                                steps=[('scler',\n",
              "                                        StandardScaler(copy=True,\n",
              "                                                       with_mean=True,\n",
              "                                                       with_std=True)),\n",
              "                                       ('model',\n",
              "                                        SVC(C=1.0, break_ties=False,\n",
              "                                            cache_size=200, class_weight=None,\n",
              "                                            coef0=0.0,\n",
              "                                            decision_function_shape='ovr',\n",
              "                                            degree=3, gamma='scale',\n",
              "                                            kernel='linear', max_iter=-1,\n",
              "                                            probability=False,\n",
              "                                            random_state=None, shrinking=True,\n",
              "                                            tol=0.001, verbose=False))],\n",
              "                                verbose=False),\n",
              "             iid='deprecated', n_jobs=2,\n",
              "             param_grid=[{'model__C': [1.0, 0.1, 0.01],\n",
              "                          'model__gamma': ['scale', 'auto']}],\n",
              "             pre_dispatch='2*n_jobs', refit=True, return_train_score=False,\n",
              "             scoring=None, verbose=True)"
            ]
          },
          "metadata": {
            "tags": []
          },
          "execution_count": 121
        }
      ]
    },
    {
      "cell_type": "code",
      "metadata": {
        "colab": {
          "base_uri": "https://localhost:8080/"
        },
        "id": "TOFEb6wAzVuf",
        "outputId": "bd2f35b0-b5ea-4c32-d81c-05d5793777b9"
      },
      "source": [
        "gs.best_estimator_"
      ],
      "execution_count": 123,
      "outputs": [
        {
          "output_type": "execute_result",
          "data": {
            "text/plain": [
              "Pipeline(memory=None,\n",
              "         steps=[('scler',\n",
              "                 StandardScaler(copy=True, with_mean=True, with_std=True)),\n",
              "                ('model',\n",
              "                 SVC(C=1.0, break_ties=False, cache_size=200, class_weight=None,\n",
              "                     coef0=0.0, decision_function_shape='ovr', degree=3,\n",
              "                     gamma='scale', kernel='linear', max_iter=-1,\n",
              "                     probability=False, random_state=None, shrinking=True,\n",
              "                     tol=0.001, verbose=False))],\n",
              "         verbose=False)"
            ]
          },
          "metadata": {
            "tags": []
          },
          "execution_count": 123
        }
      ]
    },
    {
      "cell_type": "code",
      "metadata": {
        "colab": {
          "base_uri": "https://localhost:8080/"
        },
        "id": "knwl799QzVug",
        "outputId": "00ed2204-991f-42d3-f57c-39f629d94a19"
      },
      "source": [
        "model = gs.best_estimator_\n",
        "model.fit(X_train, y_train)"
      ],
      "execution_count": 124,
      "outputs": [
        {
          "output_type": "execute_result",
          "data": {
            "text/plain": [
              "Pipeline(memory=None,\n",
              "         steps=[('scler',\n",
              "                 StandardScaler(copy=True, with_mean=True, with_std=True)),\n",
              "                ('model',\n",
              "                 SVC(C=1.0, break_ties=False, cache_size=200, class_weight=None,\n",
              "                     coef0=0.0, decision_function_shape='ovr', degree=3,\n",
              "                     gamma='scale', kernel='linear', max_iter=-1,\n",
              "                     probability=False, random_state=None, shrinking=True,\n",
              "                     tol=0.001, verbose=False))],\n",
              "         verbose=False)"
            ]
          },
          "metadata": {
            "tags": []
          },
          "execution_count": 124
        }
      ]
    },
    {
      "cell_type": "code",
      "metadata": {
        "colab": {
          "base_uri": "https://localhost:8080/"
        },
        "id": "aGqWUB_5zVuh",
        "outputId": "f8292663-49e3-41d9-8181-c6c0a5b2d6a2"
      },
      "source": [
        "print('Train Data Score : {}'.format(model.score(X_train, y_train)))\n",
        "print('Test Data Score : {}'.format(model.score(X_test, y_test)))"
      ],
      "execution_count": 125,
      "outputs": [
        {
          "output_type": "stream",
          "text": [
            "Train Data Score : 0.9666666666666667\n",
            "Test Data Score : 0.9666666666666667\n"
          ],
          "name": "stdout"
        }
      ]
    },
    {
      "cell_type": "markdown",
      "metadata": {
        "id": "ok1i0UpB1CxC"
      },
      "source": [
        "## wine"
      ]
    },
    {
      "cell_type": "code",
      "metadata": {
        "colab": {
          "base_uri": "https://localhost:8080/"
        },
        "id": "ZvIUSyKf1Qli",
        "outputId": "f2eb210f-74b7-459d-caf8-059f98bd2abf"
      },
      "source": [
        "X, y = load_wine(return_X_y=True)\n",
        "X_train, X_test, y_train, y_test = train_test_split(X, y, test_size=0.2, random_state=1)\n",
        "\n",
        "scaler = StandardScaler()\n",
        "scaler.fit(X_train)\n",
        "X_train = scaler.fit_transform(X_train)\n",
        "X_test = scaler.transform(X_test)\n",
        "\n",
        "linear_svc = SVC(kernel='linear')\n",
        "linear_svc.fit(X_train, y_train)\n",
        "\n",
        "print('Train Data Score : {}'.format(linear_svc.score(X_train, y_train)))\n",
        "print('Test Data Score : {}'.format(linear_svc.score(X_test, y_test)))"
      ],
      "execution_count": 133,
      "outputs": [
        {
          "output_type": "stream",
          "text": [
            "Train Data Score : 1.0\n",
            "Test Data Score : 0.9444444444444444\n"
          ],
          "name": "stdout"
        }
      ]
    },
    {
      "cell_type": "code",
      "metadata": {
        "id": "JRe7MPrw1Qls"
      },
      "source": [
        "def make_meshgrid(x, y, h=.02):\n",
        "    x_min, x_max = x.min()-1, x.max()+1\n",
        "    y_min, y_max = y.min()-1, y.max()+1\n",
        "    xx, yy = np.meshgrid(np.arange(x_min, x_max, h),\n",
        "                         np.arange(y_min, y_max, h))\n",
        "    \n",
        "    return xx, yy"
      ],
      "execution_count": 134,
      "outputs": []
    },
    {
      "cell_type": "code",
      "metadata": {
        "id": "msMGarW_1Qlt"
      },
      "source": [
        "def plot_contours(clf, xx, yy, **params):\n",
        "    Z = clf.predict(np.c_[xx.ravel(), yy.ravel()])\n",
        "    Z = Z.reshape(xx.shape)\n",
        "    out = plt.contourf(xx, yy, Z, **params)\n",
        "\n",
        "    return out"
      ],
      "execution_count": 135,
      "outputs": []
    },
    {
      "cell_type": "code",
      "metadata": {
        "id": "PsEWoXd-1Qlt"
      },
      "source": [
        "X_comp = TSNE(n_components=2).fit_transform(X)\n",
        "X0, X1 = X_comp[:, 0], X_comp[:, 1]\n",
        "xx, yy = make_meshgrid(X0, X1)"
      ],
      "execution_count": 136,
      "outputs": []
    },
    {
      "cell_type": "code",
      "metadata": {
        "colab": {
          "base_uri": "https://localhost:8080/",
          "height": 283
        },
        "id": "8pXLO6Ts1Qlu",
        "outputId": "29dd5980-7dff-48d8-a90a-ace46afefb7f"
      },
      "source": [
        "linear_svc.fit(X_comp, y)\n",
        "\n",
        "plot_contours(linear_svc, xx, yy, cmap=plt.cm.coolwarm, alpha=0.7)\n",
        "\n",
        "plt.scatter(X0, X1, c=y, cmap=plt.cm.coolwarm, s=20, edgecolors='k')"
      ],
      "execution_count": 137,
      "outputs": [
        {
          "output_type": "execute_result",
          "data": {
            "text/plain": [
              "<matplotlib.collections.PathCollection at 0x7f27d2dbdb90>"
            ]
          },
          "metadata": {
            "tags": []
          },
          "execution_count": 137
        },
        {
          "output_type": "display_data",
          "data": {
            "image/png": "[encoded data removed]",
            "text/plain": [
              "<Figure size 432x288 with 1 Axes>"
            ]
          },
          "metadata": {
            "tags": [],
            "needs_background": "light"
          }
        }
      ]
    },
    {
      "cell_type": "code",
      "metadata": {
        "colab": {
          "base_uri": "https://localhost:8080/"
        },
        "id": "DBLw1exh1Qlv",
        "outputId": "0f8d145c-032d-42b7-d0ea-92bfb342ce14"
      },
      "source": [
        "estimator = make_pipeline(StandardScaler(), SVC(kernel='linear'))\n",
        "\n",
        "cross_validate(estimator=estimator, X=X, y=y, cv=5, \\\n",
        "               n_jobs=multiprocessing.cpu_count(), verbose=True)"
      ],
      "execution_count": 138,
      "outputs": [
        {
          "output_type": "stream",
          "text": [
            "[Parallel(n_jobs=2)]: Using backend LokyBackend with 2 concurrent workers.\n",
            "[Parallel(n_jobs=2)]: Done   5 out of   5 | elapsed:    0.8s finished\n"
          ],
          "name": "stderr"
        },
        {
          "output_type": "execute_result",
          "data": {
            "text/plain": [
              "{'fit_time': array([0.00302339, 0.00225425, 0.00296474, 0.00229239, 0.00211239]),\n",
              " 'score_time': array([0.00077581, 0.0006187 , 0.00071502, 0.00071383, 0.0006597 ]),\n",
              " 'test_score': array([0.94444444, 0.97222222, 0.97222222, 0.97142857, 0.94285714])}"
            ]
          },
          "metadata": {
            "tags": []
          },
          "execution_count": 138
        }
      ]
    },
    {
      "cell_type": "code",
      "metadata": {
        "colab": {
          "base_uri": "https://localhost:8080/"
        },
        "id": "QKSWjbts1Qlv",
        "outputId": "6fd2ddd8-2254-493d-de04-92e78fe55991"
      },
      "source": [
        "'''\n",
        "pipe = Pipeline([('scler', StandardScaler()), ('model', SVC(kernel='linear'))])\n",
        "\n",
        "param_grid = [{'model__kernel':['rbf', 'polynomial', 'sigmoid']}]\n",
        "\n",
        "gs = GridSearchCV(estimator=pipe, param_grid=param_grid, \\\n",
        "                  n_jobs=multiprocessing.cpu_count(), cv=5, verbose=True)\n",
        "\n",
        "gs.fit(X, y)\n",
        "'''"
      ],
      "execution_count": null,
      "outputs": [
        {
          "output_type": "stream",
          "text": [
            "Fitting 5 folds for each of 3 candidates, totalling 15 fits\n"
          ],
          "name": "stdout"
        },
        {
          "output_type": "stream",
          "text": [
            "[Parallel(n_jobs=2)]: Using backend LokyBackend with 2 concurrent workers.\n",
            "[Parallel(n_jobs=2)]: Done  15 out of  15 | elapsed:    0.1s finished\n"
          ],
          "name": "stderr"
        },
        {
          "output_type": "execute_result",
          "data": {
            "text/plain": [
              "GridSearchCV(cv=5, error_score=nan,\n",
              "             estimator=Pipeline(memory=None,\n",
              "                                steps=[('scler',\n",
              "                                        StandardScaler(copy=True,\n",
              "                                                       with_mean=True,\n",
              "                                                       with_std=True)),\n",
              "                                       ('model',\n",
              "                                        SVC(C=1.0, break_ties=False,\n",
              "                                            cache_size=200, class_weight=None,\n",
              "                                            coef0=0.0,\n",
              "                                            decision_function_shape='ovr',\n",
              "                                            degree=3, gamma='scale',\n",
              "                                            kernel='linear', max_iter=-1,\n",
              "                                            probability=False,\n",
              "                                            random_state=None, shrinking=True,\n",
              "                                            tol=0.001, verbose=False))],\n",
              "                                verbose=False),\n",
              "             iid='deprecated', n_jobs=2,\n",
              "             param_grid=[{'model__kernel': ['rbf', 'polynomial', 'sigmoid']}],\n",
              "             pre_dispatch='2*n_jobs', refit=True, return_train_score=False,\n",
              "             scoring=None, verbose=True)"
            ]
          },
          "metadata": {
            "tags": []
          },
          "execution_count": 119
        }
      ]
    },
    {
      "cell_type": "code",
      "metadata": {
        "colab": {
          "base_uri": "https://localhost:8080/"
        },
        "id": "a5Ocu-ZK1Qlw",
        "outputId": "82d00635-46d4-450c-c987-48ca20e77ad6"
      },
      "source": [
        "'''\n",
        "gs.best_estimator_\n",
        "'''"
      ],
      "execution_count": null,
      "outputs": [
        {
          "output_type": "execute_result",
          "data": {
            "text/plain": [
              "Pipeline(memory=None,\n",
              "         steps=[('scler',\n",
              "                 StandardScaler(copy=True, with_mean=True, with_std=True)),\n",
              "                ('model',\n",
              "                 SVC(C=1.0, break_ties=False, cache_size=200, class_weight=None,\n",
              "                     coef0=0.0, decision_function_shape='ovr', degree=3,\n",
              "                     gamma='scale', kernel='rbf', max_iter=-1,\n",
              "                     probability=False, random_state=None, shrinking=True,\n",
              "                     tol=0.001, verbose=False))],\n",
              "         verbose=False)"
            ]
          },
          "metadata": {
            "tags": []
          },
          "execution_count": 120
        }
      ]
    },
    {
      "cell_type": "code",
      "metadata": {
        "colab": {
          "base_uri": "https://localhost:8080/"
        },
        "id": "IVT3Vdn71Qlw",
        "outputId": "d6089d85-5456-4d0a-d5e9-9f772bff2093"
      },
      "source": [
        "pipe = Pipeline([('scler', StandardScaler()), ('model', SVC(kernel='linear'))])\n",
        "\n",
        "param_grid = [{'model__gamma':['scale', 'auto'], 'model__C':[1.0, 0.1, 0.01]}]\n",
        "\n",
        "gs = GridSearchCV(estimator=pipe, param_grid=param_grid, \\\n",
        "                  n_jobs=multiprocessing.cpu_count(), cv=5, verbose=True)\n",
        "\n",
        "gs.fit(X, y)"
      ],
      "execution_count": 139,
      "outputs": [
        {
          "output_type": "stream",
          "text": [
            "Fitting 5 folds for each of 6 candidates, totalling 30 fits\n"
          ],
          "name": "stdout"
        },
        {
          "output_type": "stream",
          "text": [
            "[Parallel(n_jobs=2)]: Using backend LokyBackend with 2 concurrent workers.\n",
            "[Parallel(n_jobs=2)]: Done  30 out of  30 | elapsed:    0.1s finished\n"
          ],
          "name": "stderr"
        },
        {
          "output_type": "execute_result",
          "data": {
            "text/plain": [
              "GridSearchCV(cv=5, error_score=nan,\n",
              "             estimator=Pipeline(memory=None,\n",
              "                                steps=[('scler',\n",
              "                                        StandardScaler(copy=True,\n",
              "                                                       with_mean=True,\n",
              "                                                       with_std=True)),\n",
              "                                       ('model',\n",
              "                                        SVC(C=1.0, break_ties=False,\n",
              "                                            cache_size=200, class_weight=None,\n",
              "                                            coef0=0.0,\n",
              "                                            decision_function_shape='ovr',\n",
              "                                            degree=3, gamma='scale',\n",
              "                                            kernel='linear', max_iter=-1,\n",
              "                                            probability=False,\n",
              "                                            random_state=None, shrinking=True,\n",
              "                                            tol=0.001, verbose=False))],\n",
              "                                verbose=False),\n",
              "             iid='deprecated', n_jobs=2,\n",
              "             param_grid=[{'model__C': [1.0, 0.1, 0.01],\n",
              "                          'model__gamma': ['scale', 'auto']}],\n",
              "             pre_dispatch='2*n_jobs', refit=True, return_train_score=False,\n",
              "             scoring=None, verbose=True)"
            ]
          },
          "metadata": {
            "tags": []
          },
          "execution_count": 139
        }
      ]
    },
    {
      "cell_type": "code",
      "metadata": {
        "colab": {
          "base_uri": "https://localhost:8080/"
        },
        "id": "ljxemVi81Qlw",
        "outputId": "9a8336f8-d8a2-44cc-ed59-9c14e5111f76"
      },
      "source": [
        "gs.best_estimator_"
      ],
      "execution_count": 140,
      "outputs": [
        {
          "output_type": "execute_result",
          "data": {
            "text/plain": [
              "Pipeline(memory=None,\n",
              "         steps=[('scler',\n",
              "                 StandardScaler(copy=True, with_mean=True, with_std=True)),\n",
              "                ('model',\n",
              "                 SVC(C=0.1, break_ties=False, cache_size=200, class_weight=None,\n",
              "                     coef0=0.0, decision_function_shape='ovr', degree=3,\n",
              "                     gamma='scale', kernel='linear', max_iter=-1,\n",
              "                     probability=False, random_state=None, shrinking=True,\n",
              "                     tol=0.001, verbose=False))],\n",
              "         verbose=False)"
            ]
          },
          "metadata": {
            "tags": []
          },
          "execution_count": 140
        }
      ]
    },
    {
      "cell_type": "code",
      "metadata": {
        "colab": {
          "base_uri": "https://localhost:8080/"
        },
        "id": "4NJpxHym1Qlx",
        "outputId": "66eb5c45-c9de-40ff-99b1-04eee945291a"
      },
      "source": [
        "model = gs.best_estimator_\n",
        "model.fit(X_train, y_train)"
      ],
      "execution_count": 141,
      "outputs": [
        {
          "output_type": "execute_result",
          "data": {
            "text/plain": [
              "Pipeline(memory=None,\n",
              "         steps=[('scler',\n",
              "                 StandardScaler(copy=True, with_mean=True, with_std=True)),\n",
              "                ('model',\n",
              "                 SVC(C=0.1, break_ties=False, cache_size=200, class_weight=None,\n",
              "                     coef0=0.0, decision_function_shape='ovr', degree=3,\n",
              "                     gamma='scale', kernel='linear', max_iter=-1,\n",
              "                     probability=False, random_state=None, shrinking=True,\n",
              "                     tol=0.001, verbose=False))],\n",
              "         verbose=False)"
            ]
          },
          "metadata": {
            "tags": []
          },
          "execution_count": 141
        }
      ]
    },
    {
      "cell_type": "code",
      "metadata": {
        "colab": {
          "base_uri": "https://localhost:8080/"
        },
        "id": "O9OmjoPd1Qlx",
        "outputId": "03580302-af4f-4312-9949-0491e21f2715"
      },
      "source": [
        "print('Train Data Score : {}'.format(model.score(X_train, y_train)))\n",
        "print('Test Data Score : {}'.format(model.score(X_test, y_test)))"
      ],
      "execution_count": 142,
      "outputs": [
        {
          "output_type": "stream",
          "text": [
            "Train Data Score : 0.9929577464788732\n",
            "Test Data Score : 1.0\n"
          ],
          "name": "stdout"
        }
      ]
    },
    {
      "cell_type": "markdown",
      "metadata": {
        "id": "4ZY7aB0w2761"
      },
      "source": [
        "# kernel SVC"
      ]
    },
    {
      "cell_type": "markdown",
      "metadata": {
        "id": "nxrDWAo33Dkp"
      },
      "source": [
        "## 유방암"
      ]
    },
    {
      "cell_type": "code",
      "metadata": {
        "colab": {
          "base_uri": "https://localhost:8080/"
        },
        "id": "kSnK6jGk3Hdp",
        "outputId": "f331ae04-2b40-4bf6-e318-4cedfc68b2d3"
      },
      "source": [
        "X, y = load_breast_cancer(return_X_y=True)\n",
        "X_train, X_test, y_train, y_test = train_test_split(X, y, test_size=0.2, random_state=1)\n",
        "\n",
        "scaler = StandardScaler()\n",
        "scaler.fit(X_train)\n",
        "X_train = scaler.fit_transform(X_train)\n",
        "X_test = scaler.transform(X_test)\n",
        "\n",
        "kernel_svc = SVC(kernel='rbf')\n",
        "kernel_svc.fit(X_train, y_train)\n",
        "\n",
        "print('Train Data Score : {}'.format(kernel_svc.score(X_train, y_train)))\n",
        "print('Test Data Score : {}'.format(kernel_svc.score(X_test, y_test)))"
      ],
      "execution_count": 147,
      "outputs": [
        {
          "output_type": "stream",
          "text": [
            "Train Data Score : 0.9868131868131869\n",
            "Test Data Score : 0.9736842105263158\n"
          ],
          "name": "stdout"
        }
      ]
    },
    {
      "cell_type": "code",
      "metadata": {
        "id": "O9WztOuB3Hdq"
      },
      "source": [
        "def make_meshgrid(x, y, h=.02):\n",
        "    x_min, x_max = x.min()-1, x.max()+1\n",
        "    y_min, y_max = y.min()-1, y.max()+1\n",
        "    xx, yy = np.meshgrid(np.arange(x_min, x_max, h),\n",
        "                         np.arange(y_min, y_max, h))\n",
        "    \n",
        "    return xx, yy"
      ],
      "execution_count": 148,
      "outputs": []
    },
    {
      "cell_type": "code",
      "metadata": {
        "id": "MTTqw_7n3Hdr"
      },
      "source": [
        "def plot_contours(clf, xx, yy, **params):\n",
        "    Z = clf.predict(np.c_[xx.ravel(), yy.ravel()])\n",
        "    Z = Z.reshape(xx.shape)\n",
        "    out = plt.contourf(xx, yy, Z, **params)\n",
        "\n",
        "    return out"
      ],
      "execution_count": 149,
      "outputs": []
    },
    {
      "cell_type": "code",
      "metadata": {
        "id": "LlfneqLG3Hdr"
      },
      "source": [
        "X_comp = TSNE(n_components=2).fit_transform(X)\n",
        "X0, X1 = X_comp[:, 0], X_comp[:, 1]\n",
        "xx, yy = make_meshgrid(X0, X1)"
      ],
      "execution_count": 150,
      "outputs": []
    },
    {
      "cell_type": "code",
      "metadata": {
        "colab": {
          "base_uri": "https://localhost:8080/",
          "height": 283
        },
        "id": "s_TRJKD-3Hdr",
        "outputId": "52ebeb6d-e95e-4f4a-e9e5-f0d4731af64b"
      },
      "source": [
        "kernel_svc.fit(X_comp, y)\n",
        "\n",
        "plot_contours(kernel_svc, xx, yy, cmap=plt.cm.coolwarm, alpha=0.7)\n",
        "\n",
        "plt.scatter(X0, X1, c=y, cmap=plt.cm.coolwarm, s=20, edgecolors='k')"
      ],
      "execution_count": 151,
      "outputs": [
        {
          "output_type": "execute_result",
          "data": {
            "text/plain": [
              "<matplotlib.collections.PathCollection at 0x7f27d2c90bd0>"
            ]
          },
          "metadata": {
            "tags": []
          },
          "execution_count": 151
        },
        {
          "output_type": "display_data",
          "data": {
            "image/png": "[encoded data removed]",
            "text/plain": [
              "<Figure size 432x288 with 1 Axes>"
            ]
          },
          "metadata": {
            "tags": [],
            "needs_background": "light"
          }
        }
      ]
    },
    {
      "cell_type": "code",
      "metadata": {
        "colab": {
          "base_uri": "https://localhost:8080/"
        },
        "id": "8Ky3LsvB3Hds",
        "outputId": "80163f38-63ab-49f4-e671-ed98d2974e15"
      },
      "source": [
        "estimator = make_pipeline(StandardScaler(), SVC(kernel='rbf'))\n",
        "\n",
        "cross_validate(estimator=estimator, X=X, y=y, cv=5, \\\n",
        "               n_jobs=multiprocessing.cpu_count(), verbose=True)"
      ],
      "execution_count": 187,
      "outputs": [
        {
          "output_type": "stream",
          "text": [
            "[Parallel(n_jobs=2)]: Using backend LokyBackend with 2 concurrent workers.\n",
            "[Parallel(n_jobs=2)]: Done   5 out of   5 | elapsed:    0.0s finished\n"
          ],
          "name": "stderr"
        },
        {
          "output_type": "execute_result",
          "data": {
            "text/plain": [
              "{'fit_time': array([0.00496197, 0.00314474, 0.00271344, 0.00439477, 0.0025363 ]),\n",
              " 'score_time': array([0.00081229, 0.00075674, 0.00080705, 0.00076556, 0.00048804]),\n",
              " 'test_score': array([1.        , 0.97222222, 0.94444444, 1.        , 1.        ])}"
            ]
          },
          "metadata": {
            "tags": []
          },
          "execution_count": 187
        }
      ]
    },
    {
      "cell_type": "code",
      "metadata": {
        "colab": {
          "base_uri": "https://localhost:8080/"
        },
        "id": "qOk7Atul3Hds",
        "outputId": "0109f623-0ffa-4dc3-8222-22667bafaaf8"
      },
      "source": [
        "pipe = Pipeline([('scler', StandardScaler()), ('model', SVC(kernel='rbf'))])\n",
        "\n",
        "param_grid = [{'model__kernel':['rbf', 'polynomial', 'sigmoid']}]\n",
        "\n",
        "gs = GridSearchCV(estimator=pipe, param_grid=param_grid, \\\n",
        "                  n_jobs=multiprocessing.cpu_count(), cv=5, verbose=True)\n",
        "\n",
        "gs.fit(X, y)"
      ],
      "execution_count": 188,
      "outputs": [
        {
          "output_type": "stream",
          "text": [
            "Fitting 5 folds for each of 3 candidates, totalling 15 fits\n"
          ],
          "name": "stdout"
        },
        {
          "output_type": "stream",
          "text": [
            "[Parallel(n_jobs=2)]: Using backend LokyBackend with 2 concurrent workers.\n",
            "[Parallel(n_jobs=2)]: Done  15 out of  15 | elapsed:    0.1s finished\n"
          ],
          "name": "stderr"
        },
        {
          "output_type": "execute_result",
          "data": {
            "text/plain": [
              "GridSearchCV(cv=5, error_score=nan,\n",
              "             estimator=Pipeline(memory=None,\n",
              "                                steps=[('scler',\n",
              "                                        StandardScaler(copy=True,\n",
              "                                                       with_mean=True,\n",
              "                                                       with_std=True)),\n",
              "                                       ('model',\n",
              "                                        SVC(C=1.0, break_ties=False,\n",
              "                                            cache_size=200, class_weight=None,\n",
              "                                            coef0=0.0,\n",
              "                                            decision_function_shape='ovr',\n",
              "                                            degree=3, gamma='scale',\n",
              "                                            kernel='rbf', max_iter=-1,\n",
              "                                            probability=False,\n",
              "                                            random_state=None, shrinking=True,\n",
              "                                            tol=0.001, verbose=False))],\n",
              "                                verbose=False),\n",
              "             iid='deprecated', n_jobs=2,\n",
              "             param_grid=[{'model__kernel': ['rbf', 'polynomial', 'sigmoid']}],\n",
              "             pre_dispatch='2*n_jobs', refit=True, return_train_score=False,\n",
              "             scoring=None, verbose=True)"
            ]
          },
          "metadata": {
            "tags": []
          },
          "execution_count": 188
        }
      ]
    },
    {
      "cell_type": "code",
      "metadata": {
        "colab": {
          "base_uri": "https://localhost:8080/"
        },
        "id": "D8xCPbMo3Hds",
        "outputId": "7443ddfb-c48d-4cb5-aad2-35addd645096"
      },
      "source": [
        "gs.best_estimator_"
      ],
      "execution_count": 189,
      "outputs": [
        {
          "output_type": "execute_result",
          "data": {
            "text/plain": [
              "Pipeline(memory=None,\n",
              "         steps=[('scler',\n",
              "                 StandardScaler(copy=True, with_mean=True, with_std=True)),\n",
              "                ('model',\n",
              "                 SVC(C=1.0, break_ties=False, cache_size=200, class_weight=None,\n",
              "                     coef0=0.0, decision_function_shape='ovr', degree=3,\n",
              "                     gamma='scale', kernel='rbf', max_iter=-1,\n",
              "                     probability=False, random_state=None, shrinking=True,\n",
              "                     tol=0.001, verbose=False))],\n",
              "         verbose=False)"
            ]
          },
          "metadata": {
            "tags": []
          },
          "execution_count": 189
        }
      ]
    },
    {
      "cell_type": "code",
      "metadata": {
        "colab": {
          "base_uri": "https://localhost:8080/"
        },
        "id": "_gTGZfHo3Hdt",
        "outputId": "ebb1519e-766b-475a-f234-90cb93e21536"
      },
      "source": [
        "pipe = Pipeline([('scler', StandardScaler()), ('model', SVC(kernel='rbf'))])\n",
        "\n",
        "param_grid = [{'model__gamma':['scale', 'auto'], 'model__C':[1.0, 0.1, 0.01]}]\n",
        "\n",
        "gs = GridSearchCV(estimator=pipe, param_grid=param_grid, \\\n",
        "                  n_jobs=multiprocessing.cpu_count(), cv=5, verbose=True)\n",
        "\n",
        "gs.fit(X, y)"
      ],
      "execution_count": 190,
      "outputs": [
        {
          "output_type": "stream",
          "text": [
            "Fitting 5 folds for each of 6 candidates, totalling 30 fits\n"
          ],
          "name": "stdout"
        },
        {
          "output_type": "stream",
          "text": [
            "[Parallel(n_jobs=2)]: Using backend LokyBackend with 2 concurrent workers.\n",
            "[Parallel(n_jobs=2)]: Done  30 out of  30 | elapsed:    0.1s finished\n"
          ],
          "name": "stderr"
        },
        {
          "output_type": "execute_result",
          "data": {
            "text/plain": [
              "GridSearchCV(cv=5, error_score=nan,\n",
              "             estimator=Pipeline(memory=None,\n",
              "                                steps=[('scler',\n",
              "                                        StandardScaler(copy=True,\n",
              "                                                       with_mean=True,\n",
              "                                                       with_std=True)),\n",
              "                                       ('model',\n",
              "                                        SVC(C=1.0, break_ties=False,\n",
              "                                            cache_size=200, class_weight=None,\n",
              "                                            coef0=0.0,\n",
              "                                            decision_function_shape='ovr',\n",
              "                                            degree=3, gamma='scale',\n",
              "                                            kernel='rbf', max_iter=-1,\n",
              "                                            probability=False,\n",
              "                                            random_state=None, shrinking=True,\n",
              "                                            tol=0.001, verbose=False))],\n",
              "                                verbose=False),\n",
              "             iid='deprecated', n_jobs=2,\n",
              "             param_grid=[{'model__C': [1.0, 0.1, 0.01],\n",
              "                          'model__gamma': ['scale', 'auto']}],\n",
              "             pre_dispatch='2*n_jobs', refit=True, return_train_score=False,\n",
              "             scoring=None, verbose=True)"
            ]
          },
          "metadata": {
            "tags": []
          },
          "execution_count": 190
        }
      ]
    },
    {
      "cell_type": "code",
      "metadata": {
        "colab": {
          "base_uri": "https://localhost:8080/"
        },
        "id": "uE81s1Rl3Hdt",
        "outputId": "817a0020-e877-417a-daf7-87f0de6dc86d"
      },
      "source": [
        "gs.best_estimator_"
      ],
      "execution_count": 191,
      "outputs": [
        {
          "output_type": "execute_result",
          "data": {
            "text/plain": [
              "Pipeline(memory=None,\n",
              "         steps=[('scler',\n",
              "                 StandardScaler(copy=True, with_mean=True, with_std=True)),\n",
              "                ('model',\n",
              "                 SVC(C=1.0, break_ties=False, cache_size=200, class_weight=None,\n",
              "                     coef0=0.0, decision_function_shape='ovr', degree=3,\n",
              "                     gamma='scale', kernel='rbf', max_iter=-1,\n",
              "                     probability=False, random_state=None, shrinking=True,\n",
              "                     tol=0.001, verbose=False))],\n",
              "         verbose=False)"
            ]
          },
          "metadata": {
            "tags": []
          },
          "execution_count": 191
        }
      ]
    },
    {
      "cell_type": "code",
      "metadata": {
        "colab": {
          "base_uri": "https://localhost:8080/"
        },
        "id": "mueaPW4e3Hdt",
        "outputId": "f8cc9496-a2d3-4aef-d50d-28112fd135a0"
      },
      "source": [
        "model = gs.best_estimator_\n",
        "model.fit(X_train, y_train)"
      ],
      "execution_count": 192,
      "outputs": [
        {
          "output_type": "execute_result",
          "data": {
            "text/plain": [
              "Pipeline(memory=None,\n",
              "         steps=[('scler',\n",
              "                 StandardScaler(copy=True, with_mean=True, with_std=True)),\n",
              "                ('model',\n",
              "                 SVC(C=1.0, break_ties=False, cache_size=200, class_weight=None,\n",
              "                     coef0=0.0, decision_function_shape='ovr', degree=3,\n",
              "                     gamma='scale', kernel='rbf', max_iter=-1,\n",
              "                     probability=False, random_state=None, shrinking=True,\n",
              "                     tol=0.001, verbose=False))],\n",
              "         verbose=False)"
            ]
          },
          "metadata": {
            "tags": []
          },
          "execution_count": 192
        }
      ]
    },
    {
      "cell_type": "code",
      "metadata": {
        "colab": {
          "base_uri": "https://localhost:8080/"
        },
        "id": "TbLvVysc3Hdu",
        "outputId": "d28e19b0-28c9-4c22-c344-c25cfa0dcecc"
      },
      "source": [
        "print('Train Data Score : {}'.format(model.score(X_train, y_train)))\n",
        "print('Test Data Score : {}'.format(model.score(X_test, y_test)))"
      ],
      "execution_count": 193,
      "outputs": [
        {
          "output_type": "stream",
          "text": [
            "Train Data Score : 1.0\n",
            "Test Data Score : 0.9722222222222222\n"
          ],
          "name": "stdout"
        }
      ]
    },
    {
      "cell_type": "markdown",
      "metadata": {
        "id": "va75bGxZ5SE3"
      },
      "source": [
        "## IRIS"
      ]
    },
    {
      "cell_type": "code",
      "metadata": {
        "colab": {
          "base_uri": "https://localhost:8080/"
        },
        "id": "igGdnpmo5U8o",
        "outputId": "03708c54-967d-455e-bd84-0bbf04d756d6"
      },
      "source": [
        "X, y = load_iris(return_X_y=True)\n",
        "X_train, X_test, y_train, y_test = train_test_split(X, y, test_size=0.2, random_state=1)\n",
        "\n",
        "scaler = StandardScaler()\n",
        "scaler.fit(X_train)\n",
        "X_train = scaler.fit_transform(X_train)\n",
        "X_test = scaler.transform(X_test)\n",
        "\n",
        "kernel_svc = SVC(kernel='rbf')\n",
        "kernel_svc.fit(X_train, y_train)\n",
        "\n",
        "print('Train Data Score : {}'.format(kernel_svc.score(X_train, y_train)))\n",
        "print('Test Data Score : {}'.format(kernel_svc.score(X_test, y_test)))"
      ],
      "execution_count": 163,
      "outputs": [
        {
          "output_type": "stream",
          "text": [
            "Train Data Score : 0.9666666666666667\n",
            "Test Data Score : 0.9666666666666667\n"
          ],
          "name": "stdout"
        }
      ]
    },
    {
      "cell_type": "code",
      "metadata": {
        "id": "ZcEO8xgF5U8p"
      },
      "source": [
        "def make_meshgrid(x, y, h=.02):\n",
        "    x_min, x_max = x.min()-1, x.max()+1\n",
        "    y_min, y_max = y.min()-1, y.max()+1\n",
        "    xx, yy = np.meshgrid(np.arange(x_min, x_max, h),\n",
        "                         np.arange(y_min, y_max, h))\n",
        "    \n",
        "    return xx, yy"
      ],
      "execution_count": 164,
      "outputs": []
    },
    {
      "cell_type": "code",
      "metadata": {
        "id": "4Yvo-8vo5U8q"
      },
      "source": [
        "def plot_contours(clf, xx, yy, **params):\n",
        "    Z = clf.predict(np.c_[xx.ravel(), yy.ravel()])\n",
        "    Z = Z.reshape(xx.shape)\n",
        "    out = plt.contourf(xx, yy, Z, **params)\n",
        "\n",
        "    return out"
      ],
      "execution_count": 165,
      "outputs": []
    },
    {
      "cell_type": "code",
      "metadata": {
        "id": "9kTjrW2l5U8q"
      },
      "source": [
        "X_comp = TSNE(n_components=2).fit_transform(X)\n",
        "X0, X1 = X_comp[:, 0], X_comp[:, 1]\n",
        "xx, yy = make_meshgrid(X0, X1)"
      ],
      "execution_count": 166,
      "outputs": []
    },
    {
      "cell_type": "code",
      "metadata": {
        "colab": {
          "base_uri": "https://localhost:8080/",
          "height": 283
        },
        "id": "P_im7TnD5U8q",
        "outputId": "fc2fa5de-ee4a-4aeb-b760-52f127b3927c"
      },
      "source": [
        "kernel_svc.fit(X_comp, y)\n",
        "\n",
        "plot_contours(kernel_svc, xx, yy, cmap=plt.cm.coolwarm, alpha=0.7)\n",
        "\n",
        "plt.scatter(X0, X1, c=y, cmap=plt.cm.coolwarm, s=20, edgecolors='k')"
      ],
      "execution_count": 167,
      "outputs": [
        {
          "output_type": "execute_result",
          "data": {
            "text/plain": [
              "<matplotlib.collections.PathCollection at 0x7f27d2bb5050>"
            ]
          },
          "metadata": {
            "tags": []
          },
          "execution_count": 167
        },
        {
          "output_type": "display_data",
          "data": {
            "image/png": "[encoded data removed]",
            "text/plain": [
              "<Figure size 432x288 with 1 Axes>"
            ]
          },
          "metadata": {
            "tags": [],
            "needs_background": "light"
          }
        }
      ]
    },
    {
      "cell_type": "code",
      "metadata": {
        "colab": {
          "base_uri": "https://localhost:8080/"
        },
        "id": "0AN8F2bf5U8r",
        "outputId": "3f97963c-239a-4b20-c8fd-ed2d7fac061c"
      },
      "source": [
        "estimator = make_pipeline(StandardScaler(), SVC(kernel='rbf'))\n",
        "\n",
        "cross_validate(estimator=estimator, X=X, y=y, cv=5, \\\n",
        "               n_jobs=multiprocessing.cpu_count(), verbose=True)"
      ],
      "execution_count": 194,
      "outputs": [
        {
          "output_type": "stream",
          "text": [
            "[Parallel(n_jobs=2)]: Using backend LokyBackend with 2 concurrent workers.\n",
            "[Parallel(n_jobs=2)]: Done   5 out of   5 | elapsed:    0.0s finished\n"
          ],
          "name": "stderr"
        },
        {
          "output_type": "execute_result",
          "data": {
            "text/plain": [
              "{'fit_time': array([0.00207162, 0.00311208, 0.00183105, 0.00243044, 0.00191021]),\n",
              " 'score_time': array([0.00057578, 0.00062799, 0.00050521, 0.00057292, 0.00051785]),\n",
              " 'test_score': array([1.        , 0.97222222, 0.94444444, 1.        , 1.        ])}"
            ]
          },
          "metadata": {
            "tags": []
          },
          "execution_count": 194
        }
      ]
    },
    {
      "cell_type": "code",
      "metadata": {
        "colab": {
          "base_uri": "https://localhost:8080/"
        },
        "id": "2PwUNE_D5U8r",
        "outputId": "aad21120-520c-4cd8-974c-2e53ad52dcea"
      },
      "source": [
        "pipe = Pipeline([('scler', StandardScaler()), ('model', SVC(kernel='rbf'))])\n",
        "\n",
        "param_grid = [{'model__kernel':['rbf', 'polynomial', 'sigmoid']}]\n",
        "\n",
        "gs = GridSearchCV(estimator=pipe, param_grid=param_grid, \\\n",
        "                  n_jobs=multiprocessing.cpu_count(), cv=5, verbose=True)\n",
        "\n",
        "gs.fit(X, y)"
      ],
      "execution_count": 195,
      "outputs": [
        {
          "output_type": "stream",
          "text": [
            "Fitting 5 folds for each of 3 candidates, totalling 15 fits\n"
          ],
          "name": "stdout"
        },
        {
          "output_type": "stream",
          "text": [
            "[Parallel(n_jobs=2)]: Using backend LokyBackend with 2 concurrent workers.\n",
            "[Parallel(n_jobs=2)]: Done  15 out of  15 | elapsed:    0.1s finished\n"
          ],
          "name": "stderr"
        },
        {
          "output_type": "execute_result",
          "data": {
            "text/plain": [
              "GridSearchCV(cv=5, error_score=nan,\n",
              "             estimator=Pipeline(memory=None,\n",
              "                                steps=[('scler',\n",
              "                                        StandardScaler(copy=True,\n",
              "                                                       with_mean=True,\n",
              "                                                       with_std=True)),\n",
              "                                       ('model',\n",
              "                                        SVC(C=1.0, break_ties=False,\n",
              "                                            cache_size=200, class_weight=None,\n",
              "                                            coef0=0.0,\n",
              "                                            decision_function_shape='ovr',\n",
              "                                            degree=3, gamma='scale',\n",
              "                                            kernel='rbf', max_iter=-1,\n",
              "                                            probability=False,\n",
              "                                            random_state=None, shrinking=True,\n",
              "                                            tol=0.001, verbose=False))],\n",
              "                                verbose=False),\n",
              "             iid='deprecated', n_jobs=2,\n",
              "             param_grid=[{'model__kernel': ['rbf', 'polynomial', 'sigmoid']}],\n",
              "             pre_dispatch='2*n_jobs', refit=True, return_train_score=False,\n",
              "             scoring=None, verbose=True)"
            ]
          },
          "metadata": {
            "tags": []
          },
          "execution_count": 195
        }
      ]
    },
    {
      "cell_type": "code",
      "metadata": {
        "colab": {
          "base_uri": "https://localhost:8080/"
        },
        "id": "vvTUS7Yq5U8r",
        "outputId": "43acf369-380a-4c15-c4c9-1b1aa42a5fe9"
      },
      "source": [
        "gs.best_estimator_"
      ],
      "execution_count": 196,
      "outputs": [
        {
          "output_type": "execute_result",
          "data": {
            "text/plain": [
              "Pipeline(memory=None,\n",
              "         steps=[('scler',\n",
              "                 StandardScaler(copy=True, with_mean=True, with_std=True)),\n",
              "                ('model',\n",
              "                 SVC(C=1.0, break_ties=False, cache_size=200, class_weight=None,\n",
              "                     coef0=0.0, decision_function_shape='ovr', degree=3,\n",
              "                     gamma='scale', kernel='rbf', max_iter=-1,\n",
              "                     probability=False, random_state=None, shrinking=True,\n",
              "                     tol=0.001, verbose=False))],\n",
              "         verbose=False)"
            ]
          },
          "metadata": {
            "tags": []
          },
          "execution_count": 196
        }
      ]
    },
    {
      "cell_type": "code",
      "metadata": {
        "colab": {
          "base_uri": "https://localhost:8080/"
        },
        "id": "4z_ABdCC5U8s",
        "outputId": "25af3e52-2e96-4349-d063-963e29f5eb45"
      },
      "source": [
        "pipe = Pipeline([('scler', StandardScaler()), ('model', SVC(kernel='rbf'))])\n",
        "\n",
        "param_grid = [{'model__gamma':['scale', 'auto'], 'model__C':[1.0, 0.1, 0.01]}]\n",
        "\n",
        "gs = GridSearchCV(estimator=pipe, param_grid=param_grid, \\\n",
        "                  n_jobs=multiprocessing.cpu_count(), cv=5, verbose=True)\n",
        "\n",
        "gs.fit(X, y)"
      ],
      "execution_count": 197,
      "outputs": [
        {
          "output_type": "stream",
          "text": [
            "Fitting 5 folds for each of 6 candidates, totalling 30 fits\n"
          ],
          "name": "stdout"
        },
        {
          "output_type": "stream",
          "text": [
            "[Parallel(n_jobs=2)]: Using backend LokyBackend with 2 concurrent workers.\n",
            "[Parallel(n_jobs=2)]: Done  30 out of  30 | elapsed:    0.1s finished\n"
          ],
          "name": "stderr"
        },
        {
          "output_type": "execute_result",
          "data": {
            "text/plain": [
              "GridSearchCV(cv=5, error_score=nan,\n",
              "             estimator=Pipeline(memory=None,\n",
              "                                steps=[('scler',\n",
              "                                        StandardScaler(copy=True,\n",
              "                                                       with_mean=True,\n",
              "                                                       with_std=True)),\n",
              "                                       ('model',\n",
              "                                        SVC(C=1.0, break_ties=False,\n",
              "                                            cache_size=200, class_weight=None,\n",
              "                                            coef0=0.0,\n",
              "                                            decision_function_shape='ovr',\n",
              "                                            degree=3, gamma='scale',\n",
              "                                            kernel='rbf', max_iter=-1,\n",
              "                                            probability=False,\n",
              "                                            random_state=None, shrinking=True,\n",
              "                                            tol=0.001, verbose=False))],\n",
              "                                verbose=False),\n",
              "             iid='deprecated', n_jobs=2,\n",
              "             param_grid=[{'model__C': [1.0, 0.1, 0.01],\n",
              "                          'model__gamma': ['scale', 'auto']}],\n",
              "             pre_dispatch='2*n_jobs', refit=True, return_train_score=False,\n",
              "             scoring=None, verbose=True)"
            ]
          },
          "metadata": {
            "tags": []
          },
          "execution_count": 197
        }
      ]
    },
    {
      "cell_type": "code",
      "metadata": {
        "colab": {
          "base_uri": "https://localhost:8080/"
        },
        "id": "zrByvkA95U8s",
        "outputId": "bcebec77-0ff9-4957-8dd7-c174508bbab7"
      },
      "source": [
        "gs.best_estimator_"
      ],
      "execution_count": 198,
      "outputs": [
        {
          "output_type": "execute_result",
          "data": {
            "text/plain": [
              "Pipeline(memory=None,\n",
              "         steps=[('scler',\n",
              "                 StandardScaler(copy=True, with_mean=True, with_std=True)),\n",
              "                ('model',\n",
              "                 SVC(C=1.0, break_ties=False, cache_size=200, class_weight=None,\n",
              "                     coef0=0.0, decision_function_shape='ovr', degree=3,\n",
              "                     gamma='scale', kernel='rbf', max_iter=-1,\n",
              "                     probability=False, random_state=None, shrinking=True,\n",
              "                     tol=0.001, verbose=False))],\n",
              "         verbose=False)"
            ]
          },
          "metadata": {
            "tags": []
          },
          "execution_count": 198
        }
      ]
    },
    {
      "cell_type": "code",
      "metadata": {
        "colab": {
          "base_uri": "https://localhost:8080/"
        },
        "id": "2CIw9vbQ5U8t",
        "outputId": "8b9dcef8-6c36-473a-ec86-0ee826aa323c"
      },
      "source": [
        "model = gs.best_estimator_\n",
        "model.fit(X_train, y_train)"
      ],
      "execution_count": 199,
      "outputs": [
        {
          "output_type": "execute_result",
          "data": {
            "text/plain": [
              "Pipeline(memory=None,\n",
              "         steps=[('scler',\n",
              "                 StandardScaler(copy=True, with_mean=True, with_std=True)),\n",
              "                ('model',\n",
              "                 SVC(C=1.0, break_ties=False, cache_size=200, class_weight=None,\n",
              "                     coef0=0.0, decision_function_shape='ovr', degree=3,\n",
              "                     gamma='scale', kernel='rbf', max_iter=-1,\n",
              "                     probability=False, random_state=None, shrinking=True,\n",
              "                     tol=0.001, verbose=False))],\n",
              "         verbose=False)"
            ]
          },
          "metadata": {
            "tags": []
          },
          "execution_count": 199
        }
      ]
    },
    {
      "cell_type": "code",
      "metadata": {
        "colab": {
          "base_uri": "https://localhost:8080/"
        },
        "id": "PqMtbEjP5U8t",
        "outputId": "c73c7dec-e593-4257-9ce8-ccca732b848e"
      },
      "source": [
        "print('Train Data Score : {}'.format(model.score(X_train, y_train)))\n",
        "print('Test Data Score : {}'.format(model.score(X_test, y_test)))"
      ],
      "execution_count": 200,
      "outputs": [
        {
          "output_type": "stream",
          "text": [
            "Train Data Score : 1.0\n",
            "Test Data Score : 0.9722222222222222\n"
          ],
          "name": "stdout"
        }
      ]
    },
    {
      "cell_type": "markdown",
      "metadata": {
        "id": "7AcKtnrn5tSk"
      },
      "source": [
        "## wine"
      ]
    },
    {
      "cell_type": "code",
      "metadata": {
        "colab": {
          "base_uri": "https://localhost:8080/"
        },
        "id": "bt31lYYx5vd-",
        "outputId": "2f8c379c-d8d3-49e2-8b3a-44724ea2b333"
      },
      "source": [
        "X, y = load_wine(return_X_y=True)\n",
        "X_train, X_test, y_train, y_test = train_test_split(X, y, test_size=0.2, random_state=1)\n",
        "\n",
        "scaler = StandardScaler()\n",
        "scaler.fit(X_train)\n",
        "X_train = scaler.fit_transform(X_train)\n",
        "X_test = scaler.transform(X_test)\n",
        "\n",
        "kernel_svc = SVC(kernel='rbf')\n",
        "kernel_svc.fit(X_train, y_train)\n",
        "\n",
        "print('Train Data Score : {}'.format(kernel_svc.score(X_train, y_train)))\n",
        "print('Test Data Score : {}'.format(kernel_svc.score(X_test, y_test)))"
      ],
      "execution_count": 214,
      "outputs": [
        {
          "output_type": "stream",
          "text": [
            "Train Data Score : 1.0\n",
            "Test Data Score : 0.9722222222222222\n"
          ],
          "name": "stdout"
        }
      ]
    },
    {
      "cell_type": "code",
      "metadata": {
        "id": "ReOLdsj55veG"
      },
      "source": [
        "def make_meshgrid(x, y, h=.02):\n",
        "    x_min, x_max = x.min()-1, x.max()+1\n",
        "    y_min, y_max = y.min()-1, y.max()+1\n",
        "    xx, yy = np.meshgrid(np.arange(x_min, x_max, h),\n",
        "                         np.arange(y_min, y_max, h))\n",
        "    \n",
        "    return xx, yy"
      ],
      "execution_count": 215,
      "outputs": []
    },
    {
      "cell_type": "code",
      "metadata": {
        "id": "EJB5Mu-15veG"
      },
      "source": [
        "def plot_contours(clf, xx, yy, **params):\n",
        "    Z = clf.predict(np.c_[xx.ravel(), yy.ravel()])\n",
        "    Z = Z.reshape(xx.shape)\n",
        "    out = plt.contourf(xx, yy, Z, **params)\n",
        "\n",
        "    return out"
      ],
      "execution_count": 216,
      "outputs": []
    },
    {
      "cell_type": "code",
      "metadata": {
        "id": "NrEd5dcJ5veG"
      },
      "source": [
        "X_comp = TSNE(n_components=2).fit_transform(X)\n",
        "X0, X1 = X_comp[:, 0], X_comp[:, 1]\n",
        "xx, yy = make_meshgrid(X0, X1)"
      ],
      "execution_count": 217,
      "outputs": []
    },
    {
      "cell_type": "code",
      "metadata": {
        "colab": {
          "base_uri": "https://localhost:8080/",
          "height": 283
        },
        "id": "kUg4ORw_5veH",
        "outputId": "620ffb2d-9e76-4fc3-b04b-1ad6c0a57eed"
      },
      "source": [
        "kernel_svc.fit(X_comp, y)\n",
        "\n",
        "plot_contours(kernel_svc, xx, yy, cmap=plt.cm.coolwarm, alpha=0.7)\n",
        "\n",
        "plt.scatter(X0, X1, c=y, cmap=plt.cm.coolwarm, s=20, edgecolors='k')"
      ],
      "execution_count": 218,
      "outputs": [
        {
          "output_type": "execute_result",
          "data": {
            "text/plain": [
              "<matplotlib.collections.PathCollection at 0x7f27d296c490>"
            ]
          },
          "metadata": {
            "tags": []
          },
          "execution_count": 218
        },
        {
          "output_type": "display_data",
          "data": {
            "image/png": "[encoded data removed]",
            "text/plain": [
              "<Figure size 432x288 with 1 Axes>"
            ]
          },
          "metadata": {
            "tags": [],
            "needs_background": "light"
          }
        }
      ]
    },
    {
      "cell_type": "code",
      "metadata": {
        "colab": {
          "base_uri": "https://localhost:8080/"
        },
        "id": "38KFxuT85veH",
        "outputId": "084374b2-3fab-40f0-8f93-a52dbcc597ab"
      },
      "source": [
        "estimator = make_pipeline(StandardScaler(), SVC(kernel='rbf'))\n",
        "\n",
        "cross_validate(estimator=estimator, X=X, y=y, cv=5, \\\n",
        "               n_jobs=multiprocessing.cpu_count(), verbose=True)"
      ],
      "execution_count": 219,
      "outputs": [
        {
          "output_type": "stream",
          "text": [
            "[Parallel(n_jobs=2)]: Using backend LokyBackend with 2 concurrent workers.\n",
            "[Parallel(n_jobs=2)]: Done   5 out of   5 | elapsed:    0.0s finished\n"
          ],
          "name": "stderr"
        },
        {
          "output_type": "execute_result",
          "data": {
            "text/plain": [
              "{'fit_time': array([0.0035162 , 0.00199652, 0.00269389, 0.00317311, 0.0025835 ]),\n",
              " 'score_time': array([0.00541639, 0.00052071, 0.00079036, 0.00075889, 0.00070977]),\n",
              " 'test_score': array([1.        , 0.97222222, 0.94444444, 1.        , 1.        ])}"
            ]
          },
          "metadata": {
            "tags": []
          },
          "execution_count": 219
        }
      ]
    },
    {
      "cell_type": "code",
      "metadata": {
        "colab": {
          "base_uri": "https://localhost:8080/"
        },
        "id": "n2OmfqFw5veH",
        "outputId": "7d46d726-522a-4eca-da82-46707fbe7389"
      },
      "source": [
        "pipe = Pipeline([('scler', StandardScaler()), ('model', SVC(kernel='rbf'))])\n",
        "\n",
        "param_grid = [{'model__kernel':['rbf', 'polynomial', 'sigmoid']}]\n",
        "\n",
        "gs = GridSearchCV(estimator=pipe, param_grid=param_grid, \\\n",
        "                  n_jobs=multiprocessing.cpu_count(), cv=5, verbose=True)\n",
        "\n",
        "gs.fit(X, y)"
      ],
      "execution_count": 220,
      "outputs": [
        {
          "output_type": "stream",
          "text": [
            "Fitting 5 folds for each of 3 candidates, totalling 15 fits\n"
          ],
          "name": "stdout"
        },
        {
          "output_type": "stream",
          "text": [
            "[Parallel(n_jobs=2)]: Using backend LokyBackend with 2 concurrent workers.\n",
            "[Parallel(n_jobs=2)]: Done  15 out of  15 | elapsed:    0.2s finished\n"
          ],
          "name": "stderr"
        },
        {
          "output_type": "execute_result",
          "data": {
            "text/plain": [
              "GridSearchCV(cv=5, error_score=nan,\n",
              "             estimator=Pipeline(memory=None,\n",
              "                                steps=[('scler',\n",
              "                                        StandardScaler(copy=True,\n",
              "                                                       with_mean=True,\n",
              "                                                       with_std=True)),\n",
              "                                       ('model',\n",
              "                                        SVC(C=1.0, break_ties=False,\n",
              "                                            cache_size=200, class_weight=None,\n",
              "                                            coef0=0.0,\n",
              "                                            decision_function_shape='ovr',\n",
              "                                            degree=3, gamma='scale',\n",
              "                                            kernel='rbf', max_iter=-1,\n",
              "                                            probability=False,\n",
              "                                            random_state=None, shrinking=True,\n",
              "                                            tol=0.001, verbose=False))],\n",
              "                                verbose=False),\n",
              "             iid='deprecated', n_jobs=2,\n",
              "             param_grid=[{'model__kernel': ['rbf', 'polynomial', 'sigmoid']}],\n",
              "             pre_dispatch='2*n_jobs', refit=True, return_train_score=False,\n",
              "             scoring=None, verbose=True)"
            ]
          },
          "metadata": {
            "tags": []
          },
          "execution_count": 220
        }
      ]
    },
    {
      "cell_type": "code",
      "metadata": {
        "colab": {
          "base_uri": "https://localhost:8080/"
        },
        "id": "EKfgz8Xz5veI",
        "outputId": "2df99839-f400-456a-c807-3145b9b8548d"
      },
      "source": [
        "gs.best_estimator_"
      ],
      "execution_count": 221,
      "outputs": [
        {
          "output_type": "execute_result",
          "data": {
            "text/plain": [
              "Pipeline(memory=None,\n",
              "         steps=[('scler',\n",
              "                 StandardScaler(copy=True, with_mean=True, with_std=True)),\n",
              "                ('model',\n",
              "                 SVC(C=1.0, break_ties=False, cache_size=200, class_weight=None,\n",
              "                     coef0=0.0, decision_function_shape='ovr', degree=3,\n",
              "                     gamma='scale', kernel='rbf', max_iter=-1,\n",
              "                     probability=False, random_state=None, shrinking=True,\n",
              "                     tol=0.001, verbose=False))],\n",
              "         verbose=False)"
            ]
          },
          "metadata": {
            "tags": []
          },
          "execution_count": 221
        }
      ]
    },
    {
      "cell_type": "code",
      "metadata": {
        "colab": {
          "base_uri": "https://localhost:8080/"
        },
        "id": "euErbRK85veJ",
        "outputId": "892b51d5-2f01-4661-d205-5c4bb1d40b6f"
      },
      "source": [
        "pipe = Pipeline([('scler', StandardScaler()), ('model', SVC(kernel='rbf'))])\n",
        "\n",
        "param_grid = [{'model__gamma':['scale', 'auto'], 'model__C':[1.0, 0.1, 0.01]}]\n",
        "\n",
        "gs = GridSearchCV(estimator=pipe, param_grid=param_grid, \\\n",
        "                  n_jobs=multiprocessing.cpu_count(), cv=5, verbose=True)\n",
        "\n",
        "gs.fit(X, y)"
      ],
      "execution_count": 222,
      "outputs": [
        {
          "output_type": "stream",
          "text": [
            "Fitting 5 folds for each of 6 candidates, totalling 30 fits\n"
          ],
          "name": "stdout"
        },
        {
          "output_type": "stream",
          "text": [
            "[Parallel(n_jobs=2)]: Using backend LokyBackend with 2 concurrent workers.\n",
            "[Parallel(n_jobs=2)]: Done  30 out of  30 | elapsed:    0.1s finished\n"
          ],
          "name": "stderr"
        },
        {
          "output_type": "execute_result",
          "data": {
            "text/plain": [
              "GridSearchCV(cv=5, error_score=nan,\n",
              "             estimator=Pipeline(memory=None,\n",
              "                                steps=[('scler',\n",
              "                                        StandardScaler(copy=True,\n",
              "                                                       with_mean=True,\n",
              "                                                       with_std=True)),\n",
              "                                       ('model',\n",
              "                                        SVC(C=1.0, break_ties=False,\n",
              "                                            cache_size=200, class_weight=None,\n",
              "                                            coef0=0.0,\n",
              "                                            decision_function_shape='ovr',\n",
              "                                            degree=3, gamma='scale',\n",
              "                                            kernel='rbf', max_iter=-1,\n",
              "                                            probability=False,\n",
              "                                            random_state=None, shrinking=True,\n",
              "                                            tol=0.001, verbose=False))],\n",
              "                                verbose=False),\n",
              "             iid='deprecated', n_jobs=2,\n",
              "             param_grid=[{'model__C': [1.0, 0.1, 0.01],\n",
              "                          'model__gamma': ['scale', 'auto']}],\n",
              "             pre_dispatch='2*n_jobs', refit=True, return_train_score=False,\n",
              "             scoring=None, verbose=True)"
            ]
          },
          "metadata": {
            "tags": []
          },
          "execution_count": 222
        }
      ]
    },
    {
      "cell_type": "code",
      "metadata": {
        "colab": {
          "base_uri": "https://localhost:8080/"
        },
        "id": "vlyRJejI5veK",
        "outputId": "af0a8320-a77b-42a6-f845-42a3e30cf8bc"
      },
      "source": [
        "gs.best_estimator_"
      ],
      "execution_count": 223,
      "outputs": [
        {
          "output_type": "execute_result",
          "data": {
            "text/plain": [
              "Pipeline(memory=None,\n",
              "         steps=[('scler',\n",
              "                 StandardScaler(copy=True, with_mean=True, with_std=True)),\n",
              "                ('model',\n",
              "                 SVC(C=1.0, break_ties=False, cache_size=200, class_weight=None,\n",
              "                     coef0=0.0, decision_function_shape='ovr', degree=3,\n",
              "                     gamma='scale', kernel='rbf', max_iter=-1,\n",
              "                     probability=False, random_state=None, shrinking=True,\n",
              "                     tol=0.001, verbose=False))],\n",
              "         verbose=False)"
            ]
          },
          "metadata": {
            "tags": []
          },
          "execution_count": 223
        }
      ]
    },
    {
      "cell_type": "code",
      "metadata": {
        "colab": {
          "base_uri": "https://localhost:8080/"
        },
        "id": "hIYeHTKP5veL",
        "outputId": "c7d747b3-437b-4aea-e869-561c035f0206"
      },
      "source": [
        "model = gs.best_estimator_\n",
        "model.fit(X_train, y_train)"
      ],
      "execution_count": 224,
      "outputs": [
        {
          "output_type": "execute_result",
          "data": {
            "text/plain": [
              "Pipeline(memory=None,\n",
              "         steps=[('scler',\n",
              "                 StandardScaler(copy=True, with_mean=True, with_std=True)),\n",
              "                ('model',\n",
              "                 SVC(C=1.0, break_ties=False, cache_size=200, class_weight=None,\n",
              "                     coef0=0.0, decision_function_shape='ovr', degree=3,\n",
              "                     gamma='scale', kernel='rbf', max_iter=-1,\n",
              "                     probability=False, random_state=None, shrinking=True,\n",
              "                     tol=0.001, verbose=False))],\n",
              "         verbose=False)"
            ]
          },
          "metadata": {
            "tags": []
          },
          "execution_count": 224
        }
      ]
    },
    {
      "cell_type": "code",
      "metadata": {
        "colab": {
          "base_uri": "https://localhost:8080/"
        },
        "id": "0NunzE4s5veL",
        "outputId": "f9f981dd-6ea2-43c1-acef-85a51102d26d"
      },
      "source": [
        "print('Train Data Score : {}'.format(model.score(X_train, y_train)))\n",
        "print('Test Data Score : {}'.format(model.score(X_test, y_test)))"
      ],
      "execution_count": 225,
      "outputs": [
        {
          "output_type": "stream",
          "text": [
            "Train Data Score : 1.0\n",
            "Test Data Score : 0.9722222222222222\n"
          ],
          "name": "stdout"
        }
      ]
    },
    {
      "cell_type": "code",
      "metadata": {
        "id": "7m6LtpmR6JLi"
      },
      "source": [
        ""
      ],
      "execution_count": 225,
      "outputs": []
    }
  ]
}