{
  "nbformat": 4,
  "nbformat_minor": 0,
  "metadata": {
    "colab": {
      "name": "M5_나이브베이즈분류.ipynb",
      "provenance": [],
      "authorship_tag": "ABX9TyORYTEBVP3PurqI9QkRSqIV",
      "include_colab_link": true
    },
    "kernelspec": {
      "name": "python3",
      "display_name": "Python 3"
    },
    "language_info": {
      "name": "python"
    }
  },
  "cells": [
    {
      "cell_type": "markdown",
      "metadata": {
        "id": "view-in-github",
        "colab_type": "text"
      },
      "source": [
        "<a href=\"https://colab.research.google.com/github/tigerak/1st_practice/blob/main/M5_%EB%82%98%EC%9D%B4%EB%B8%8C%EB%B2%A0%EC%9D%B4%EC%A6%88%EB%B6%84%EB%A5%98.ipynb\" target=\"_parent\"><img src=\"https://colab.research.google.com/assets/colab-badge.svg\" alt=\"Open In Colab\"/></a>"
      ]
    },
    {
      "cell_type": "markdown",
      "metadata": {
        "id": "FDBPEw6fy_nq"
      },
      "source": [
        "# 나이브 베이즈 분류기\n",
        "\n",
        "- 베이즈 정리를 적용한 확률적 알고리즘\n",
        "- 모든 특성들이 독립임을 가정 (naive 가정)\n",
        "- 입력 특성에 따라 3개의 분류기 존재\n",
        " - 가우시안 NVC\n",
        " - 베르누이 NVC\n",
        " - 다항 NVC"
      ]
    },
    {
      "cell_type": "markdown",
      "metadata": {
        "id": "RR9Uty5XzdLE"
      },
      "source": [
        "# 나이브 베이즈 분류기의 확률 모델\n",
        "- 나이브 베이즈는 조건부 확률 모델\n",
        "- N개의 특성을 나타내는 벡터 x를 입력받아 k개의 가능한 확률적 결과를 출력\n",
        "- 식을 통해 나온 값들 중 가장 큰 값을 갖는 클래스가 예측 결과 \n",
        "  - y_hat = argmax(X)"
      ]
    },
    {
      "cell_type": "code",
      "metadata": {
        "id": "lwzezVeptu54"
      },
      "source": [
        "import numpy as np\n",
        "import pandas as pd\n",
        "import matplotlib.pyplot as plt\n",
        "\n",
        "from sklearn.datasets import make_blobs\n",
        "\n",
        "from sklearn.naive_bayes import GaussianNB, BernoulliNB, MultinomialNB\n",
        "\n",
        "from sklearn.model_selection import train_test_split\n",
        "from sklearn.preprocessing import StandardScaler, MinMaxScaler\n",
        "from sklearn.feature_extraction.text import CountVectorizer, HashingVectorizer, TfidfVectorizer\n",
        "from sklearn import metrics\n",
        "\n",
        "from sklearn.datasets import fetch_covtype, fetch_20newsgroups"
      ],
      "execution_count": 2,
      "outputs": []
    },
    {
      "cell_type": "code",
      "metadata": {
        "colab": {
          "base_uri": "https://localhost:8080/"
        },
        "id": "R0zPJjqL-vsF",
        "outputId": "9a0e37bf-3096-4d52-ffe4-a4641a203eaf"
      },
      "source": [
        "prior = [0.45, 0.3, 0.15, 0.1]\n",
        "likelihood = [[0.3, 0.3, 0.4], [0.7, 0.2, 0.1], [0.15, 0.5, 0.35], [0.6, 0.2, 0.2]]\n",
        "\n",
        "idx = 0\n",
        "for c, xs in zip(prior, likelihood):\n",
        "    result = 1.\n",
        "\n",
        "    for x in xs :\n",
        "        result *= x\n",
        "    result *= c\n",
        "\n",
        "    idx += 1\n",
        "    print(f'{idx}번째 class의 가능성 : {result}')"
      ],
      "execution_count": 66,
      "outputs": [
        {
          "output_type": "stream",
          "text": [
            "1번째 class의 가능성 : 0.0162\n",
            "2번째 class의 가능성 : 0.0042\n",
            "3번째 class의 가능성 : 0.0039375\n",
            "4번째 class의 가능성 : 0.0024000000000000002\n"
          ],
          "name": "stdout"
        }
      ]
    },
    {
      "cell_type": "markdown",
      "metadata": {
        "id": "iWXVGgguCErr"
      },
      "source": [
        "## 산림 토양 데이터"
      ]
    },
    {
      "cell_type": "code",
      "metadata": {
        "colab": {
          "base_uri": "https://localhost:8080/"
        },
        "id": "Ml3b-XChBMiF",
        "outputId": "b94daf8f-a6c9-405a-8d81-378331c84f01"
      },
      "source": [
        "covtype = fetch_covtype()\n",
        "print(covtype.DESCR)"
      ],
      "execution_count": 67,
      "outputs": [
        {
          "output_type": "stream",
          "text": [
            ".. _covtype_dataset:\n",
            "\n",
            "Forest covertypes\n",
            "-----------------\n",
            "\n",
            "The samples in this dataset correspond to 30×30m patches of forest in the US,\n",
            "collected for the task of predicting each patch's cover type,\n",
            "i.e. the dominant species of tree.\n",
            "There are seven covertypes, making this a multiclass classification problem.\n",
            "Each sample has 54 features, described on the\n",
            "`dataset's homepage <https://archive.ics.uci.edu/ml/datasets/Covertype>`__.\n",
            "Some of the features are boolean indicators,\n",
            "while others are discrete or continuous measurements.\n",
            "\n",
            "**Data Set Characteristics:**\n",
            "\n",
            "    =================   ============\n",
            "    Classes                        7\n",
            "    Samples total             581012\n",
            "    Dimensionality                54\n",
            "    Features                     int\n",
            "    =================   ============\n",
            "\n",
            ":func:`sklearn.datasets.fetch_covtype` will load the covertype dataset;\n",
            "it returns a dictionary-like object\n",
            "with the feature matrix in the ``data`` member\n",
            "and the target values in ``target``.\n",
            "The dataset will be downloaded from the web if necessary.\n",
            "\n"
          ],
          "name": "stdout"
        }
      ]
    },
    {
      "cell_type": "code",
      "metadata": {
        "colab": {
          "base_uri": "https://localhost:8080/"
        },
        "id": "yv7i_oaNL4ms",
        "outputId": "7e4f22cc-e90e-46bd-d748-939ddb09dab0"
      },
      "source": [
        "covtype.data"
      ],
      "execution_count": 68,
      "outputs": [
        {
          "output_type": "execute_result",
          "data": {
            "text/plain": [
              "array([[2.596e+03, 5.100e+01, 3.000e+00, ..., 0.000e+00, 0.000e+00,\n",
              "        0.000e+00],\n",
              "       [2.590e+03, 5.600e+01, 2.000e+00, ..., 0.000e+00, 0.000e+00,\n",
              "        0.000e+00],\n",
              "       [2.804e+03, 1.390e+02, 9.000e+00, ..., 0.000e+00, 0.000e+00,\n",
              "        0.000e+00],\n",
              "       ...,\n",
              "       [2.386e+03, 1.590e+02, 1.700e+01, ..., 0.000e+00, 0.000e+00,\n",
              "        0.000e+00],\n",
              "       [2.384e+03, 1.700e+02, 1.500e+01, ..., 0.000e+00, 0.000e+00,\n",
              "        0.000e+00],\n",
              "       [2.383e+03, 1.650e+02, 1.300e+01, ..., 0.000e+00, 0.000e+00,\n",
              "        0.000e+00]])"
            ]
          },
          "metadata": {
            "tags": []
          },
          "execution_count": 68
        }
      ]
    },
    {
      "cell_type": "code",
      "metadata": {
        "colab": {
          "base_uri": "https://localhost:8080/",
          "height": 439
        },
        "id": "5pPQ__GSDTRU",
        "outputId": "321ebabf-3b59-47c8-c5ec-e5a61c33558b"
      },
      "source": [
        "pd.DataFrame(covtype.data)"
      ],
      "execution_count": 69,
      "outputs": [
        {
          "output_type": "execute_result",
          "data": {
            "text/html": [
              "<div>\n",
              "<style scoped>\n",
              "    .dataframe tbody tr th:only-of-type {\n",
              "        vertical-align: middle;\n",
              "    }\n",
              "\n",
              "    .dataframe tbody tr th {\n",
              "        vertical-align: top;\n",
              "    }\n",
              "\n",
              "    .dataframe thead th {\n",
              "        text-align: right;\n",
              "    }\n",
              "</style>\n",
              "<table border=\"1\" class=\"dataframe\">\n",
              "  <thead>\n",
              "    <tr style=\"text-align: right;\">\n",
              "      <th></th>\n",
              "      <th>0</th>\n",
              "      <th>1</th>\n",
              "      <th>2</th>\n",
              "      <th>3</th>\n",
              "      <th>4</th>\n",
              "      <th>5</th>\n",
              "      <th>6</th>\n",
              "      <th>7</th>\n",
              "      <th>8</th>\n",
              "      <th>9</th>\n",
              "      <th>10</th>\n",
              "      <th>11</th>\n",
              "      <th>12</th>\n",
              "      <th>13</th>\n",
              "      <th>14</th>\n",
              "      <th>15</th>\n",
              "      <th>16</th>\n",
              "      <th>17</th>\n",
              "      <th>18</th>\n",
              "      <th>19</th>\n",
              "      <th>20</th>\n",
              "      <th>21</th>\n",
              "      <th>22</th>\n",
              "      <th>23</th>\n",
              "      <th>24</th>\n",
              "      <th>25</th>\n",
              "      <th>26</th>\n",
              "      <th>27</th>\n",
              "      <th>28</th>\n",
              "      <th>29</th>\n",
              "      <th>30</th>\n",
              "      <th>31</th>\n",
              "      <th>32</th>\n",
              "      <th>33</th>\n",
              "      <th>34</th>\n",
              "      <th>35</th>\n",
              "      <th>36</th>\n",
              "      <th>37</th>\n",
              "      <th>38</th>\n",
              "      <th>39</th>\n",
              "      <th>40</th>\n",
              "      <th>41</th>\n",
              "      <th>42</th>\n",
              "      <th>43</th>\n",
              "      <th>44</th>\n",
              "      <th>45</th>\n",
              "      <th>46</th>\n",
              "      <th>47</th>\n",
              "      <th>48</th>\n",
              "      <th>49</th>\n",
              "      <th>50</th>\n",
              "      <th>51</th>\n",
              "      <th>52</th>\n",
              "      <th>53</th>\n",
              "    </tr>\n",
              "  </thead>\n",
              "  <tbody>\n",
              "    <tr>\n",
              "      <th>0</th>\n",
              "      <td>2596.0</td>\n",
              "      <td>51.0</td>\n",
              "      <td>3.0</td>\n",
              "      <td>258.0</td>\n",
              "      <td>0.0</td>\n",
              "      <td>510.0</td>\n",
              "      <td>221.0</td>\n",
              "      <td>232.0</td>\n",
              "      <td>148.0</td>\n",
              "      <td>6279.0</td>\n",
              "      <td>1.0</td>\n",
              "      <td>0.0</td>\n",
              "      <td>0.0</td>\n",
              "      <td>0.0</td>\n",
              "      <td>0.0</td>\n",
              "      <td>0.0</td>\n",
              "      <td>0.0</td>\n",
              "      <td>0.0</td>\n",
              "      <td>0.0</td>\n",
              "      <td>0.0</td>\n",
              "      <td>0.0</td>\n",
              "      <td>0.0</td>\n",
              "      <td>0.0</td>\n",
              "      <td>0.0</td>\n",
              "      <td>0.0</td>\n",
              "      <td>0.0</td>\n",
              "      <td>0.0</td>\n",
              "      <td>0.0</td>\n",
              "      <td>0.0</td>\n",
              "      <td>0.0</td>\n",
              "      <td>0.0</td>\n",
              "      <td>0.0</td>\n",
              "      <td>0.0</td>\n",
              "      <td>0.0</td>\n",
              "      <td>0.0</td>\n",
              "      <td>0.0</td>\n",
              "      <td>0.0</td>\n",
              "      <td>0.0</td>\n",
              "      <td>0.0</td>\n",
              "      <td>0.0</td>\n",
              "      <td>0.0</td>\n",
              "      <td>0.0</td>\n",
              "      <td>1.0</td>\n",
              "      <td>0.0</td>\n",
              "      <td>0.0</td>\n",
              "      <td>0.0</td>\n",
              "      <td>0.0</td>\n",
              "      <td>0.0</td>\n",
              "      <td>0.0</td>\n",
              "      <td>0.0</td>\n",
              "      <td>0.0</td>\n",
              "      <td>0.0</td>\n",
              "      <td>0.0</td>\n",
              "      <td>0.0</td>\n",
              "    </tr>\n",
              "    <tr>\n",
              "      <th>1</th>\n",
              "      <td>2590.0</td>\n",
              "      <td>56.0</td>\n",
              "      <td>2.0</td>\n",
              "      <td>212.0</td>\n",
              "      <td>-6.0</td>\n",
              "      <td>390.0</td>\n",
              "      <td>220.0</td>\n",
              "      <td>235.0</td>\n",
              "      <td>151.0</td>\n",
              "      <td>6225.0</td>\n",
              "      <td>1.0</td>\n",
              "      <td>0.0</td>\n",
              "      <td>0.0</td>\n",
              "      <td>0.0</td>\n",
              "      <td>0.0</td>\n",
              "      <td>0.0</td>\n",
              "      <td>0.0</td>\n",
              "      <td>0.0</td>\n",
              "      <td>0.0</td>\n",
              "      <td>0.0</td>\n",
              "      <td>0.0</td>\n",
              "      <td>0.0</td>\n",
              "      <td>0.0</td>\n",
              "      <td>0.0</td>\n",
              "      <td>0.0</td>\n",
              "      <td>0.0</td>\n",
              "      <td>0.0</td>\n",
              "      <td>0.0</td>\n",
              "      <td>0.0</td>\n",
              "      <td>0.0</td>\n",
              "      <td>0.0</td>\n",
              "      <td>0.0</td>\n",
              "      <td>0.0</td>\n",
              "      <td>0.0</td>\n",
              "      <td>0.0</td>\n",
              "      <td>0.0</td>\n",
              "      <td>0.0</td>\n",
              "      <td>0.0</td>\n",
              "      <td>0.0</td>\n",
              "      <td>0.0</td>\n",
              "      <td>0.0</td>\n",
              "      <td>0.0</td>\n",
              "      <td>1.0</td>\n",
              "      <td>0.0</td>\n",
              "      <td>0.0</td>\n",
              "      <td>0.0</td>\n",
              "      <td>0.0</td>\n",
              "      <td>0.0</td>\n",
              "      <td>0.0</td>\n",
              "      <td>0.0</td>\n",
              "      <td>0.0</td>\n",
              "      <td>0.0</td>\n",
              "      <td>0.0</td>\n",
              "      <td>0.0</td>\n",
              "    </tr>\n",
              "    <tr>\n",
              "      <th>2</th>\n",
              "      <td>2804.0</td>\n",
              "      <td>139.0</td>\n",
              "      <td>9.0</td>\n",
              "      <td>268.0</td>\n",
              "      <td>65.0</td>\n",
              "      <td>3180.0</td>\n",
              "      <td>234.0</td>\n",
              "      <td>238.0</td>\n",
              "      <td>135.0</td>\n",
              "      <td>6121.0</td>\n",
              "      <td>1.0</td>\n",
              "      <td>0.0</td>\n",
              "      <td>0.0</td>\n",
              "      <td>0.0</td>\n",
              "      <td>0.0</td>\n",
              "      <td>0.0</td>\n",
              "      <td>0.0</td>\n",
              "      <td>0.0</td>\n",
              "      <td>0.0</td>\n",
              "      <td>0.0</td>\n",
              "      <td>0.0</td>\n",
              "      <td>0.0</td>\n",
              "      <td>0.0</td>\n",
              "      <td>0.0</td>\n",
              "      <td>0.0</td>\n",
              "      <td>1.0</td>\n",
              "      <td>0.0</td>\n",
              "      <td>0.0</td>\n",
              "      <td>0.0</td>\n",
              "      <td>0.0</td>\n",
              "      <td>0.0</td>\n",
              "      <td>0.0</td>\n",
              "      <td>0.0</td>\n",
              "      <td>0.0</td>\n",
              "      <td>0.0</td>\n",
              "      <td>0.0</td>\n",
              "      <td>0.0</td>\n",
              "      <td>0.0</td>\n",
              "      <td>0.0</td>\n",
              "      <td>0.0</td>\n",
              "      <td>0.0</td>\n",
              "      <td>0.0</td>\n",
              "      <td>0.0</td>\n",
              "      <td>0.0</td>\n",
              "      <td>0.0</td>\n",
              "      <td>0.0</td>\n",
              "      <td>0.0</td>\n",
              "      <td>0.0</td>\n",
              "      <td>0.0</td>\n",
              "      <td>0.0</td>\n",
              "      <td>0.0</td>\n",
              "      <td>0.0</td>\n",
              "      <td>0.0</td>\n",
              "      <td>0.0</td>\n",
              "    </tr>\n",
              "    <tr>\n",
              "      <th>3</th>\n",
              "      <td>2785.0</td>\n",
              "      <td>155.0</td>\n",
              "      <td>18.0</td>\n",
              "      <td>242.0</td>\n",
              "      <td>118.0</td>\n",
              "      <td>3090.0</td>\n",
              "      <td>238.0</td>\n",
              "      <td>238.0</td>\n",
              "      <td>122.0</td>\n",
              "      <td>6211.0</td>\n",
              "      <td>1.0</td>\n",
              "      <td>0.0</td>\n",
              "      <td>0.0</td>\n",
              "      <td>0.0</td>\n",
              "      <td>0.0</td>\n",
              "      <td>0.0</td>\n",
              "      <td>0.0</td>\n",
              "      <td>0.0</td>\n",
              "      <td>0.0</td>\n",
              "      <td>0.0</td>\n",
              "      <td>0.0</td>\n",
              "      <td>0.0</td>\n",
              "      <td>0.0</td>\n",
              "      <td>0.0</td>\n",
              "      <td>0.0</td>\n",
              "      <td>0.0</td>\n",
              "      <td>0.0</td>\n",
              "      <td>0.0</td>\n",
              "      <td>0.0</td>\n",
              "      <td>0.0</td>\n",
              "      <td>0.0</td>\n",
              "      <td>0.0</td>\n",
              "      <td>0.0</td>\n",
              "      <td>0.0</td>\n",
              "      <td>0.0</td>\n",
              "      <td>0.0</td>\n",
              "      <td>0.0</td>\n",
              "      <td>0.0</td>\n",
              "      <td>0.0</td>\n",
              "      <td>0.0</td>\n",
              "      <td>0.0</td>\n",
              "      <td>0.0</td>\n",
              "      <td>0.0</td>\n",
              "      <td>1.0</td>\n",
              "      <td>0.0</td>\n",
              "      <td>0.0</td>\n",
              "      <td>0.0</td>\n",
              "      <td>0.0</td>\n",
              "      <td>0.0</td>\n",
              "      <td>0.0</td>\n",
              "      <td>0.0</td>\n",
              "      <td>0.0</td>\n",
              "      <td>0.0</td>\n",
              "      <td>0.0</td>\n",
              "    </tr>\n",
              "    <tr>\n",
              "      <th>4</th>\n",
              "      <td>2595.0</td>\n",
              "      <td>45.0</td>\n",
              "      <td>2.0</td>\n",
              "      <td>153.0</td>\n",
              "      <td>-1.0</td>\n",
              "      <td>391.0</td>\n",
              "      <td>220.0</td>\n",
              "      <td>234.0</td>\n",
              "      <td>150.0</td>\n",
              "      <td>6172.0</td>\n",
              "      <td>1.0</td>\n",
              "      <td>0.0</td>\n",
              "      <td>0.0</td>\n",
              "      <td>0.0</td>\n",
              "      <td>0.0</td>\n",
              "      <td>0.0</td>\n",
              "      <td>0.0</td>\n",
              "      <td>0.0</td>\n",
              "      <td>0.0</td>\n",
              "      <td>0.0</td>\n",
              "      <td>0.0</td>\n",
              "      <td>0.0</td>\n",
              "      <td>0.0</td>\n",
              "      <td>0.0</td>\n",
              "      <td>0.0</td>\n",
              "      <td>0.0</td>\n",
              "      <td>0.0</td>\n",
              "      <td>0.0</td>\n",
              "      <td>0.0</td>\n",
              "      <td>0.0</td>\n",
              "      <td>0.0</td>\n",
              "      <td>0.0</td>\n",
              "      <td>0.0</td>\n",
              "      <td>0.0</td>\n",
              "      <td>0.0</td>\n",
              "      <td>0.0</td>\n",
              "      <td>0.0</td>\n",
              "      <td>0.0</td>\n",
              "      <td>0.0</td>\n",
              "      <td>0.0</td>\n",
              "      <td>0.0</td>\n",
              "      <td>0.0</td>\n",
              "      <td>1.0</td>\n",
              "      <td>0.0</td>\n",
              "      <td>0.0</td>\n",
              "      <td>0.0</td>\n",
              "      <td>0.0</td>\n",
              "      <td>0.0</td>\n",
              "      <td>0.0</td>\n",
              "      <td>0.0</td>\n",
              "      <td>0.0</td>\n",
              "      <td>0.0</td>\n",
              "      <td>0.0</td>\n",
              "      <td>0.0</td>\n",
              "    </tr>\n",
              "    <tr>\n",
              "      <th>...</th>\n",
              "      <td>...</td>\n",
              "      <td>...</td>\n",
              "      <td>...</td>\n",
              "      <td>...</td>\n",
              "      <td>...</td>\n",
              "      <td>...</td>\n",
              "      <td>...</td>\n",
              "      <td>...</td>\n",
              "      <td>...</td>\n",
              "      <td>...</td>\n",
              "      <td>...</td>\n",
              "      <td>...</td>\n",
              "      <td>...</td>\n",
              "      <td>...</td>\n",
              "      <td>...</td>\n",
              "      <td>...</td>\n",
              "      <td>...</td>\n",
              "      <td>...</td>\n",
              "      <td>...</td>\n",
              "      <td>...</td>\n",
              "      <td>...</td>\n",
              "      <td>...</td>\n",
              "      <td>...</td>\n",
              "      <td>...</td>\n",
              "      <td>...</td>\n",
              "      <td>...</td>\n",
              "      <td>...</td>\n",
              "      <td>...</td>\n",
              "      <td>...</td>\n",
              "      <td>...</td>\n",
              "      <td>...</td>\n",
              "      <td>...</td>\n",
              "      <td>...</td>\n",
              "      <td>...</td>\n",
              "      <td>...</td>\n",
              "      <td>...</td>\n",
              "      <td>...</td>\n",
              "      <td>...</td>\n",
              "      <td>...</td>\n",
              "      <td>...</td>\n",
              "      <td>...</td>\n",
              "      <td>...</td>\n",
              "      <td>...</td>\n",
              "      <td>...</td>\n",
              "      <td>...</td>\n",
              "      <td>...</td>\n",
              "      <td>...</td>\n",
              "      <td>...</td>\n",
              "      <td>...</td>\n",
              "      <td>...</td>\n",
              "      <td>...</td>\n",
              "      <td>...</td>\n",
              "      <td>...</td>\n",
              "      <td>...</td>\n",
              "    </tr>\n",
              "    <tr>\n",
              "      <th>581007</th>\n",
              "      <td>2396.0</td>\n",
              "      <td>153.0</td>\n",
              "      <td>20.0</td>\n",
              "      <td>85.0</td>\n",
              "      <td>17.0</td>\n",
              "      <td>108.0</td>\n",
              "      <td>240.0</td>\n",
              "      <td>237.0</td>\n",
              "      <td>118.0</td>\n",
              "      <td>837.0</td>\n",
              "      <td>0.0</td>\n",
              "      <td>0.0</td>\n",
              "      <td>1.0</td>\n",
              "      <td>0.0</td>\n",
              "      <td>0.0</td>\n",
              "      <td>1.0</td>\n",
              "      <td>0.0</td>\n",
              "      <td>0.0</td>\n",
              "      <td>0.0</td>\n",
              "      <td>0.0</td>\n",
              "      <td>0.0</td>\n",
              "      <td>0.0</td>\n",
              "      <td>0.0</td>\n",
              "      <td>0.0</td>\n",
              "      <td>0.0</td>\n",
              "      <td>0.0</td>\n",
              "      <td>0.0</td>\n",
              "      <td>0.0</td>\n",
              "      <td>0.0</td>\n",
              "      <td>0.0</td>\n",
              "      <td>0.0</td>\n",
              "      <td>0.0</td>\n",
              "      <td>0.0</td>\n",
              "      <td>0.0</td>\n",
              "      <td>0.0</td>\n",
              "      <td>0.0</td>\n",
              "      <td>0.0</td>\n",
              "      <td>0.0</td>\n",
              "      <td>0.0</td>\n",
              "      <td>0.0</td>\n",
              "      <td>0.0</td>\n",
              "      <td>0.0</td>\n",
              "      <td>0.0</td>\n",
              "      <td>0.0</td>\n",
              "      <td>0.0</td>\n",
              "      <td>0.0</td>\n",
              "      <td>0.0</td>\n",
              "      <td>0.0</td>\n",
              "      <td>0.0</td>\n",
              "      <td>0.0</td>\n",
              "      <td>0.0</td>\n",
              "      <td>0.0</td>\n",
              "      <td>0.0</td>\n",
              "      <td>0.0</td>\n",
              "    </tr>\n",
              "    <tr>\n",
              "      <th>581008</th>\n",
              "      <td>2391.0</td>\n",
              "      <td>152.0</td>\n",
              "      <td>19.0</td>\n",
              "      <td>67.0</td>\n",
              "      <td>12.0</td>\n",
              "      <td>95.0</td>\n",
              "      <td>240.0</td>\n",
              "      <td>237.0</td>\n",
              "      <td>119.0</td>\n",
              "      <td>845.0</td>\n",
              "      <td>0.0</td>\n",
              "      <td>0.0</td>\n",
              "      <td>1.0</td>\n",
              "      <td>0.0</td>\n",
              "      <td>0.0</td>\n",
              "      <td>1.0</td>\n",
              "      <td>0.0</td>\n",
              "      <td>0.0</td>\n",
              "      <td>0.0</td>\n",
              "      <td>0.0</td>\n",
              "      <td>0.0</td>\n",
              "      <td>0.0</td>\n",
              "      <td>0.0</td>\n",
              "      <td>0.0</td>\n",
              "      <td>0.0</td>\n",
              "      <td>0.0</td>\n",
              "      <td>0.0</td>\n",
              "      <td>0.0</td>\n",
              "      <td>0.0</td>\n",
              "      <td>0.0</td>\n",
              "      <td>0.0</td>\n",
              "      <td>0.0</td>\n",
              "      <td>0.0</td>\n",
              "      <td>0.0</td>\n",
              "      <td>0.0</td>\n",
              "      <td>0.0</td>\n",
              "      <td>0.0</td>\n",
              "      <td>0.0</td>\n",
              "      <td>0.0</td>\n",
              "      <td>0.0</td>\n",
              "      <td>0.0</td>\n",
              "      <td>0.0</td>\n",
              "      <td>0.0</td>\n",
              "      <td>0.0</td>\n",
              "      <td>0.0</td>\n",
              "      <td>0.0</td>\n",
              "      <td>0.0</td>\n",
              "      <td>0.0</td>\n",
              "      <td>0.0</td>\n",
              "      <td>0.0</td>\n",
              "      <td>0.0</td>\n",
              "      <td>0.0</td>\n",
              "      <td>0.0</td>\n",
              "      <td>0.0</td>\n",
              "    </tr>\n",
              "    <tr>\n",
              "      <th>581009</th>\n",
              "      <td>2386.0</td>\n",
              "      <td>159.0</td>\n",
              "      <td>17.0</td>\n",
              "      <td>60.0</td>\n",
              "      <td>7.0</td>\n",
              "      <td>90.0</td>\n",
              "      <td>236.0</td>\n",
              "      <td>241.0</td>\n",
              "      <td>130.0</td>\n",
              "      <td>854.0</td>\n",
              "      <td>0.0</td>\n",
              "      <td>0.0</td>\n",
              "      <td>1.0</td>\n",
              "      <td>0.0</td>\n",
              "      <td>0.0</td>\n",
              "      <td>1.0</td>\n",
              "      <td>0.0</td>\n",
              "      <td>0.0</td>\n",
              "      <td>0.0</td>\n",
              "      <td>0.0</td>\n",
              "      <td>0.0</td>\n",
              "      <td>0.0</td>\n",
              "      <td>0.0</td>\n",
              "      <td>0.0</td>\n",
              "      <td>0.0</td>\n",
              "      <td>0.0</td>\n",
              "      <td>0.0</td>\n",
              "      <td>0.0</td>\n",
              "      <td>0.0</td>\n",
              "      <td>0.0</td>\n",
              "      <td>0.0</td>\n",
              "      <td>0.0</td>\n",
              "      <td>0.0</td>\n",
              "      <td>0.0</td>\n",
              "      <td>0.0</td>\n",
              "      <td>0.0</td>\n",
              "      <td>0.0</td>\n",
              "      <td>0.0</td>\n",
              "      <td>0.0</td>\n",
              "      <td>0.0</td>\n",
              "      <td>0.0</td>\n",
              "      <td>0.0</td>\n",
              "      <td>0.0</td>\n",
              "      <td>0.0</td>\n",
              "      <td>0.0</td>\n",
              "      <td>0.0</td>\n",
              "      <td>0.0</td>\n",
              "      <td>0.0</td>\n",
              "      <td>0.0</td>\n",
              "      <td>0.0</td>\n",
              "      <td>0.0</td>\n",
              "      <td>0.0</td>\n",
              "      <td>0.0</td>\n",
              "      <td>0.0</td>\n",
              "    </tr>\n",
              "    <tr>\n",
              "      <th>581010</th>\n",
              "      <td>2384.0</td>\n",
              "      <td>170.0</td>\n",
              "      <td>15.0</td>\n",
              "      <td>60.0</td>\n",
              "      <td>5.0</td>\n",
              "      <td>90.0</td>\n",
              "      <td>230.0</td>\n",
              "      <td>245.0</td>\n",
              "      <td>143.0</td>\n",
              "      <td>864.0</td>\n",
              "      <td>0.0</td>\n",
              "      <td>0.0</td>\n",
              "      <td>1.0</td>\n",
              "      <td>0.0</td>\n",
              "      <td>0.0</td>\n",
              "      <td>1.0</td>\n",
              "      <td>0.0</td>\n",
              "      <td>0.0</td>\n",
              "      <td>0.0</td>\n",
              "      <td>0.0</td>\n",
              "      <td>0.0</td>\n",
              "      <td>0.0</td>\n",
              "      <td>0.0</td>\n",
              "      <td>0.0</td>\n",
              "      <td>0.0</td>\n",
              "      <td>0.0</td>\n",
              "      <td>0.0</td>\n",
              "      <td>0.0</td>\n",
              "      <td>0.0</td>\n",
              "      <td>0.0</td>\n",
              "      <td>0.0</td>\n",
              "      <td>0.0</td>\n",
              "      <td>0.0</td>\n",
              "      <td>0.0</td>\n",
              "      <td>0.0</td>\n",
              "      <td>0.0</td>\n",
              "      <td>0.0</td>\n",
              "      <td>0.0</td>\n",
              "      <td>0.0</td>\n",
              "      <td>0.0</td>\n",
              "      <td>0.0</td>\n",
              "      <td>0.0</td>\n",
              "      <td>0.0</td>\n",
              "      <td>0.0</td>\n",
              "      <td>0.0</td>\n",
              "      <td>0.0</td>\n",
              "      <td>0.0</td>\n",
              "      <td>0.0</td>\n",
              "      <td>0.0</td>\n",
              "      <td>0.0</td>\n",
              "      <td>0.0</td>\n",
              "      <td>0.0</td>\n",
              "      <td>0.0</td>\n",
              "      <td>0.0</td>\n",
              "    </tr>\n",
              "    <tr>\n",
              "      <th>581011</th>\n",
              "      <td>2383.0</td>\n",
              "      <td>165.0</td>\n",
              "      <td>13.0</td>\n",
              "      <td>60.0</td>\n",
              "      <td>4.0</td>\n",
              "      <td>67.0</td>\n",
              "      <td>231.0</td>\n",
              "      <td>244.0</td>\n",
              "      <td>141.0</td>\n",
              "      <td>875.0</td>\n",
              "      <td>0.0</td>\n",
              "      <td>0.0</td>\n",
              "      <td>1.0</td>\n",
              "      <td>0.0</td>\n",
              "      <td>0.0</td>\n",
              "      <td>1.0</td>\n",
              "      <td>0.0</td>\n",
              "      <td>0.0</td>\n",
              "      <td>0.0</td>\n",
              "      <td>0.0</td>\n",
              "      <td>0.0</td>\n",
              "      <td>0.0</td>\n",
              "      <td>0.0</td>\n",
              "      <td>0.0</td>\n",
              "      <td>0.0</td>\n",
              "      <td>0.0</td>\n",
              "      <td>0.0</td>\n",
              "      <td>0.0</td>\n",
              "      <td>0.0</td>\n",
              "      <td>0.0</td>\n",
              "      <td>0.0</td>\n",
              "      <td>0.0</td>\n",
              "      <td>0.0</td>\n",
              "      <td>0.0</td>\n",
              "      <td>0.0</td>\n",
              "      <td>0.0</td>\n",
              "      <td>0.0</td>\n",
              "      <td>0.0</td>\n",
              "      <td>0.0</td>\n",
              "      <td>0.0</td>\n",
              "      <td>0.0</td>\n",
              "      <td>0.0</td>\n",
              "      <td>0.0</td>\n",
              "      <td>0.0</td>\n",
              "      <td>0.0</td>\n",
              "      <td>0.0</td>\n",
              "      <td>0.0</td>\n",
              "      <td>0.0</td>\n",
              "      <td>0.0</td>\n",
              "      <td>0.0</td>\n",
              "      <td>0.0</td>\n",
              "      <td>0.0</td>\n",
              "      <td>0.0</td>\n",
              "      <td>0.0</td>\n",
              "    </tr>\n",
              "  </tbody>\n",
              "</table>\n",
              "<p>581012 rows × 54 columns</p>\n",
              "</div>"
            ],
            "text/plain": [
              "            0      1     2      3      4       5   ...   48   49   50   51   52   53\n",
              "0       2596.0   51.0   3.0  258.0    0.0   510.0  ...  0.0  0.0  0.0  0.0  0.0  0.0\n",
              "1       2590.0   56.0   2.0  212.0   -6.0   390.0  ...  0.0  0.0  0.0  0.0  0.0  0.0\n",
              "2       2804.0  139.0   9.0  268.0   65.0  3180.0  ...  0.0  0.0  0.0  0.0  0.0  0.0\n",
              "3       2785.0  155.0  18.0  242.0  118.0  3090.0  ...  0.0  0.0  0.0  0.0  0.0  0.0\n",
              "4       2595.0   45.0   2.0  153.0   -1.0   391.0  ...  0.0  0.0  0.0  0.0  0.0  0.0\n",
              "...        ...    ...   ...    ...    ...     ...  ...  ...  ...  ...  ...  ...  ...\n",
              "581007  2396.0  153.0  20.0   85.0   17.0   108.0  ...  0.0  0.0  0.0  0.0  0.0  0.0\n",
              "581008  2391.0  152.0  19.0   67.0   12.0    95.0  ...  0.0  0.0  0.0  0.0  0.0  0.0\n",
              "581009  2386.0  159.0  17.0   60.0    7.0    90.0  ...  0.0  0.0  0.0  0.0  0.0  0.0\n",
              "581010  2384.0  170.0  15.0   60.0    5.0    90.0  ...  0.0  0.0  0.0  0.0  0.0  0.0\n",
              "581011  2383.0  165.0  13.0   60.0    4.0    67.0  ...  0.0  0.0  0.0  0.0  0.0  0.0\n",
              "\n",
              "[581012 rows x 54 columns]"
            ]
          },
          "metadata": {
            "tags": []
          },
          "execution_count": 69
        }
      ]
    },
    {
      "cell_type": "code",
      "metadata": {
        "colab": {
          "base_uri": "https://localhost:8080/"
        },
        "id": "3vrfjQuODrbH",
        "outputId": "6f0f3fc0-42d7-4082-b5ee-f2852ed17381"
      },
      "source": [
        "covtype.target"
      ],
      "execution_count": 70,
      "outputs": [
        {
          "output_type": "execute_result",
          "data": {
            "text/plain": [
              "array([5, 5, 2, ..., 3, 3, 3], dtype=int32)"
            ]
          },
          "metadata": {
            "tags": []
          },
          "execution_count": 70
        }
      ]
    },
    {
      "cell_type": "code",
      "metadata": {
        "colab": {
          "base_uri": "https://localhost:8080/"
        },
        "id": "sqxysNKTD9NT",
        "outputId": "459129d1-b4b5-4684-ba44-ebb75932ea5e"
      },
      "source": [
        "covtype_X = covtype.data\n",
        "covtype_y = covtype.target\n",
        "\n",
        "covtype_X_train, covtype_X_test, covtype_y_train, covtype_y_test = train_test_split(\n",
        "    covtype_X, covtype_y, test_size=0.2\n",
        ")\n",
        "\n",
        "print('Total Data Size : {}'.format(covtype_X.shape))\n",
        "print('Train Data Size : {}'.format(covtype_X_train.shape))\n",
        "print('Test Data Size : {}'.format(covtype_y_train.shape), '\\n')\n",
        "\n",
        "covtype_df = pd.DataFrame(data=covtype_X)\n",
        "print(covtype_df.describe())\n",
        "\n",
        "scaler = StandardScaler()\n",
        "covtype_X_train_scaler = scaler.fit_transform(covtype_X_train)\n",
        "covtype_X_test_scaler = scaler.fit_transform(covtype_X_test)\n",
        "\n",
        "covtype_train_df = pd.DataFrame(data=covtype_X_train_scaler)\n",
        "print(covtype_train_df.describe())\n",
        "covtype_test_df = pd.DataFrame(data=covtype_X_test_scaler)\n",
        "print(covtype_test_df.describe())"
      ],
      "execution_count": 71,
      "outputs": [
        {
          "output_type": "stream",
          "text": [
            "Total Data Size : (581012, 54)\n",
            "Train Data Size : (464809, 54)\n",
            "Test Data Size : (464809,) \n",
            "\n",
            "                  0              1   ...             52             53\n",
            "count  581012.000000  581012.000000  ...  581012.000000  581012.000000\n",
            "mean     2959.365301     155.656807  ...       0.023762       0.015060\n",
            "std       279.984734     111.913721  ...       0.152307       0.121791\n",
            "min      1859.000000       0.000000  ...       0.000000       0.000000\n",
            "25%      2809.000000      58.000000  ...       0.000000       0.000000\n",
            "50%      2996.000000     127.000000  ...       0.000000       0.000000\n",
            "75%      3163.000000     260.000000  ...       0.000000       0.000000\n",
            "max      3858.000000     360.000000  ...       1.000000       1.000000\n",
            "\n",
            "[8 rows x 54 columns]\n",
            "                 0             1   ...            52            53\n",
            "count  4.648090e+05  4.648090e+05  ...  4.648090e+05  4.648090e+05\n",
            "mean  -2.303382e-16 -5.460911e-17  ... -1.882565e-15 -2.564624e-15\n",
            "std    1.000001e+00  1.000001e+00  ...  1.000001e+00  1.000001e+00\n",
            "min   -3.935152e+00 -1.390875e+00  ... -1.561963e-01 -1.239939e-01\n",
            "25%   -5.347581e-01 -8.722995e-01  ... -1.561963e-01 -1.239939e-01\n",
            "50%    1.303031e-01 -2.553737e-01  ... -1.561963e-01 -1.239939e-01\n",
            "75%    7.274280e-01  9.337732e-01  ... -1.561963e-01 -1.239939e-01\n",
            "max    3.212469e+00  1.827869e+00  ...  6.402200e+00  8.064910e+00\n",
            "\n",
            "[8 rows x 54 columns]\n",
            "                 0             1   ...            52            53\n",
            "count  1.162030e+05  1.162030e+05  ...  1.162030e+05  1.162030e+05\n",
            "mean   6.528593e-16  7.908558e-17  ... -1.349225e-15  1.260806e-15\n",
            "std    1.000004e+00  1.000004e+00  ...  1.000004e+00  1.000004e+00\n",
            "min   -3.878037e+00 -1.390843e+00  ... -1.552828e-01 -1.222830e-01\n",
            "25%   -5.390578e-01 -8.738512e-01  ... -1.552828e-01 -1.222830e-01\n",
            "50%    1.294492e-01 -2.588087e-01  ... -1.552828e-01 -1.222830e-01\n",
            "75%    7.303943e-01  9.356217e-01  ... -1.552828e-01 -1.222830e-01\n",
            "max    3.194625e+00  1.818074e+00  ...  6.439865e+00  8.177749e+00\n",
            "\n",
            "[8 rows x 54 columns]\n"
          ],
          "name": "stdout"
        }
      ]
    },
    {
      "cell_type": "markdown",
      "metadata": {
        "id": "gLLJHHwDQk3q"
      },
      "source": [
        "## News Group 데이터"
      ]
    },
    {
      "cell_type": "code",
      "metadata": {
        "colab": {
          "base_uri": "https://localhost:8080/"
        },
        "id": "Il0wsLmMEpHb",
        "outputId": "0fb9458d-4676-4864-86a8-451ba49e4b99"
      },
      "source": [
        "newsgroup = fetch_20newsgroups()\n",
        "print(newsgroup.DESCR)"
      ],
      "execution_count": 4,
      "outputs": [
        {
          "output_type": "stream",
          "text": [
            ".. _20newsgroups_dataset:\n",
            "\n",
            "The 20 newsgroups text dataset\n",
            "------------------------------\n",
            "\n",
            "The 20 newsgroups dataset comprises around 18000 newsgroups posts on\n",
            "20 topics split in two subsets: one for training (or development)\n",
            "and the other one for testing (or for performance evaluation). The split\n",
            "between the train and test set is based upon a messages posted before\n",
            "and after a specific date.\n",
            "\n",
            "This module contains two loaders. The first one,\n",
            ":func:`sklearn.datasets.fetch_20newsgroups`,\n",
            "returns a list of the raw texts that can be fed to text feature\n",
            "extractors such as :class:`sklearn.feature_extraction.text.CountVectorizer`\n",
            "with custom parameters so as to extract feature vectors.\n",
            "The second one, :func:`sklearn.datasets.fetch_20newsgroups_vectorized`,\n",
            "returns ready-to-use features, i.e., it is not necessary to use a feature\n",
            "extractor.\n",
            "\n",
            "**Data Set Characteristics:**\n",
            "\n",
            "    =================   ==========\n",
            "    Classes                     20\n",
            "    Samples total            18846\n",
            "    Dimensionality               1\n",
            "    Features                  text\n",
            "    =================   ==========\n",
            "\n",
            "Usage\n",
            "~~~~~\n",
            "\n",
            "The :func:`sklearn.datasets.fetch_20newsgroups` function is a data\n",
            "fetching / caching functions that downloads the data archive from\n",
            "the original `20 newsgroups website`_, extracts the archive contents\n",
            "in the ``~/scikit_learn_data/20news_home`` folder and calls the\n",
            ":func:`sklearn.datasets.load_files` on either the training or\n",
            "testing set folder, or both of them::\n",
            "\n",
            "  >>> from sklearn.datasets import fetch_20newsgroups\n",
            "  >>> newsgroups_train = fetch_20newsgroups(subset='train')\n",
            "\n",
            "  >>> from pprint import pprint\n",
            "  >>> pprint(list(newsgroups_train.target_names))\n",
            "  ['alt.atheism',\n",
            "   'comp.graphics',\n",
            "   'comp.os.ms-windows.misc',\n",
            "   'comp.sys.ibm.pc.hardware',\n",
            "   'comp.sys.mac.hardware',\n",
            "   'comp.windows.x',\n",
            "   'misc.forsale',\n",
            "   'rec.autos',\n",
            "   'rec.motorcycles',\n",
            "   'rec.sport.baseball',\n",
            "   'rec.sport.hockey',\n",
            "   'sci.crypt',\n",
            "   'sci.electronics',\n",
            "   'sci.med',\n",
            "   'sci.space',\n",
            "   'soc.religion.christian',\n",
            "   'talk.politics.guns',\n",
            "   'talk.politics.mideast',\n",
            "   'talk.politics.misc',\n",
            "   'talk.religion.misc']\n",
            "\n",
            "The real data lies in the ``filenames`` and ``target`` attributes. The target\n",
            "attribute is the integer index of the category::\n",
            "\n",
            "  >>> newsgroups_train.filenames.shape\n",
            "  (11314,)\n",
            "  >>> newsgroups_train.target.shape\n",
            "  (11314,)\n",
            "  >>> newsgroups_train.target[:10]\n",
            "  array([ 7,  4,  4,  1, 14, 16, 13,  3,  2,  4])\n",
            "\n",
            "It is possible to load only a sub-selection of the categories by passing the\n",
            "list of the categories to load to the\n",
            ":func:`sklearn.datasets.fetch_20newsgroups` function::\n",
            "\n",
            "  >>> cats = ['alt.atheism', 'sci.space']\n",
            "  >>> newsgroups_train = fetch_20newsgroups(subset='train', categories=cats)\n",
            "\n",
            "  >>> list(newsgroups_train.target_names)\n",
            "  ['alt.atheism', 'sci.space']\n",
            "  >>> newsgroups_train.filenames.shape\n",
            "  (1073,)\n",
            "  >>> newsgroups_train.target.shape\n",
            "  (1073,)\n",
            "  >>> newsgroups_train.target[:10]\n",
            "  array([0, 1, 1, 1, 0, 1, 1, 0, 0, 0])\n",
            "\n",
            "Converting text to vectors\n",
            "~~~~~~~~~~~~~~~~~~~~~~~~~~\n",
            "\n",
            "In order to feed predictive or clustering models with the text data,\n",
            "one first need to turn the text into vectors of numerical values suitable\n",
            "for statistical analysis. This can be achieved with the utilities of the\n",
            "``sklearn.feature_extraction.text`` as demonstrated in the following\n",
            "example that extract `TF-IDF`_ vectors of unigram tokens\n",
            "from a subset of 20news::\n",
            "\n",
            "  >>> from sklearn.feature_extraction.text import TfidfVectorizer\n",
            "  >>> categories = ['alt.atheism', 'talk.religion.misc',\n",
            "  ...               'comp.graphics', 'sci.space']\n",
            "  >>> newsgroups_train = fetch_20newsgroups(subset='train',\n",
            "  ...                                       categories=categories)\n",
            "  >>> vectorizer = TfidfVectorizer()\n",
            "  >>> vectors = vectorizer.fit_transform(newsgroups_train.data)\n",
            "  >>> vectors.shape\n",
            "  (2034, 34118)\n",
            "\n",
            "The extracted TF-IDF vectors are very sparse, with an average of 159 non-zero\n",
            "components by sample in a more than 30000-dimensional space\n",
            "(less than .5% non-zero features)::\n",
            "\n",
            "  >>> vectors.nnz / float(vectors.shape[0])\n",
            "  159.01327...\n",
            "\n",
            ":func:`sklearn.datasets.fetch_20newsgroups_vectorized` is a function which \n",
            "returns ready-to-use token counts features instead of file names.\n",
            "\n",
            ".. _`20 newsgroups website`: http://people.csail.mit.edu/jrennie/20Newsgroups/\n",
            ".. _`TF-IDF`: https://en.wikipedia.org/wiki/Tf-idf\n",
            "\n",
            "\n",
            "Filtering text for more realistic training\n",
            "~~~~~~~~~~~~~~~~~~~~~~~~~~~~~~~~~~~~~~~~~~\n",
            "\n",
            "It is easy for a classifier to overfit on particular things that appear in the\n",
            "20 Newsgroups data, such as newsgroup headers. Many classifiers achieve very\n",
            "high F-scores, but their results would not generalize to other documents that\n",
            "aren't from this window of time.\n",
            "\n",
            "For example, let's look at the results of a multinomial Naive Bayes classifier,\n",
            "which is fast to train and achieves a decent F-score::\n",
            "\n",
            "  >>> from sklearn.naive_bayes import MultinomialNB\n",
            "  >>> from sklearn import metrics\n",
            "  >>> newsgroups_test = fetch_20newsgroups(subset='test',\n",
            "  ...                                      categories=categories)\n",
            "  >>> vectors_test = vectorizer.transform(newsgroups_test.data)\n",
            "  >>> clf = MultinomialNB(alpha=.01)\n",
            "  >>> clf.fit(vectors, newsgroups_train.target)\n",
            "  MultinomialNB(alpha=0.01, class_prior=None, fit_prior=True)\n",
            "\n",
            "  >>> pred = clf.predict(vectors_test)\n",
            "  >>> metrics.f1_score(newsgroups_test.target, pred, average='macro')\n",
            "  0.88213...\n",
            "\n",
            "(The example :ref:`sphx_glr_auto_examples_text_plot_document_classification_20newsgroups.py` shuffles\n",
            "the training and test data, instead of segmenting by time, and in that case\n",
            "multinomial Naive Bayes gets a much higher F-score of 0.88. Are you suspicious\n",
            "yet of what's going on inside this classifier?)\n",
            "\n",
            "Let's take a look at what the most informative features are:\n",
            "\n",
            "  >>> import numpy as np\n",
            "  >>> def show_top10(classifier, vectorizer, categories):\n",
            "  ...     feature_names = np.asarray(vectorizer.get_feature_names())\n",
            "  ...     for i, category in enumerate(categories):\n",
            "  ...         top10 = np.argsort(classifier.coef_[i])[-10:]\n",
            "  ...         print(\"%s: %s\" % (category, \" \".join(feature_names[top10])))\n",
            "  ...\n",
            "  >>> show_top10(clf, vectorizer, newsgroups_train.target_names)\n",
            "  alt.atheism: edu it and in you that is of to the\n",
            "  comp.graphics: edu in graphics it is for and of to the\n",
            "  sci.space: edu it that is in and space to of the\n",
            "  talk.religion.misc: not it you in is that and to of the\n",
            "\n",
            "\n",
            "You can now see many things that these features have overfit to:\n",
            "\n",
            "- Almost every group is distinguished by whether headers such as\n",
            "  ``NNTP-Posting-Host:`` and ``Distribution:`` appear more or less often.\n",
            "- Another significant feature involves whether the sender is affiliated with\n",
            "  a university, as indicated either by their headers or their signature.\n",
            "- The word \"article\" is a significant feature, based on how often people quote\n",
            "  previous posts like this: \"In article [article ID], [name] <[e-mail address]>\n",
            "  wrote:\"\n",
            "- Other features match the names and e-mail addresses of particular people who\n",
            "  were posting at the time.\n",
            "\n",
            "With such an abundance of clues that distinguish newsgroups, the classifiers\n",
            "barely have to identify topics from text at all, and they all perform at the\n",
            "same high level.\n",
            "\n",
            "For this reason, the functions that load 20 Newsgroups data provide a\n",
            "parameter called **remove**, telling it what kinds of information to strip out\n",
            "of each file. **remove** should be a tuple containing any subset of\n",
            "``('headers', 'footers', 'quotes')``, telling it to remove headers, signature\n",
            "blocks, and quotation blocks respectively.\n",
            "\n",
            "  >>> newsgroups_test = fetch_20newsgroups(subset='test',\n",
            "  ...                                      remove=('headers', 'footers', 'quotes'),\n",
            "  ...                                      categories=categories)\n",
            "  >>> vectors_test = vectorizer.transform(newsgroups_test.data)\n",
            "  >>> pred = clf.predict(vectors_test)\n",
            "  >>> metrics.f1_score(pred, newsgroups_test.target, average='macro')\n",
            "  0.77310...\n",
            "\n",
            "This classifier lost over a lot of its F-score, just because we removed\n",
            "metadata that has little to do with topic classification.\n",
            "It loses even more if we also strip this metadata from the training data:\n",
            "\n",
            "  >>> newsgroups_train = fetch_20newsgroups(subset='train',\n",
            "  ...                                       remove=('headers', 'footers', 'quotes'),\n",
            "  ...                                       categories=categories)\n",
            "  >>> vectors = vectorizer.fit_transform(newsgroups_train.data)\n",
            "  >>> clf = MultinomialNB(alpha=.01)\n",
            "  >>> clf.fit(vectors, newsgroups_train.target)\n",
            "  MultinomialNB(alpha=0.01, class_prior=None, fit_prior=True)\n",
            "\n",
            "  >>> vectors_test = vectorizer.transform(newsgroups_test.data)\n",
            "  >>> pred = clf.predict(vectors_test)\n",
            "  >>> metrics.f1_score(newsgroups_test.target, pred, average='macro')\n",
            "  0.76995...\n",
            "\n",
            "Some other classifiers cope better with this harder version of the task. Try\n",
            "running :ref:`sphx_glr_auto_examples_model_selection_grid_search_text_feature_extraction.py` with and without\n",
            "the ``--filter`` option to compare the results.\n",
            "\n",
            ".. topic:: Recommendation\n",
            "\n",
            "  When evaluating text classifiers on the 20 Newsgroups data, you\n",
            "  should strip newsgroup-related metadata. In scikit-learn, you can do this by\n",
            "  setting ``remove=('headers', 'footers', 'quotes')``. The F-score will be\n",
            "  lower because it is more realistic.\n",
            "\n",
            ".. topic:: Examples\n",
            "\n",
            "   * :ref:`sphx_glr_auto_examples_model_selection_grid_search_text_feature_extraction.py`\n",
            "\n",
            "   * :ref:`sphx_glr_auto_examples_text_plot_document_classification_20newsgroups.py`\n",
            "\n"
          ],
          "name": "stdout"
        }
      ]
    },
    {
      "cell_type": "code",
      "metadata": {
        "colab": {
          "base_uri": "https://localhost:8080/",
          "height": 143
        },
        "id": "_lyCgcR4Q5sn",
        "outputId": "6092340b-5b21-4494-b75d-87909b196650"
      },
      "source": [
        "newsgroup.data[0]"
      ],
      "execution_count": 5,
      "outputs": [
        {
          "output_type": "execute_result",
          "data": {
            "application/vnd.google.colaboratory.intrinsic+json": {
              "type": "string"
            },
            "text/plain": [
              "\"From: lerxst@wam.umd.edu (where's my thing)\\nSubject: WHAT car is this!?\\nNntp-Posting-Host: rac3.wam.umd.edu\\nOrganization: University of Maryland, College Park\\nLines: 15\\n\\n I was wondering if anyone out there could enlighten me on this car I saw\\nthe other day. It was a 2-door sports car, looked to be from the late 60s/\\nearly 70s. It was called a Bricklin. The doors were really small. In addition,\\nthe front bumper was separate from the rest of the body. This is \\nall I know. If anyone can tellme a model name, engine specs, years\\nof production, where this car is made, history, or whatever info you\\nhave on this funky looking car, please e-mail.\\n\\nThanks,\\n- IL\\n   ---- brought to you by your neighborhood Lerxst ----\\n\\n\\n\\n\\n\""
            ]
          },
          "metadata": {
            "tags": []
          },
          "execution_count": 5
        }
      ]
    },
    {
      "cell_type": "code",
      "metadata": {
        "colab": {
          "base_uri": "https://localhost:8080/"
        },
        "id": "KOsV1NJ8Rolx",
        "outputId": "6dd49285-a187-4ec0-cd3c-2360b5fee050"
      },
      "source": [
        "newsgroup.target_names"
      ],
      "execution_count": 74,
      "outputs": [
        {
          "output_type": "execute_result",
          "data": {
            "text/plain": [
              "['alt.atheism',\n",
              " 'comp.graphics',\n",
              " 'comp.os.ms-windows.misc',\n",
              " 'comp.sys.ibm.pc.hardware',\n",
              " 'comp.sys.mac.hardware',\n",
              " 'comp.windows.x',\n",
              " 'misc.forsale',\n",
              " 'rec.autos',\n",
              " 'rec.motorcycles',\n",
              " 'rec.sport.baseball',\n",
              " 'rec.sport.hockey',\n",
              " 'sci.crypt',\n",
              " 'sci.electronics',\n",
              " 'sci.med',\n",
              " 'sci.space',\n",
              " 'soc.religion.christian',\n",
              " 'talk.politics.guns',\n",
              " 'talk.politics.mideast',\n",
              " 'talk.politics.misc',\n",
              " 'talk.religion.misc']"
            ]
          },
          "metadata": {
            "tags": []
          },
          "execution_count": 74
        }
      ]
    },
    {
      "cell_type": "code",
      "metadata": {
        "id": "ETJLrC79SEvv"
      },
      "source": [
        "newsgroup_train = fetch_20newsgroups(subset='train')\n",
        "newsgroup_test = fetch_20newsgroups(subset='test')\n",
        "\n",
        "X_train, y_train = newsgroup_train.data, newsgroup_train.target\n",
        "X_test, y_test = newsgroup_test.data, newsgroup_test.target"
      ],
      "execution_count": 75,
      "outputs": []
    },
    {
      "cell_type": "markdown",
      "metadata": {
        "id": "V_ntL0kVSuPE"
      },
      "source": [
        "### 벡터화\n",
        "- 텍스트 데이터는 기계학습 모델에 입력할 수 없음\n",
        "- 벡터화는 텍스트 데이터를 실수 벡터로 변환해 기계학습 모델에 입력할 수 있도록 하는 전처리 과정\n",
        "- Scikit-learn에서는 Count, Tf-idf, Hashing 세가지 방법을 지원"
      ]
    },
    {
      "cell_type": "markdown",
      "metadata": {
        "id": "ET-_ickHTI04"
      },
      "source": [
        "#### Count vectorizer\n",
        "- 문서에서 나온 단어 수를 세서 벡터 생성"
      ]
    },
    {
      "cell_type": "code",
      "metadata": {
        "id": "YMtMkiWPSsZa"
      },
      "source": [
        "count_vectorizer = CountVectorizer()\n",
        "\n",
        "X_train_count = count_vectorizer.fit_transform(X_train)\n",
        "X_test_count = count_vectorizer.transform(X_test)"
      ],
      "execution_count": 76,
      "outputs": []
    },
    {
      "cell_type": "markdown",
      "metadata": {
        "id": "IQWwVkn3UsIH"
      },
      "source": [
        "데이터를 희소 행렬 형태로 표현"
      ]
    },
    {
      "cell_type": "code",
      "metadata": {
        "colab": {
          "base_uri": "https://localhost:8080/"
        },
        "id": "hv9j4FpsUL_r",
        "outputId": "2724d9e6-6719-4c85-c2b5-20a0cce27a0d"
      },
      "source": [
        "# 0번째 기사에 어떤 단어들이 나오는지 알아봄\n",
        "for v in X_train_count[0]:\n",
        "    print(v)\n"
      ],
      "execution_count": 77,
      "outputs": [
        {
          "output_type": "stream",
          "text": [
            "  (0, 56979)\t3\n",
            "  (0, 75358)\t2\n",
            "  (0, 123162)\t2\n",
            "  (0, 118280)\t2\n",
            "  (0, 50527)\t2\n",
            "  (0, 124031)\t2\n",
            "  (0, 85354)\t1\n",
            "  (0, 114688)\t1\n",
            "  (0, 111322)\t1\n",
            "  (0, 123984)\t1\n",
            "  (0, 37780)\t5\n",
            "  (0, 68532)\t3\n",
            "  (0, 114731)\t5\n",
            "  (0, 87620)\t1\n",
            "  (0, 95162)\t1\n",
            "  (0, 64095)\t1\n",
            "  (0, 98949)\t1\n",
            "  (0, 90379)\t1\n",
            "  (0, 118983)\t1\n",
            "  (0, 89362)\t3\n",
            "  (0, 79666)\t1\n",
            "  (0, 40998)\t1\n",
            "  (0, 92081)\t1\n",
            "  (0, 76032)\t1\n",
            "  (0, 4605)\t1\n",
            "  :\t:\n",
            "  (0, 37565)\t1\n",
            "  (0, 113986)\t1\n",
            "  (0, 83256)\t1\n",
            "  (0, 86001)\t1\n",
            "  (0, 51730)\t1\n",
            "  (0, 109271)\t1\n",
            "  (0, 128026)\t1\n",
            "  (0, 96144)\t1\n",
            "  (0, 78784)\t1\n",
            "  (0, 63363)\t1\n",
            "  (0, 90252)\t1\n",
            "  (0, 123989)\t1\n",
            "  (0, 67156)\t1\n",
            "  (0, 128402)\t2\n",
            "  (0, 62221)\t1\n",
            "  (0, 57308)\t1\n",
            "  (0, 76722)\t1\n",
            "  (0, 94362)\t1\n",
            "  (0, 78955)\t1\n",
            "  (0, 114428)\t1\n",
            "  (0, 66098)\t1\n",
            "  (0, 35187)\t1\n",
            "  (0, 35983)\t1\n",
            "  (0, 128420)\t1\n",
            "  (0, 86580)\t1\n"
          ],
          "name": "stdout"
        }
      ]
    },
    {
      "cell_type": "markdown",
      "metadata": {
        "id": "mmND_25kVIDl"
      },
      "source": [
        "#### Hashing Vectorizer\n",
        "- 각 단어들을 해쉬값으로 표현\n",
        "- 미리 정해진 크기의 벡터로 표현"
      ]
    },
    {
      "cell_type": "code",
      "metadata": {
        "colab": {
          "base_uri": "https://localhost:8080/"
        },
        "id": "FSCXyiixU32x",
        "outputId": "3529e081-01aa-4ab4-b969-a58cdcd76ce0"
      },
      "source": [
        "hash_vectorizer = HashingVectorizer(n_features=1000) # 피처의 수를 제한하여 제한된 크기의 벡터를 만듬\n",
        "\n",
        "X_train_hash = hash_vectorizer.fit_transform(X_train)\n",
        "X_test_hash = hash_vectorizer.transform(X_test)\n",
        "\n",
        "X_train_hash"
      ],
      "execution_count": 78,
      "outputs": [
        {
          "output_type": "execute_result",
          "data": {
            "text/plain": [
              "<11314x1000 sparse matrix of type '<class 'numpy.float64'>'\n",
              "\twith 1550687 stored elements in Compressed Sparse Row format>"
            ]
          },
          "metadata": {
            "tags": []
          },
          "execution_count": 78
        }
      ]
    },
    {
      "cell_type": "code",
      "metadata": {
        "colab": {
          "base_uri": "https://localhost:8080/"
        },
        "id": "1LIHfU8kWFas",
        "outputId": "2f3c7b21-404d-4381-c3c0-728b007d3619"
      },
      "source": [
        "print(X_train_hash[0])"
      ],
      "execution_count": 79,
      "outputs": [
        {
          "output_type": "stream",
          "text": [
            "  (0, 80)\t-0.0642824346533225\n",
            "  (0, 108)\t0.0642824346533225\n",
            "  (0, 111)\t-0.128564869306645\n",
            "  (0, 145)\t0.0642824346533225\n",
            "  (0, 158)\t0.0642824346533225\n",
            "  (0, 159)\t-0.0642824346533225\n",
            "  (0, 161)\t0.0642824346533225\n",
            "  (0, 165)\t-0.0642824346533225\n",
            "  (0, 171)\t0.0642824346533225\n",
            "  (0, 182)\t0.0642824346533225\n",
            "  (0, 195)\t-0.0642824346533225\n",
            "  (0, 196)\t0.19284730395996752\n",
            "  (0, 205)\t-0.0642824346533225\n",
            "  (0, 209)\t0.0642824346533225\n",
            "  (0, 234)\t0.0642824346533225\n",
            "  (0, 237)\t0.0642824346533225\n",
            "  (0, 248)\t0.0642824346533225\n",
            "  (0, 265)\t0.19284730395996752\n",
            "  (0, 274)\t0.0642824346533225\n",
            "  (0, 277)\t0.19284730395996752\n",
            "  (0, 284)\t-0.0642824346533225\n",
            "  (0, 286)\t-0.0642824346533225\n",
            "  (0, 296)\t0.0642824346533225\n",
            "  (0, 362)\t-0.0642824346533225\n",
            "  (0, 364)\t-0.0642824346533225\n",
            "  :\t:\n",
            "  (0, 739)\t0.0\n",
            "  (0, 761)\t-0.0642824346533225\n",
            "  (0, 766)\t0.0642824346533225\n",
            "  (0, 800)\t-0.0642824346533225\n",
            "  (0, 812)\t-0.0642824346533225\n",
            "  (0, 842)\t0.0642824346533225\n",
            "  (0, 848)\t-0.0642824346533225\n",
            "  (0, 851)\t0.0642824346533225\n",
            "  (0, 863)\t-0.0642824346533225\n",
            "  (0, 881)\t0.0642824346533225\n",
            "  (0, 892)\t0.0642824346533225\n",
            "  (0, 897)\t0.0\n",
            "  (0, 899)\t0.0642824346533225\n",
            "  (0, 906)\t-0.0642824346533225\n",
            "  (0, 918)\t0.128564869306645\n",
            "  (0, 926)\t-0.0642824346533225\n",
            "  (0, 935)\t0.0642824346533225\n",
            "  (0, 939)\t-0.0642824346533225\n",
            "  (0, 951)\t-0.0642824346533225\n",
            "  (0, 958)\t-0.38569460791993504\n",
            "  (0, 960)\t0.0642824346533225\n",
            "  (0, 968)\t-0.0642824346533225\n",
            "  (0, 987)\t-0.0642824346533225\n",
            "  (0, 996)\t0.0642824346533225\n",
            "  (0, 997)\t-0.128564869306645\n"
          ],
          "name": "stdout"
        }
      ]
    },
    {
      "cell_type": "markdown",
      "metadata": {
        "id": "paN4_GtBWoIn"
      },
      "source": [
        "#### Tfidf Vectorizer\n",
        "\n",
        "- 문서에 나온 단어 빈도(term frequency)와 역문서 빈도(inverse document frequency)를 곱해서 구함\n",
        " - (너무 빈번한 등장은 스케일링 후 사용하기 위해 둘을 곱함)\n",
        "- 각 빈도는 일반적으로 로그 스케일링 후 사용\n"
      ]
    },
    {
      "cell_type": "code",
      "metadata": {
        "colab": {
          "base_uri": "https://localhost:8080/"
        },
        "id": "MgjlKt9iWi61",
        "outputId": "81b6645c-1b03-4996-ac8d-51b6e72a784d"
      },
      "source": [
        "tfidf_vectorizer = TfidfVectorizer()\n",
        "\n",
        "X_train_tfidf = tfidf_vectorizer.fit_transform(X_train)\n",
        "X_test_tfidf = tfidf_vectorizer.transform(X_test)\n",
        "\n",
        "X_train_tfidf"
      ],
      "execution_count": 80,
      "outputs": [
        {
          "output_type": "execute_result",
          "data": {
            "text/plain": [
              "<11314x130107 sparse matrix of type '<class 'numpy.float64'>'\n",
              "\twith 1787565 stored elements in Compressed Sparse Row format>"
            ]
          },
          "metadata": {
            "tags": []
          },
          "execution_count": 80
        }
      ]
    },
    {
      "cell_type": "code",
      "metadata": {
        "colab": {
          "base_uri": "https://localhost:8080/"
        },
        "id": "HN0qjQJwY0Vx",
        "outputId": "711cbee1-cd7c-4115-99a4-0cfc309fb1d5"
      },
      "source": [
        "for v in X_train_tfidf[0]:\n",
        "    print(v)"
      ],
      "execution_count": 81,
      "outputs": [
        {
          "output_type": "stream",
          "text": [
            "  (0, 86580)\t0.13157118714240987\n",
            "  (0, 128420)\t0.04278499079283093\n",
            "  (0, 35983)\t0.03770448563619875\n",
            "  (0, 35187)\t0.09353930598317124\n",
            "  (0, 66098)\t0.09785515708314481\n",
            "  (0, 114428)\t0.05511105154696676\n",
            "  (0, 78955)\t0.05989856888061599\n",
            "  (0, 94362)\t0.055457031390147224\n",
            "  (0, 76722)\t0.06908779999621749\n",
            "  (0, 57308)\t0.1558717009157704\n",
            "  (0, 62221)\t0.02921527992427867\n",
            "  (0, 128402)\t0.05922294083277842\n",
            "  (0, 67156)\t0.07313443922740179\n",
            "  (0, 123989)\t0.08207027465330353\n",
            "  (0, 90252)\t0.031889368795417566\n",
            "  (0, 63363)\t0.08342748387969037\n",
            "  (0, 78784)\t0.0633940918806495\n",
            "  (0, 96144)\t0.10826904490745741\n",
            "  (0, 128026)\t0.060622095889758885\n",
            "  (0, 109271)\t0.10844724822064673\n",
            "  (0, 51730)\t0.09714744057976722\n",
            "  (0, 86001)\t0.07000411445838192\n",
            "  (0, 83256)\t0.08844382496462173\n",
            "  (0, 113986)\t0.17691750674853082\n",
            "  (0, 37565)\t0.03431760442478462\n",
            "  :\t:\n",
            "  (0, 4605)\t0.06332603952480323\n",
            "  (0, 76032)\t0.019219463052223086\n",
            "  (0, 92081)\t0.09913274493911223\n",
            "  (0, 40998)\t0.0780136819691811\n",
            "  (0, 79666)\t0.10936401252414274\n",
            "  (0, 89362)\t0.06521174306303763\n",
            "  (0, 118983)\t0.037085978050619146\n",
            "  (0, 90379)\t0.019928859956645867\n",
            "  (0, 98949)\t0.16068606055394932\n",
            "  (0, 64095)\t0.03542092427131355\n",
            "  (0, 95162)\t0.03447138409326312\n",
            "  (0, 87620)\t0.035671863140815795\n",
            "  (0, 114731)\t0.14447275512784058\n",
            "  (0, 68532)\t0.07325812342131596\n",
            "  (0, 37780)\t0.38133891259493113\n",
            "  (0, 123984)\t0.036854292634593756\n",
            "  (0, 111322)\t0.01915671802495043\n",
            "  (0, 114688)\t0.06214070986309586\n",
            "  (0, 85354)\t0.03696978508816316\n",
            "  (0, 124031)\t0.10798795154169122\n",
            "  (0, 50527)\t0.054614286588587246\n",
            "  (0, 118280)\t0.2118680720828169\n",
            "  (0, 123162)\t0.2597090245735688\n",
            "  (0, 75358)\t0.35383501349706165\n",
            "  (0, 56979)\t0.057470154074851294\n"
          ],
          "name": "stdout"
        }
      ]
    },
    {
      "cell_type": "markdown",
      "metadata": {
        "id": "s7R1HIlpZxaE"
      },
      "source": [
        "# 가우시안 나이브 베이즈\n",
        "\n",
        "- 입력 특성이 가우시안(정규) 분포를 갖는다고 가정"
      ]
    },
    {
      "cell_type": "code",
      "metadata": {
        "colab": {
          "base_uri": "https://localhost:8080/"
        },
        "id": "kWfNtGaiZq37",
        "outputId": "947d1453-ce20-4921-c44c-b7bc73a43104"
      },
      "source": [
        "model = GaussianNB()\n",
        "model.fit(covtype_X_train_scaler, covtype_y_train)\n",
        "\n",
        "predict = model.predict(covtype_X_train_scaler)\n",
        "acc = metrics.accuracy_score(covtype_y_train, predict) # 정확도만 보면 안돼\n",
        "f1 = metrics.f1_score(covtype_y_train, predict, average=None) # 재현율과 정밀도의 조화평균값\n",
        "\n",
        "print('Train Accuracy : {}'.format(acc))\n",
        "print('Train F1 Score : {}'.format(f1))\n",
        "\n",
        "predict = model.predict(covtype_X_test_scaler)\n",
        "acc = metrics.accuracy_score(covtype_y_test, predict)\n",
        "f1 = metrics.f1_score(covtype_y_test, predict, average=None)\n",
        "\n",
        "print('Test Accuracy : {}'.format(acc))\n",
        "print('Test F1 Score : {}'.format(f1)) # 점수 의문?????????"
      ],
      "execution_count": 82,
      "outputs": [
        {
          "output_type": "stream",
          "text": [
            "Train Accuracy : 0.08941307074518781\n",
            "Train F1 Score : [0.04034667 0.01796899 0.33563095 0.13799431 0.04433566 0.08373524\n",
            " 0.24060648]\n",
            "Test Accuracy : 0.49209572902592874\n",
            "Test F1 Score : [0.         0.66081402 0.         0.         0.         0.14388804\n",
            " 0.02928469]\n"
          ],
          "name": "stdout"
        }
      ]
    },
    {
      "cell_type": "code",
      "metadata": {
        "id": "cQj3IxKObAkZ"
      },
      "source": [
        "def make_meshgrid(x, y, h=.02):\n",
        "    x_min, x_max = x.min()-1, x.max()+1\n",
        "    y_min, y_max = y.min()-1, y.max()+1\n",
        "    xx, yy = np.meshgrid(np.arange(x_min, x_max, h),\n",
        "                         np.arange(y_min, y_max, h))\n",
        "    \n",
        "    return xx, yy\n",
        "\n",
        "def plot_contours(clf, xx, yy, **params):\n",
        "    Z = clf.predict(np.c_[xx.ravel(), yy.ravel()])\n",
        "    Z = Z.reshape(xx.shape)\n",
        "    out = plt.contourf(xx, yy, Z, **params)\n",
        "\n",
        "    return out"
      ],
      "execution_count": 84,
      "outputs": []
    },
    {
      "cell_type": "code",
      "metadata": {
        "colab": {
          "base_uri": "https://localhost:8080/",
          "height": 265
        },
        "id": "0mYmkU4qmYFo",
        "outputId": "14512b2c-197b-42ab-a165-1b0788aa770c"
      },
      "source": [
        "plt.scatter(covtype_X[:, 0], covtype_X[:, 1], c=covtype_y, cmap=plt.cm.coolwarm, s=20);"
      ],
      "execution_count": 102,
      "outputs": [
        {
          "output_type": "display_data",
          "data": {
            "image/png": "[encoded data removed]",
            "text/plain": [
              "<Figure size 432x288 with 1 Axes>"
            ]
          },
          "metadata": {
            "tags": [],
            "needs_background": "light"
          }
        }
      ]
    },
    {
      "cell_type": "markdown",
      "metadata": {
        "id": "VFD-K7sLm7jL"
      },
      "source": [
        "예시"
      ]
    },
    {
      "cell_type": "code",
      "metadata": {
        "id": "AmENX5ZukLLF"
      },
      "source": [
        "X, y = make_blobs(n_samples=1000)"
      ],
      "execution_count": 97,
      "outputs": []
    },
    {
      "cell_type": "code",
      "metadata": {
        "colab": {
          "base_uri": "https://localhost:8080/",
          "height": 265
        },
        "id": "EcAJO1cOklPg",
        "outputId": "d89b60cb-02f6-406c-fb09-e15d4cbc31a4"
      },
      "source": [
        "plt.scatter(X[:, 0], X[:, 1], c=y, cmap=plt.cm.coolwarm, s=20, edgecolors='k');"
      ],
      "execution_count": 98,
      "outputs": [
        {
          "output_type": "display_data",
          "data": {
            "image/png": "[encoded data removed]",
            "text/plain": [
              "<Figure size 432x288 with 1 Axes>"
            ]
          },
          "metadata": {
            "tags": [],
            "needs_background": "light"
          }
        }
      ]
    },
    {
      "cell_type": "code",
      "metadata": {
        "colab": {
          "base_uri": "https://localhost:8080/",
          "height": 265
        },
        "id": "VfyF0Pdfk1kM",
        "outputId": "5afcb378-7556-4e22-b5a9-5c072e836763"
      },
      "source": [
        "model = GaussianNB()\n",
        "model.fit(X, y)\n",
        "\n",
        "xx, yy = make_meshgrid(X[:, 0], X[:, 1])\n",
        "plot_contours(model, xx, yy, cmap=plt.cm.coolwarm, alpha=0.8)\n",
        "plt.scatter(X[:, 0], X[:, 1], c=y, cmap=plt.cm.coolwarm, s=20, edgecolors='k');"
      ],
      "execution_count": 99,
      "outputs": [
        {
          "output_type": "display_data",
          "data": {
            "image/png": "[encoded data removed]",
            "text/plain": [
              "<Figure size 432x288 with 1 Axes>"
            ]
          },
          "metadata": {
            "tags": [],
            "needs_background": "light"
          }
        }
      ]
    },
    {
      "cell_type": "markdown",
      "metadata": {
        "id": "aXK2aarGl-2R"
      },
      "source": [
        "# 베르누이 나이브 베이즈\n",
        "- 입력 특성이 베르누이 분포ㄹ에 의해 생성된 이진 값을 갖는다고 가정"
      ]
    },
    {
      "cell_type": "markdown",
      "metadata": {
        "id": "6xmorIBKpi5n"
      },
      "source": [
        "Count Vectorizer"
      ]
    },
    {
      "cell_type": "code",
      "metadata": {
        "colab": {
          "base_uri": "https://localhost:8080/"
        },
        "id": "nXMLZfcklWxz",
        "outputId": "bf9bfe2f-f0f6-4afd-df58-944dd3bf733a"
      },
      "source": [
        "model = BernoulliNB()\n",
        "model.fit(X_train_count, y_train)\n",
        "\n",
        "predict = model.predict(X_train_count)\n",
        "acc = metrics.accuracy_score(y_train, predict) # 정확도만 보면 안돼\n",
        "f1 = metrics.f1_score(y_train, predict, average=None) # 재현율과 정밀도의 조화평균값\n",
        "\n",
        "print('Train Accuracy : {}'.format(acc))\n",
        "print('Train F1 Score : {}'.format(f1))\n",
        "\n",
        "predict = model.predict(X_test_count)\n",
        "acc = metrics.accuracy_score(y_test, predict)\n",
        "f1 = metrics.f1_score(y_test, predict, average=None)\n",
        "\n",
        "print('Test Accuracy : {}'.format(acc))\n",
        "print('Test F1 Score : {}'.format(f1))"
      ],
      "execution_count": 105,
      "outputs": [
        {
          "output_type": "stream",
          "text": [
            "Train Accuracy : 0.7821283365741559\n",
            "Train F1 Score : [0.80096502 0.8538398  0.13858268 0.70686337 0.85220126 0.87944493\n",
            " 0.51627694 0.84532672 0.89064976 0.87179487 0.94561404 0.91331546\n",
            " 0.84627832 0.89825848 0.9047619  0.79242424 0.84693878 0.84489796\n",
            " 0.67329545 0.14742015]\n",
            "Test Accuracy : 0.6307753584705258\n",
            "Test F1 Score : [0.47086247 0.60643564 0.01       0.56014047 0.6953405  0.70381232\n",
            " 0.44829721 0.71878646 0.81797753 0.81893491 0.90287278 0.74794521\n",
            " 0.61647059 0.64174455 0.76967096 0.63555114 0.64285714 0.77971474\n",
            " 0.31382979 0.00793651]\n"
          ],
          "name": "stdout"
        }
      ]
    },
    {
      "cell_type": "markdown",
      "metadata": {
        "id": "M9VKFmWhpu2y"
      },
      "source": [
        "Hash Vectorizer"
      ]
    },
    {
      "cell_type": "code",
      "metadata": {
        "colab": {
          "base_uri": "https://localhost:8080/"
        },
        "id": "6i9VIcowpOnp",
        "outputId": "819ebd70-d64d-43b8-d60c-092e65fc6a1e"
      },
      "source": [
        "model = BernoulliNB()\n",
        "model.fit(X_train_hash, y_train)\n",
        "\n",
        "predict = model.predict(X_train_hash)\n",
        "acc = metrics.accuracy_score(y_train, predict) # 정확도만 보면 안돼\n",
        "f1 = metrics.f1_score(y_train, predict, average=None) # 재현율과 정밀도의 조화평균값\n",
        "\n",
        "print('Train Accuracy : {}'.format(acc))\n",
        "print('Train F1 Score : {}'.format(f1))\n",
        "\n",
        "predict = model.predict(X_test_hash)\n",
        "acc = metrics.accuracy_score(y_test, predict)\n",
        "f1 = metrics.f1_score(y_test, predict, average=None)\n",
        "\n",
        "print('Test Accuracy : {}'.format(acc))\n",
        "print('Test F1 Score : {}'.format(f1))"
      ],
      "execution_count": 106,
      "outputs": [
        {
          "output_type": "stream",
          "text": [
            "Train Accuracy : 0.5951917977726711\n",
            "Train F1 Score : [0.74226804 0.49415205 0.45039019 0.59878155 0.57327935 0.63929619\n",
            " 0.35390947 0.59851301 0.72695347 0.68123862 0.79809524 0.70532319\n",
            " 0.54703833 0.66862745 0.61889927 0.74707471 0.6518668  0.60485269\n",
            " 0.5324165  0.54576271]\n",
            "Test Accuracy : 0.4430430164630908\n",
            "Test F1 Score : [0.46678636 0.33826638 0.29391892 0.45743329 0.41939121 0.46540881\n",
            " 0.34440068 0.46464646 0.62849873 0.53038674 0.63782051 0.55251799\n",
            " 0.32635983 0.34266886 0.46105919 0.61780105 0.46197991 0.54591837\n",
            " 0.27513228 0.3307888 ]\n"
          ],
          "name": "stdout"
        }
      ]
    },
    {
      "cell_type": "markdown",
      "metadata": {
        "id": "7H-63D7gqHhn"
      },
      "source": [
        "Tfidf Vectorizer"
      ]
    },
    {
      "cell_type": "code",
      "metadata": {
        "colab": {
          "base_uri": "https://localhost:8080/"
        },
        "id": "_7CNnKLRqBEL",
        "outputId": "61955b95-9442-4fe3-f294-13064bb61e3d"
      },
      "source": [
        "model = BernoulliNB()\n",
        "model.fit(X_train_tfidf, y_train)\n",
        "\n",
        "predict = model.predict(X_train_tfidf)\n",
        "acc = metrics.accuracy_score(y_train, predict) # 정확도만 보면 안돼\n",
        "f1 = metrics.f1_score(y_train, predict, average=None) # 재현율과 정밀도의 조화평균값\n",
        "\n",
        "print('Train Accuracy : {}'.format(acc))\n",
        "print('Train F1 Score : {}'.format(f1))\n",
        "\n",
        "predict = model.predict(X_test_tfidf)\n",
        "acc = metrics.accuracy_score(y_test, predict)\n",
        "f1 = metrics.f1_score(y_test, predict, average=None)\n",
        "\n",
        "print('Test Accuracy : {}'.format(acc))\n",
        "print('Test F1 Score : {}'.format(f1))"
      ],
      "execution_count": 107,
      "outputs": [
        {
          "output_type": "stream",
          "text": [
            "Train Accuracy : 0.7821283365741559\n",
            "Train F1 Score : [0.80096502 0.8538398  0.13858268 0.70686337 0.85220126 0.87944493\n",
            " 0.51627694 0.84532672 0.89064976 0.87179487 0.94561404 0.91331546\n",
            " 0.84627832 0.89825848 0.9047619  0.79242424 0.84693878 0.84489796\n",
            " 0.67329545 0.14742015]\n",
            "Test Accuracy : 0.6307753584705258\n",
            "Test F1 Score : [0.47086247 0.60643564 0.01       0.56014047 0.6953405  0.70381232\n",
            " 0.44829721 0.71878646 0.81797753 0.81893491 0.90287278 0.74794521\n",
            " 0.61647059 0.64174455 0.76967096 0.63555114 0.64285714 0.77971474\n",
            " 0.31382979 0.00793651]\n"
          ],
          "name": "stdout"
        }
      ]
    },
    {
      "cell_type": "markdown",
      "metadata": {
        "id": "6GVewcCNrfaB"
      },
      "source": [
        "시각화"
      ]
    },
    {
      "cell_type": "code",
      "metadata": {
        "colab": {
          "base_uri": "https://localhost:8080/",
          "height": 265
        },
        "id": "pDJNgamYqU7N",
        "outputId": "ac688ba0-5eea-4dc9-913d-bb2aff608838"
      },
      "source": [
        "X, y = make_blobs(n_samples=1000)\n",
        "\n",
        "plt.scatter(X[:, 0], X[:, 1], c=y, cmap=plt.cm.coolwarm, s=20, edgecolors='k');"
      ],
      "execution_count": 122,
      "outputs": [
        {
          "output_type": "display_data",
          "data": {
            "image/png": "[encoded data removed]",
            "text/plain": [
              "<Figure size 432x288 with 1 Axes>"
            ]
          },
          "metadata": {
            "tags": [],
            "needs_background": "light"
          }
        }
      ]
    },
    {
      "cell_type": "code",
      "metadata": {
        "colab": {
          "base_uri": "https://localhost:8080/",
          "height": 265
        },
        "id": "M8fAPzpYrtcP",
        "outputId": "526cf54d-9be4-4250-81e7-ab9d2f074a00"
      },
      "source": [
        "model = BernoulliNB()\n",
        "model.fit(X, y)\n",
        "\n",
        "xx, yy = make_meshgrid(X[:, 0], X[:, 1])\n",
        "plot_contours(model, xx, yy, cmap=plt.cm.coolwarm, alpha=0.8)\n",
        "plt.scatter(X[:, 0], X[:, 1], c=y, cmap=plt.cm.coolwarm, s=20, edgecolors='k');"
      ],
      "execution_count": 123,
      "outputs": [
        {
          "output_type": "display_data",
          "data": {
            "image/png": "[encoded data removed]",
            "text/plain": [
              "<Figure size 432x288 with 1 Axes>"
            ]
          },
          "metadata": {
            "tags": [],
            "needs_background": "light"
          }
        }
      ]
    },
    {
      "cell_type": "markdown",
      "metadata": {
        "id": "ZTjkhdmXsPHl"
      },
      "source": [
        "# 다항 나이브 베이즈\n",
        "- 입력 특성이 다항 분포에 의해 생성된 빈도수 값을 갖는다고 가정"
      ]
    },
    {
      "cell_type": "markdown",
      "metadata": {
        "id": "XgczmNmKsfar"
      },
      "source": [
        "Count Vector"
      ]
    },
    {
      "cell_type": "code",
      "metadata": {
        "colab": {
          "base_uri": "https://localhost:8080/"
        },
        "id": "YPRJIsphr427",
        "outputId": "c6daf8f1-7896-4bc7-b76b-681fd7ae6c03"
      },
      "source": [
        "model = MultinomialNB()\n",
        "model.fit(X_train_count, y_train)\n",
        "\n",
        "predict = model.predict(X_train_count)\n",
        "acc = metrics.accuracy_score(y_train, predict) # 정확도만 보면 안돼\n",
        "f1 = metrics.f1_score(y_train, predict, average=None) # 재현율과 정밀도의 조화평균값\n",
        "\n",
        "print('Train Accuracy : {}'.format(acc))\n",
        "print('Train F1 Score : {}'.format(f1))\n",
        "\n",
        "predict = model.predict(X_test_count)\n",
        "acc = metrics.accuracy_score(y_test, predict)\n",
        "f1 = metrics.f1_score(y_test, predict, average=None)\n",
        "\n",
        "print('Test Accuracy : {}'.format(acc))\n",
        "print('Test F1 Score : {}'.format(f1))"
      ],
      "execution_count": 124,
      "outputs": [
        {
          "output_type": "stream",
          "text": [
            "Train Accuracy : 0.9245182959165635\n",
            "Train F1 Score : [0.95228426 0.904      0.25073746 0.81402003 0.96669513 0.88350983\n",
            " 0.90710383 0.97014925 0.98567818 0.99325464 0.98423237 0.95399516\n",
            " 0.95703454 0.98319328 0.98584513 0.95352564 0.97307002 0.97467249\n",
            " 0.95157895 0.86526946]\n",
            "Test Accuracy : 0.7728359001593202\n",
            "Test F1 Score : [0.77901431 0.7008547  0.00501253 0.64516129 0.79178082 0.73370166\n",
            " 0.76550681 0.88779285 0.93951094 0.91390728 0.94594595 0.78459938\n",
            " 0.72299169 0.84635417 0.86029412 0.80846561 0.78665077 0.89281211\n",
            " 0.60465116 0.48695652]\n"
          ],
          "name": "stdout"
        }
      ]
    },
    {
      "cell_type": "markdown",
      "metadata": {
        "id": "5ad1ne9kstc6"
      },
      "source": [
        "Tfidf Vector"
      ]
    },
    {
      "cell_type": "code",
      "metadata": {
        "colab": {
          "base_uri": "https://localhost:8080/"
        },
        "id": "tJV4ygYNsr5g",
        "outputId": "0cd90603-7226-4cea-c7de-ec7987b51451"
      },
      "source": [
        "model = MultinomialNB()\n",
        "model.fit(X_train_tfidf, y_train)\n",
        "\n",
        "predict = model.predict(X_train_tfidf)\n",
        "acc = metrics.accuracy_score(y_train, predict) # 정확도만 보면 안돼\n",
        "f1 = metrics.f1_score(y_train, predict, average=None) # 재현율과 정밀도의 조화평균값\n",
        "\n",
        "print('Train Accuracy : {}'.format(acc))\n",
        "print('Train F1 Score : {}'.format(f1))\n",
        "\n",
        "predict = model.predict(X_test_tfidf)\n",
        "acc = metrics.accuracy_score(y_test, predict)\n",
        "f1 = metrics.f1_score(y_test, predict, average=None)\n",
        "\n",
        "print('Test Accuracy : {}'.format(acc))\n",
        "print('Test F1 Score : {}'.format(f1))"
      ],
      "execution_count": 125,
      "outputs": [
        {
          "output_type": "stream",
          "text": [
            "Train Accuracy : 0.9326498143892522\n",
            "Train F1 Score : [0.87404162 0.95414462 0.95726496 0.92863002 0.97812773 0.97440273\n",
            " 0.91090909 0.97261411 0.98659966 0.98575021 0.98026316 0.94033413\n",
            " 0.9594478  0.98032506 0.97755611 0.77411003 0.93506494 0.97453907\n",
            " 0.90163934 0.45081967]\n",
            "Test Accuracy : 0.7738980350504514\n",
            "Test F1 Score : [0.63117871 0.72       0.72778561 0.72104019 0.81309686 0.81643836\n",
            " 0.7958884  0.88135593 0.93450882 0.91071429 0.92917167 0.73583093\n",
            " 0.69732938 0.81907433 0.86559803 0.60728118 0.76286353 0.92225201\n",
            " 0.57977528 0.24390244]\n"
          ],
          "name": "stdout"
        }
      ]
    },
    {
      "cell_type": "markdown",
      "metadata": {
        "id": "PKhKQrGptJfH"
      },
      "source": [
        "시각화"
      ]
    },
    {
      "cell_type": "code",
      "metadata": {
        "colab": {
          "base_uri": "https://localhost:8080/",
          "height": 265
        },
        "id": "idqYKo6MtG81",
        "outputId": "f0ceb20f-352b-4834-ab0f-85b1063172e5"
      },
      "source": [
        "X, y = make_blobs(n_samples=1000)\n",
        "\n",
        "scaler = MinMaxScaler() # Negative values in data passed to MultinomialNB (input X)\n",
        "X = scaler.fit_transform(X)\n",
        "\n",
        "plt.scatter(X[:, 0], X[:, 1], c=y, cmap=plt.cm.coolwarm, s=20, edgecolors='k');"
      ],
      "execution_count": 131,
      "outputs": [
        {
          "output_type": "display_data",
          "data": {
            "image/png": "[encoded data removed]",
            "text/plain": [
              "<Figure size 432x288 with 1 Axes>"
            ]
          },
          "metadata": {
            "tags": [],
            "needs_background": "light"
          }
        }
      ]
    },
    {
      "cell_type": "code",
      "metadata": {
        "colab": {
          "base_uri": "https://localhost:8080/",
          "height": 265
        },
        "id": "9DZt1RJUtQ9y",
        "outputId": "6abca190-f25e-46ef-911c-5345f53336c3"
      },
      "source": [
        "model = MultinomialNB()\n",
        "model.fit(X, y) # Negative values in data passed to MultinomialNB (input X)\n",
        "\n",
        "xx, yy = make_meshgrid(X[:, 0], X[:, 1])\n",
        "plot_contours(model, xx, yy, cmap=plt.cm.coolwarm, alpha=0.8)\n",
        "plt.scatter(X[:, 0], X[:, 1], c=y, cmap=plt.cm.coolwarm, s=20, edgecolors='k');"
      ],
      "execution_count": 132,
      "outputs": [
        {
          "output_type": "display_data",
          "data": {
            "image/png": "[encoded data removed]",
            "text/plain": [
              "<Figure size 432x288 with 1 Axes>"
            ]
          },
          "metadata": {
            "tags": [],
            "needs_background": "light"
          }
        }
      ]
    },
    {
      "cell_type": "code",
      "metadata": {
        "id": "QQJx9Q8ZtWOM"
      },
      "source": [
        ""
      ],
      "execution_count": null,
      "outputs": []
    }
  ]
}