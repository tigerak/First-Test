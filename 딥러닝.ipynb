{
  "nbformat": 4,
  "nbformat_minor": 0,
  "metadata": {
    "colab": {
      "name": "딥러닝.ipynb",
      "provenance": [],
      "authorship_tag": "ABX9TyOywfrEF/owLrKWqsH4V95i",
      "include_colab_link": true
    },
    "kernelspec": {
      "name": "python3",
      "display_name": "Python 3"
    },
    "language_info": {
      "name": "python"
    }
  },
  "cells": [
    {
      "cell_type": "markdown",
      "metadata": {
        "id": "view-in-github",
        "colab_type": "text"
      },
      "source": [
        "<a href=\"https://colab.research.google.com/github/tigerak/1st_practice/blob/main/%EB%94%A5%EB%9F%AC%EB%8B%9D.ipynb\" target=\"_parent\"><img src=\"https://colab.research.google.com/assets/colab-badge.svg\" alt=\"Open In Colab\"/></a>"
      ]
    },
    {
      "cell_type": "markdown",
      "metadata": {
        "id": "N9d0EIevUJOx"
      },
      "source": [
        "# 1 신경망 기초 수학"
      ]
    },
    {
      "cell_type": "code",
      "metadata": {
        "id": "W3I3wi8VHM9N"
      },
      "source": [
        "import math\n",
        "import numpy as np\n",
        "import matplotlib.pyplot as plt\n",
        "plt.style.use(['seaborn-whitegrid'])"
      ],
      "execution_count": null,
      "outputs": []
    },
    {
      "cell_type": "code",
      "metadata": {
        "id": "I_VAqHz9Oi4q"
      },
      "source": [
        "def linear_function(x):\n",
        "    a = 0.5\n",
        "    b = 2\n",
        "\n",
        "    return a*x + b"
      ],
      "execution_count": null,
      "outputs": []
    },
    {
      "cell_type": "code",
      "metadata": {
        "colab": {
          "base_uri": "https://localhost:8080/"
        },
        "id": "Y4OELVLAO2eV",
        "outputId": "6ab71cf5-73f4-46bf-d638-f4a82db4885f"
      },
      "source": [
        "print(linear_function(5))"
      ],
      "execution_count": null,
      "outputs": [
        {
          "output_type": "stream",
          "text": [
            "4.5\n"
          ],
          "name": "stdout"
        }
      ]
    },
    {
      "cell_type": "code",
      "metadata": {
        "colab": {
          "base_uri": "https://localhost:8080/",
          "height": 276
        },
        "id": "I0gXGQgqO6Zj",
        "outputId": "95b87854-ab0e-4329-b2f2-f00450ea9a64"
      },
      "source": [
        "x = np.arange(-5, 5, 0.1)\n",
        "y = linear_function(x)\n",
        "\n",
        "plt.plot(x, y)\n",
        "plt.xlabel('x')\n",
        "plt.ylabel('y')\n",
        "plt.show()"
      ],
      "execution_count": null,
      "outputs": [
        {
          "output_type": "display_data",
          "data": {
            "image/png": "[encoded data removed]",
            "text/plain": [
              "<Figure size 432x288 with 1 Axes>"
            ]
          },
          "metadata": {
            "tags": []
          }
        }
      ]
    },
    {
      "cell_type": "code",
      "metadata": {
        "id": "IK0BrgrhPdvi"
      },
      "source": [
        "def quadratic_function(x):\n",
        "    a = 1\n",
        "    b = -1\n",
        "    c = -2\n",
        "\n",
        "    return a*x**2 + b*x + c"
      ],
      "execution_count": null,
      "outputs": []
    },
    {
      "cell_type": "code",
      "metadata": {
        "colab": {
          "base_uri": "https://localhost:8080/"
        },
        "id": "QgML_v6fP1SU",
        "outputId": "2fbad51e-7d64-41d3-8590-bee11c285a18"
      },
      "source": [
        "print(quadratic_function(2))"
      ],
      "execution_count": null,
      "outputs": [
        {
          "output_type": "stream",
          "text": [
            "0\n"
          ],
          "name": "stdout"
        }
      ]
    },
    {
      "cell_type": "code",
      "metadata": {
        "colab": {
          "base_uri": "https://localhost:8080/",
          "height": 276
        },
        "id": "hlEMjLI9P6nd",
        "outputId": "c58de2f9-bc81-4eda-aa76-c85f972726f6"
      },
      "source": [
        "x = np.arange(-5, 5, 0.1)\n",
        "y = quadratic_function(x)\n",
        "\n",
        "plt.plot(x, y)\n",
        "plt.xlabel('x')\n",
        "plt.ylabel('y')\n",
        "plt.show()"
      ],
      "execution_count": null,
      "outputs": [
        {
          "output_type": "display_data",
          "data": {
            "image/png": "[encoded data removed]",
            "text/plain": [
              "<Figure size 432x288 with 1 Axes>"
            ]
          },
          "metadata": {
            "tags": []
          }
        }
      ]
    },
    {
      "cell_type": "code",
      "metadata": {
        "id": "tFTTeZzHQYVU"
      },
      "source": [
        "def cubic_function(x):\n",
        "    a = 4\n",
        "    b = 0\n",
        "    c = -1\n",
        "    d = -8\n",
        "\n",
        "    return a*x**3 + b*x**2 + c*x + d"
      ],
      "execution_count": null,
      "outputs": []
    },
    {
      "cell_type": "code",
      "metadata": {
        "colab": {
          "base_uri": "https://localhost:8080/"
        },
        "id": "SqwY2jMYQ0_h",
        "outputId": "ab78f6fd-90fb-4b04-8c82-129c8739ca88"
      },
      "source": [
        "print(cubic_function(3))"
      ],
      "execution_count": null,
      "outputs": [
        {
          "output_type": "stream",
          "text": [
            "97\n"
          ],
          "name": "stdout"
        }
      ]
    },
    {
      "cell_type": "code",
      "metadata": {
        "colab": {
          "base_uri": "https://localhost:8080/",
          "height": 276
        },
        "id": "Ba0g3qH-Q4lM",
        "outputId": "2fbaa48b-ff54-46c8-cc5a-5dc11478cb0d"
      },
      "source": [
        "x = np.arange(-5, 5, 0.1)\n",
        "y = cubic_function(x)\n",
        "\n",
        "plt.plot(x, y)\n",
        "plt.xlabel('x')\n",
        "plt.ylabel('y')\n",
        "plt.show()"
      ],
      "execution_count": null,
      "outputs": [
        {
          "output_type": "display_data",
          "data": {
            "image/png": "[encoded data removed]",
            "text/plain": [
              "<Figure size 432x288 with 1 Axes>"
            ]
          },
          "metadata": {
            "tags": []
          }
        }
      ]
    },
    {
      "cell_type": "markdown",
      "metadata": {
        "id": "ceCUkhbnREzg"
      },
      "source": [
        "함수의 최대 최소값"
      ]
    },
    {
      "cell_type": "code",
      "metadata": {
        "id": "qMxJ2ROcRBbS"
      },
      "source": [
        "def my_fun(x):\n",
        "    a = 1\n",
        "    b = -3\n",
        "    c = 10\n",
        "    return a*x**2 + b*x + c"
      ],
      "execution_count": null,
      "outputs": []
    },
    {
      "cell_type": "code",
      "metadata": {
        "colab": {
          "base_uri": "https://localhost:8080/",
          "height": 276
        },
        "id": "a1pI1BFgRZqz",
        "outputId": "3b746938-75d0-4f2d-9226-bd7d2c77ade6"
      },
      "source": [
        "x = np.arange(-10, 10, 0.1)\n",
        "y = my_fun(x)\n",
        "\n",
        "plt.plot(x, y)\n",
        "plt.xlabel('x')\n",
        "plt.ylabel('y')\n",
        "plt.scatter(1.5, my_fun(1.5))\n",
        "plt.text(1.5-1.5, my_fun(1.5)+10, 'min value of f(x)\\n({}, {})'.format(1.5, my_fun(1.5)), fontsize=10)\n",
        "plt.show()"
      ],
      "execution_count": null,
      "outputs": [
        {
          "output_type": "display_data",
          "data": {
            "image/png": "[encoded data removed]",
            "text/plain": [
              "<Figure size 432x288 with 1 Axes>"
            ]
          },
          "metadata": {
            "tags": []
          }
        }
      ]
    },
    {
      "cell_type": "code",
      "metadata": {
        "colab": {
          "base_uri": "https://localhost:8080/"
        },
        "id": "F7vA_UgOSfDx",
        "outputId": "a8176db3-42e0-4c7d-aee4-ecaceb0dcd9a"
      },
      "source": [
        "min_val = min(y)\n",
        "print(min_val)"
      ],
      "execution_count": null,
      "outputs": [
        {
          "output_type": "stream",
          "text": [
            "7.75\n"
          ],
          "name": "stdout"
        }
      ]
    },
    {
      "cell_type": "markdown",
      "metadata": {
        "id": "ExE-VIWzTuso"
      },
      "source": [
        "특정 구간 내에서 최소값 구하기"
      ]
    },
    {
      "cell_type": "code",
      "metadata": {
        "id": "HCavL_YKTVVj"
      },
      "source": [
        "def get_minimum(x1, x2, f):\n",
        "    x = np.arange(x1, x2, 0.01)\n",
        "    y = f(x)\n",
        "\n",
        "    plt.plot(x, y)\n",
        "    plt.xlabel('x')\n",
        "    plt.ylabel('y')\n",
        "    plt.show()\n",
        "\n",
        "    return min(y)"
      ],
      "execution_count": null,
      "outputs": []
    },
    {
      "cell_type": "code",
      "metadata": {
        "colab": {
          "base_uri": "https://localhost:8080/",
          "height": 294
        },
        "id": "l06f1TGTW_mj",
        "outputId": "9c354fc2-dec9-4561-e579-686517ca6406"
      },
      "source": [
        "print(get_minimum(1, 4, my_fun))"
      ],
      "execution_count": null,
      "outputs": [
        {
          "output_type": "display_data",
          "data": {
            "image/png": "[encoded data removed]",
            "text/plain": [
              "<Figure size 432x288 with 1 Axes>"
            ]
          },
          "metadata": {
            "tags": []
          }
        },
        {
          "output_type": "stream",
          "text": [
            "7.75\n"
          ],
          "name": "stdout"
        }
      ]
    },
    {
      "cell_type": "markdown",
      "metadata": {
        "id": "pDsTJvo0Blzw"
      },
      "source": [
        "# 1-1 지수와 로그"
      ]
    },
    {
      "cell_type": "markdown",
      "metadata": {
        "id": "iTsW9GhYYDUL"
      },
      "source": [
        "지수 함수"
      ]
    },
    {
      "cell_type": "code",
      "metadata": {
        "id": "oed6qZ5hXZ8l"
      },
      "source": [
        "def exponential_function(x):\n",
        "    a = 4\n",
        "    return a**x"
      ],
      "execution_count": null,
      "outputs": []
    },
    {
      "cell_type": "code",
      "metadata": {
        "colab": {
          "base_uri": "https://localhost:8080/"
        },
        "id": "GDvoPm0EYosD",
        "outputId": "7b9277f1-c79b-417d-c909-69a596d3e0df"
      },
      "source": [
        "print(exponential_function(4))\n",
        "print(exponential_function(0))"
      ],
      "execution_count": null,
      "outputs": [
        {
          "output_type": "stream",
          "text": [
            "256\n",
            "1\n"
          ],
          "name": "stdout"
        }
      ]
    },
    {
      "cell_type": "code",
      "metadata": {
        "colab": {
          "base_uri": "https://localhost:8080/",
          "height": 276
        },
        "id": "YD_Nmm6aYueo",
        "outputId": "6559f794-3fbc-4ac1-c3bc-f8847f67d658"
      },
      "source": [
        "x = np.arange(-3, 2, 0.1)\n",
        "y = exponential_function(x)\n",
        "\n",
        "plt.plot(x, y)\n",
        "plt.xlabel('x')\n",
        "plt.ylabel('y')\n",
        "plt.xlim(-4, 3)\n",
        "plt.ylim(-1, 15)\n",
        "plt.show()"
      ],
      "execution_count": null,
      "outputs": [
        {
          "output_type": "display_data",
          "data": {
            "image/png": "[encoded data removed]",
            "text/plain": [
              "<Figure size 432x288 with 1 Axes>"
            ]
          },
          "metadata": {
            "tags": []
          }
        }
      ]
    },
    {
      "cell_type": "code",
      "metadata": {
        "id": "5gBOMLRmZGyz"
      },
      "source": [
        "def exponential_function(x):\n",
        "    a =4\n",
        "    return math.pow(a, x)"
      ],
      "execution_count": null,
      "outputs": []
    },
    {
      "cell_type": "code",
      "metadata": {
        "colab": {
          "base_uri": "https://localhost:8080/"
        },
        "id": "D9QXRGp7Zo9_",
        "outputId": "9bbc442d-593c-427a-a078-38c9bcc8f66e"
      },
      "source": [
        "print(exponential_function(4))\n",
        "print(exponential_function(0))"
      ],
      "execution_count": null,
      "outputs": [
        {
          "output_type": "stream",
          "text": [
            "256.0\n",
            "1.0\n"
          ],
          "name": "stdout"
        }
      ]
    },
    {
      "cell_type": "markdown",
      "metadata": {
        "id": "8q6Oq_9UZt9r"
      },
      "source": [
        "밑이 e인 지수함수"
      ]
    },
    {
      "cell_type": "code",
      "metadata": {
        "colab": {
          "base_uri": "https://localhost:8080/"
        },
        "id": "cLE9p0xVZr2J",
        "outputId": "1d8eec6f-db53-4913-d2a9-6dac35e14228"
      },
      "source": [
        "print(math.exp(4))\n",
        "\n",
        "print(np.exp(4))"
      ],
      "execution_count": null,
      "outputs": [
        {
          "output_type": "stream",
          "text": [
            "54.598150033144236\n",
            "54.598150033144236\n"
          ],
          "name": "stdout"
        }
      ]
    },
    {
      "cell_type": "markdown",
      "metadata": {
        "id": "4zd0jU0JaDUJ"
      },
      "source": [
        "로그함수"
      ]
    },
    {
      "cell_type": "code",
      "metadata": {
        "colab": {
          "base_uri": "https://localhost:8080/"
        },
        "id": "VQ3Vxj_AZ_eJ",
        "outputId": "49c0a5be-2b8b-4930-ab05-8f44bdc1cda9"
      },
      "source": [
        "print(math.log(2, 3))\n",
        "\n",
        "print(np.log2(4))\n",
        "print(np.log(4))"
      ],
      "execution_count": null,
      "outputs": [
        {
          "output_type": "stream",
          "text": [
            "0.6309297535714574\n",
            "2.0\n",
            "1.3862943611198906\n"
          ],
          "name": "stdout"
        }
      ]
    },
    {
      "cell_type": "markdown",
      "metadata": {
        "id": "C5mTWFSDafFD"
      },
      "source": [
        "역함수 관계계"
      ]
    },
    {
      "cell_type": "code",
      "metadata": {
        "colab": {
          "base_uri": "https://localhost:8080/",
          "height": 266
        },
        "id": "nmeFmZpaaXTT",
        "outputId": "d5feba82-710a-46e8-bdd4-332c57fd7b5d"
      },
      "source": [
        "x = np.arange(-1, 5, 0.01)\n",
        "y1 = np.exp(x)\n",
        "\n",
        "x2 = np.arange(0.000001, 5, 0.01)\n",
        "y2 = np.log(x2)\n",
        "\n",
        "y3 = x\n",
        "\n",
        "plt.plot(x, y1, 'r-', x2, y2, 'b-', x, y3, 'k--')\n",
        "\n",
        "plt.ylim(-2, 6)\n",
        "plt.axvline(x=0, color='k')\n",
        "plt.axhline(y=0, color='k')\n",
        "\n",
        "plt.show()"
      ],
      "execution_count": null,
      "outputs": [
        {
          "output_type": "display_data",
          "data": {
            "image/png": "[encoded data removed]",
            "text/plain": [
              "<Figure size 432x288 with 1 Axes>"
            ]
          },
          "metadata": {
            "tags": []
          }
        }
      ]
    },
    {
      "cell_type": "markdown",
      "metadata": {
        "id": "_hRqyWVPcBvJ"
      },
      "source": [
        "함수 조작"
      ]
    },
    {
      "cell_type": "code",
      "metadata": {
        "colab": {
          "base_uri": "https://localhost:8080/",
          "height": 338
        },
        "id": "XMofjTSzbh0j",
        "outputId": "eab8df5e-c946-4aba-edc8-121cedf2a57d"
      },
      "source": [
        "x = np.arange(-10, 10, 0.01)\n",
        "y1 = -np.log(x)\n",
        "y2 = -np.log(1-x)\n",
        "\n",
        "plt.axvline(x=0, color='k')\n",
        "plt.axhline(y=0, color='k')\n",
        "\n",
        "plt.grid()\n",
        "plt.plot(x, y1, 'b-', x, y2, 'r-')\n",
        "plt.text(0.9, 2.0, 'y=-log(1-x)')\n",
        "plt.text(0.1, 3, 'y=-log(x)')\n",
        "plt.xlim(-0.3, 1.4)\n",
        "plt.ylim(-0.5, 4)\n",
        "plt.scatter(0.5, -np.log(0.5))\n",
        "plt.show()"
      ],
      "execution_count": null,
      "outputs": [
        {
          "output_type": "stream",
          "text": [
            "/usr/local/lib/python3.7/dist-packages/ipykernel_launcher.py:2: RuntimeWarning: invalid value encountered in log\n",
            "  \n",
            "/usr/local/lib/python3.7/dist-packages/ipykernel_launcher.py:3: RuntimeWarning: invalid value encountered in log\n",
            "  This is separate from the ipykernel package so we can avoid doing imports until\n"
          ],
          "name": "stderr"
        },
        {
          "output_type": "display_data",
          "data": {
            "image/png": "[encoded data removed]",
            "text/plain": [
              "<Figure size 432x288 with 1 Axes>"
            ]
          },
          "metadata": {
            "tags": []
          }
        }
      ]
    },
    {
      "cell_type": "markdown",
      "metadata": {
        "id": "WaxVNdenw_aE"
      },
      "source": [
        "# 1-2 극한"
      ]
    },
    {
      "cell_type": "code",
      "metadata": {
        "id": "9nyNKotuefbR"
      },
      "source": [
        "from sympy import *\n",
        "init_printing()\n",
        "\n",
        "x, y, z = symbols('x y z')\n",
        "a, b, c, t =symbols('a b c t') "
      ],
      "execution_count": null,
      "outputs": []
    },
    {
      "cell_type": "code",
      "metadata": {
        "colab": {
          "base_uri": "https://localhost:8080/",
          "height": 313
        },
        "id": "xFXzs_yfxhsi",
        "outputId": "60e087a3-8fb6-4e3d-83be-4b8b6836d431"
      },
      "source": [
        "print('극한값 : ', limit((x**3-1) / (x-1), x, 1))\n",
        "\n",
        "plot(((x**3-1) / (x-1)), xlim=(-5, 5), ylim=(-1, 10));"
      ],
      "execution_count": null,
      "outputs": [
        {
          "output_type": "stream",
          "text": [
            "극한값 :  3\n"
          ],
          "name": "stdout"
        },
        {
          "output_type": "display_data",
          "data": {
            "image/png": "[encoded data removed]",
            "text/plain": [
              "<Figure size 432x288 with 1 Axes>"
            ]
          },
          "metadata": {
            "tags": [],
            "needs_background": "light"
          }
        }
      ]
    },
    {
      "cell_type": "code",
      "metadata": {
        "colab": {
          "base_uri": "https://localhost:8080/",
          "height": 315
        },
        "id": "Tvza1puKyDIi",
        "outputId": "da2bd40b-8d83-421c-d458-d69cc5c46e87"
      },
      "source": [
        "print('극한값 : ', limit((1 + x) / x, x, oo))\n",
        "\n",
        "plot((1 + x) / x, xlim=(-10, 10), ylim=(-5, 5));"
      ],
      "execution_count": null,
      "outputs": [
        {
          "output_type": "stream",
          "text": [
            "극한값 :  1\n"
          ],
          "name": "stdout"
        },
        {
          "output_type": "display_data",
          "data": {
            "image/png": "[encoded data removed]",
            "text/plain": [
              "<Figure size 432x288 with 1 Axes>"
            ]
          },
          "metadata": {
            "tags": [],
            "needs_background": "light"
          }
        }
      ]
    },
    {
      "cell_type": "code",
      "metadata": {
        "colab": {
          "base_uri": "https://localhost:8080/",
          "height": 333
        },
        "id": "ciPi12dGzMTo",
        "outputId": "637c494e-1b74-49e5-c632-1424aec99a15"
      },
      "source": [
        "print('극한값 : ', limit( (sqrt(x+3) - 2) / (x - 1), x, 1 ) )\n",
        "\n",
        "plot( (sqrt(x+3)-2) / (x-1), xlim=(-5, 12), ylim=(-0.5, 1) )"
      ],
      "execution_count": null,
      "outputs": [
        {
          "output_type": "stream",
          "text": [
            "극한값 :  1/4\n"
          ],
          "name": "stdout"
        },
        {
          "output_type": "display_data",
          "data": {
            "image/png": "[encoded data removed]",
            "text/plain": [
              "<Figure size 432x288 with 1 Axes>"
            ]
          },
          "metadata": {
            "tags": []
          }
        },
        {
          "output_type": "execute_result",
          "data": {
            "text/plain": [
              "<sympy.plotting.plot.Plot at 0x7f5fe1a85790>"
            ]
          },
          "metadata": {
            "tags": []
          },
          "execution_count": 8
        }
      ]
    },
    {
      "cell_type": "markdown",
      "metadata": {
        "id": "UFNVMjO71XEg"
      },
      "source": [
        "삼각함수의 극한"
      ]
    },
    {
      "cell_type": "code",
      "metadata": {
        "colab": {
          "base_uri": "https://localhost:8080/",
          "height": 351
        },
        "id": "1orK7yCA0-R6",
        "outputId": "28a3be1b-ab2a-4341-d296-8ebe67daaa26"
      },
      "source": [
        "print('극한값 : ', limit( tan(x), x ,pi/2, '+'))\n",
        "print('극한값 : ', limit( tan(x), x ,pi/2, '-'))\n",
        "\n",
        "plot( tan(x), xlim=(-3.14, 3.14), ylim=(-6, 6))"
      ],
      "execution_count": null,
      "outputs": [
        {
          "output_type": "stream",
          "text": [
            "극한값 :  -oo\n",
            "극한값 :  oo\n"
          ],
          "name": "stdout"
        },
        {
          "output_type": "display_data",
          "data": {
            "image/png": "[encoded data removed]",
            "text/plain": [
              "<Figure size 432x288 with 1 Axes>"
            ]
          },
          "metadata": {
            "tags": []
          }
        },
        {
          "output_type": "execute_result",
          "data": {
            "text/plain": [
              "<sympy.plotting.plot.Plot at 0x7f5fd90519d0>"
            ]
          },
          "metadata": {
            "tags": []
          },
          "execution_count": 10
        }
      ]
    },
    {
      "cell_type": "code",
      "metadata": {
        "colab": {
          "base_uri": "https://localhost:8080/",
          "height": 333
        },
        "id": "2H7TBOTB18g8",
        "outputId": "54e50407-4742-456e-fa49-e2ba023daa9c"
      },
      "source": [
        "print('극한값 : ', limit( sin(x)/x, x, 0))\n",
        "\n",
        "plot(sin(x)/x, ylim=(-2, 2))"
      ],
      "execution_count": null,
      "outputs": [
        {
          "output_type": "stream",
          "text": [
            "극한값 :  1\n"
          ],
          "name": "stdout"
        },
        {
          "output_type": "display_data",
          "data": {
            "image/png": "[encoded data removed]",
            "text/plain": [
              "<Figure size 432x288 with 1 Axes>"
            ]
          },
          "metadata": {
            "tags": []
          }
        },
        {
          "output_type": "execute_result",
          "data": {
            "text/plain": [
              "<sympy.plotting.plot.Plot at 0x7f5fe187f190>"
            ]
          },
          "metadata": {
            "tags": []
          },
          "execution_count": 11
        }
      ]
    },
    {
      "cell_type": "code",
      "metadata": {
        "colab": {
          "base_uri": "https://localhost:8080/",
          "height": 333
        },
        "id": "ABVU7dYz3IGA",
        "outputId": "c2b99910-5893-4465-9199-5805e41e8fa5"
      },
      "source": [
        "print('극한값 : ', limit( x*sin(1/x), x, 0))\n",
        "\n",
        "plot( x*sin(1/x), xlim=(-2, 2), ylim=(-1, 1.5))"
      ],
      "execution_count": null,
      "outputs": [
        {
          "output_type": "stream",
          "text": [
            "극한값 :  0\n"
          ],
          "name": "stdout"
        },
        {
          "output_type": "display_data",
          "data": {
            "image/png": "[encoded data removed]",
            "text/plain": [
              "<Figure size 432x288 with 1 Axes>"
            ]
          },
          "metadata": {
            "tags": []
          }
        },
        {
          "output_type": "execute_result",
          "data": {
            "text/plain": [
              "<sympy.plotting.plot.Plot at 0x7f5fd8269c90>"
            ]
          },
          "metadata": {
            "tags": []
          },
          "execution_count": 13
        }
      ]
    },
    {
      "cell_type": "markdown",
      "metadata": {
        "id": "fOLP6mJ282E8"
      },
      "source": [
        "지수함수, 로그함수의 극한"
      ]
    },
    {
      "cell_type": "code",
      "metadata": {
        "colab": {
          "base_uri": "https://localhost:8080/",
          "height": 315
        },
        "id": "so4rD2-n8d0P",
        "outputId": "4500ada7-1729-4d02-d876-134f657979d1"
      },
      "source": [
        "print('극한값 : ', limit( (2**x - 2**(-x)) / (2**x + 2**(-x)), x, oo) )\n",
        "\n",
        "plot((2**x - 2**(-x)) / (2**x + 2**(-x)), xlim=(-10, 10), ylim=(-3, 3));"
      ],
      "execution_count": null,
      "outputs": [
        {
          "output_type": "stream",
          "text": [
            "극한값 :  1\n"
          ],
          "name": "stdout"
        },
        {
          "output_type": "display_data",
          "data": {
            "image/png": "[encoded data removed]",
            "text/plain": [
              "<Figure size 432x288 with 1 Axes>"
            ]
          },
          "metadata": {
            "tags": []
          }
        }
      ]
    },
    {
      "cell_type": "code",
      "metadata": {
        "colab": {
          "base_uri": "https://localhost:8080/",
          "height": 333
        },
        "id": "NpaHDLAV-FaT",
        "outputId": "948feb23-25da-4fd8-e0e8-43e8fc547f4f"
      },
      "source": [
        "print('극한값 : ', limit( log(x+1, 2) - log(x, 2), x, oo))\n",
        "\n",
        "plot( log(x, 2), log(x+1, 2), xlim=(-4, 6), ylim=(-4, 4))"
      ],
      "execution_count": null,
      "outputs": [
        {
          "output_type": "stream",
          "text": [
            "극한값 :  0\n"
          ],
          "name": "stdout"
        },
        {
          "output_type": "display_data",
          "data": {
            "image/png": "[encoded data removed]",
            "text/plain": [
              "<Figure size 432x288 with 1 Axes>"
            ]
          },
          "metadata": {
            "tags": []
          }
        },
        {
          "output_type": "execute_result",
          "data": {
            "text/plain": [
              "<sympy.plotting.plot.Plot at 0x7f5fd7dcba10>"
            ]
          },
          "metadata": {
            "tags": []
          },
          "execution_count": 19
        }
      ]
    },
    {
      "cell_type": "markdown",
      "metadata": {
        "id": "eWIV1Dzv_lC0"
      },
      "source": [
        "자연로그 e의 밑"
      ]
    },
    {
      "cell_type": "code",
      "metadata": {
        "colab": {
          "base_uri": "https://localhost:8080/"
        },
        "id": "AKyfA0dX_b8O",
        "outputId": "23386ed4-c0f0-4221-cc62-38126c672ddd"
      },
      "source": [
        "print('1 : ', limit( (1+1/x)**x, x, oo ) )\n",
        "print('2 : ', limit( (1+2/x)**x, x, oo ) )\n",
        "print('3 : ', limit( (exp(x)-1) / x, x, 0 ) )\n",
        "print('4 : ', limit( ln(1+x) / x, x, 0 ) )"
      ],
      "execution_count": null,
      "outputs": [
        {
          "output_type": "stream",
          "text": [
            "1 :  E\n",
            "2 :  exp(2)\n",
            "3 :  1\n",
            "4 :  1\n"
          ],
          "name": "stdout"
        }
      ]
    },
    {
      "cell_type": "markdown",
      "metadata": {
        "id": "b_K0eqrnBHKN"
      },
      "source": [
        "# 1-3 미분과 기울기"
      ]
    },
    {
      "cell_type": "markdown",
      "metadata": {
        "id": "igAgiVxsxgse"
      },
      "source": [
        "미분"
      ]
    },
    {
      "cell_type": "code",
      "metadata": {
        "id": "fNLWUJxdAWIr"
      },
      "source": [
        "def numerical_differential(f, x):\n",
        "    h = 1e-4\n",
        "    return (f(x+h)-f(x-h)) / (2*h)"
      ],
      "execution_count": null,
      "outputs": []
    },
    {
      "cell_type": "markdown",
      "metadata": {
        "id": "ATgiTBGsvBSZ"
      },
      "source": [
        "함수 위의 점 (a, b)에서의 기울기"
      ]
    },
    {
      "cell_type": "code",
      "metadata": {
        "id": "o29FMoHLu8cW"
      },
      "source": [
        "def my_fun(x):\n",
        "    return 2*x**2 + 3*x + 2"
      ],
      "execution_count": null,
      "outputs": []
    },
    {
      "cell_type": "code",
      "metadata": {
        "id": "LtMDIzU8vTkc"
      },
      "source": [
        "def linea_fun(a, b, c, x):\n",
        "    return c*(x-a) + b"
      ],
      "execution_count": null,
      "outputs": []
    },
    {
      "cell_type": "code",
      "metadata": {
        "colab": {
          "base_uri": "https://localhost:8080/",
          "height": 276
        },
        "id": "dwU2hcIsvexn",
        "outputId": "0a88de5b-945e-4563-95fe-ee786b2340f1"
      },
      "source": [
        "c = numerical_differential(my_fun, 1)\n",
        "\n",
        "x = np.arange(-5, 5, 0.01)\n",
        "y = linea_fun(1, my_fun(1), c, x)\n",
        "\n",
        "plt.xlabel('x')\n",
        "plt.ylabel('y')\n",
        "plt.scatter(1, my_fun(1))\n",
        "plt.plot(x, my_fun(x), x, y, 'r-');"
      ],
      "execution_count": null,
      "outputs": [
        {
          "output_type": "display_data",
          "data": {
            "image/png": "[encoded data removed]",
            "text/plain": [
              "<Figure size 432x288 with 1 Axes>"
            ]
          },
          "metadata": {
            "tags": []
          }
        }
      ]
    },
    {
      "cell_type": "markdown",
      "metadata": {
        "id": "d9XY-EzZxczc"
      },
      "source": [
        "편미분"
      ]
    },
    {
      "cell_type": "code",
      "metadata": {
        "id": "0rHPLUiZwjKE"
      },
      "source": [
        "def my_fun2(x):\n",
        "    return (x[0]**2 + x[1]**2)"
      ],
      "execution_count": null,
      "outputs": []
    },
    {
      "cell_type": "code",
      "metadata": {
        "colab": {
          "base_uri": "https://localhost:8080/",
          "height": 337
        },
        "id": "kntYA--Ox3Kl",
        "outputId": "a3acb330-f002-46df-d132-2361df0e8228"
      },
      "source": [
        "from mpl_toolkits.mplot3d import Axes3D\n",
        "\n",
        "x = np.arange(-4.0, 4.0, 0.4)\n",
        "y = np.arange(-4.0, 4.0, 0.4)\n",
        "X, Y = np.meshgrid(x, y)\n",
        "Z = X**2 + Y**2\n",
        "\n",
        "fig = plt.figure()\n",
        "ax = Axes3D(fig)\n",
        "ax.plot_surface(X, Y, Z, rstride = 1, cstride = 1, cmap='coolwarm')"
      ],
      "execution_count": null,
      "outputs": [
        {
          "output_type": "execute_result",
          "data": {
            "text/plain": [
              "<mpl_toolkits.mplot3d.art3d.Poly3DCollection at 0x7f5fd2fa9bd0>"
            ]
          },
          "metadata": {
            "tags": []
          },
          "execution_count": 32
        },
        {
          "output_type": "display_data",
          "data": {
            "image/png": "[encoded data removed]",
            "text/plain": [
              "<Figure size 432x288 with 1 Axes>"
            ]
          },
          "metadata": {
            "tags": []
          }
        }
      ]
    },
    {
      "cell_type": "markdown",
      "metadata": {
        "id": "A1srYy0Wz6td"
      },
      "source": [
        "x[0]에 대한 편미분"
      ]
    },
    {
      "cell_type": "code",
      "metadata": {
        "colab": {
          "base_uri": "https://localhost:8080/"
        },
        "id": "b1WyjAItzEvh",
        "outputId": "ef901dab-1e2a-4665-c6e8-d2164acafd6d"
      },
      "source": [
        "x = np.array([1, 2])\n",
        "\n",
        "def f0_function(x0):\n",
        "    return (x0**2) + (2**2)\n",
        "\n",
        "print(numerical_differential(f0_function, x[0]))"
      ],
      "execution_count": null,
      "outputs": [
        {
          "output_type": "stream",
          "text": [
            "1.9999999999997797\n"
          ],
          "name": "stdout"
        }
      ]
    },
    {
      "cell_type": "markdown",
      "metadata": {
        "id": "DS3xMzfZz-As"
      },
      "source": [
        "x[1]에 대한 편미분"
      ]
    },
    {
      "cell_type": "code",
      "metadata": {
        "colab": {
          "base_uri": "https://localhost:8080/"
        },
        "id": "IErYzbhoz3xQ",
        "outputId": "4529dbfc-7a62-475a-d5a7-a41b8bc62121"
      },
      "source": [
        "def f1_function(x1):\n",
        "    return (1**2) + (x1**2)\n",
        "\n",
        "print(numerical_differential(f1_function, x[1]))"
      ],
      "execution_count": null,
      "outputs": [
        {
          "output_type": "stream",
          "text": [
            "4.000000000004\n"
          ],
          "name": "stdout"
        }
      ]
    },
    {
      "cell_type": "markdown",
      "metadata": {
        "id": "JRGFN2vI1v-c"
      },
      "source": [
        "기울기"
      ]
    },
    {
      "cell_type": "code",
      "metadata": {
        "id": "TtULrVD90gbQ"
      },
      "source": [
        "def numerical_diff(f, x):\n",
        "    h = 1e-5\n",
        "    grad = np.zeros_like(x)\n",
        "\n",
        "    for i in range(x.size):\n",
        "        tmp = x[i]\n",
        "\n",
        "        x[i] = tmp + h\n",
        "        fxh1 = f(x)\n",
        "\n",
        "        x[i] = tmp - h\n",
        "        fxh2 = f(x)\n",
        "\n",
        "        grad[i] = (fxh1 - fxh2) / (2*h)\n",
        "        x[i] = tmp\n",
        "\n",
        "    return grad"
      ],
      "execution_count": null,
      "outputs": []
    },
    {
      "cell_type": "code",
      "metadata": {
        "colab": {
          "base_uri": "https://localhost:8080/"
        },
        "id": "G1r3UgkH3A9m",
        "outputId": "e4107204-5aa4-48fe-d138-75d77281fe11"
      },
      "source": [
        "print(numerical_diff(my_fun2, np.array([3.0, 4.0])))\n",
        "print(numerical_diff(my_fun2, np.array([1.0, 2.0])))"
      ],
      "execution_count": null,
      "outputs": [
        {
          "output_type": "stream",
          "text": [
            "[6. 8.]\n",
            "[2. 4.]\n"
          ],
          "name": "stdout"
        }
      ]
    },
    {
      "cell_type": "code",
      "metadata": {
        "colab": {
          "base_uri": "https://localhost:8080/",
          "height": 262
        },
        "id": "Yoa1gNUU3laG",
        "outputId": "918642df-213d-46a3-9fcd-19bd6cc24be9"
      },
      "source": [
        "X = np.arange(-20, 20, 2)\n",
        "Y = np.arange(-20, 20, 2)\n",
        "U, V = np.meshgrid(X, Y)\n",
        "\n",
        "fig, ax = plt.subplots()\n",
        "q = ax.quiver(X, Y, U, V)\n",
        "ax.quiverkey(q, X=0.4, Y=1.0, U=20, label='Quiver Key', labelpos='E')\n",
        "plt.grid()"
      ],
      "execution_count": null,
      "outputs": [
        {
          "output_type": "display_data",
          "data": {
            "image/png": "[encoded data removed]",
            "text/plain": [
              "<Figure size 432x288 with 1 Axes>"
            ]
          },
          "metadata": {
            "tags": []
          }
        }
      ]
    },
    {
      "cell_type": "markdown",
      "metadata": {
        "id": "qyf-rQFU5jcJ"
      },
      "source": [
        "# 2 신경망 데이터 표현"
      ]
    },
    {
      "cell_type": "code",
      "metadata": {
        "id": "10XqzuGK5Xr6"
      },
      "source": [
        "import numpy as np\n",
        "import matplotlib.pyplot as plt\n",
        "plt.style.use(['seaborn-whitegrid'])"
      ],
      "execution_count": 4,
      "outputs": []
    },
    {
      "cell_type": "markdown",
      "metadata": {
        "id": "c1hbi1IZ59ry"
      },
      "source": [
        "역행렬"
      ]
    },
    {
      "cell_type": "code",
      "metadata": {
        "colab": {
          "base_uri": "https://localhost:8080/"
        },
        "id": "XKMKkSEX59A6",
        "outputId": "2a8169e8-d3d4-4b9e-c362-853a8c315104"
      },
      "source": [
        "A = np.array([[1, 2], [3, 4]])\n",
        "print(A)\n",
        "B = np.linalg.inv(A)\n",
        "print(B)\n",
        "print(np.dot(A, B))"
      ],
      "execution_count": 5,
      "outputs": [
        {
          "output_type": "stream",
          "text": [
            "[[1 2]\n",
            " [3 4]]\n",
            "[[-2.   1. ]\n",
            " [ 1.5 -0.5]]\n",
            "[[1.0000000e+00 0.0000000e+00]\n",
            " [8.8817842e-16 1.0000000e+00]]\n"
          ],
          "name": "stdout"
        }
      ]
    },
    {
      "cell_type": "markdown",
      "metadata": {
        "id": "uZtKVb_NB-R6"
      },
      "source": [
        "텐서 전치"
      ]
    },
    {
      "cell_type": "code",
      "metadata": {
        "colab": {
          "base_uri": "https://localhost:8080/"
        },
        "id": "V_pFhCUEBe_y",
        "outputId": "84978825-4174-402c-d1b8-0977c897deda"
      },
      "source": [
        "C = np.array(\n",
        "             [\n",
        "              [ \n",
        "               [1, 2, 3, 4],\n",
        "               [5, 6, 7, 8],\n",
        "               [9, 10, 11, 12] ],\n",
        "              [\n",
        "               [13, 14, 15,16],\n",
        "               [17, 18, 19, 20],\n",
        "               [21, 22, 23, 24] ] ] )\n",
        "\n",
        "print('행렬 C\\n', C, end='\\n\\n')\n",
        "\n",
        "print('C의 전치\\n', C.T, end='\\n\\n')\n",
        "\n",
        "D = C.reshape(3, 8)\n",
        "print('C의 reshape\\n', D)"
      ],
      "execution_count": 69,
      "outputs": [
        {
          "output_type": "stream",
          "text": [
            "행렬 C\n",
            " [[[ 1  2  3  4]\n",
            "  [ 5  6  7  8]\n",
            "  [ 9 10 11 12]]\n",
            "\n",
            " [[13 14 15 16]\n",
            "  [17 18 19 20]\n",
            "  [21 22 23 24]]]\n",
            "\n",
            "C의 전치\n",
            " [[[ 1 13]\n",
            "  [ 5 17]\n",
            "  [ 9 21]]\n",
            "\n",
            " [[ 2 14]\n",
            "  [ 6 18]\n",
            "  [10 22]]\n",
            "\n",
            " [[ 3 15]\n",
            "  [ 7 19]\n",
            "  [11 23]]\n",
            "\n",
            " [[ 4 16]\n",
            "  [ 8 20]\n",
            "  [12 24]]]\n",
            "\n",
            "C의 reshape\n",
            " [[ 1  2  3  4  5  6  7  8]\n",
            " [ 9 10 11 12 13 14 15 16]\n",
            " [17 18 19 20 21 22 23 24]]\n"
          ],
          "name": "stdout"
        }
      ]
    },
    {
      "cell_type": "markdown",
      "metadata": {
        "id": "G92U9GPTHyOH"
      },
      "source": [
        "이미지 텐서 예제"
      ]
    },
    {
      "cell_type": "code",
      "metadata": {
        "colab": {
          "base_uri": "https://localhost:8080/"
        },
        "id": "nQ3hbqeJE5JM",
        "outputId": "2970ec2a-7226-45e8-d45e-c4f151de72fc"
      },
      "source": [
        "from keras.datasets import mnist\n",
        "\n",
        "(train_images, train_labels), (test_images, test_labels) = mnist.load_data()"
      ],
      "execution_count": 7,
      "outputs": [
        {
          "output_type": "stream",
          "text": [
            "Downloading data from https://storage.googleapis.com/tensorflow/tf-keras-datasets/mnist.npz\n",
            "11493376/11490434 [==============================] - 0s 0us/step\n"
          ],
          "name": "stdout"
        }
      ]
    },
    {
      "cell_type": "code",
      "metadata": {
        "colab": {
          "base_uri": "https://localhost:8080/"
        },
        "id": "JQ-t6UE3HGDj",
        "outputId": "700f6735-f5e3-4af9-fa3c-1efafa3aa131"
      },
      "source": [
        "print(train_images.ndim)\n",
        "print(train_images.shape)\n",
        "print(train_images.dtype)"
      ],
      "execution_count": 8,
      "outputs": [
        {
          "output_type": "stream",
          "text": [
            "3\n",
            "(60000, 28, 28)\n",
            "uint8\n"
          ],
          "name": "stdout"
        }
      ]
    },
    {
      "cell_type": "code",
      "metadata": {
        "colab": {
          "base_uri": "https://localhost:8080/",
          "height": 262
        },
        "id": "oKEJCON4HWCq",
        "outputId": "39203aa0-014b-4b22-c573-fd3bf17e21ce"
      },
      "source": [
        "temp_image = train_images[873]\n",
        "plt.imshow(temp_image, cmap='gray')\n",
        "plt.show()"
      ],
      "execution_count": 9,
      "outputs": [
        {
          "output_type": "display_data",
          "data": {
            "image/png": "[encoded data removed]",
            "text/plain": [
              "<Figure size 432x288 with 1 Axes>"
            ]
          },
          "metadata": {
            "tags": []
          }
        }
      ]
    },
    {
      "cell_type": "markdown",
      "metadata": {
        "id": "KyyDgzhSw8mJ"
      },
      "source": [
        "# 3 신경망 구조"
      ]
    },
    {
      "cell_type": "markdown",
      "metadata": {
        "id": "EuuGr5Rf8Nn_"
      },
      "source": [
        "# 3-1 단층 퍼셉트론"
      ]
    },
    {
      "cell_type": "markdown",
      "metadata": {
        "id": "WLrHpIcU0Nrv"
      },
      "source": [
        "AND 게이트를 만족하는 가중치와 편향"
      ]
    },
    {
      "cell_type": "code",
      "metadata": {
        "id": "ZNRylr-bHseZ"
      },
      "source": [
        "import numpy as np\n",
        "import matplotlib.pyplot as plt\n",
        "plt.style.use(['seaborn-whitegrid'])"
      ],
      "execution_count": 4,
      "outputs": []
    },
    {
      "cell_type": "code",
      "metadata": {
        "id": "suEnMwo40hCv"
      },
      "source": [
        "def AND(a, b):\n",
        "    input = np.array([a, b])\n",
        "    weights = np.array([0.4, 0.4])\n",
        "    bias = -0.6\n",
        "    valus = np.sum(input * weights) + bias\n",
        "\n",
        "    if valus <= 0:\n",
        "        return 0\n",
        "    else:\n",
        "        return 1"
      ],
      "execution_count": 5,
      "outputs": []
    },
    {
      "cell_type": "code",
      "metadata": {
        "colab": {
          "base_uri": "https://localhost:8080/"
        },
        "id": "5MQ_niXU09yO",
        "outputId": "023cb19b-fd2c-4cdb-8560-12050a394459"
      },
      "source": [
        "print(AND(0, 0))\n",
        "print(AND(1, 0))\n",
        "print(AND(0, 1))\n",
        "print(AND(1, 1))"
      ],
      "execution_count": 6,
      "outputs": [
        {
          "output_type": "stream",
          "text": [
            "0\n",
            "0\n",
            "0\n",
            "1\n"
          ],
          "name": "stdout"
        }
      ]
    },
    {
      "cell_type": "code",
      "metadata": {
        "colab": {
          "base_uri": "https://localhost:8080/",
          "height": 0
        },
        "id": "ZNYuVj6H1Yuj",
        "outputId": "5e825b83-f45f-4c57-ca19-30f21d374c9b"
      },
      "source": [
        "x1 = np.arange(-2, 2, 0.01)\n",
        "x2 = np.arange(-2, 2, 0.01)\n",
        "bias = -0.6\n",
        "\n",
        "y = (-0.4 * x1 - bias) / 0.4\n",
        "\n",
        "plt.axvline(x=0)\n",
        "plt.axhline(y=0)\n",
        "\n",
        "plt.plot(x1, y, 'r--')\n",
        "plt.scatter(0, 0, color='orange', marker='o', s=150)\n",
        "plt.scatter(1, 0, color='orange', marker='o', s=150)\n",
        "plt.scatter(0, 1, color='orange', marker='o', s=150)\n",
        "plt.scatter(1, 1, color='black', marker='^', s=150)\n",
        "plt.xlim(-0.5, 1.5)\n",
        "plt.ylim(-0.5, 1.5)\n",
        "plt.grid()\n",
        "plt.show()"
      ],
      "execution_count": 7,
      "outputs": [
        {
          "output_type": "display_data",
          "data": {
            "image/png": "[encoded data removed]",
            "text/plain": [
              "<Figure size 432x288 with 1 Axes>"
            ]
          },
          "metadata": {
            "tags": []
          }
        }
      ]
    },
    {
      "cell_type": "markdown",
      "metadata": {
        "id": "9O5---St4anr"
      },
      "source": [
        "OR 게이트를 만족시키는 가중치와 편향"
      ]
    },
    {
      "cell_type": "code",
      "metadata": {
        "id": "geJLDX-v3lO4"
      },
      "source": [
        "def OR(a, b):\n",
        "    input = np.array([a, b])\n",
        "    weights = np.array([0.4, 0.5])\n",
        "    bias = -0.3\n",
        "    valus = np.sum(input * weights) + bias\n",
        "\n",
        "    if valus <= 0:\n",
        "        return 0\n",
        "    else:\n",
        "        return 1"
      ],
      "execution_count": 8,
      "outputs": []
    },
    {
      "cell_type": "code",
      "metadata": {
        "colab": {
          "base_uri": "https://localhost:8080/"
        },
        "id": "la4BNgBw4q87",
        "outputId": "4b88a967-544f-4fc5-eb28-7a4091ffda4a"
      },
      "source": [
        "print(OR(0, 0))\n",
        "print(OR(1, 0))\n",
        "print(OR(0, 1))\n",
        "print(OR(1, 1))"
      ],
      "execution_count": 9,
      "outputs": [
        {
          "output_type": "stream",
          "text": [
            "0\n",
            "1\n",
            "1\n",
            "1\n"
          ],
          "name": "stdout"
        }
      ]
    },
    {
      "cell_type": "code",
      "metadata": {
        "colab": {
          "base_uri": "https://localhost:8080/",
          "height": 0
        },
        "id": "xqlOj_tS4wZZ",
        "outputId": "b214c5e1-b1d1-48f7-c160-2631fae4f490"
      },
      "source": [
        "x1 = np.arange(-2, 2, 0.01)\n",
        "x2 = np.arange(-2, 2, 0.01)\n",
        "bias = -0.3\n",
        "\n",
        "y = (-0.4 * x1 - bias) / 0.5\n",
        "\n",
        "plt.axvline(x=0)\n",
        "plt.axhline(y=0)\n",
        "\n",
        "plt.plot(x1, y, 'r--')\n",
        "plt.scatter(0, 0, color='orange', marker='o', s=150)\n",
        "plt.scatter(1, 0, color='black', marker='^', s=150)\n",
        "plt.scatter(0, 1, color='black', marker='^', s=150)\n",
        "plt.scatter(1, 1, color='black', marker='^', s=150)\n",
        "plt.xlim(-0.5, 1.5)\n",
        "plt.ylim(-0.5, 1.5)\n",
        "plt.grid()\n",
        "plt.show()"
      ],
      "execution_count": 10,
      "outputs": [
        {
          "output_type": "display_data",
          "data": {
            "image/png": "[encoded data removed]",
            "text/plain": [
              "<Figure size 432x288 with 1 Axes>"
            ]
          },
          "metadata": {
            "tags": []
          }
        }
      ]
    },
    {
      "cell_type": "markdown",
      "metadata": {
        "id": "YmQYmpNx5wH1"
      },
      "source": [
        "NAND 게이트 가중치 편향"
      ]
    },
    {
      "cell_type": "code",
      "metadata": {
        "id": "fmkvwU8t4-fd"
      },
      "source": [
        "def NAND(a, b):\n",
        "    input = np.array([a, b])\n",
        "    weights = np.array([-0.6, -0.5])\n",
        "    bias = 0.7\n",
        "    valus = np.sum(input * weights) + bias\n",
        "\n",
        "    if valus <= 0:\n",
        "        return 0\n",
        "    else:\n",
        "        return 1"
      ],
      "execution_count": 11,
      "outputs": []
    },
    {
      "cell_type": "code",
      "metadata": {
        "colab": {
          "base_uri": "https://localhost:8080/"
        },
        "id": "zOAWn64z59P4",
        "outputId": "9f01a016-6810-42e5-9000-21205120a037"
      },
      "source": [
        "print(NAND(0, 0))\n",
        "print(NAND(1, 0))\n",
        "print(NAND(0, 1))\n",
        "print(NAND(1, 1))"
      ],
      "execution_count": 12,
      "outputs": [
        {
          "output_type": "stream",
          "text": [
            "1\n",
            "1\n",
            "1\n",
            "0\n"
          ],
          "name": "stdout"
        }
      ]
    },
    {
      "cell_type": "code",
      "metadata": {
        "colab": {
          "base_uri": "https://localhost:8080/",
          "height": 0
        },
        "id": "rbJzeZxg6Kmf",
        "outputId": "92f0fe74-6bc9-41c8-dcc6-d45baa025be8"
      },
      "source": [
        "x1 = np.arange(-2, 2, 0.01)\n",
        "x2 = np.arange(-2, 2, 0.01)\n",
        "bias = 0.7\n",
        "\n",
        "y = (0.6 * x1 - bias) / -0.5\n",
        "\n",
        "plt.axvline(x=0)\n",
        "plt.axhline(y=0)\n",
        "\n",
        "plt.plot(x1, y, 'r--')\n",
        "plt.scatter(0, 0, color='black', marker='^', s=150)\n",
        "plt.scatter(1, 0, color='black', marker='^', s=150)\n",
        "plt.scatter(0, 1, color='black', marker='^', s=150)\n",
        "plt.scatter(1, 1, color='orange', marker='o', s=150)\n",
        "plt.xlim(-0.5, 1.5)\n",
        "plt.ylim(-0.5, 1.5)\n",
        "plt.grid()\n",
        "plt.show()"
      ],
      "execution_count": 13,
      "outputs": [
        {
          "output_type": "display_data",
          "data": {
            "image/png": "[encoded data removed]",
            "text/plain": [
              "<Figure size 432x288 with 1 Axes>"
            ]
          },
          "metadata": {
            "tags": []
          }
        }
      ]
    },
    {
      "cell_type": "markdown",
      "metadata": {
        "id": "uia41WuB73w1"
      },
      "source": [
        "# 3-2 다층 퍼셉트론"
      ]
    },
    {
      "cell_type": "markdown",
      "metadata": {
        "id": "BFp9SsJ48nlq"
      },
      "source": [
        "XOR 게이트"
      ]
    },
    {
      "cell_type": "code",
      "metadata": {
        "id": "XVkQZmVd6o_5"
      },
      "source": [
        "def XOR(x1, x2):\n",
        "    s1 = NAND(x1, x2)\n",
        "    s2 = OR(x1, x2)\n",
        "    y = AND(s1, s2)\n",
        "    return y"
      ],
      "execution_count": 14,
      "outputs": []
    },
    {
      "cell_type": "code",
      "metadata": {
        "colab": {
          "base_uri": "https://localhost:8080/"
        },
        "id": "7WZGB1R59Nd-",
        "outputId": "351764f9-c021-4af2-8b3a-e6826554910b"
      },
      "source": [
        "print(XOR(0, 0))\n",
        "print(XOR(1, 0))\n",
        "print(XOR(0, 1))\n",
        "print(XOR(1, 1))"
      ],
      "execution_count": 15,
      "outputs": [
        {
          "output_type": "stream",
          "text": [
            "0\n",
            "1\n",
            "1\n",
            "0\n"
          ],
          "name": "stdout"
        }
      ]
    },
    {
      "cell_type": "markdown",
      "metadata": {
        "id": "92gw0xwlBzsk"
      },
      "source": [
        "# 3-3 활성화 함수"
      ]
    },
    {
      "cell_type": "markdown",
      "metadata": {
        "id": "EimXfOth-buv"
      },
      "source": [
        "step function 계단함수"
      ]
    },
    {
      "cell_type": "code",
      "metadata": {
        "id": "eCeAWTkn91gP"
      },
      "source": [
        "def step_function(x):\n",
        "    if x > 0:\n",
        "        return 1\n",
        "    else:\n",
        "        return 0"
      ],
      "execution_count": 16,
      "outputs": []
    },
    {
      "cell_type": "code",
      "metadata": {
        "id": "2H2Okbvc-ueI"
      },
      "source": [
        "def step_function_for_numpy(x):\n",
        "    y =x > 0\n",
        "    return y.astype(np.int)"
      ],
      "execution_count": 17,
      "outputs": []
    },
    {
      "cell_type": "code",
      "metadata": {
        "colab": {
          "base_uri": "https://localhost:8080/"
        },
        "id": "rwy3hJ6O_DgG",
        "outputId": "a08154b5-2fd1-4efc-9ed4-f1a44016f500"
      },
      "source": [
        "print(step_function(-3))\n",
        "print(step_function(5))\n",
        "\n",
        "a = np.array([5, 3, -4, 2.0])\n",
        "print(step_function_for_numpy(a))"
      ],
      "execution_count": 18,
      "outputs": [
        {
          "output_type": "stream",
          "text": [
            "0\n",
            "1\n",
            "[1 1 0 1]\n"
          ],
          "name": "stdout"
        }
      ]
    },
    {
      "cell_type": "markdown",
      "metadata": {
        "id": "DDEDUL35_44g"
      },
      "source": [
        "Sigmoid function 시그모이드 함수"
      ]
    },
    {
      "cell_type": "code",
      "metadata": {
        "id": "Q_oGNy0W_Ure"
      },
      "source": [
        "def sigmoid(x):\n",
        "    return 1 / (1 + np.exp(-x))"
      ],
      "execution_count": 19,
      "outputs": []
    },
    {
      "cell_type": "code",
      "metadata": {
        "colab": {
          "base_uri": "https://localhost:8080/"
        },
        "id": "KZHdfRqiAP1h",
        "outputId": "776e52b9-4533-4509-8773-cedc5bb847bd"
      },
      "source": [
        "print(sigmoid(3))\n",
        "print(sigmoid(-3))"
      ],
      "execution_count": 20,
      "outputs": [
        {
          "output_type": "stream",
          "text": [
            "0.9525741268224334\n",
            "0.04742587317756678\n"
          ],
          "name": "stdout"
        }
      ]
    },
    {
      "cell_type": "code",
      "metadata": {
        "colab": {
          "base_uri": "https://localhost:8080/",
          "height": 262
        },
        "id": "xZAn_5JpA4Fx",
        "outputId": "33f42a44-37ca-4b02-a38a-c48f206dc4c0"
      },
      "source": [
        "x = np.arange(-5.0, 5.0, 0.01)\n",
        "y1 = sigmoid(x)\n",
        "y2 = step_function_for_numpy(x)\n",
        "plt.plot(x, y1, 'r-', x, y2, 'b--');"
      ],
      "execution_count": 55,
      "outputs": [
        {
          "output_type": "display_data",
          "data": {
            "image/png": "[encoded data removed]",
            "text/plain": [
              "<Figure size 432x288 with 1 Axes>"
            ]
          },
          "metadata": {
            "tags": []
          }
        }
      ]
    },
    {
      "cell_type": "markdown",
      "metadata": {
        "id": "Xj-IznwkAj96"
      },
      "source": [
        "ReLU (Rectified Linear Unit)"
      ]
    },
    {
      "cell_type": "code",
      "metadata": {
        "id": "ZubjP5f7AWsm"
      },
      "source": [
        "def ReLU(x):\n",
        "    if x > 0:\n",
        "        return x\n",
        "    else:\n",
        "        return 0"
      ],
      "execution_count": 40,
      "outputs": []
    },
    {
      "cell_type": "code",
      "metadata": {
        "colab": {
          "base_uri": "https://localhost:8080/",
          "height": 388
        },
        "id": "v-ZjHlCXCPMU",
        "outputId": "97e31384-9827-4fa3-bd59-a6b99b756e04"
      },
      "source": [
        "print(ReLU(5))\n",
        "print(ReLU(-3))\n",
        "\n",
        "x = np.arange(-5.0, 5.0, 0.01)\n",
        "y = ReLU(x)\n",
        "plt.plot(x, y, 'r-');"
      ],
      "execution_count": 45,
      "outputs": [
        {
          "output_type": "stream",
          "text": [
            "5\n",
            "0\n"
          ],
          "name": "stdout"
        },
        {
          "output_type": "error",
          "ename": "ValueError",
          "evalue": "ignored",
          "traceback": [
            "\u001b[0;31m---------------------------------------------------------------------------\u001b[0m",
            "\u001b[0;31mValueError\u001b[0m                                Traceback (most recent call last)",
            "\u001b[0;32m<ipython-input-45-faf87514a745>\u001b[0m in \u001b[0;36m<module>\u001b[0;34m()\u001b[0m\n\u001b[1;32m      3\u001b[0m \u001b[0;34m\u001b[0m\u001b[0m\n\u001b[1;32m      4\u001b[0m \u001b[0mx\u001b[0m \u001b[0;34m=\u001b[0m \u001b[0mnp\u001b[0m\u001b[0;34m.\u001b[0m\u001b[0marange\u001b[0m\u001b[0;34m(\u001b[0m\u001b[0;34m-\u001b[0m\u001b[0;36m5.0\u001b[0m\u001b[0;34m,\u001b[0m \u001b[0;36m5.0\u001b[0m\u001b[0;34m,\u001b[0m \u001b[0;36m0.01\u001b[0m\u001b[0;34m)\u001b[0m\u001b[0;34m\u001b[0m\u001b[0;34m\u001b[0m\u001b[0m\n\u001b[0;32m----> 5\u001b[0;31m \u001b[0my\u001b[0m \u001b[0;34m=\u001b[0m \u001b[0mReLU\u001b[0m\u001b[0;34m(\u001b[0m\u001b[0mx\u001b[0m\u001b[0;34m)\u001b[0m\u001b[0;34m\u001b[0m\u001b[0;34m\u001b[0m\u001b[0m\n\u001b[0m\u001b[1;32m      6\u001b[0m \u001b[0mplt\u001b[0m\u001b[0;34m.\u001b[0m\u001b[0mplot\u001b[0m\u001b[0;34m(\u001b[0m\u001b[0mx\u001b[0m\u001b[0;34m,\u001b[0m \u001b[0my\u001b[0m\u001b[0;34m,\u001b[0m \u001b[0;34m'r-'\u001b[0m\u001b[0;34m)\u001b[0m\u001b[0;34m;\u001b[0m\u001b[0;34m\u001b[0m\u001b[0;34m\u001b[0m\u001b[0m\n",
            "\u001b[0;32m<ipython-input-40-c4bf1755338b>\u001b[0m in \u001b[0;36mReLU\u001b[0;34m(x)\u001b[0m\n\u001b[1;32m      1\u001b[0m \u001b[0;32mdef\u001b[0m \u001b[0mReLU\u001b[0m\u001b[0;34m(\u001b[0m\u001b[0mx\u001b[0m\u001b[0;34m)\u001b[0m\u001b[0;34m:\u001b[0m\u001b[0;34m\u001b[0m\u001b[0;34m\u001b[0m\u001b[0m\n\u001b[0;32m----> 2\u001b[0;31m     \u001b[0;32mif\u001b[0m \u001b[0mx\u001b[0m \u001b[0;34m>\u001b[0m \u001b[0;36m0\u001b[0m\u001b[0;34m:\u001b[0m\u001b[0;34m\u001b[0m\u001b[0;34m\u001b[0m\u001b[0m\n\u001b[0m\u001b[1;32m      3\u001b[0m         \u001b[0;32mreturn\u001b[0m \u001b[0mx\u001b[0m\u001b[0;34m\u001b[0m\u001b[0;34m\u001b[0m\u001b[0m\n\u001b[1;32m      4\u001b[0m     \u001b[0;32melse\u001b[0m\u001b[0;34m:\u001b[0m\u001b[0;34m\u001b[0m\u001b[0;34m\u001b[0m\u001b[0m\n\u001b[1;32m      5\u001b[0m         \u001b[0;32mreturn\u001b[0m \u001b[0;36m0\u001b[0m\u001b[0;34m\u001b[0m\u001b[0;34m\u001b[0m\u001b[0m\n",
            "\u001b[0;31mValueError\u001b[0m: The truth value of an array with more than one element is ambiguous. Use a.any() or a.all()"
          ]
        }
      ]
    },
    {
      "cell_type": "markdown",
      "metadata": {
        "id": "HdLOcuwICYmh"
      },
      "source": [
        "Hyperbolic tangent function (tanh, 하이퍼볼릭 탄젠트 함수)"
      ]
    },
    {
      "cell_type": "code",
      "metadata": {
        "id": "XMWoWc41CV6W"
      },
      "source": [
        "def tanh(x):\n",
        "    return (np.exp(x) - np.exp(-x)) / (np.exp(x) + np.exp(-x))"
      ],
      "execution_count": 24,
      "outputs": []
    },
    {
      "cell_type": "code",
      "metadata": {
        "colab": {
          "base_uri": "https://localhost:8080/",
          "height": 298
        },
        "id": "wfmfi78_DGGC",
        "outputId": "58afc181-f541-40ab-ecfe-3e1aaaf8a2f5"
      },
      "source": [
        "print(tanh(3))\n",
        "print(tanh(-3))\n",
        "\n",
        "x = np.arange(-5.0, 5.0, 0.01)\n",
        "y = tanh(x)\n",
        "plt.plot(x, y, 'r-');"
      ],
      "execution_count": 46,
      "outputs": [
        {
          "output_type": "stream",
          "text": [
            "0.9950547536867306\n",
            "-0.9950547536867306\n"
          ],
          "name": "stdout"
        },
        {
          "output_type": "display_data",
          "data": {
            "image/png": "[encoded data removed]",
            "text/plain": [
              "<Figure size 432x288 with 1 Axes>"
            ]
          },
          "metadata": {
            "tags": []
          }
        }
      ]
    },
    {
      "cell_type": "markdown",
      "metadata": {
        "id": "rBhmYvWQDTJB"
      },
      "source": [
        "Identity function (항등함수) - 회귀 문제에서 주로 사용\n",
        "y = x"
      ]
    },
    {
      "cell_type": "code",
      "metadata": {
        "id": "xTGEopWPDLq8"
      },
      "source": [
        "def identify_function(x):\n",
        "    return x"
      ],
      "execution_count": 26,
      "outputs": []
    },
    {
      "cell_type": "code",
      "metadata": {
        "colab": {
          "base_uri": "https://localhost:8080/"
        },
        "id": "_p4-pJgcDzbU",
        "outputId": "53bff2a7-40c6-4acd-f0c2-57ac15f15830"
      },
      "source": [
        "print(identify_function(4))\n",
        "print(identify_function(-1))\n",
        "\n",
        "a = np.array([2, 3, -2.7])\n",
        "print(identify_function(a))"
      ],
      "execution_count": 27,
      "outputs": [
        {
          "output_type": "stream",
          "text": [
            "4\n",
            "-1\n",
            "[ 2.   3.  -2.7]\n"
          ],
          "name": "stdout"
        }
      ]
    },
    {
      "cell_type": "markdown",
      "metadata": {
        "id": "ITdqpT2OEI_s"
      },
      "source": [
        "Softmax"
      ]
    },
    {
      "cell_type": "code",
      "metadata": {
        "id": "e_gD242GEG2u"
      },
      "source": [
        "def softmax(a):\n",
        "    exp_a = np.exp(a)\n",
        "    sum_exp_a = np.sum(exp_a)\n",
        "    y = exp_a / sum_exp_a\n",
        "    return y"
      ],
      "execution_count": 28,
      "outputs": []
    },
    {
      "cell_type": "code",
      "metadata": {
        "colab": {
          "base_uri": "https://localhost:8080/",
          "height": 298
        },
        "id": "FQ1rXArlFC0r",
        "outputId": "200f380b-542f-475c-a0f5-3f199c419c30"
      },
      "source": [
        "a = np.array([0.3, 0.2, 4, -1.2])\n",
        "print(softmax(a))\n",
        "print(np.sum(softmax(a)))\n",
        "\n",
        "\n",
        "x = np.arange(-5.0, 5.0, 0.01)\n",
        "y = softmax(x)\n",
        "plt.plot(x, y, 'r-');"
      ],
      "execution_count": 47,
      "outputs": [
        {
          "output_type": "stream",
          "text": [
            "[0.02348781 0.02125265 0.9500187  0.00524084]\n",
            "0.9999999999999999\n"
          ],
          "name": "stdout"
        },
        {
          "output_type": "display_data",
          "data": {
            "image/png": "[encoded data removed]",
            "text/plain": [
              "<Figure size 432x288 with 1 Axes>"
            ]
          },
          "metadata": {
            "tags": []
          }
        }
      ]
    },
    {
      "cell_type": "markdown",
      "metadata": {
        "id": "ySJLXOBpFjGb"
      },
      "source": [
        "softmax 개선 버젼"
      ]
    },
    {
      "cell_type": "code",
      "metadata": {
        "colab": {
          "base_uri": "https://localhost:8080/"
        },
        "id": "gwbooSttFU5D",
        "outputId": "6baee2d9-a82b-408a-a09e-4b6bee212c22"
      },
      "source": [
        "A = np.array([1000, 900, 1050, 500])\n",
        "print(softmax(A))"
      ],
      "execution_count": 30,
      "outputs": [
        {
          "output_type": "stream",
          "text": [
            "[nan nan nan  0.]\n"
          ],
          "name": "stdout"
        },
        {
          "output_type": "stream",
          "text": [
            "/usr/local/lib/python3.7/dist-packages/ipykernel_launcher.py:2: RuntimeWarning: overflow encountered in exp\n",
            "  \n",
            "/usr/local/lib/python3.7/dist-packages/ipykernel_launcher.py:4: RuntimeWarning: invalid value encountered in true_divide\n",
            "  after removing the cwd from sys.path.\n"
          ],
          "name": "stderr"
        }
      ]
    },
    {
      "cell_type": "code",
      "metadata": {
        "id": "S0nmVR3pFyns"
      },
      "source": [
        "def softmax(a):\n",
        "    C = np.max(a)\n",
        "    return (np.exp(a - C) / np.sum(np.exp(a - C)))"
      ],
      "execution_count": 31,
      "outputs": []
    },
    {
      "cell_type": "code",
      "metadata": {
        "colab": {
          "base_uri": "https://localhost:8080/",
          "height": 280
        },
        "id": "USSV71cjGO3r",
        "outputId": "03ddb9fe-6594-4680-a380-a33965d46bb4"
      },
      "source": [
        "A = np.array([1000, 900, 1050, 500])\n",
        "print(softmax(A))\n",
        "\n",
        "\n",
        "x = np.arange(-500.0, 1500.0, 0.01)\n",
        "y = softmax(x)\n",
        "plt.plot(x, y, 'r-');"
      ],
      "execution_count": 49,
      "outputs": [
        {
          "output_type": "stream",
          "text": [
            "[1.92874985e-022 7.17509597e-066 1.00000000e+000 1.37415257e-239]\n"
          ],
          "name": "stdout"
        },
        {
          "output_type": "display_data",
          "data": {
            "image/png": "[encoded data removed]",
            "text/plain": [
              "<Figure size 432x288 with 1 Axes>"
            ]
          },
          "metadata": {
            "tags": []
          }
        }
      ]
    },
    {
      "cell_type": "markdown",
      "metadata": {
        "id": "Hb7O-cyPGkxN"
      },
      "source": [
        "LeakyReLU 리키 렐루"
      ]
    },
    {
      "cell_type": "code",
      "metadata": {
        "id": "7oPdwRVjGQF7"
      },
      "source": [
        "def LeakyReLU(x):\n",
        "    a = 0.01\n",
        "    return np.maximum(a*x, x)"
      ],
      "execution_count": 33,
      "outputs": []
    },
    {
      "cell_type": "code",
      "metadata": {
        "colab": {
          "base_uri": "https://localhost:8080/",
          "height": 280
        },
        "id": "UHDG7BJTHEeN",
        "outputId": "ee0252c6-4b88-49f4-93e6-3bc7f5b94432"
      },
      "source": [
        "x = np.array([0.5, -1.4, 3, 0, -5])\n",
        "print(LeakyReLU(x))\n",
        "\n",
        "\n",
        "x = np.arange(-5.0, 1.0, 0.01)\n",
        "y = LeakyReLU(x)\n",
        "plt.plot(x, y, 'r-');"
      ],
      "execution_count": 53,
      "outputs": [
        {
          "output_type": "stream",
          "text": [
            "[ 0.5   -0.014  3.     0.    -0.05 ]\n"
          ],
          "name": "stdout"
        },
        {
          "output_type": "display_data",
          "data": {
            "image/png": "[encoded data removed]",
            "text/plain": [
              "<Figure size 432x288 with 1 Axes>"
            ]
          },
          "metadata": {
            "tags": []
          }
        }
      ]
    },
    {
      "cell_type": "markdown",
      "metadata": {
        "id": "3bZHbB85I5as"
      },
      "source": [
        "ELU (Exponential Linear Units)"
      ]
    },
    {
      "cell_type": "code",
      "metadata": {
        "id": "Y92W5wxGHUFL"
      },
      "source": [
        "def ELU(x):\n",
        "    alpha = 1.0\n",
        "    return (x >= 0) * x + (x < 0) * alpha * (np.exp(x) - 1)"
      ],
      "execution_count": 35,
      "outputs": []
    },
    {
      "cell_type": "code",
      "metadata": {
        "colab": {
          "base_uri": "https://localhost:8080/",
          "height": 316
        },
        "id": "w40x2uNUJjKX",
        "outputId": "a6148f4b-ae8e-4343-f69c-895ae26d8013"
      },
      "source": [
        "print(ELU(4))\n",
        "print(ELU(-0.5))\n",
        "\n",
        "a = np.array([-2, 0.1, 4])\n",
        "print(ELU(a))\n",
        "\n",
        "\n",
        "x = np.arange(-5.0, 5.0, 0.01)\n",
        "y = ELU(x)\n",
        "plt.plot(x, y, 'r-');"
      ],
      "execution_count": 54,
      "outputs": [
        {
          "output_type": "stream",
          "text": [
            "4.0\n",
            "-0.3934693402873666\n",
            "[-0.86466472  0.1         4.        ]\n"
          ],
          "name": "stdout"
        },
        {
          "output_type": "display_data",
          "data": {
            "image/png": "[encoded data removed]",
            "text/plain": [
              "<Figure size 432x288 with 1 Axes>"
            ]
          },
          "metadata": {
            "tags": []
          }
        }
      ]
    },
    {
      "cell_type": "markdown",
      "metadata": {
        "id": "HhFOTVAgKRyl"
      },
      "source": [
        "일반적인 사용 순서\n",
        "1. ELU\n",
        "2. LeakyReLU\n",
        "3. ReLU\n",
        "4. tanh\n",
        "5. sigmoid"
      ]
    },
    {
      "cell_type": "markdown",
      "metadata": {
        "id": "dynMuPdTKps1"
      },
      "source": [
        "# 3-4 3중 신경망 구현하기"
      ]
    },
    {
      "cell_type": "markdown",
      "metadata": {
        "id": "d6QUHmBIYfsq"
      },
      "source": [
        "활성화 함수 정의"
      ]
    },
    {
      "cell_type": "code",
      "metadata": {
        "id": "HDm3NDSsJ21h"
      },
      "source": [
        "def sigmoid(x):\n",
        "    return 1 / 1 + (np.exp(-x))"
      ],
      "execution_count": 43,
      "outputs": []
    },
    {
      "cell_type": "markdown",
      "metadata": {
        "id": "9uziL4VfYpKh"
      },
      "source": [
        "레이어 정의"
      ]
    },
    {
      "cell_type": "code",
      "metadata": {
        "colab": {
          "base_uri": "https://localhost:8080/"
        },
        "id": "yGTQgxuMYoX8",
        "outputId": "d0aeb697-d4a7-4a59-d33b-b4ac5447f4dd"
      },
      "source": [
        "X = np.array([1.0, 0.5, 0.4])\n",
        "W1 = np.array([[0.1, 0.3, 0.5], [0.2, 0.4, 0.6], [0.3, 0.5, 0.7]])\n",
        "B1 = np.array([1, 1, 1])\n",
        "\n",
        "print(X.shape)\n",
        "print(W1.shape)\n",
        "print(B1.shape)\n",
        "\n",
        "A1 = np.dot(X, W1) + B1\n",
        "Z1 = sigmoid(A1)\n",
        "\n",
        "print(A1)\n",
        "print(Z1)"
      ],
      "execution_count": 70,
      "outputs": [
        {
          "output_type": "stream",
          "text": [
            "(3,)\n",
            "(3, 3)\n",
            "(3,)\n",
            "[1.32 1.7  2.08]\n",
            "[0.78918171 0.84553473 0.88894403]\n"
          ],
          "name": "stdout"
        }
      ]
    },
    {
      "cell_type": "code",
      "metadata": {
        "colab": {
          "base_uri": "https://localhost:8080/"
        },
        "id": "UlTUOpMEZ1QM",
        "outputId": "b4118775-b2e8-4a29-914f-0ee1493daa10"
      },
      "source": [
        "W2 = np.array([[0.2, 0.4, 0.6], [0.1, 0.3, 0.5], [0.4, 0.6, 0.8]])\n",
        "B2 = np.array([1, 1, 1])\n",
        "\n",
        "A2 = np.dot(A1, W2) + B2\n",
        "Z2 = sigmoid(A2)\n",
        "\n",
        "print(A2)\n",
        "print(Z2)"
      ],
      "execution_count": 71,
      "outputs": [
        {
          "output_type": "stream",
          "text": [
            "[2.266 3.286 4.306]\n",
            "[0.90602176 0.96394539 0.9866921 ]\n"
          ],
          "name": "stdout"
        }
      ]
    },
    {
      "cell_type": "code",
      "metadata": {
        "colab": {
          "base_uri": "https://localhost:8080/"
        },
        "id": "1GY7IcLdcK9p",
        "outputId": "871210e1-9299-4518-d49c-3131e41928cf"
      },
      "source": [
        "W3 = np.array([[-0.1, 0.3], [-0.1, -0.5], [0.3, 0.5]])\n",
        "B3 = np.array([1, 1])\n",
        "\n",
        "A3 = np.dot(A2, W3) + B3\n",
        "Z3 = sigmoid(A3)\n",
        "\n",
        "print(A3)\n",
        "print(Z3)"
      ],
      "execution_count": 72,
      "outputs": [
        {
          "output_type": "stream",
          "text": [
            "[1.7366 2.1898]\n",
            "[0.85025469 0.8993298 ]\n"
          ],
          "name": "stdout"
        }
      ]
    },
    {
      "cell_type": "code",
      "metadata": {
        "colab": {
          "base_uri": "https://localhost:8080/"
        },
        "id": "aTeBorNRdjjU",
        "outputId": "a4d2763d-a065-4cb1-8f09-61891086f70d"
      },
      "source": [
        "W4 = np.array([[0.1, 0.2], [0.3, 0.5]])\n",
        "B4 = np.array([1, 1])\n",
        "\n",
        "A4 = np.dot(A3, W4) + B4\n",
        "Y = sigmoid(A4)\n",
        "\n",
        "print(A4)\n",
        "print(Y)"
      ],
      "execution_count": 73,
      "outputs": [
        {
          "output_type": "stream",
          "text": [
            "[1.8306  2.44222]\n",
            "[0.86183319 0.91999065]\n"
          ],
          "name": "stdout"
        }
      ]
    },
    {
      "cell_type": "code",
      "metadata": {
        "id": "JaibsIdceBZa"
      },
      "source": [
        "def network():\n",
        "    network = {}\n",
        "\n",
        "    # 첫번째 레이어\n",
        "    network['W1'] = np.array([[0.1, 0.3, 0.5], [0.2, 0.4, 0.6], [0.3, 0.5, 0.7]])\n",
        "    network['B1'] = np.array([1, 1, 1])\n",
        "    \n",
        "    # 두번째 레이어():\n",
        "    network['W2'] = np.array([[0.2, 0.4, 0.6], [0.1, 0.3, 0.5], [0.4, 0.6, 0.8]])\n",
        "    network['B2'] = np.array([1, 1, 1])\n",
        "\n",
        "    # 세번째 레이어():\n",
        "    network['W3'] = np.array([[-0.1, 0.3], [-0.1, -0.5], [0.3, 0.5]])\n",
        "    network['B3'] = np.array([1, 1])\n",
        "    \n",
        "    # 네번째 레이어():\n",
        "    network['W4'] = np.array([[0.1, 0.2], [0.3, 0.5]])\n",
        "    network['B4'] = np.array([1, 1])\n",
        "\n",
        "    return network"
      ],
      "execution_count": 74,
      "outputs": []
    },
    {
      "cell_type": "code",
      "metadata": {
        "id": "dheEX9eIgR_W"
      },
      "source": [
        "def forwarf(network, x):\n",
        "    W1, W2, W3, W4 = network['W1'], network['W2'], network['W3'], network['W4']\n",
        "    B1, B2, B3, B4 = network['B1'], network['B2'], network['B3'], network['B4']\n",
        "\n",
        "    A1 = np.dot(x, W1) + B1\n",
        "    Z1 = sigmoid(A1)\n",
        "    \n",
        "    A2 = np.dot(Z1, W2) + B2\n",
        "    Z2 = sigmoid(A2)\n",
        "    \n",
        "    A3 = np.dot(Z2, W3) + B3\n",
        "    Z3 = sigmoid(A3)\n",
        "    \n",
        "    A4 = np.dot(Z3, W4) + B4\n",
        "    Y = sigmoid(A4)\n",
        "\n",
        "    return Y"
      ],
      "execution_count": 75,
      "outputs": []
    },
    {
      "cell_type": "markdown",
      "metadata": {
        "id": "jG3GO8Eghy2B"
      },
      "source": [
        "신경망 추론 실행"
      ]
    },
    {
      "cell_type": "code",
      "metadata": {
        "colab": {
          "base_uri": "https://localhost:8080/"
        },
        "id": "ewW9Mjp3hxW0",
        "outputId": "6e09c941-1508-4171-f77d-d9d263fe332b"
      },
      "source": [
        "net = network()\n",
        "x = np.array([0.3, 1.3, -2.2])\n",
        "Y = forwarf(net, X)\n",
        "print(Y)"
      ],
      "execution_count": 77,
      "outputs": [
        {
          "output_type": "stream",
          "text": [
            "[0.78732732 0.82344196]\n"
          ],
          "name": "stdout"
        }
      ]
    },
    {
      "cell_type": "markdown",
      "metadata": {
        "id": "rmUplnibjYvO"
      },
      "source": [
        "# 4 모델 학습과 손실 함수"
      ]
    },
    {
      "cell_type": "markdown",
      "metadata": {
        "id": "SjQar5M5osk6"
      },
      "source": [
        "# 4-1 One Hot Encoding"
      ]
    },
    {
      "cell_type": "code",
      "metadata": {
        "id": "RPHRCyUDiOPl"
      },
      "source": [
        "import numpy as np\n",
        "\n",
        "def convert_one_hot(labels, num_classes):\n",
        "    one_hot_result = np.zeros((len(labels), num_classes))\n",
        "    for idx, label in enumerate(labels):\n",
        "        one_hot_result[idx][label] = 1\n",
        "\n",
        "    return one_hot_result"
      ],
      "execution_count": 78,
      "outputs": []
    },
    {
      "cell_type": "code",
      "metadata": {
        "colab": {
          "base_uri": "https://localhost:8080/"
        },
        "id": "491cWnT3ph7c",
        "outputId": "055992b8-9c13-4961-adca-64335cd8a712"
      },
      "source": [
        "x_label = [ 1, 3, 3, 4, 2, 0, 5, 3, 0]\n",
        "print(convert_one_hot(x_label, max(x_label)+1) )"
      ],
      "execution_count": 79,
      "outputs": [
        {
          "output_type": "stream",
          "text": [
            "[[0. 1. 0. 0. 0. 0.]\n",
            " [0. 0. 0. 1. 0. 0.]\n",
            " [0. 0. 0. 1. 0. 0.]\n",
            " [0. 0. 0. 0. 1. 0.]\n",
            " [0. 0. 1. 0. 0. 0.]\n",
            " [1. 0. 0. 0. 0. 0.]\n",
            " [0. 0. 0. 0. 0. 1.]\n",
            " [0. 0. 0. 1. 0. 0.]\n",
            " [1. 0. 0. 0. 0. 0.]]\n"
          ],
          "name": "stdout"
        }
      ]
    },
    {
      "cell_type": "code",
      "metadata": {
        "colab": {
          "base_uri": "https://localhost:8080/"
        },
        "id": "_qt5iszqqlWB",
        "outputId": "abea07f6-81f3-4b6c-a0de-97328ab8d005"
      },
      "source": [
        "from keras.utils.np_utils import to_categorical\n",
        "\n",
        "x_label = np.array([3, 2, 0, 1, 1, 5, 3, 1])\n",
        "\n",
        "one_hot_label = to_categorical(x_label)\n",
        "print(one_hot_label)"
      ],
      "execution_count": 81,
      "outputs": [
        {
          "output_type": "stream",
          "text": [
            "[[0. 0. 0. 1. 0. 0.]\n",
            " [0. 0. 1. 0. 0. 0.]\n",
            " [1. 0. 0. 0. 0. 0.]\n",
            " [0. 1. 0. 0. 0. 0.]\n",
            " [0. 1. 0. 0. 0. 0.]\n",
            " [0. 0. 0. 0. 0. 1.]\n",
            " [0. 0. 0. 1. 0. 0.]\n",
            " [0. 1. 0. 0. 0. 0.]]\n"
          ],
          "name": "stdout"
        }
      ]
    },
    {
      "cell_type": "code",
      "metadata": {
        "id": "SPhDpWSBrXYu"
      },
      "source": [
        "from sklearn.preprocessing import OneHotEncoder\n",
        "from sklearn.preprocessing import LabelEncoder\n",
        "\n",
        "def convert_one_hot_sklearn(class_label):\n",
        "\n",
        "    encoder = LabelEncoder()\n",
        "    encoder.fit(class_label)\n",
        "    labels = encoder.transform(class_label)\n",
        "\n",
        "    labels = labels.reshape(-1, 1)\n",
        "\n",
        "    oh_encoder = OneHotEncoder()\n",
        "    oh_encoder.fit(labels)\n",
        "    oh_labels = oh_encoder.transform(labels)\n",
        "\n",
        "    return oh_labels.toarray()"
      ],
      "execution_count": 82,
      "outputs": []
    },
    {
      "cell_type": "code",
      "metadata": {
        "colab": {
          "base_uri": "https://localhost:8080/"
        },
        "id": "aq3QLNpnsmjP",
        "outputId": "0d5e64bc-7d9c-4dad-e72c-7aa9eec96509"
      },
      "source": [
        "marvel_labels = ['iron', 'ca', 'h', 'bw', 's', 'ant']\n",
        "ohe = convert_one_hot_sklearn(marvel_labels)\n",
        "print(ohe)\n",
        "print('dtype : ', type(ohe))\n",
        "print('shape : ', ohe.shape)\n",
        "\n",
        "classes = ['1', '2', '3', '4', '5', '6', '7', '8', '9']\n",
        "ohe = convert_one_hot_sklearn(classes)\n",
        "print(ohe)\n",
        "print('dtype : ', type(ohe))\n",
        "print('shape : ', ohe.shape)\n"
      ],
      "execution_count": 83,
      "outputs": [
        {
          "output_type": "stream",
          "text": [
            "[[0. 0. 0. 0. 1. 0.]\n",
            " [0. 0. 1. 0. 0. 0.]\n",
            " [0. 0. 0. 1. 0. 0.]\n",
            " [0. 1. 0. 0. 0. 0.]\n",
            " [0. 0. 0. 0. 0. 1.]\n",
            " [1. 0. 0. 0. 0. 0.]]\n",
            "dtype :  <class 'numpy.ndarray'>\n",
            "shape :  (6, 6)\n",
            "[[1. 0. 0. 0. 0. 0. 0. 0. 0.]\n",
            " [0. 1. 0. 0. 0. 0. 0. 0. 0.]\n",
            " [0. 0. 1. 0. 0. 0. 0. 0. 0.]\n",
            " [0. 0. 0. 1. 0. 0. 0. 0. 0.]\n",
            " [0. 0. 0. 0. 1. 0. 0. 0. 0.]\n",
            " [0. 0. 0. 0. 0. 1. 0. 0. 0.]\n",
            " [0. 0. 0. 0. 0. 0. 1. 0. 0.]\n",
            " [0. 0. 0. 0. 0. 0. 0. 1. 0.]\n",
            " [0. 0. 0. 0. 0. 0. 0. 0. 1.]]\n",
            "dtype :  <class 'numpy.ndarray'>\n",
            "shape :  (9, 9)\n"
          ],
          "name": "stdout"
        }
      ]
    },
    {
      "cell_type": "code",
      "metadata": {
        "colab": {
          "base_uri": "https://localhost:8080/",
          "height": 235
        },
        "id": "Wa-RumRGwmqc",
        "outputId": "ed430a7b-ab39-4bc5-8990-1e3258bd2f8a"
      },
      "source": [
        "import pandas as pd\n",
        "\n",
        "df = pd.DataFrame({'labels' : ['iron', 'ca', 'h', 'bw', 's', 'ant']})\n",
        "ohe_df = pd.get_dummies(df['labels'])\n",
        "ohe_df"
      ],
      "execution_count": 84,
      "outputs": [
        {
          "output_type": "execute_result",
          "data": {
            "text/html": [
              "<div>\n",
              "<style scoped>\n",
              "    .dataframe tbody tr th:only-of-type {\n",
              "        vertical-align: middle;\n",
              "    }\n",
              "\n",
              "    .dataframe tbody tr th {\n",
              "        vertical-align: top;\n",
              "    }\n",
              "\n",
              "    .dataframe thead th {\n",
              "        text-align: right;\n",
              "    }\n",
              "</style>\n",
              "<table border=\"1\" class=\"dataframe\">\n",
              "  <thead>\n",
              "    <tr style=\"text-align: right;\">\n",
              "      <th></th>\n",
              "      <th>ant</th>\n",
              "      <th>bw</th>\n",
              "      <th>ca</th>\n",
              "      <th>h</th>\n",
              "      <th>iron</th>\n",
              "      <th>s</th>\n",
              "    </tr>\n",
              "  </thead>\n",
              "  <tbody>\n",
              "    <tr>\n",
              "      <th>0</th>\n",
              "      <td>0</td>\n",
              "      <td>0</td>\n",
              "      <td>0</td>\n",
              "      <td>0</td>\n",
              "      <td>1</td>\n",
              "      <td>0</td>\n",
              "    </tr>\n",
              "    <tr>\n",
              "      <th>1</th>\n",
              "      <td>0</td>\n",
              "      <td>0</td>\n",
              "      <td>1</td>\n",
              "      <td>0</td>\n",
              "      <td>0</td>\n",
              "      <td>0</td>\n",
              "    </tr>\n",
              "    <tr>\n",
              "      <th>2</th>\n",
              "      <td>0</td>\n",
              "      <td>0</td>\n",
              "      <td>0</td>\n",
              "      <td>1</td>\n",
              "      <td>0</td>\n",
              "      <td>0</td>\n",
              "    </tr>\n",
              "    <tr>\n",
              "      <th>3</th>\n",
              "      <td>0</td>\n",
              "      <td>1</td>\n",
              "      <td>0</td>\n",
              "      <td>0</td>\n",
              "      <td>0</td>\n",
              "      <td>0</td>\n",
              "    </tr>\n",
              "    <tr>\n",
              "      <th>4</th>\n",
              "      <td>0</td>\n",
              "      <td>0</td>\n",
              "      <td>0</td>\n",
              "      <td>0</td>\n",
              "      <td>0</td>\n",
              "      <td>1</td>\n",
              "    </tr>\n",
              "    <tr>\n",
              "      <th>5</th>\n",
              "      <td>1</td>\n",
              "      <td>0</td>\n",
              "      <td>0</td>\n",
              "      <td>0</td>\n",
              "      <td>0</td>\n",
              "      <td>0</td>\n",
              "    </tr>\n",
              "  </tbody>\n",
              "</table>\n",
              "</div>"
            ],
            "text/plain": [
              "   ant  bw  ca  h  iron  s\n",
              "0    0   0   0  0     1  0\n",
              "1    0   0   1  0     0  0\n",
              "2    0   0   0  1     0  0\n",
              "3    0   1   0  0     0  0\n",
              "4    0   0   0  0     0  1\n",
              "5    1   0   0  0     0  0"
            ]
          },
          "metadata": {
            "tags": []
          },
          "execution_count": 84
        }
      ]
    },
    {
      "cell_type": "markdown",
      "metadata": {
        "id": "Ga71bVMQ3YIH"
      },
      "source": [
        "# 4-2 오차"
      ]
    },
    {
      "cell_type": "markdown",
      "metadata": {
        "id": "sR0CBlR9yKUA"
      },
      "source": [
        "절대평균오차 (Mean Absolute Error, MAE)\n",
        "- 오차가 커져도 손실함수가 일정하게 증가\n",
        "- 이상치에 강건함\n",
        " - 데이터에서 [입렵 - 정답] 관계가 적절하지 않은 것이 있을 경우에, 좋은 추청을 하더라도 오차가 발생하는 경우, 해당 이상치에 해당하는 지점에서 손실 함수의 최소값으로 가는 정도의 영향력이 크지 않음\n",
        "- 중간값(Median)과 연관\n",
        "- 회귀(Regression)네 많이 사용"
      ]
    },
    {
      "cell_type": "code",
      "metadata": {
        "id": "q4USvWkyxn_F"
      },
      "source": [
        "def MAE(y, pred_y):\n",
        "    return np.mean(np.abs((y - pred_y)))"
      ],
      "execution_count": 88,
      "outputs": []
    },
    {
      "cell_type": "code",
      "metadata": {
        "colab": {
          "base_uri": "https://localhost:8080/",
          "height": 280
        },
        "id": "LOxLYiedzl-N",
        "outputId": "f9ce409b-3acb-4585-b7fb-45d7fd8db46a"
      },
      "source": [
        "import matplotlib.pyplot as plt\n",
        "plt.style.use('seaborn-whitegrid')\n",
        "\n",
        "y = np.array([-3, -1, -2, 1, 3, -2, 2, 5, 3, 3, -2, -1, 2])\n",
        "yhat = np.array([-3, -1, -5, 0, 3, -1, 2, 4, 3, 3, -2, -1, -1])\n",
        "x = list(range(len(y)))\n",
        "\n",
        "plt.scatter(x, y, color='r', label='True')\n",
        "plt.plot(x, yhat, color='b', label='pred')\n",
        "plt.legend()"
      ],
      "execution_count": 89,
      "outputs": [
        {
          "output_type": "execute_result",
          "data": {
            "text/plain": [
              "<matplotlib.legend.Legend at 0x7f411fd1ba90>"
            ]
          },
          "metadata": {
            "tags": []
          },
          "execution_count": 89
        },
        {
          "output_type": "display_data",
          "data": {
            "image/png": "[encoded data removed]",
            "text/plain": [
              "<Figure size 432x288 with 1 Axes>"
            ]
          },
          "metadata": {
            "tags": []
          }
        }
      ]
    },
    {
      "cell_type": "code",
      "metadata": {
        "colab": {
          "base_uri": "https://localhost:8080/"
        },
        "id": "rLPIhY140n3P",
        "outputId": "ffb2e873-b51f-465d-b34a-56aa026c7364"
      },
      "source": [
        "print(MAE(y, yhat))"
      ],
      "execution_count": 90,
      "outputs": [
        {
          "output_type": "stream",
          "text": [
            "0.6923076923076923\n"
          ],
          "name": "stdout"
        }
      ]
    },
    {
      "cell_type": "markdown",
      "metadata": {
        "id": "Y-3SLhNT1FrP"
      },
      "source": [
        "평균 제곱 오차 MSE\n",
        "- 오차가 커질수록 손실함수가 빠르게 증가 4-3 평균 제곱 오차 MSE\n",
        " 4-3 평균 제곱 오차 MSE\n",
        "- 오차가 커질수록 손실함수가 빠르게 증가"
      ]
    },
    {
      "cell_type": "code",
      "metadata": {
        "id": "tk0CViEd03NF"
      },
      "source": [
        "def MSE(y, pred_y):\n",
        "    return 0.5 * (np.sum(np.square(y - pred_y)))"
      ],
      "execution_count": 97,
      "outputs": []
    },
    {
      "cell_type": "code",
      "metadata": {
        "colab": {
          "base_uri": "https://localhost:8080/",
          "height": 280
        },
        "id": "raQZcX592NxT",
        "outputId": "c49a37ee-2aad-4b4a-9c5e-4054eee36b6d"
      },
      "source": [
        "y = np.array([-3, -1, -2, 1, 3, -2, 2, 5, 3, 3, -2, -1, 2])\n",
        "yhat = np.array([-3, -1, -5, 0, 3, -1, 2, 4, 3, 3, -2, -1, -1])\n",
        "x = list(range(len(y)))\n",
        "\n",
        "plt.scatter(x, y, color='r', label='True')\n",
        "plt.plot(x, yhat, color='b', label='pred')\n",
        "plt.legend()"
      ],
      "execution_count": 98,
      "outputs": [
        {
          "output_type": "execute_result",
          "data": {
            "text/plain": [
              "<matplotlib.legend.Legend at 0x7f411fba8210>"
            ]
          },
          "metadata": {
            "tags": []
          },
          "execution_count": 98
        },
        {
          "output_type": "display_data",
          "data": {
            "image/png": "[encoded data removed]",
            "text/plain": [
              "<Figure size 432x288 with 1 Axes>"
            ]
          },
          "metadata": {
            "tags": []
          }
        }
      ]
    },
    {
      "cell_type": "code",
      "metadata": {
        "colab": {
          "base_uri": "https://localhost:8080/"
        },
        "id": "_mnwt-9w2WbZ",
        "outputId": "8c00d8e4-bbf2-4731-8262-dffd9a494284"
      },
      "source": [
        "print(MSE(y, yhat)) # 틀릴수록 MAE보다 강한 패널티 부여"
      ],
      "execution_count": 100,
      "outputs": [
        {
          "output_type": "stream",
          "text": [
            "10.5\n"
          ],
          "name": "stdout"
        }
      ]
    },
    {
      "cell_type": "markdown",
      "metadata": {
        "id": "blFFgS9_3hnL"
      },
      "source": [
        "교차 엔트로피 오차 (Cross Entropy Error, CEE)\n",
        "- 이진 분류, 다중 클래스 분류\n",
        "- 소프트맥스와 원 핫 인코딩 사이의 출력간 거리를 비교\n",
        "- 정답인 클래스에 대해서만 오차를 계산\n",
        " - 정답을 맞추면 오차가 0, 틀리면 그 차이가 클수록 오차가 무한히 커짐"
      ]
    },
    {
      "cell_type": "code",
      "metadata": {
        "id": "dxcrjVSV2a1m"
      },
      "source": [
        "def CEE(y_pred, y_true):\n",
        "    delta = 1e-7\n",
        "    return -np.sum(y_true * np.log(y_pred + delta))"
      ],
      "execution_count": 101,
      "outputs": []
    },
    {
      "cell_type": "code",
      "metadata": {
        "colab": {
          "base_uri": "https://localhost:8080/"
        },
        "id": "zq8FxPoL5G35",
        "outputId": "82549539-43b5-432e-df87-dc421d70cffe"
      },
      "source": [
        "y = np.array([0,0,0,0,0,1,1,0,1,0,0,1])\n",
        "yhat = np.array([0.01, 0.1, 0.05, 0.0, 0.1, 0.7, 0.3, 0.5, 0.04, 0.1, 0.08, 0.8])\n",
        "print('yhat 합 : ', np.sum(yhat))\n",
        "print(CEE(yhat, y))\n",
        "\n",
        "y = np.array([0,0,0,0,0,1,1,0,1,0,0,1])\n",
        "yhat = np.array([0.01, 0.11, 0.05, 0.20, 0.1, 0.07, 0.0, 0.4, 0.54, 0.1, 0.3, 0.9])\n",
        "print('yhat 합 : ', np.sum(yhat))\n",
        "print(CEE(yhat, y))"
      ],
      "execution_count": 110,
      "outputs": [
        {
          "output_type": "stream",
          "text": [
            "yhat 합 :  2.7800000000000002\n",
            "5.002664023259802\n",
            "yhat 합 :  2.7800000000000002\n",
            "19.49890061810606\n"
          ],
          "name": "stdout"
        }
      ]
    },
    {
      "cell_type": "markdown",
      "metadata": {
        "id": "Qu_c2iZI7h6t"
      },
      "source": [
        "이진분류에서의 교차 크로스 엔트로피(Binary Cross Entropy, BCE)"
      ]
    },
    {
      "cell_type": "code",
      "metadata": {
        "colab": {
          "base_uri": "https://localhost:8080/"
        },
        "id": "6AvkyJqX6Rsp",
        "outputId": "a3b7f2f8-133a-463c-a1bd-9de1a6fbe736"
      },
      "source": [
        "y = np.array([0, 1])\n",
        "yhat = np.array([0.15, 0.85])\n",
        "print('yhat 합 : ', np.sum(yhat))\n",
        "print(CEE(yhat, y))\n",
        "\n",
        "y = np.array([1, 0])\n",
        "yhat = np.array([0.15, 0.85])\n",
        "print('yhat 합 : ', np.sum(yhat))\n",
        "print(CEE(yhat, y))"
      ],
      "execution_count": 111,
      "outputs": [
        {
          "output_type": "stream",
          "text": [
            "yhat 합 :  1.0\n",
            "0.1625188118507231\n",
            "yhat 합 :  1.0\n",
            "1.8971193182194368\n"
          ],
          "name": "stdout"
        }
      ]
    },
    {
      "cell_type": "code",
      "metadata": {
        "id": "7BgZp7ez8kob"
      },
      "source": [
        ""
      ],
      "execution_count": null,
      "outputs": []
    }
  ]
}