{
  "nbformat": 4,
  "nbformat_minor": 0,
  "metadata": {
    "colab": {
      "name": "D01_텐서플로우 기초.ipynb",
      "provenance": [],
      "authorship_tag": "ABX9TyP+O5z0obG3Masv/sludTWV",
      "include_colab_link": true
    },
    "kernelspec": {
      "name": "python3",
      "display_name": "Python 3"
    },
    "language_info": {
      "name": "python"
    }
  },
  "cells": [
    {
      "cell_type": "markdown",
      "metadata": {
        "id": "view-in-github",
        "colab_type": "text"
      },
      "source": [
        "<a href=\"https://colab.research.google.com/github/tigerak/1st_practice/blob/main/D01_%ED%85%90%EC%84%9C%ED%94%8C%EB%A1%9C%EC%9A%B0_%EA%B8%B0%EC%B4%88.ipynb\" target=\"_parent\"><img src=\"https://colab.research.google.com/assets/colab-badge.svg\" alt=\"Open In Colab\"/></a>"
      ]
    },
    {
      "cell_type": "markdown",
      "metadata": {
        "id": "LxENx7PAmhY1"
      },
      "source": [
        "# 텐서플로우 시작하기"
      ]
    },
    {
      "cell_type": "code",
      "metadata": {
        "id": "CIX-z4B8lj8j"
      },
      "source": [
        "import numpy as np\n",
        "import tensorflow as tf"
      ],
      "execution_count": 1,
      "outputs": []
    },
    {
      "cell_type": "code",
      "metadata": {
        "colab": {
          "base_uri": "https://localhost:8080/"
        },
        "id": "aVe5r4hqmet4",
        "outputId": "7b42da76-3853-464b-a7fc-09ecefc745fb"
      },
      "source": [
        "print(tf.__version__)"
      ],
      "execution_count": 2,
      "outputs": [
        {
          "output_type": "stream",
          "text": [
            "2.4.1\n"
          ],
          "name": "stdout"
        }
      ]
    },
    {
      "cell_type": "markdown",
      "metadata": {
        "id": "IHGWd0cVmvWt"
      },
      "source": [
        "# 텐서의 객체\n",
        "- 타입 : string, float32 ,16 ,int32, 8 등\n",
        "- 형상(Shape) : 0, 1, 2등의 데이터 차원\n",
        "- 축(Rank) : 차원의 개수"
      ]
    },
    {
      "cell_type": "markdown",
      "metadata": {
        "id": "rgGUIT7EnHe8"
      },
      "source": [
        "# 텐서의 차원과 연산"
      ]
    },
    {
      "cell_type": "code",
      "metadata": {
        "colab": {
          "base_uri": "https://localhost:8080/"
        },
        "id": "Ln6h8cKVms0O",
        "outputId": "67183607-82e7-4c28-a895-a5eaf17d629a"
      },
      "source": [
        "a = tf.constant(2)\n",
        "print(tf.rank(a))\n",
        "print(a)"
      ],
      "execution_count": 3,
      "outputs": [
        {
          "output_type": "stream",
          "text": [
            "tf.Tensor(0, shape=(), dtype=int32)\n",
            "tf.Tensor(2, shape=(), dtype=int32)\n"
          ],
          "name": "stdout"
        }
      ]
    },
    {
      "cell_type": "code",
      "metadata": {
        "colab": {
          "base_uri": "https://localhost:8080/"
        },
        "id": "AKyHBt4inTPJ",
        "outputId": "14157eb3-da3e-4995-af12-7b1a6814da2d"
      },
      "source": [
        "b = tf.constant([2, 3])\n",
        "print(tf.rank(b))\n",
        "print(b)"
      ],
      "execution_count": 4,
      "outputs": [
        {
          "output_type": "stream",
          "text": [
            "tf.Tensor(1, shape=(), dtype=int32)\n",
            "tf.Tensor([2 3], shape=(2,), dtype=int32)\n"
          ],
          "name": "stdout"
        }
      ]
    },
    {
      "cell_type": "code",
      "metadata": {
        "colab": {
          "base_uri": "https://localhost:8080/"
        },
        "id": "Cuswm5v8nodg",
        "outputId": "8108315f-ee9d-4b3d-8754-d6c24fbe9930"
      },
      "source": [
        "c = tf.constant([[2, 3], [6, 7]])\n",
        "print(tf.rank(c))\n",
        "print(c)"
      ],
      "execution_count": 5,
      "outputs": [
        {
          "output_type": "stream",
          "text": [
            "tf.Tensor(2, shape=(), dtype=int32)\n",
            "tf.Tensor(\n",
            "[[2 3]\n",
            " [6 7]], shape=(2, 2), dtype=int32)\n"
          ],
          "name": "stdout"
        }
      ]
    },
    {
      "cell_type": "code",
      "metadata": {
        "colab": {
          "base_uri": "https://localhost:8080/"
        },
        "id": "DHl-KP6Nn2MY",
        "outputId": "c8890056-abf4-4bb8-dac8-f923e77ad28b"
      },
      "source": [
        "d = tf.constant(['Hello'])\n",
        "print(tf.rank(d))\n",
        "print(d)"
      ],
      "execution_count": 6,
      "outputs": [
        {
          "output_type": "stream",
          "text": [
            "tf.Tensor(1, shape=(), dtype=int32)\n",
            "tf.Tensor([b'Hello'], shape=(1,), dtype=string)\n"
          ],
          "name": "stdout"
        }
      ]
    },
    {
      "cell_type": "markdown",
      "metadata": {
        "id": "ApM2k-X5oSfb"
      },
      "source": [
        "# 난수 생성"
      ]
    },
    {
      "cell_type": "code",
      "metadata": {
        "colab": {
          "base_uri": "https://localhost:8080/"
        },
        "id": "d5KpnjpIoMhx",
        "outputId": "e3eadfb3-a01a-468d-cdec-88e0098b71bf"
      },
      "source": [
        "rand = tf.random.uniform([1], 0, 1) # shape은 1 // 0부터 1사이 값\n",
        "print(rand.shape)\n",
        "print(rand)"
      ],
      "execution_count": 7,
      "outputs": [
        {
          "output_type": "stream",
          "text": [
            "(1,)\n",
            "tf.Tensor([0.7790593], shape=(1,), dtype=float32)\n"
          ],
          "name": "stdout"
        }
      ]
    },
    {
      "cell_type": "code",
      "metadata": {
        "colab": {
          "base_uri": "https://localhost:8080/"
        },
        "id": "isEOhDeJoqvr",
        "outputId": "b4804e6a-ec71-4d81-b164-7e0584af9300"
      },
      "source": [
        "rand2 = tf.random.normal([1, 2], 0, 1) # shape은 1, 2 // mean 0, std 1\n",
        "print(rand2.shape)\n",
        "print(rand2)"
      ],
      "execution_count": 8,
      "outputs": [
        {
          "output_type": "stream",
          "text": [
            "(1, 2)\n",
            "tf.Tensor([[1.961377   0.23777351]], shape=(1, 2), dtype=float32)\n"
          ],
          "name": "stdout"
        }
      ]
    },
    {
      "cell_type": "code",
      "metadata": {
        "colab": {
          "base_uri": "https://localhost:8080/"
        },
        "id": "-P1IBMgbpWfZ",
        "outputId": "5463ac7d-09be-4a5f-e6b0-233d9ff863c2"
      },
      "source": [
        "rand3 = tf.random.normal(shape=(3, 2), mean=0, stddev=1)\n",
        "print(rand3.shape)\n",
        "print(rand3)"
      ],
      "execution_count": 9,
      "outputs": [
        {
          "output_type": "stream",
          "text": [
            "(3, 2)\n",
            "tf.Tensor(\n",
            "[[ 0.69892627  0.29140544]\n",
            " [ 0.57444    -0.48792812]\n",
            " [ 0.4026932   0.6614151 ]], shape=(3, 2), dtype=float32)\n"
          ],
          "name": "stdout"
        }
      ]
    },
    {
      "cell_type": "markdown",
      "metadata": {
        "id": "bmOEz_XKqCU6"
      },
      "source": [
        "# 즉시 실행 모드 (Eager Mode) 지원\n",
        "\n",
        "- 즉시 실행 모드를 통해 텐서플로우를 파이썬처럼 사용 가능"
      ]
    },
    {
      "cell_type": "code",
      "metadata": {
        "id": "0sbdV-oHqAUB"
      },
      "source": [
        "a = tf.constant(3)\n",
        "b = tf.constant(2)"
      ],
      "execution_count": 10,
      "outputs": []
    },
    {
      "cell_type": "code",
      "metadata": {
        "colab": {
          "base_uri": "https://localhost:8080/"
        },
        "id": "pTrDSAUzqpyK",
        "outputId": "0bf9f837-ea08-460b-b69b-23fc9f198931"
      },
      "source": [
        "print(tf.add(a, b))\n",
        "print(a +b)"
      ],
      "execution_count": 11,
      "outputs": [
        {
          "output_type": "stream",
          "text": [
            "tf.Tensor(5, shape=(), dtype=int32)\n",
            "tf.Tensor(5, shape=(), dtype=int32)\n"
          ],
          "name": "stdout"
        }
      ]
    },
    {
      "cell_type": "code",
      "metadata": {
        "colab": {
          "base_uri": "https://localhost:8080/"
        },
        "id": "_xmFsjaiqz8s",
        "outputId": "08b89c76-dce6-45e3-d89c-1318c0499428"
      },
      "source": [
        "print(tf.subtract(a, b))\n",
        "print(a - b)"
      ],
      "execution_count": 12,
      "outputs": [
        {
          "output_type": "stream",
          "text": [
            "tf.Tensor(1, shape=(), dtype=int32)\n",
            "tf.Tensor(1, shape=(), dtype=int32)\n"
          ],
          "name": "stdout"
        }
      ]
    },
    {
      "cell_type": "code",
      "metadata": {
        "colab": {
          "base_uri": "https://localhost:8080/"
        },
        "id": "enHFYOSXq6d5",
        "outputId": "c5399086-4c06-4468-b9cb-1d3a74065d85"
      },
      "source": [
        "print(tf.multiply(a, b))\n",
        "print(a * b)"
      ],
      "execution_count": 13,
      "outputs": [
        {
          "output_type": "stream",
          "text": [
            "tf.Tensor(6, shape=(), dtype=int32)\n",
            "tf.Tensor(6, shape=(), dtype=int32)\n"
          ],
          "name": "stdout"
        }
      ]
    },
    {
      "cell_type": "markdown",
      "metadata": {
        "id": "V1TrJNLnrAMD"
      },
      "source": [
        "# 텐서플로우 <-> 넘파이"
      ]
    },
    {
      "cell_type": "code",
      "metadata": {
        "colab": {
          "base_uri": "https://localhost:8080/"
        },
        "id": "Y9TN4GFuq_UK",
        "outputId": "cde2f74e-c6cd-4f42-8baf-52ef7aac0283"
      },
      "source": [
        "c = tf.add(a, b).numpy()\n",
        "print(type(c))"
      ],
      "execution_count": 14,
      "outputs": [
        {
          "output_type": "stream",
          "text": [
            "<class 'numpy.int32'>\n"
          ],
          "name": "stdout"
        }
      ]
    },
    {
      "cell_type": "code",
      "metadata": {
        "colab": {
          "base_uri": "https://localhost:8080/"
        },
        "id": "9-nLI3hlrNOw",
        "outputId": "e3d5700d-21ac-4ac1-d838-8e92de17f85b"
      },
      "source": [
        "c_square = np.square(c, dtype=np.float32)\n",
        "c_tensor = tf.convert_to_tensor(c_square)\n",
        "\n",
        "print(c_tensor)\n",
        "print(type(c_tensor))"
      ],
      "execution_count": 15,
      "outputs": [
        {
          "output_type": "stream",
          "text": [
            "tf.Tensor(25.0, shape=(), dtype=float32)\n",
            "<class 'tensorflow.python.framework.ops.EagerTensor'>\n"
          ],
          "name": "stdout"
        }
      ]
    },
    {
      "cell_type": "markdown",
      "metadata": {
        "id": "_EScDe3VsPCa"
      },
      "source": [
        "# 넘파이처럼 사용하기"
      ]
    },
    {
      "cell_type": "code",
      "metadata": {
        "colab": {
          "base_uri": "https://localhost:8080/"
        },
        "id": "K79RNG0-rhTk",
        "outputId": "7a3c0812-071f-4baf-94f9-3439513f6671"
      },
      "source": [
        "t = tf.constant([[1., 2., 3.], [4., 5., 6.]])\n",
        "\n",
        "print(t.shape)\n",
        "print(t.dtype)"
      ],
      "execution_count": 16,
      "outputs": [
        {
          "output_type": "stream",
          "text": [
            "(2, 3)\n",
            "<dtype: 'float32'>\n"
          ],
          "name": "stdout"
        }
      ]
    },
    {
      "cell_type": "code",
      "metadata": {
        "colab": {
          "base_uri": "https://localhost:8080/"
        },
        "id": "Io4j35frsfp9",
        "outputId": "3cfcb2ad-0195-4beb-c103-70d5af398af7"
      },
      "source": [
        "print(t[:, 1:])"
      ],
      "execution_count": 17,
      "outputs": [
        {
          "output_type": "stream",
          "text": [
            "tf.Tensor(\n",
            "[[2. 3.]\n",
            " [5. 6.]], shape=(2, 2), dtype=float32)\n"
          ],
          "name": "stdout"
        }
      ]
    },
    {
      "cell_type": "code",
      "metadata": {
        "colab": {
          "base_uri": "https://localhost:8080/"
        },
        "id": "O1W9UTzcsryb",
        "outputId": "b512a742-d951-490e-d7ea-4194a113d6a4"
      },
      "source": [
        "t[..., 1, tf.newaxis]"
      ],
      "execution_count": 18,
      "outputs": [
        {
          "output_type": "execute_result",
          "data": {
            "text/plain": [
              "<tf.Tensor: shape=(2, 1), dtype=float32, numpy=\n",
              "array([[2.],\n",
              "       [5.]], dtype=float32)>"
            ]
          },
          "metadata": {
            "tags": []
          },
          "execution_count": 18
        }
      ]
    },
    {
      "cell_type": "code",
      "metadata": {
        "colab": {
          "base_uri": "https://localhost:8080/"
        },
        "id": "kGLVheaNs9_M",
        "outputId": "ed99bc49-880b-4ebb-e6d9-b326cba99d29"
      },
      "source": [
        "t + 10"
      ],
      "execution_count": 19,
      "outputs": [
        {
          "output_type": "execute_result",
          "data": {
            "text/plain": [
              "<tf.Tensor: shape=(2, 3), dtype=float32, numpy=\n",
              "array([[11., 12., 13.],\n",
              "       [14., 15., 16.]], dtype=float32)>"
            ]
          },
          "metadata": {
            "tags": []
          },
          "execution_count": 19
        }
      ]
    },
    {
      "cell_type": "code",
      "metadata": {
        "colab": {
          "base_uri": "https://localhost:8080/"
        },
        "id": "hx-0cuvxtQYm",
        "outputId": "392064db-7ff4-4b81-ca4e-498e9cde3c0a"
      },
      "source": [
        "tf.square(t)"
      ],
      "execution_count": 20,
      "outputs": [
        {
          "output_type": "execute_result",
          "data": {
            "text/plain": [
              "<tf.Tensor: shape=(2, 3), dtype=float32, numpy=\n",
              "array([[ 1.,  4.,  9.],\n",
              "       [16., 25., 36.]], dtype=float32)>"
            ]
          },
          "metadata": {
            "tags": []
          },
          "execution_count": 20
        }
      ]
    },
    {
      "cell_type": "code",
      "metadata": {
        "colab": {
          "base_uri": "https://localhost:8080/"
        },
        "id": "h7kNRv9hIzTo",
        "outputId": "6201082d-a333-4d66-8387-f6642f09fb92"
      },
      "source": [
        "t @ tf.transpose(t)"
      ],
      "execution_count": 21,
      "outputs": [
        {
          "output_type": "execute_result",
          "data": {
            "text/plain": [
              "<tf.Tensor: shape=(2, 2), dtype=float32, numpy=\n",
              "array([[14., 32.],\n",
              "       [32., 77.]], dtype=float32)>"
            ]
          },
          "metadata": {
            "tags": []
          },
          "execution_count": 21
        }
      ]
    },
    {
      "cell_type": "markdown",
      "metadata": {
        "id": "PfMOtyPOJIs4"
      },
      "source": [
        "# 타입 변환\n",
        "\n",
        "- 연산시 텐서의 ㅌㅏ입을 맞춰줘야함\n",
        "- 타임 변환에는 tf.cast() 사용"
      ]
    },
    {
      "cell_type": "code",
      "metadata": {
        "colab": {
          "base_uri": "https://localhost:8080/"
        },
        "id": "cUbODNd4I_Ed",
        "outputId": "e8ce2b02-09ac-44bb-f97b-dd746e24698e"
      },
      "source": [
        "a = tf.constant(2)\n",
        "print(a)\n",
        "b = tf.constant(2.)\n",
        "print(b)\n",
        "\n",
        "# print(a + b)\n",
        "\n",
        "# print(b + tf.constant(30., dtype=tf.float64))\n",
        "\n"
      ],
      "execution_count": 22,
      "outputs": [
        {
          "output_type": "stream",
          "text": [
            "tf.Tensor(2, shape=(), dtype=int32)\n",
            "tf.Tensor(2.0, shape=(), dtype=float32)\n"
          ],
          "name": "stdout"
        }
      ]
    },
    {
      "cell_type": "code",
      "metadata": {
        "colab": {
          "base_uri": "https://localhost:8080/"
        },
        "id": "KiIqReayJk7p",
        "outputId": "474971ce-c235-4563-b95a-69a2ebf3ea1f"
      },
      "source": [
        "t = tf.constant(30., dtype=tf.float64)\n",
        "t2 = tf.constant(2.)\n",
        "\n",
        "print(t2 + tf.cast(t, tf.float32))"
      ],
      "execution_count": 23,
      "outputs": [
        {
          "output_type": "stream",
          "text": [
            "tf.Tensor(32.0, shape=(), dtype=float32)\n"
          ],
          "name": "stdout"
        }
      ]
    },
    {
      "cell_type": "markdown",
      "metadata": {
        "id": "XPt2alUvK8l6"
      },
      "source": [
        "# 오토 그래프\n",
        "\n",
        "- tf가 작업을 좀 더 빠르게 동작하게 하기 위한 방법으로, 그래프로 만들어 연산을 진행\n",
        "- tf.Graph\n",
        "- 유연성이 있음\n",
        " - 모바일 앱, 임베디드 기기, 백앤드 서버와 같이 파이썬 인터프리터가 없는 환경에서 텐서플로우 사용 가능"
      ]
    },
    {
      "cell_type": "code",
      "metadata": {
        "id": "8QkE4ZhlKwzf"
      },
      "source": [
        "import timeit"
      ],
      "execution_count": 24,
      "outputs": []
    },
    {
      "cell_type": "markdown",
      "metadata": {
        "id": "H5HWGEqiMktN"
      },
      "source": [
        "# @tf.function\n",
        "- 자동으로 그래프를 생성(오토 그래프)\n",
        "- 그래프로 변환하여 사용 -> GPU연산 가능\n",
        "- 파이썬으로 구성된 함수를 텐서플로우의 그래프 형태로 다루고 싶을 떄 사용 가능\n",
        "- 원본 함수가 필요하다면 (tf.function).python_function()"
      ]
    },
    {
      "cell_type": "code",
      "metadata": {
        "colab": {
          "base_uri": "https://localhost:8080/"
        },
        "id": "C9ks_fxtMgwc",
        "outputId": "afad738a-d600-46a7-cf0c-1966f90ceb48"
      },
      "source": [
        "@tf.function\n",
        "def my_function(x):\n",
        "    return x**2 - 10*x + 3\n",
        "\n",
        "print(my_function(2))\n",
        "print(my_function(tf.constant(2)))"
      ],
      "execution_count": 25,
      "outputs": [
        {
          "output_type": "stream",
          "text": [
            "tf.Tensor(-13, shape=(), dtype=int32)\n",
            "tf.Tensor(-13, shape=(), dtype=int32)\n"
          ],
          "name": "stdout"
        }
      ]
    },
    {
      "cell_type": "code",
      "metadata": {
        "colab": {
          "base_uri": "https://localhost:8080/"
        },
        "id": "jE7bPllyNgXE",
        "outputId": "42c3d946-7fa5-4714-ab8b-02fbb3200b1a"
      },
      "source": [
        "def my_function_(x):\n",
        "    return x**2 - 10*x + 3\n",
        "\n",
        "print(my_function_(2))\n",
        "print(my_function_(tf.constant(2)))"
      ],
      "execution_count": 26,
      "outputs": [
        {
          "output_type": "stream",
          "text": [
            "-13\n",
            "tf.Tensor(-13, shape=(), dtype=int32)\n"
          ],
          "name": "stdout"
        }
      ]
    },
    {
      "cell_type": "code",
      "metadata": {
        "colab": {
          "base_uri": "https://localhost:8080/"
        },
        "id": "1XVw1_5ONphO",
        "outputId": "52c44fa8-c1a1-46bf-8d1d-3ea76ca8fad6"
      },
      "source": [
        "tf_my_func = tf.function(my_function_)\n",
        "\n",
        "print(tf_my_func)\n",
        "print(tf_my_func(2))"
      ],
      "execution_count": 27,
      "outputs": [
        {
          "output_type": "stream",
          "text": [
            "<tensorflow.python.eager.def_function.Function object at 0x7fa8d1be2790>\n",
            "tf.Tensor(-13, shape=(), dtype=int32)\n"
          ],
          "name": "stdout"
        }
      ]
    },
    {
      "cell_type": "code",
      "metadata": {
        "colab": {
          "base_uri": "https://localhost:8080/"
        },
        "id": "teLTPOviQpwa",
        "outputId": "0c5f827b-d135-4433-cd68-41210743074f"
      },
      "source": [
        "tf_my_func.python_function(2)"
      ],
      "execution_count": 28,
      "outputs": [
        {
          "output_type": "execute_result",
          "data": {
            "text/plain": [
              "-13"
            ]
          },
          "metadata": {
            "tags": []
          },
          "execution_count": 28
        }
      ]
    },
    {
      "cell_type": "code",
      "metadata": {
        "colab": {
          "base_uri": "https://localhost:8080/"
        },
        "id": "Xy7iYilBQ5_-",
        "outputId": "230bd0b0-18e9-4486-f2ae-e56a27085637"
      },
      "source": [
        "def function_to_get_faster(x, y, b):\n",
        "    x = tf.matmul(x, y)\n",
        "    x = x + b\n",
        "    return x\n",
        "\n",
        "a_function_that_uses_a_graph = tf.function(function_to_get_faster)\n",
        "\n",
        "x1 = tf.constant([[1., 2.]])\n",
        "y1 = tf.constant([[2.], [3.]])\n",
        "b1 = tf.constant(4.)\n",
        "\n",
        "a_function_that_uses_a_graph(x1, y1, b1).numpy()"
      ],
      "execution_count": 29,
      "outputs": [
        {
          "output_type": "execute_result",
          "data": {
            "text/plain": [
              "array([[12.]], dtype=float32)"
            ]
          },
          "metadata": {
            "tags": []
          },
          "execution_count": 29
        }
      ]
    },
    {
      "cell_type": "code",
      "metadata": {
        "colab": {
          "base_uri": "https://localhost:8080/"
        },
        "id": "Lh1q52UeR3bF",
        "outputId": "5dae7eb3-4627-4578-db93-afd99cdb8ff2"
      },
      "source": [
        "def inner_function(x, y, b):\n",
        "    x = tf.matmul(x, y)\n",
        "    x = x + b\n",
        "    return x\n",
        "\n",
        "@tf.function\n",
        "def outer_function(x):\n",
        "    y = tf.constant([[2.], [3.]])\n",
        "    b = tf.constant(4.)\n",
        "    return inner_function(x, y, b)\n",
        "\n",
        "outer_function(tf.constant([[1., 2.]])).numpy()"
      ],
      "execution_count": 30,
      "outputs": [
        {
          "output_type": "execute_result",
          "data": {
            "text/plain": [
              "array([[12.]], dtype=float32)"
            ]
          },
          "metadata": {
            "tags": []
          },
          "execution_count": 30
        }
      ]
    },
    {
      "cell_type": "markdown",
      "metadata": {
        "id": "Xrp6MGmvfr9L"
      },
      "source": [
        "- 텐서플로우가 tf.function으로 변환한 코드"
      ]
    },
    {
      "cell_type": "code",
      "metadata": {
        "colab": {
          "base_uri": "https://localhost:8080/"
        },
        "id": "7xvGT5vOfPGF",
        "outputId": "9a9e7941-b135-4d34-fc26-d493365d0667"
      },
      "source": [
        "print(tf.autograph.to_code(my_function.python_function))\n",
        "print(tf.autograph.to_code(tf_my_func.python_function))\n",
        "print(tf.autograph.to_code(outer_function.python_function))"
      ],
      "execution_count": 31,
      "outputs": [
        {
          "output_type": "stream",
          "text": [
            "def tf__my_function(x):\n",
            "    with ag__.FunctionScope('my_function', 'fscope', ag__.ConversionOptions(recursive=True, user_requested=True, optional_features=(), internal_convert_user_code=True)) as fscope:\n",
            "        do_return = False\n",
            "        retval_ = ag__.UndefinedReturnValue()\n",
            "        try:\n",
            "            do_return = True\n",
            "            retval_ = (((ag__.ld(x) ** 2) - (10 * ag__.ld(x))) + 3)\n",
            "        except:\n",
            "            do_return = False\n",
            "            raise\n",
            "        return fscope.ret(retval_, do_return)\n",
            "\n",
            "def tf__my_function_(x):\n",
            "    with ag__.FunctionScope('my_function_', 'fscope', ag__.ConversionOptions(recursive=True, user_requested=True, optional_features=(), internal_convert_user_code=True)) as fscope:\n",
            "        do_return = False\n",
            "        retval_ = ag__.UndefinedReturnValue()\n",
            "        try:\n",
            "            do_return = True\n",
            "            retval_ = (((ag__.ld(x) ** 2) - (10 * ag__.ld(x))) + 3)\n",
            "        except:\n",
            "            do_return = False\n",
            "            raise\n",
            "        return fscope.ret(retval_, do_return)\n",
            "\n",
            "def tf__outer_function(x):\n",
            "    with ag__.FunctionScope('outer_function', 'fscope', ag__.ConversionOptions(recursive=True, user_requested=True, optional_features=(), internal_convert_user_code=True)) as fscope:\n",
            "        do_return = False\n",
            "        retval_ = ag__.UndefinedReturnValue()\n",
            "        y = ag__.converted_call(ag__.ld(tf).constant, ([[2.0], [3.0]],), None, fscope)\n",
            "        b = ag__.converted_call(ag__.ld(tf).constant, (4.0,), None, fscope)\n",
            "        try:\n",
            "            do_return = True\n",
            "            retval_ = ag__.converted_call(ag__.ld(inner_function), (ag__.ld(x), ag__.ld(y), ag__.ld(b)), None, fscope)\n",
            "        except:\n",
            "            do_return = False\n",
            "            raise\n",
            "        return fscope.ret(retval_, do_return)\n",
            "\n"
          ],
          "name": "stdout"
        }
      ]
    },
    {
      "cell_type": "markdown",
      "metadata": {
        "id": "NKQdWf2dhVOx"
      },
      "source": [
        "# 속도 향상"
      ]
    },
    {
      "cell_type": "code",
      "metadata": {
        "colab": {
          "base_uri": "https://localhost:8080/"
        },
        "id": "_rQ9XxjUf9wI",
        "outputId": "e7148967-a8ce-4acb-8d2d-917c5fc36a4f"
      },
      "source": [
        "class SequentialModel(tf.keras.Model):\n",
        "    def __init__(self, **kwargs):\n",
        "        super(SequentialModel, self).__init__(**kwargs)\n",
        "        self.flatten = tf.keras.layers.Flatten(input_shape=(28, 28))\n",
        "        self.dense_1 = tf.keras.layers.Dense(128, activation='relu')\n",
        "        self.dropout = tf.keras.layers.Dropout(0.2)\n",
        "        self.dense_2 = tf.keras.layers.Dense(10)\n",
        "\n",
        "    def call(self, x):\n",
        "        x = self.flatten(x)\n",
        "        x = self.dense_1(x)\n",
        "        x = self.dropout(x)\n",
        "        x = self.dense_2(x)\n",
        "        return x\n",
        "\n",
        "input_data = tf.random.uniform([60, 28, 28])\n",
        "\n",
        "eager_model = SequentialModel()\n",
        "graph_model = tf.function(eager_model)\n",
        "\n",
        "print('Eager Time : ', timeit.timeit(lambda: eager_model(input_data), number=10000))\n",
        "print('Graph Time : ', timeit.timeit(lambda: graph_model(input_data), number=10000))"
      ],
      "execution_count": 32,
      "outputs": [
        {
          "output_type": "stream",
          "text": [
            "Eager Time :  11.803353189000006\n",
            "Graph Time :  6.985660926000008\n"
          ],
          "name": "stdout"
        }
      ]
    },
    {
      "cell_type": "markdown",
      "metadata": {
        "id": "bBJcHhhUaEMq"
      },
      "source": [
        "# 변수 생성\n",
        "\n",
        "- tf.Variable\n",
        "- 딥러닝 모델 학습시, 그래프 연산이 필요할 때 사용"
      ]
    },
    {
      "cell_type": "code",
      "metadata": {
        "colab": {
          "base_uri": "https://localhost:8080/"
        },
        "id": "wWmlB4jjv3-Y",
        "outputId": "34d4d4ec-601c-4442-9640-5fd3717cb10a"
      },
      "source": [
        "X = tf.Variable(20.)\n",
        "print(X)"
      ],
      "execution_count": 33,
      "outputs": [
        {
          "output_type": "stream",
          "text": [
            "<tf.Variable 'Variable:0' shape=() dtype=float32, numpy=20.0>\n"
          ],
          "name": "stdout"
        }
      ]
    },
    {
      "cell_type": "markdown",
      "metadata": {
        "id": "DrKSf_8idGcL"
      },
      "source": [
        "# 자동 미분 (Auto grad)\n",
        "\n",
        "- tf.GradientTape API사용\n",
        "- tf.Variable 같은 일부 입력에 대한 기울기 계싼\n",
        " - 기본적으로 한번만 사용됨\n",
        "- 변수가 포함된 연산만 기록"
      ]
    },
    {
      "cell_type": "code",
      "metadata": {
        "id": "zZl5pAG-aXcj"
      },
      "source": [
        "x = tf.Variable(3.)\n",
        "\n",
        "with tf.GradientTape() as tape:\n",
        "    y = x**2"
      ],
      "execution_count": 34,
      "outputs": []
    },
    {
      "cell_type": "code",
      "metadata": {
        "colab": {
          "base_uri": "https://localhost:8080/"
        },
        "id": "z0jxcgjFd06S",
        "outputId": "5e27b92a-6b4d-4aa6-e852-83fb84c0f84f"
      },
      "source": [
        "dy_dx = tape.gradient(y, x)\n",
        "dy_dx.numpy()"
      ],
      "execution_count": 35,
      "outputs": [
        {
          "output_type": "execute_result",
          "data": {
            "text/plain": [
              "6.0"
            ]
          },
          "metadata": {
            "tags": []
          },
          "execution_count": 35
        }
      ]
    },
    {
      "cell_type": "code",
      "metadata": {
        "id": "xuwsTqHteScz",
        "colab": {
          "base_uri": "https://localhost:8080/",
          "height": 0
        },
        "outputId": "733cc49a-86df-4a14-c80d-2ce4dc82f151"
      },
      "source": [
        "# 한번만 사용될 수 있음\n",
        "'''\n",
        "x2 = tf.Variable(4)\n",
        "dy_dx = tape.gradient(y, x2)\n",
        "dy_dx.numpy()\n",
        "'''"
      ],
      "execution_count": 36,
      "outputs": [
        {
          "output_type": "execute_result",
          "data": {
            "application/vnd.google.colaboratory.intrinsic+json": {
              "type": "string"
            },
            "text/plain": [
              "'\\nx2 = tf.Variable(4)\\ndy_dx = tape.gradient(y, x2)\\ndy_dx.numpy()\\n'"
            ]
          },
          "metadata": {
            "tags": []
          },
          "execution_count": 36
        }
      ]
    },
    {
      "cell_type": "code",
      "metadata": {
        "colab": {
          "base_uri": "https://localhost:8080/"
        },
        "id": "NCPZPsuNe0Wa",
        "outputId": "f57158a1-7f95-406c-91e4-df3d5f4bb32c"
      },
      "source": [
        "x = tf.Variable(2.)\n",
        "y = tf.Variable(3.)\n",
        "\n",
        "with tf.GradientTape() as tape:\n",
        "    y_sq = y**2\n",
        "    z = x**2 + tf.stop_gradient(y_sq)\n",
        "\n",
        "grad = tape.gradient(z, {'x' : x, 'y' : y})\n",
        "\n",
        "print('dz/dx : ', grad['x'])\n",
        "\n",
        "print('dz/dy : ', grad['y'])"
      ],
      "execution_count": 37,
      "outputs": [
        {
          "output_type": "stream",
          "text": [
            "dz/dx :  tf.Tensor(4.0, shape=(), dtype=float32)\n",
            "dz/dy :  None\n"
          ],
          "name": "stdout"
        }
      ]
    },
    {
      "cell_type": "code",
      "metadata": {
        "id": "s7fpfHGpgKKo"
      },
      "source": [
        "weights = tf.Variable(tf.random.normal((3, 2)), name='weights')\n",
        "biases = tf.Variable(tf.zeros(2, dtype=tf.float32), name='biases')\n",
        "x = [[ 1., 2., 3.]]\n",
        "\n",
        "with tf.GradientTape(persistent=True) as tape:\n",
        "    y = x @ weights + biases\n",
        "    loss = tf.reduce_mean(y**2)"
      ],
      "execution_count": 38,
      "outputs": []
    },
    {
      "cell_type": "code",
      "metadata": {
        "id": "NW1tcolXiKZa"
      },
      "source": [
        "[dl_dw, dl_db] = tape.gradient(loss, [weights, biases])"
      ],
      "execution_count": 39,
      "outputs": []
    },
    {
      "cell_type": "code",
      "metadata": {
        "colab": {
          "base_uri": "https://localhost:8080/"
        },
        "id": "brdQsgrxjQu3",
        "outputId": "a06bb689-2313-4b56-ab51-f60ebc5e87d4"
      },
      "source": [
        "print(weights.shape)\n",
        "print(weights)\n",
        "print(dl_dw.shape)\n",
        "print(dl_dw)"
      ],
      "execution_count": 40,
      "outputs": [
        {
          "output_type": "stream",
          "text": [
            "(3, 2)\n",
            "<tf.Variable 'weights:0' shape=(3, 2) dtype=float32, numpy=\n",
            "array([[ 0.753355  , -1.0392807 ],\n",
            "       [-0.84138846, -1.0089391 ],\n",
            "       [-0.69511276, -0.8215806 ]], dtype=float32)>\n",
            "(3, 2)\n",
            "tf.Tensor(\n",
            "[[ -3.0147603  -5.5219007]\n",
            " [ -6.0295205 -11.043801 ]\n",
            " [ -9.044281  -16.565702 ]], shape=(3, 2), dtype=float32)\n"
          ],
          "name": "stdout"
        }
      ]
    },
    {
      "cell_type": "code",
      "metadata": {
        "colab": {
          "base_uri": "https://localhost:8080/"
        },
        "id": "xe81Y0eBjWU4",
        "outputId": "f83e41fd-505b-4c78-8d9a-8d7f1e9a1416"
      },
      "source": [
        "weights2 = tf.Variable(tf.random.normal((3, 2)), name='weights')\n",
        "biases2 = tf.Variable(tf.zeros(2, dtype=tf.float32), name='biases')\n",
        "x2 = [[ 4., 5., 6.]]\n",
        "\n",
        "[dl_dw2, dl_db2] = tape.gradient(loss, [weights2, biases2])\n",
        "\n",
        "print(weights.shape)\n",
        "print(weights)\n",
        "print(dl_dw.shape)\n",
        "print(dl_dw)"
      ],
      "execution_count": 41,
      "outputs": [
        {
          "output_type": "stream",
          "text": [
            "(3, 2)\n",
            "<tf.Variable 'weights:0' shape=(3, 2) dtype=float32, numpy=\n",
            "array([[ 0.753355  , -1.0392807 ],\n",
            "       [-0.84138846, -1.0089391 ],\n",
            "       [-0.69511276, -0.8215806 ]], dtype=float32)>\n",
            "(3, 2)\n",
            "tf.Tensor(\n",
            "[[ -3.0147603  -5.5219007]\n",
            " [ -6.0295205 -11.043801 ]\n",
            " [ -9.044281  -16.565702 ]], shape=(3, 2), dtype=float32)\n"
          ],
          "name": "stdout"
        }
      ]
    },
    {
      "cell_type": "code",
      "metadata": {
        "id": "LUFxpI8DqNw2"
      },
      "source": [
        "del tape"
      ],
      "execution_count": 42,
      "outputs": []
    },
    {
      "cell_type": "markdown",
      "metadata": {
        "id": "QZ2cJ5JWqpNr"
      },
      "source": [
        "# 간단한 신경망 구조"
      ]
    },
    {
      "cell_type": "markdown",
      "metadata": {
        "id": "AGEj9vlSqtVy"
      },
      "source": [
        "## 뉴런\n",
        "\n",
        "- 입력 -> 연산 -> 활성화함수 -> 출력"
      ]
    },
    {
      "cell_type": "code",
      "metadata": {
        "id": "kmXI-9Ztqms6"
      },
      "source": [
        "def sigmoid(x):\n",
        "    return (1 / (1 + np.exp(-x)))\n",
        "\n",
        "def Neuron(x, W, bias=0):\n",
        "    z = x * W + bias\n",
        "    return sigmoid(z)"
      ],
      "execution_count": 43,
      "outputs": []
    },
    {
      "cell_type": "code",
      "metadata": {
        "colab": {
          "base_uri": "https://localhost:8080/"
        },
        "id": "p-7-fjLYrUce",
        "outputId": "c3734e5b-7165-49df-bbcf-6d9475290cff"
      },
      "source": [
        "x = tf.random.normal((1, 2), 0, 1)\n",
        "W = tf.random.normal((1, 2), 0, 1)\n",
        "\n",
        "print('x.shape : ', x.shape)\n",
        "print('W.shape : ', W.shape)\n",
        "\n",
        "print(x)\n",
        "print(W)\n",
        "\n",
        "print(Neuron(x, W))"
      ],
      "execution_count": 44,
      "outputs": [
        {
          "output_type": "stream",
          "text": [
            "x.shape :  (1, 2)\n",
            "W.shape :  (1, 2)\n",
            "tf.Tensor([[1.4350084  0.45577624]], shape=(1, 2), dtype=float32)\n",
            "tf.Tensor([[-0.46658057 -1.561691  ]], shape=(1, 2), dtype=float32)\n",
            "[[0.33859828 0.32920527]]\n"
          ],
          "name": "stdout"
        }
      ]
    },
    {
      "cell_type": "code",
      "metadata": {
        "colab": {
          "base_uri": "https://localhost:8080/"
        },
        "id": "iRd0lMadryIr",
        "outputId": "580f2a45-83fe-4ac2-a4bd-b2b1feaf7006"
      },
      "source": [
        "x = tf.random.normal((2, 1), 0, 1)\n",
        "W = tf.random.normal((2, 1), 0, 1)\n",
        "\n",
        "print('x.shape : ', x.shape)\n",
        "print('W.shape : ', W.shape)\n",
        "\n",
        "print(x)\n",
        "print(W)\n",
        "\n",
        "print(Neuron(x, W))"
      ],
      "execution_count": 45,
      "outputs": [
        {
          "output_type": "stream",
          "text": [
            "x.shape :  (2, 1)\n",
            "W.shape :  (2, 1)\n",
            "tf.Tensor(\n",
            "[[ 0.14798415]\n",
            " [-0.47953656]], shape=(2, 1), dtype=float32)\n",
            "tf.Tensor(\n",
            "[[-2.839014  ]\n",
            " [ 0.03354881]], shape=(2, 1), dtype=float32)\n",
            "[[0.3964859 ]\n",
            " [0.49597806]]\n"
          ],
          "name": "stdout"
        }
      ]
    },
    {
      "cell_type": "code",
      "metadata": {
        "colab": {
          "base_uri": "https://localhost:8080/"
        },
        "id": "OgWd9075she7",
        "outputId": "c3a91ef0-d8d1-4196-a04b-6a4b12f9e06f"
      },
      "source": [
        "x = tf.random.normal((1,), 0, 1)\n",
        "W = tf.random.normal((2, 1), 0, 1)\n",
        "\n",
        "print('x.shape : ', x.shape)\n",
        "print('W.shape : ', W.shape)\n",
        "\n",
        "print(x)\n",
        "print(W)\n",
        "\n",
        "print(Neuron(x, W))"
      ],
      "execution_count": 46,
      "outputs": [
        {
          "output_type": "stream",
          "text": [
            "x.shape :  (1,)\n",
            "W.shape :  (2, 1)\n",
            "tf.Tensor([-0.07298891], shape=(1,), dtype=float32)\n",
            "tf.Tensor(\n",
            "[[-1.0074911]\n",
            " [-1.0811121]], shape=(2, 1), dtype=float32)\n",
            "[[0.5183757]\n",
            " [0.5197171]]\n"
          ],
          "name": "stdout"
        }
      ]
    },
    {
      "cell_type": "markdown",
      "metadata": {
        "id": "ah209mWWs4kJ"
      },
      "source": [
        "# 퍼셉트론 학습 알고리즘 (가중치 업데이트)"
      ]
    },
    {
      "cell_type": "code",
      "metadata": {
        "colab": {
          "base_uri": "https://localhost:8080/"
        },
        "id": "zW_6p0MGsqeP",
        "outputId": "e42df7b8-e889-408c-c233-d52d85e1a98f"
      },
      "source": [
        "x = 1\n",
        "y = 0\n",
        "W = tf.random.normal([1], 0, 1)\n",
        "print(Neuron(x, W))\n",
        "print('y :', y)"
      ],
      "execution_count": 47,
      "outputs": [
        {
          "output_type": "stream",
          "text": [
            "[0.53711885]\n",
            "y : 0\n"
          ],
          "name": "stdout"
        }
      ]
    },
    {
      "cell_type": "code",
      "metadata": {
        "colab": {
          "base_uri": "https://localhost:8080/"
        },
        "id": "Ju4yXUvktav_",
        "outputId": "37df740e-6531-4971-b79d-fb547d4a9f53"
      },
      "source": [
        "for i in range(1000):\n",
        "    output = Neuron(x, W)\n",
        "    error = y - output\n",
        "    W = W + x * 0.1 * error\n",
        "\n",
        "    if i % 100 == 99 :\n",
        "        print('{}\\t{}\\t{}'.format(i + 1, error, output))"
      ],
      "execution_count": 48,
      "outputs": [
        {
          "output_type": "stream",
          "text": [
            "100\t[-0.10471964]\t[0.10471964]\n",
            "200\t[-0.05305783]\t[0.05305783]\n",
            "300\t[-0.03516436]\t[0.03516436]\n",
            "400\t[-0.02621264]\t[0.02621264]\n",
            "500\t[-0.02086494]\t[0.02086494]\n",
            "600\t[-0.01731705]\t[0.01731705]\n",
            "700\t[-0.01479413]\t[0.01479413]\n",
            "800\t[-0.01290939]\t[0.01290939]\n",
            "900\t[-0.01144853]\t[0.01144853]\n",
            "1000\t[-0.01028337]\t[0.01028337]\n"
          ],
          "name": "stdout"
        }
      ]
    },
    {
      "cell_type": "code",
      "metadata": {
        "id": "2eW9i-tTuMJv"
      },
      "source": [
        "def Neuron2(x, W, bias=0):\n",
        "    z = tf.matmul(x, W, transpose_b=True) + bias\n",
        "    return sigmoid(z)"
      ],
      "execution_count": 49,
      "outputs": []
    },
    {
      "cell_type": "code",
      "metadata": {
        "colab": {
          "base_uri": "https://localhost:8080/"
        },
        "id": "umH3oDsbxWdI",
        "outputId": "5296e30d-edf7-478a-af57-a00a99969f8d"
      },
      "source": [
        "x = tf.random.normal((1, 3), 0, 1)\n",
        "y = tf.ones(1)\n",
        "W = tf.random.normal((1, 3), 0, 1)\n",
        "\n",
        "print(Neuron2(x, W))\n",
        "print('y :', y)"
      ],
      "execution_count": 50,
      "outputs": [
        {
          "output_type": "stream",
          "text": [
            "[[0.5265657]]\n",
            "y : tf.Tensor([1.], shape=(1,), dtype=float32)\n"
          ],
          "name": "stdout"
        }
      ]
    },
    {
      "cell_type": "code",
      "metadata": {
        "colab": {
          "base_uri": "https://localhost:8080/"
        },
        "id": "zYxcYjtoxuiZ",
        "outputId": "2dda6e6f-ba01-4238-bcd5-fd145a1f286a"
      },
      "source": [
        "for i in range(1000):\n",
        "    output = Neuron2(x, W)\n",
        "    error = y - output\n",
        "    W = W + x * 0.1 * error\n",
        "\n",
        "    if i % 100 == 99 :\n",
        "        print('{}\\t{}\\t{}'.format(i + 1, error, output))"
      ],
      "execution_count": 51,
      "outputs": [
        {
          "output_type": "stream",
          "text": [
            "100\t[[0.24653625]]\t[[0.75346375]]\n",
            "200\t[[0.15484619]]\t[[0.8451538]]\n",
            "300\t[[0.11050522]]\t[[0.8894948]]\n",
            "400\t[[0.08518124]]\t[[0.91481876]]\n",
            "500\t[[0.06901485]]\t[[0.93098515]]\n",
            "600\t[[0.05787337]]\t[[0.94212663]]\n",
            "700\t[[0.04975975]]\t[[0.95024025]]\n",
            "800\t[[0.04360187]]\t[[0.9563981]]\n",
            "900\t[[0.03877628]]\t[[0.9612237]]\n",
            "1000\t[[0.03489685]]\t[[0.96510315]]\n"
          ],
          "name": "stdout"
        }
      ]
    },
    {
      "cell_type": "code",
      "metadata": {
        "colab": {
          "base_uri": "https://localhost:8080/"
        },
        "id": "IWlujGfyy3Kb",
        "outputId": "ac0aa9ef-5a8f-44d8-ac6f-c8a9b8de0711"
      },
      "source": [
        "x = tf.random.normal((1, 3), 0, 1)\n",
        "weights = tf.random.normal((1, 3), 0, 1)\n",
        "bias = tf.zeros(1 ,1)\n",
        "\n",
        "y = tf.ones((1,))\n",
        "\n",
        "print('x\\t: {}\\nweights\\t: {}\\nbias\\t: {}'.format(x, weights, bias))"
      ],
      "execution_count": 52,
      "outputs": [
        {
          "output_type": "stream",
          "text": [
            "x\t: [[ 1.1818898   0.4691926  -0.44787258]]\n",
            "weights\t: [[-0.6909905  0.6619264 -1.824755 ]]\n",
            "bias\t: [0.]\n"
          ],
          "name": "stdout"
        }
      ]
    },
    {
      "cell_type": "code",
      "metadata": {
        "colab": {
          "base_uri": "https://localhost:8080/"
        },
        "id": "3pPmXnIRz2kB",
        "outputId": "0fc2964c-a3d6-4942-f44a-b376649839d5"
      },
      "source": [
        "for i in range(1000):\n",
        "    output = Neuron2(x, weights, bias=bias)\n",
        "    error = y - output\n",
        "    weights = weights + x * 0.1 * error\n",
        "    bias = bias + 1 * 0.1 * error\n",
        "\n",
        "    if i % 100 == 99 :\n",
        "        print('{}\\t{}\\t{}'.format(i + 1, error, output))"
      ],
      "execution_count": 53,
      "outputs": [
        {
          "output_type": "stream",
          "text": [
            "100\t[[0.03618234]]\t[[0.96381766]]\n",
            "200\t[[0.01811558]]\t[[0.9818844]]\n",
            "300\t[[0.01204526]]\t[[0.98795474]]\n",
            "400\t[[0.00901359]]\t[[0.9909864]]\n",
            "500\t[[0.0071981]]\t[[0.9928019]]\n",
            "600\t[[0.00599003]]\t[[0.99401]]\n",
            "700\t[[0.00512862]]\t[[0.9948714]]\n",
            "800\t[[0.0044834]]\t[[0.9955166]]\n",
            "900\t[[0.00398225]]\t[[0.99601775]]\n",
            "1000\t[[0.00358164]]\t[[0.99641836]]\n"
          ],
          "name": "stdout"
        }
      ]
    },
    {
      "cell_type": "code",
      "metadata": {
        "colab": {
          "base_uri": "https://localhost:8080/"
        },
        "id": "Fei8SGjE0efm",
        "outputId": "e14bf4d9-8198-4036-b24f-d047a4fffd41"
      },
      "source": [
        "print('x\\t: {}\\nweights\\t: {}\\nbias\\t: {}'.format(x, weights, bias))"
      ],
      "execution_count": 54,
      "outputs": [
        {
          "output_type": "stream",
          "text": [
            "x\t: [[ 1.1818898   0.4691926  -0.44787258]]\n",
            "weights\t: [[ 1.5398215  1.5475267 -2.6701136]]\n",
            "bias\t: [[1.887497]]\n"
          ],
          "name": "stdout"
        }
      ]
    },
    {
      "cell_type": "markdown",
      "metadata": {
        "id": "SXHBkk5f00mk"
      },
      "source": [
        "## AND Gate"
      ]
    },
    {
      "cell_type": "code",
      "metadata": {
        "colab": {
          "base_uri": "https://localhost:8080/"
        },
        "id": "aSExw-ue0maR",
        "outputId": "5c0c3c9f-aa5c-4db8-ff81-b98d131e134f"
      },
      "source": [
        "X = np.array([[1, 1], [1, 0], [0, 1], [0, 0]])\n",
        "Y = np.array([[1], [0], [0], [0]])\n",
        "\n",
        "W = tf.random.normal([2], 0, 1)\n",
        "b = tf.random.normal([1], 0, 1)\n",
        "b_x = 1\n",
        "\n",
        "for i in range(2000) :\n",
        "    error_sum = 0\n",
        "\n",
        "    for j in range(4):\n",
        "        output = sigmoid(np.sum(X[j] * W) + b_x + b)\n",
        "        error = Y[j][0] - output\n",
        "        W = W + X[j] * 0.1 * error\n",
        "        b = b + b_x * 0.1 * error\n",
        "        error_sum += error\n",
        "\n",
        "    if i % 200 == 0 :\n",
        "        print('Epoch {:4d}\\tError Sum {}'.format(i, error_sum))   \n",
        "\n",
        "print('\\n가중치\\t: {}'.format(W))\n",
        "print('편향\\t: {}'.format(b))"
      ],
      "execution_count": 55,
      "outputs": [
        {
          "output_type": "stream",
          "text": [
            "Epoch    0\tError Sum [-1.7714577]\n",
            "Epoch  200\tError Sum [-0.11518604]\n",
            "Epoch  400\tError Sum [-0.06738862]\n",
            "Epoch  600\tError Sum [-0.04753133]\n",
            "Epoch  800\tError Sum [-0.03660433]\n",
            "Epoch 1000\tError Sum [-0.02970592]\n",
            "Epoch 1200\tError Sum [-0.02496609]\n",
            "Epoch 1400\tError Sum [-0.02151313]\n",
            "Epoch 1600\tError Sum [-0.01888992]\n",
            "Epoch 1800\tError Sum [-0.01682969]\n",
            "\n",
            "가중치\t: [6.959927 6.963082]\n",
            "편향\t: [-11.619036]\n"
          ],
          "name": "stdout"
        }
      ]
    },
    {
      "cell_type": "code",
      "metadata": {
        "colab": {
          "base_uri": "https://localhost:8080/"
        },
        "id": "SmKuyhGy3hWB",
        "outputId": "4743e9fe-214b-4f63-84f2-1d48dc336e95"
      },
      "source": [
        "for i in range(4):\n",
        "    print('X : {} Y : {} Output : {}'.format(X[i], Y[i], sigmoid(np.sum(X[i] * W) + b)))"
      ],
      "execution_count": 56,
      "outputs": [
        {
          "output_type": "stream",
          "text": [
            "X : [1 1] Y : [1] Output : [0.90920556]\n",
            "X : [1 0] Y : [0] Output : [0.00938597]\n",
            "X : [0 1] Y : [0] Output : [0.00941535]\n",
            "X : [0 0] Y : [0] Output : [8.993175e-06]\n"
          ],
          "name": "stdout"
        }
      ]
    },
    {
      "cell_type": "markdown",
      "metadata": {
        "id": "L66g8LdH5_eU"
      },
      "source": [
        "## OR Gate"
      ]
    },
    {
      "cell_type": "code",
      "metadata": {
        "id": "ClRWGJI453oH",
        "colab": {
          "base_uri": "https://localhost:8080/"
        },
        "outputId": "818ff008-14a6-4ed5-fe70-663ebe18d5a3"
      },
      "source": [
        "X = np.array([[1, 1], [1, 0], [0, 1], [0, 0]])\n",
        "Y = np.array([[1], [1], [1], [0]])\n",
        "\n",
        "W = tf.random.normal([2], 0, 1)\n",
        "b = tf.random.normal([1], 0, 1)\n",
        "b_x = 1\n",
        "\n",
        "for i in range(2000) :\n",
        "    error_sum = 0\n",
        "\n",
        "    for j in range(4):\n",
        "        output = sigmoid(np.sum(X[j] * W) + b_x + b)\n",
        "        error = Y[j][0] - output\n",
        "        W = W + X[j] * 0.1 * error\n",
        "        b = b + b_x * 0.1 * error\n",
        "        error_sum += error\n",
        "\n",
        "    if i % 200 == 0 :\n",
        "        print('Epoch {:4d}\\tError Sum {}'.format(i, error_sum))   \n",
        "\n",
        "print('\\n가중치\\t: {}'.format(W))\n",
        "print('편향\\t: {}'.format(b))"
      ],
      "execution_count": 57,
      "outputs": [
        {
          "output_type": "stream",
          "text": [
            "Epoch    0\tError Sum [-0.72353166]\n",
            "Epoch  200\tError Sum [-0.05351117]\n",
            "Epoch  400\tError Sum [-0.02690801]\n",
            "Epoch  600\tError Sum [-0.01786394]\n",
            "Epoch  800\tError Sum [-0.01332148]\n",
            "Epoch 1000\tError Sum [-0.01060061]\n",
            "Epoch 1200\tError Sum [-0.00879297]\n",
            "Epoch 1400\tError Sum [-0.00750742]\n",
            "Epoch 1600\tError Sum [-0.00654611]\n",
            "Epoch 1800\tError Sum [-0.00580218]\n",
            "\n",
            "가중치\t: [8.192909 8.189509]\n",
            "편향\t: [-4.629986]\n"
          ],
          "name": "stdout"
        }
      ]
    },
    {
      "cell_type": "code",
      "metadata": {
        "colab": {
          "base_uri": "https://localhost:8080/"
        },
        "id": "5Fn2e8F1b1w8",
        "outputId": "278ac7cc-0548-4ef5-c2e4-cf06a2aba661"
      },
      "source": [
        "for i in range(4):\n",
        "    print('X : {} Y : {} Output : {}'.format(X[i], Y[i], sigmoid(np.sum(X[i] * W) + b)))"
      ],
      "execution_count": 58,
      "outputs": [
        {
          "output_type": "stream",
          "text": [
            "X : [1 1] Y : [1] Output : [0.99999213]\n",
            "X : [1 0] Y : [1] Output : [0.97242606]\n",
            "X : [0 1] Y : [1] Output : [0.97233474]\n",
            "X : [0 0] Y : [0] Output : [0.00966066]\n"
          ],
          "name": "stdout"
        }
      ]
    },
    {
      "cell_type": "markdown",
      "metadata": {
        "id": "hXz1DBPMcCjT"
      },
      "source": [
        "# XOR Gate"
      ]
    },
    {
      "cell_type": "code",
      "metadata": {
        "colab": {
          "base_uri": "https://localhost:8080/"
        },
        "id": "N7l1a9VNb7h0",
        "outputId": "fb7c9ef3-70b7-45e7-a95f-0c65ec68f7c5"
      },
      "source": [
        "X = np.array([[1, 1], [1, 0], [0, 1], [0, 0]])\n",
        "Y = np.array([[0], [1], [1], [0]])\n",
        "\n",
        "W = tf.random.normal([2], 0, 1)\n",
        "b = tf.random.normal([1], 0, 1)\n",
        "b_x = 1\n",
        "\n",
        "for i in range(2000) :\n",
        "    error_sum = 0\n",
        "\n",
        "    for j in range(4):\n",
        "        output = sigmoid(np.sum(X[j] * W) + b_x + b)\n",
        "        error = Y[j][0] - output\n",
        "        W = W + X[j] * 0.1 * error\n",
        "        b = b + b_x * 0.1 * error\n",
        "        error_sum += error\n",
        "\n",
        "    if i % 200 == 0 :\n",
        "        print('Epoch {:4d}\\tError Sum {}'.format(i, error_sum))   \n",
        "\n",
        "print('\\n가중치\\t: {}'.format(W))\n",
        "print('편향\\t: {}'.format(b))"
      ],
      "execution_count": 59,
      "outputs": [
        {
          "output_type": "stream",
          "text": [
            "Epoch    0\tError Sum [-1.0238338]\n",
            "Epoch  200\tError Sum [-0.00921756]\n",
            "Epoch  400\tError Sum [-0.00037479]\n",
            "Epoch  600\tError Sum [-1.5377998e-05]\n",
            "Epoch  800\tError Sum [-9.536743e-07]\n",
            "Epoch 1000\tError Sum [-1.013279e-06]\n",
            "Epoch 1200\tError Sum [-1.013279e-06]\n",
            "Epoch 1400\tError Sum [-1.013279e-06]\n",
            "Epoch 1600\tError Sum [-1.013279e-06]\n",
            "Epoch 1800\tError Sum [-1.013279e-06]\n",
            "\n",
            "가중치\t: [ 5.1279657e-02 -2.0749867e-06]\n",
            "편향\t: [-0.9999969]\n"
          ],
          "name": "stdout"
        }
      ]
    },
    {
      "cell_type": "code",
      "metadata": {
        "colab": {
          "base_uri": "https://localhost:8080/"
        },
        "id": "1LzUbCBxcKr_",
        "outputId": "99674baf-6c47-478c-be49-b33c2b7c424a"
      },
      "source": [
        "for i in range(4):\n",
        "    print('X : {} Y : {} Output : {}'.format(X[i], Y[i], sigmoid(np.sum(X[i] * W) + b)))"
      ],
      "execution_count": 60,
      "outputs": [
        {
          "output_type": "stream",
          "text": [
            "X : [1 1] Y : [0] Output : [0.27914244]\n",
            "X : [1 0] Y : [1] Output : [0.2791429]\n",
            "X : [0 1] Y : [1] Output : [0.2689416]\n",
            "X : [0 0] Y : [0] Output : [0.26894203]\n"
          ],
          "name": "stdout"
        }
      ]
    },
    {
      "cell_type": "code",
      "metadata": {
        "colab": {
          "base_uri": "https://localhost:8080/"
        },
        "id": "dOIapbGKcO8Y",
        "outputId": "2da9fe4b-232e-4a63-9925-91210ba3a5ef"
      },
      "source": [
        "from tensorflow.keras import Sequential\n",
        "from tensorflow.keras.layers import Dense\n",
        "\n",
        "np.random.seed(111)\n",
        "X = np.array([[1, 1], [1, 0], [0, 1], [0, 0]])\n",
        "Y = np.array([[0], [1], [1], [0]])\n",
        "\n",
        "model =  Sequential([Dense(units=2, activation='sigmoid', input_shape=(2, )),\n",
        "                     Dense(units=1, activation='sigmoid')])\n",
        "\n",
        "model.compile(optimizer=tf.keras.optimizers.SGD(lr=0.1), loss='mse')\n",
        "\n",
        "model.summary()"
      ],
      "execution_count": 71,
      "outputs": [
        {
          "output_type": "stream",
          "text": [
            "Model: \"sequential_1\"\n",
            "_________________________________________________________________\n",
            "Layer (type)                 Output Shape              Param #   \n",
            "=================================================================\n",
            "dense_4 (Dense)              (None, 2)                 6         \n",
            "_________________________________________________________________\n",
            "dense_5 (Dense)              (None, 1)                 3         \n",
            "=================================================================\n",
            "Total params: 9\n",
            "Trainable params: 9\n",
            "Non-trainable params: 0\n",
            "_________________________________________________________________\n"
          ],
          "name": "stdout"
        }
      ]
    },
    {
      "cell_type": "code",
      "metadata": {
        "id": "EnF9ziG3c_AF"
      },
      "source": [
        "history = model.fit(X, Y, epochs=2000, batch_size=1, verbose=0)"
      ],
      "execution_count": 72,
      "outputs": []
    },
    {
      "cell_type": "code",
      "metadata": {
        "colab": {
          "base_uri": "https://localhost:8080/"
        },
        "id": "yiUjcGxbeqAE",
        "outputId": "a9ead2ad-d7ef-47c5-c379-843ceeff1676"
      },
      "source": [
        "model.predict(X)"
      ],
      "execution_count": 73,
      "outputs": [
        {
          "output_type": "execute_result",
          "data": {
            "text/plain": [
              "array([[0.39503163],\n",
              "       [0.7555952 ],\n",
              "       [0.7430986 ],\n",
              "       [0.14384177]], dtype=float32)"
            ]
          },
          "metadata": {
            "tags": []
          },
          "execution_count": 73
        }
      ]
    },
    {
      "cell_type": "code",
      "metadata": {
        "colab": {
          "base_uri": "https://localhost:8080/",
          "height": 264
        },
        "id": "nQ8LUggCfLXz",
        "outputId": "458ab49c-01e4-4158-fd94-a8d3db9e5cad"
      },
      "source": [
        "import matplotlib.pyplot as plt\n",
        "\n",
        "plt.plot(history.history['loss']);"
      ],
      "execution_count": 75,
      "outputs": [
        {
          "output_type": "display_data",
          "data": {
            "image/png": "[encoded data removed]",
            "text/plain": [
              "<Figure size 432x288 with 1 Axes>"
            ]
          },
          "metadata": {
            "tags": [],
            "needs_background": "light"
          }
        }
      ]
    },
    {
      "cell_type": "code",
      "metadata": {
        "id": "Pzqv_S2Rg2pl"
      },
      "source": [
        ""
      ],
      "execution_count": null,
      "outputs": []
    }
  ]
}